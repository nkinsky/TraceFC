{
 "cells": [
  {
   "cell_type": "code",
   "execution_count": 1,
   "id": "1c62d5e2",
   "metadata": {
    "scrolled": true
   },
   "outputs": [],
   "source": [
    "# Import all the functions you need\n",
    "%load_ext autoreload\n",
    "%autoreload 2\n",
    "\n",
    "import numpy as np\n",
    "import matplotlib.pyplot as plt\n",
    "import seaborn as sns\n",
    "import pandas as pd\n",
    "import sys\n",
    "import os\n",
    "from pathlib import Path\n",
    "\n",
    "# Comment here to add in for either mac or linux computer\n",
    "if os.environ['SHELL'] == '/bin/bash':   # for linux\n",
    "    sys.path.extend(['/data/GitHub/NeuroPy']) \n",
    "    sys.path.extend(['/data/GitHub/TraceFC/'])\n",
    "else:    # For mac laptop\n",
    "    sys.path.extend(['/Users/nkinsky/Documents/UM/GitHub/NeuroPy'])\n",
    "    sys.path.extend(['/Users/nkinsky/Documents/UM/GitHub/TraceFC'])\n",
    "\n",
    "from neuropy import core\n",
    "from neuropy.io import (optitrackio,\n",
    "                        dlcio,\n",
    "                        )\n",
    "from neuropy.io.neuroscopeio import NeuroscopeIO\n",
    "from neuropy.io.binarysignalio import BinarysignalIO \n",
    "from neuropy.io.miniscopeio import MiniscopeIO\n",
    "from neuropy.core import Epoch\n",
    "from neuropy.utils import plot_util\n",
    "from neuropy.plotting.spikes import plot_raster\n",
    "from neuropy.plotting.signals import plot_signal_w_epochs\n",
    "from neuropy.plotting.spikes import plot_binned_raster"
   ]
  },
  {
   "cell_type": "code",
   "execution_count": 2,
   "id": "d4a72eaf",
   "metadata": {},
   "outputs": [],
   "source": [
    "# Define a class for a typical recording or set of recordings\n",
    "class ProcessData:\n",
    "    def __init__(self, basepath):\n",
    "        basepath = Path(basepath)\n",
    "        self.basepath = basepath\n",
    "        xml_files = sorted(basepath.glob(\"*.xml\"))\n",
    "        assert len(xml_files) == 1, \"Found more than one .xml file\"\n",
    "        \n",
    "        fp = xml_files[0].with_suffix(\"\")\n",
    "        self.filePrefix = fp\n",
    "        \n",
    "        self.recinfo = NeuroscopeIO(xml_files[0])\n",
    "        eegfiles = sorted(basepath.glob('*.eeg'))\n",
    "        assert len(eegfiles) == 1, \"Fewer/more than one .eeg file detected\"\n",
    "        self.eegfile = BinarysignalIO(eegfiles[0], n_channels=self.recinfo.n_channels,\n",
    "                                     sampling_rate=self.recinfo.eeg_sampling_rate,\n",
    "                                     )\n",
    "        try:\n",
    "            self.datfile = BinarysignalIO(eegfiles[0].with_suffix('.dat'),\n",
    "                                         n_channels=self.recinfo.n_channels,\n",
    "                                         sampling_rate=self.recinfo.dat_sampling_rate,\n",
    "                                         )\n",
    "        except FileNotFoundError:\n",
    "            print('No dat file found, not loading')\n",
    "                \n",
    "        \n",
    "    def __repr__(self) -> str:\n",
    "        return f\"{self.__class__.__name__}({self.recinfo.source_file.name})\"\n",
    "    \n",
    "def sess_use(basepath=os.getcwd()):\n",
    "\n",
    "    return ProcessData(basepath)"
   ]
  },
  {
   "cell_type": "code",
   "execution_count": 3,
   "id": "258b9191",
   "metadata": {
    "scrolled": true
   },
   "outputs": [
    {
     "name": "stdout",
     "output_type": "stream",
     "text": [
      "No dat file found, not loading\n",
      "filename: /Users/nkinsky/Documents/UM/Working/Trace_FC/Recording_Rats/Django/2023_03_10_recall2/Django_recall2_denoised.xml \n",
      "# channels: 134\n",
      "sampling rate: 30000\n",
      "lfp Srate (downsampled): 1250\n",
      "\n"
     ]
    }
   ],
   "source": [
    "sess = sess_use()\n",
    "print(sess.recinfo)"
   ]
  },
  {
   "cell_type": "code",
   "execution_count": 4,
   "id": "80fb1e0f",
   "metadata": {},
   "outputs": [
    {
     "name": "stdout",
     "output_type": "stream",
     "text": [
      "duration: 5440.61 seconds \n",
      "duration: 1.51 hours \n",
      "\n"
     ]
    }
   ],
   "source": [
    "print(sess.eegfile)"
   ]
  },
  {
   "cell_type": "markdown",
   "id": "738c2a76",
   "metadata": {},
   "source": [
    "# Preprocess Ephys data\n",
    "Identify artifacts:  \n",
    "- disconnects  \n",
    "- filtering  \n",
    "  \n",
    "Send to event files to check in Neuroscope  \n",
    "Write `dead_times.txt` file for spyking-circus and `artifacts.npy` file for my own analysis."
   ]
  },
  {
   "cell_type": "markdown",
   "id": "28508b7a",
   "metadata": {},
   "source": [
    "### Identify disconnect and motion artifacts"
   ]
  },
  {
   "cell_type": "code",
   "execution_count": 5,
   "id": "e339bfda",
   "metadata": {},
   "outputs": [
    {
     "name": "stdout",
     "output_type": "stream",
     "text": [
      "Existing artifact epochs file loaded\n"
     ]
    },
    {
     "data": {
      "text/plain": [
       "38 epochs\n",
       "Snippet: \n",
       "        start       stop     label\n",
       "0   167.9168   168.6376  artifact\n",
       "1   190.1504   191.1928  artifact\n",
       "2   318.3048   318.6328  artifact\n",
       "3   878.2608   878.4968  artifact\n",
       "4  1606.5768  1606.8504  artifact"
      ]
     },
     "execution_count": 5,
     "metadata": {},
     "output_type": "execute_result"
    },
    {
     "name": "stderr",
     "output_type": "stream",
     "text": [
      "/Users/nkinsky/mambaforge/envs/NeuroPy/lib/python3.11/site-packages/outdated/utils.py:14: OutdatedCheckFailedWarning: Failed to check for latest version of package.\n",
      "Set the environment variable OUTDATED_RAISE_EXCEPTION=1 for a full traceback.\n",
      "Set the environment variable OUTDATED_IGNORE=1 to disable these warnings.\n",
      "  return warn(\n"
     ]
    }
   ],
   "source": [
    "from neuropy.analyses.artifact import detect_artifact_epochs\n",
    "signal = sess.eegfile.get_signal()\n",
    "buffer_add = 0.1  # seconds, None = don't add\n",
    "\n",
    "art_epochs_file = sess.filePrefix.with_suffix(\".art_epochs.npy\")\n",
    "if art_epochs_file.exists():\n",
    "    art_epochs = Epoch(epochs=None, file=art_epochs_file)\n",
    "    print('Existing artifact epochs file loaded')\n",
    "else:\n",
    "    art_epochs = detect_artifact_epochs(signal, thresh=8, \n",
    "                                    edge_cutoff=3, merge=6)\n",
    "\n",
    "    if buffer_add is not None:  # Add in buffer to prevent erroneous detection of start/stop of artifact as SWRs\n",
    "        art_epochs.add_epoch_buffer(buffer_add)\n",
    "    sess.recinfo.write_epochs(epochs=art_epochs, ext='art')\n",
    "    art_epochs.save(art_epochs_file)\n",
    "art_epochs"
   ]
  },
  {
   "cell_type": "code",
   "execution_count": 6,
   "id": "7deec6a8-91d4-41ed-ac28-6a38b7acf8c8",
   "metadata": {},
   "outputs": [
    {
     "data": {
      "application/vnd.jupyter.widget-view+json": {
       "model_id": "2df1b38855a94560a95d2e2416cc72b4",
       "version_major": 2,
       "version_minor": 0
      },
      "image/png": "[encoded data removed]",
      "text/html": [
       "\n",
       "            <div style=\"display: inline-block;\">\n",
       "                <div class=\"jupyter-widgets widget-label\" style=\"text-align: center;\">\n",
       "                    Figure\n",
       "                </div>\n",
       "                <img src='data:image/png;base64,iVBORw0KGgoAAAANSUhEUgAAAoAAAAHgCAYAAAA10dzkAAAAOXRFWHRTb2Z0d2FyZQBNYXRwbG90bGliIHZlcnNpb24zLjcuMiwgaHR0cHM6Ly9tYXRwbG90bGliLm9yZy8pXeV/AAAACXBIWXMAAA9hAAAPYQGoP6dpAABV6ElEQVR4nO3deVzVVeL/8fdluyDCFURAFBXXJNzCUtRSM1FT27PGhsmmLDMzU6ff2PLNqVFbzLGsqaYabcqimTFnKssBWzRzXyhxzR0TXBEQZRE+vz+IKxfuZZNNPq/n48FD7+ee+7nnHi738/6czznnWgzDMAQAAADTcKvvCgAAAKBuEQABAABMhgAIAABgMgRAAAAAkyEAAgAAmAwBEAAAwGQIgAAAACZDAAQAADAZAiAAAIDJEAABAABMhgAIAABgMgRAAAAAkyEAAgAAmAwBEAAAwGQIgAAAACZDAAQAADAZAiAAAIDJEAABAABMhgAIAABgMgRAAAAAkyEAAgAAmAwBEAAAwGQIgAAAACZDAAQAADAZAiAAAIDJEAABAABMhgAIAABgMgRAAAAAkyEAAgAAmAwBEAAAwGQIgAAAACZDAAQAADAZAiAAAIDJEAABAABMhgAIAABgMgRAAAAAkyEAAgAAmAwBEAAAwGQIgAAAACZDAAQAADAZAiAAAIDJEAABAABMhgAIAABgMgRAAAAAkyEAAgAAmAwBEAAAwGQIgAAAACZDAAQAADAZAiAAAIDJEAABAABMhgAIAABgMgRAAAAAkyEAAgAAmAwBEAAAwGQIgAAAACZDAAQAADAZj/quwOWssLBQR48elZ+fnywWS31XBwAAVIJhGMrKylJYWJjc3MzZF0YAvARHjx5VeHh4fVcDAABUQ0pKilq3bl3f1agXBMBL4OfnJ6noDeTv71/PtZHSTqdpZvxMnc89r1bNW2nyqMkKDQyt8DELVyzUfTfcV2HZhuRyrfelaEivubJ1qc06O9t32uk0vfbFa5Lk8v1f/LiRV4/Uso3LdN8N90mSZsbPLPr37pkuH1e877uvvVvx38c7fR5X9apOXV09tqaVbBNXr6sxqExb1vXfmav3QXn1KH7ML6d+kSQ1820mX29f3X3t3fb3tLPHVPQed1a34jpIFf+NXE4yMzMVHh5uP46bEQHwEhRf9vX3928QATD7Qra8vL10wXJBVh+r/Pz9KqxX9oVsWZtUrmxDcrnW+1I0pNdc2brUZp2d7Tv7QrasPlZJcvmcxY9r6tfU/nhJ8vL2qvhxv+67qV9Tl8/jsl7VqKurx9Y0hzapRJ0uV5Vpy7r+O3P1PiivHsWP8fT2lCR5+XjJ6u34nnb2mIre407rVoW/kcuRmYdvmfPCNwAAgInVaQB888031b17d3uPWUxMjL766iv7/YZhaObMmQoLC5OPj48GDRqk7du3O+wjNzdXjz76qIKCguTr66ubbrpJR44ccSiTnp6uuLg42Ww22Ww2xcXF6cyZMw5lDh8+rNGjR8vX11dBQUGaPHmy8vLyau21AwAANBR1GgBbt26tF154QZs2bdKmTZt0/fXX6+abb7aHvJdeeknz5s3T66+/ro0bNyo0NFRDhw5VVlaWfR9TpkzR0qVLFR8fr9WrV+vs2bMaNWqUCgoK7GXGjh2rpKQkLV++XMuXL1dSUpLi4uLs9xcUFGjkyJHKzs7W6tWrFR8fryVLlmjatGl11xgAAAD1pE7HAI4ePdrh9qxZs/Tmm29q3bp1ioyM1Pz58/XUU0/ptttukyS9//77CgkJ0UcffaSHHnpIGRkZeu+99/TBBx/ohhtukCR9+OGHCg8P14oVKzRs2DDt3LlTy5cv17p169SnTx9J0jvvvKOYmBjt3r1bXbp0UUJCgnbs2KGUlBSFhYVJkl555RWNGzdOs2bNajRjGwAAAJyptzGABQUFio+PV3Z2tmJiYnTgwAGlpaUpNjbWXsZqtWrgwIFas2aNJGnz5s3Kz893KBMWFqaoqCh7mbVr18pms9nDnyT17dtXNpvNoUxUVJQ9/EnSsGHDlJubq82bN7usc25urjIzMx1+AAAALjd1HgC3bdumpk2bymq1asKECVq6dKkiIyOVlpYmSQoJCXEoHxISYr8vLS1NXl5eCggIKLdMcHBwmecNDg52KFP6eQICAuTl5WUv48ycOXPs4wptNhtrAAIAgMtSnQfALl26KCkpSevWrdPDDz+se++9Vzt27LDfX3pKtmEYFU7TLl3GWfnqlCltxowZysjIsP+kpKSUWy8AAICGqM4DoJeXlzp27KjevXtrzpw56tGjh1599VWFhv66+GWpHrjjx4/be+tCQ0OVl5en9PT0csscO3aszPOeOHHCoUzp50lPT1d+fn6ZnsGSrFarfQZzQ1n7DwAAoKrqfR1AwzCUm5uriIgIhYaGKjEx0X5fXl6eVq5cqX79+kmSoqOj5enp6VAmNTVVycnJ9jIxMTHKyMjQhg0b7GXWr1+vjIwMhzLJyclKTU21l0lISJDValV0dHStvl4AAID6VqezgJ988kmNGDFC4eHhysrKUnx8vL777jstX75cFotFU6ZM0ezZs9WpUyd16tRJs2fPVpMmTTR27FhJks1m0/33369p06apefPmCgwM1PTp09WtWzf7rOCuXbtq+PDhGj9+vN5++21J0oMPPqhRo0apS5cukqTY2FhFRkYqLi5OL7/8sk6fPq3p06dr/Pjx9OoBAIBGr04D4LFjxxQXF6fU1FTZbDZ1795dy5cv19ChQyVJTzzxhM6fP6+JEycqPT1dffr0UUJCgsN39f3lL3+Rh4eHxowZo/Pnz2vIkCFatGiR3N3d7WUWL16syZMn22cL33TTTXr99dft97u7u2vZsmWaOHGi+vfvLx8fH40dO1Zz586to5YAAACoP3UaAN97771y77dYLJo5c6Zmzpzpsoy3t7cWLFigBQsWuCwTGBioDz/8sNznatOmjb744otyywAAADRG9T4GEACAuvDV9lPadapFfVcDaBDqtAcQAID6UFho6LllhyS10/GsPLUMrO8aAfWLHkAAgKlk5xZUXAho5AiAAAAAJkMABAAAMBkCIAAAgMkQAAEAAEyGAAgAAGAyBEAAAACTIQACAACYDAEQAGAqRn1XAGgACIAAgEbPYqnvGgANCwEQAADAZAiAAAAAJkMABAAAMBkCIAAAgMkQAAEAAEyGAAgAAGAyBEAAAACTIQACAEzFYCVogAAIAABgNgRAAAAAkyEAAgAAmAwBEAAAwGQIgAAAACZDAAQAADAZAiAAAIDJEAABAABMhgAIADAV1oEGCIAAAACmQwAEAAAwGQIgAACAyRAAAQAATIYACAAAYDIEQAAAAJMhAAIAAJgMARAAAMBkCIAAAAAmQwAEAJiLwXeBAARAAAAAkyEAAgAAmAwBEAAAwGQIgAAAACZDAAQAADAZAiAAAIDJEAABAABMhgAIAABgMgRAAICpsAw0QAAEAAAwHQIgAACAyRAAAQAATIYACAAAYDIEQAAAAJOp0wA4Z84cXX311fLz81NwcLBuueUW7d6926GMYRiaOXOmwsLC5OPjo0GDBmn79u0OZXJzc/Xoo48qKChIvr6+uummm3TkyBGHMunp6YqLi5PNZpPNZlNcXJzOnDnjUObw4cMaPXq0fH19FRQUpMmTJysvL69WXjsAAEBDUacBcOXKlXrkkUe0bt06JSYm6sKFC4qNjVV2dra9zEsvvaR58+bp9ddf18aNGxUaGqqhQ4cqKyvLXmbKlClaunSp4uPjtXr1ap09e1ajRo1SQUGBvczYsWOVlJSk5cuXa/ny5UpKSlJcXJz9/oKCAo0cOVLZ2dlavXq14uPjtWTJEk2bNq1uGgMAAKCeeNTlky1fvtzh9sKFCxUcHKzNmzfruuuuk2EYmj9/vp566inddtttkqT3339fISEh+uijj/TQQw8pIyND7733nj744APdcMMNkqQPP/xQ4eHhWrFihYYNG6adO3dq+fLlWrdunfr06SNJeueddxQTE6Pdu3erS5cuSkhI0I4dO5SSkqKwsDBJ0iuvvKJx48Zp1qxZ8vf3r8OWAQAAqDv1OgYwIyNDkhQYGChJOnDggNLS0hQbG2svY7VaNXDgQK1Zs0aStHnzZuXn5zuUCQsLU1RUlL3M2rVrZbPZ7OFPkvr27SubzeZQJioqyh7+JGnYsGHKzc3V5s2ba+kVAwDqm8FK0EDd9gCWZBiGpk6dqgEDBigqKkqSlJaWJkkKCQlxKBsSEqJDhw7Zy3h5eSkgIKBMmeLHp6WlKTg4uMxzBgcHO5Qp/TwBAQHy8vKylyktNzdXubm59tuZmZmVfr0AAAANRb31AE6aNEk//fSTPv744zL3WSwWh9uGYZTZVlrpMs7KV6dMSXPmzLFPKrHZbAoPDy+3TgAAAA1RvQTARx99VJ999pm+/fZbtW7d2r49NDRUksr0wB0/ftzeWxcaGqq8vDylp6eXW+bYsWNlnvfEiRMOZUo/T3p6uvLz88v0DBabMWOGMjIy7D8pKSlVedkAAAANQp0GQMMwNGnSJH366af65ptvFBER4XB/RESEQkNDlZiYaN+Wl5enlStXql+/fpKk6OhoeXp6OpRJTU1VcnKyvUxMTIwyMjK0YcMGe5n169crIyPDoUxycrJSU1PtZRISEmS1WhUdHe20/larVf7+/g4/AAAAl5s6HQP4yCOP6KOPPtJ///tf+fn52XvgbDabfHx8ZLFYNGXKFM2ePVudOnVSp06dNHv2bDVp0kRjx461l73//vs1bdo0NW/eXIGBgZo+fbq6detmnxXctWtXDR8+XOPHj9fbb78tSXrwwQc1atQodenSRZIUGxuryMhIxcXF6eWXX9bp06c1ffp0jR8/nmAHAAAatToNgG+++aYkadCgQQ7bFy5cqHHjxkmSnnjiCZ0/f14TJ05Uenq6+vTpo4SEBPn5+dnL/+Uvf5GHh4fGjBmj8+fPa8iQIVq0aJHc3d3tZRYvXqzJkyfbZwvfdNNNev311+33u7u7a9myZZo4caL69+8vHx8fjR07VnPnzq2lVw8AANAw1GkANCox995isWjmzJmaOXOmyzLe3t5asGCBFixY4LJMYGCgPvzww3Kfq02bNvriiy8qrBMAAEBjwncBAwAAmAwBEABgKqwDDRAAAQAATIcACAAAYDIEQAAAAJMhAAIAAJgMARAAAMBkCIAAAAAmQwAEAAAwGQIgAACAyRAAAQDmwkrQAAEQAADAbAiAAAAAJkMABAAAMBkCIAAAgMkQAAEAAEyGAAgAAGAyBEAAAACTIQACAACYDAEQAADAZAiAAABT4YtAAAIgAACA6RAAAQAATIYACAAAYDIEQAAAAJMhAAIAAJgMARAAAMBkCIAAAAAmQwAEAAAwGQIgAMBUDIOloAECIAAAgMkQAAEAAEyGAAgAAGAyBEAAAACTIQACAACYDAEQAADAZAiAAAAAJkMABAAAMBkCIADAVFgGGiAAAgAAmA4BEAAAwGQIgAAAACZDAAQAADAZAiAAAIDJEAABAABMhgAIAABgMgRAAAAAkyEAAgBMhYWgAQIgAACA6RAAAQAATIYACAAAYDIEQAAAAJMhAAIAAJgMARAAAMBk6jQArlq1SqNHj1ZYWJgsFov+85//ONxvGIZmzpypsLAw+fj4aNCgQdq+fbtDmdzcXD366KMKCgqSr6+vbrrpJh05csShTHp6uuLi4mSz2WSz2RQXF6czZ844lDl8+LBGjx4tX19fBQUFafLkycrLy6uNlw0AANCg1GkAzM7OVo8ePfT66687vf+ll17SvHnz9Prrr2vjxo0KDQ3V0KFDlZWVZS8zZcoULV26VPHx8Vq9erXOnj2rUaNGqaCgwF5m7NixSkpK0vLly7V8+XIlJSUpLi7Ofn9BQYFGjhyp7OxsrV69WvHx8VqyZImmTZtWey8eAACggfCoyycbMWKERowY4fQ+wzA0f/58PfXUU7rtttskSe+//75CQkL00Ucf6aGHHlJGRobee+89ffDBB7rhhhskSR9++KHCw8O1YsUKDRs2TDt37tTy5cu1bt069enTR5L0zjvvKCYmRrt371aXLl2UkJCgHTt2KCUlRWFhYZKkV155RePGjdOsWbPk7+9fB60BAKgXrAQNNJwxgAcOHFBaWppiY2Pt26xWqwYOHKg1a9ZIkjZv3qz8/HyHMmFhYYqKirKXWbt2rWw2mz38SVLfvn1ls9kcykRFRdnDnyQNGzZMubm52rx5c62+TgAAgPpWpz2A5UlLS5MkhYSEOGwPCQnRoUOH7GW8vLwUEBBQpkzx49PS0hQcHFxm/8HBwQ5lSj9PQECAvLy87GWcyc3NVW5urv12ZmZmZV8eAABAg9FgegCLWSwWh9uGYZTZVlrpMs7KV6dMaXPmzLFPLLHZbAoPDy+3XgAAAA1RgwmAoaGhklSmB+748eP23rrQ0FDl5eUpPT293DLHjh0rs/8TJ044lCn9POnp6crPzy/TM1jSjBkzlJGRYf9JSUmp4qsEAACofw0mAEZERCg0NFSJiYn2bXl5eVq5cqX69esnSYqOjpanp6dDmdTUVCUnJ9vLxMTEKCMjQxs2bLCXWb9+vTIyMhzKJCcnKzU11V4mISFBVqtV0dHRLutotVrl7+/v8AMAAHC5qdMxgGfPntXevXvttw8cOKCkpCQFBgaqTZs2mjJlimbPnq1OnTqpU6dOmj17tpo0aaKxY8dKkmw2m+6//35NmzZNzZs3V2BgoKZPn65u3brZZwV37dpVw4cP1/jx4/X2229Lkh588EGNGjVKXbp0kSTFxsYqMjJScXFxevnll3X69GlNnz5d48ePJ9QBAIBGr04D4KZNmzR48GD77alTp0qS7r33Xi1atEhPPPGEzp8/r4kTJyo9PV19+vRRQkKC/Pz87I/5y1/+Ig8PD40ZM0bnz5/XkCFDtGjRIrm7u9vLLF68WJMnT7bPFr7pppsc1h50d3fXsmXLNHHiRPXv318+Pj4aO3as5s6dW9tNAAAAUO/qNAAOGjRIhuF6ASaLxaKZM2dq5syZLst4e3trwYIFWrBggcsygYGB+vDDD8utS5s2bfTFF19UWGcAAIDGpsGMAQQAAEDdIAACAEyFLwIBCIAAAACmQwAEAAAwGQIgAACAyRAAAQAATIYACAAAYDIEQAAAAJMhAAIAAJgMARAAAMBkCIAAAFMp7ytJAbMgAAIAAJgMARAAAMBkCIAAAAAmQwAEAAAwGQIgAACAyRAAAQAATIYACAAAYDIEQAAAAJMhAAIATIVloAECIABUWmp2c2053ln5BUQI1C7DMJRfwCEatYd3FwBU0pqjPXQgo7WWbT9b31VBI/f8l4e0eHu0dqWdq++qoJEiAAJAFZ3OLqjvKqCR+2r7aUnSB+vT6rkmaKwIgAAANFCW+q4AGi0CIAAAl7ncAk/d8rdf9NW+Lk7vTz+Xr10ZvZWR17yOa4aGigCIRmnhDwd0+5trlJmTX99VAepMZk6+4t5br39tSqnvqly2MnMu6JcsfxUUNoyJPhZL5foAVx3pJUk6lu2vrJwLZe5/JTFFaecjtPX09TVaP1y+CIBolP70+Q5tPpSud1ftr++qNEqGYehCIRenGpo3v9un738+qT/8+6f6rspla/wHu5V4oIuWbD1R31WRVPlLwJl5Te3/dxZdD5zKqZH6oPEgAKJRO5/PYP3aMH3JPn2Y3FvHs/LquypVci7vgl5OPKyjWX71XZVakXmeHu9LdTg9V5L09a70eq7Jr2rgPOtCQaH2nyQAwhEBEEC58gsK9dt31+uVhN32bWv2Z0qS/rfjdH1Vq1re/G6fPt16UgkHrqjvqqAeGQ3j6m6l1EQ/e1om4Q9lEQCBBqSw0NCMT7fpg3WH6vy50zJyNOwvq8o8d+KOY1q996QWfLO3SvvLzr2gxRuOKSvPqyareUkOnaqZNdW+33de5/KtNbKvmnQpuSbngrveXXNG6TlNKy6MOlN6CGDGuXzFbzqunAsN5+8KlycCIBqEL7el6p8ba37g+uV0pi9JK/ec0McbDuuZ/yTX+XO/8NVO7T6WVea5cy9U7zL6rC936vXvftF/90TVRPWq5Gy+t15OOKzDVQh85y401cmclpUqm36uUF8d7K8dpyJUWOJNZhiG9hw7p/zCy++jdcPRtvoiOVvfpFxT31VpECo596LWWUr1AU7714969Zsj+v6XnvVTITQal9+nFCRJ249maPaXO5XRSMb8TFy8RU8s+UmpGefLLZeWkaMLBYV1VKu6V9HvMzPXqr0nym+j6srJd96u5YXo8o6R6/afkiRdKHSXJP2YckbLfkqtbvWq5PsjvfRp0knd8946GSUDmovyZ85d0IaTI5R8ZoA2HcpyWuZsbtkgvPN0hBJ3XBwr9r/tabr3/V1a9nPXCut4PCtP+QXuFZarrJTT5/TR+sPVfvzpHJ8aqwtqUKk/shU7j0kqmvRxobByvYD7TmTXdK3QCBAAL1MjX1utv63ar9nLdlZ7H+nZefr3lhPKuVBzB6FLlXm+7PIFxTYePK2+c77W2HfX12GN6pZRwUW8T3d3V9zCnXpy6TaHYFOrdSr1NEfSy/aqHc/K0SOLt2jtvlMu93PzGz/okY+2aNuRjJquYhnnLhSFmZTT53XHW2v1+0UbJcllm414/eKs2S+2ndS73+9X3oWLgfhs7gUNffVHp49Nzcy1///TLb9Iks7kNim3fsczc3Tzm8n6bP/ACl/LhUJDuZX4G33og80VlqmsgxmV6wlF7SvvJGtLxm+0If1eHc5q57C99Ns8q9RyWKeznZ9oGobh8L5H40YAvMztTMsss80wpJ2n21U4i+3hxZv1yooUfXuoY7We2zAMrdpzQovXH9LuNOe9JlXeZzkB6ONfezc2HHA98SD3QoG+3FZ+L9OutEx9VUGZ+lJY6rM3J79At7zxgxavdxyX99H6w+WGrcrKyS/QxoOny13zrPQ9v/v7hhK3ig5PTy9N1rJtqfrNO+tK3VPW/pO19z26uRcKy4zN23woXd/sOl7pnuP/7UjXn5ft1HurD9i37Uwt+3d28TmrHsSTUs5UuuxDi3fr4x1X6fDp8gfyl27XwkJD0//1o+Z85foksaDQ0IYDp3U+z7F3c/PxinswG4J9J85qzFtr9f3PNb9kS+lLr7WloNDQD790145TEc7rUaIa6dnOZ93vPNO9zLYfU87orZX7nP5tHz6dW2abJP32vfXqNvN/rJ9qEgTABsowDP3ff5MdBuT/cua85ny5U0fPuL4EeKHQQ0dyemnHqfZ6+rMDLsv9cclPWre/KEgdy/bXyp/PKPmXDI15a61W7Tmh41k5ZQ4KpSXsOKbf/X2DnlqarGHzV2l5cuW/s/JI+jl9s+tYmR6ZkjdPns3VgBe/0V8S91R6v3P/t1sTF2+5uD8nZYbP/14PL96iDQdO60j6Ob264medOuv8A1Eq+oD+26p9+rGCg/aZc3m6b+EGffHTUZdlcvILtDw5TWdznfd0lqzvmLfX6opnlisp5YyeWpqsPy076FD29LmLB4Oth9M15JXv9O3u4+XWsbRHFm/RnW+t1Wtf/+yyTOnf0f4Sl5NW/nxGa/ed0pH0i+/Jxz9J0vHMnFq/7JSakavj2RcnLKzYcUyD5iXpq4P9nZYf+PJ3+qLEJei//XBG635p47JXMCmlcsuAuLpkXFJ+QaGyci8GU7cSR/X0nPKXpNmRWtTjmrizqD4XCgqV/EuGCksc2DNz8stcwv/NO+v0781H9PbK/WV6gIq9+/1+jXl7rab+e1+D/cqxpJQzmvHpNp12En4eWbxFGw6eVtx7G5w88vKwaG2a0s4FaedpFwGwxP+f+s+2Su/35jd+0Atf7dLHG8oOC3A1vvGHvaeUe6FQ3+6q2udIbfnf9jQNn7+qxjoY4IgA2ECt3ntS/1h7SM/8J1nJv2Qo70Kh+r/wjd5etV/jFl78sCv9d7z+5Ail5pQ9GywtvtSEiz8u3a9RC1Zrw8HT+t3fN+iaWV+r28z/SZK+3XXcaY/F6p9POtye8GH5l6AMw9CPKWeUk1+gAS9+q98v2qTEHce055jzP+63V+7TkfTzetVJONlyOEuGUfT1RiV9/mPZnr20jBwl/1L2suPutEzd9fY6/WXFHk35JMllvf+1KUWzv9ylm9/4wWWZRT8c0DWzv9a3u09o0kdbXZZ7+j/JmvDhZk36aIvT+0tOKCjd07l8u+NtiyzKvVCg83kF+t17G7TvRLbuW7jR5XM78/WvH/SL1hx02L71sPPwUzosJR/Nduj1k6SlW3/RqAWrq1SPqth7/KxOZ+fptre368t9XbX/ZFH4LO93KBWdQJX05fZs7ToVoqVJJ52WLx6OkHE+X3e+tbbcfRcWGtp86LTDupPFv8sf9p7UzW8ma8nu7vphX4ZOns2VW4lP3m9SrnY5/tKZJ5du06gFq9X+yS915teTgGtmrShTbn2J909hofTNrmP2nrKc/AL9dOSMFv/aq5505KzSc5xftp64eLPi3ltf7pCDCwWF2nI4Xfk1MD73WGaOHnh/o1btKarrLW/8oI83HNZVzyeWGSN8stSJW8b5/DobGlFd6dl5+mbXMXvP3Ls/VHA1wmKxnzD+mFK54RNpmRfD8p5jWXXWm2kYhuI3HNaOo657zKvioQ82a1dalh5x8XmJS+NR3xWAcy//7+Kaa6MWrNZTN168JLPnmOOlnue/2KGOwU01qKOn8gu9He7Lu1AoLw83fb3zmM7lFWh0j7BK1+FCoaHkXzJ036/jpw6+MNLhfldLlST/kqFRC1Yr0NdL/5tynVr4FfV8vL/moGZ+vkP9O178LsoHS41bKvnZXd6x5PF/7VVrvwi9//o2SUVnxY8M7uB0vau+c76WJH0zbaDatyixxIXFYg8F6/af0i9nzivzfL66tvR3ePzPx8u/ZHk8K0czP99Rbpli/958RJL03e4TOp2dpyZe7vL2vDi+q6oHr95/XlHma5+OZeYoxP/i+yAp5Yy2HErXuH7t5Obm/EBgGIZDr8Ctf12jdTOGyObj6dCTN+DFbytVr+NZrntUi33241EtT07V3Dt7qIlXxR9FhmFozb5TuqfUGNDdx86pf+eqt12xlxOdzz5f++sklptfrzjM3v/+Rn272/Ey5DOfHdDjQ30d6jt9yT5J+xz+nqWiBcv/tz1NHVo0Vcfg8pdh+eemI/b/P/rxVk2P7VJhgMzMydfvF22SJP08a4SueGZ5ha9JKuq5/HJbUc/+oVPntPtYljLO5WvM1eEO5f68bKcWrTmo31wTrjm3uT4BzckvUG5+oWxNPF2WefLTbfp613Gt2Hm8zGfO2HfW69vpg+y3S17d3HE0Uze+9r2GRobond/1rtTrqw83vbFaKafP6+mRXfXAte2dlil52XbDgUxFPfs/3T8gotLv8XHv77L//x9rD6l9kK/D/RaLtDstS+v2n1JkmL/+vemInhju/DuEJenk2Xx99tNJ5RZ4y+p+8TP27ZX7tP9Etl64vZssFou+3JamP35a9Hlc+ndXUk5+gT5af1hDugarbXNfl+WKuerBxqUhADZQP5UaKD/rS+fjeH48kqEfyxlU3/nprzRzdKQ9oPSJCFSwv7fL8qX908l3in665YgOnnR+eS9+w2HNWFr0AXA6O09Xz1qh3X8erpTT5+x1+GFv1ceuvbf6gMPl0bwCQ/vPBDmUeePbfWUeV3JWbcKOY5ow8OLBtWQUyi8w1P+FbyRJ62YM0c7UTM38fLvmjekhF5nJztWl8j3HsnQ8M1cDOgU5vf+q5xMV1NRLm54equRfMvSHf/9U7liz0goMw+l3fvaZ/bX+3/Ar9OB17XUsM0e3/NpzGejrpVt6tVJhoaGDp7IVUeKg4Oywcvj0OY1527Hnq3QvWsmy5UlKuRiiiweZT/64qKc0PTtf/Ts218RBHR0CalEovXj7yaXJTi9nfbf7jH5/rZRdwZCF6kjPztPBSiwlUzr8SdI3u8+oW+tjTsuX7tX+YV+mZn1VdEJV3oGztO9/Pqnvf3beg1lSyTFdmw5W/hsuSvecF080OXgqu6h3/u6e2nPsrL0H+eMNKfYA+NORMzIMqUd4M/vjr3z2fyooNLT1maEK8HU+g7W899KBk9lKSjkjL3c3RYb5O/SYL1pTNOQlcYfzNi/pdHa+CgsNlydENeF8XoGm/+tHxV4Zopt7trJvTzld9De0PDnNZQA8U2J4x4mzRb+791YfUEtb5T+7Syp9gmqRNGz+KodtZ/MufpY8Fp8km4+nurQoOil/4tN92pl2Tk09Bqh30MXe5jlfFQXNT349TvTr0FyV8ZfEPXp71X49v2yHDsyp/PsdNYsA2ADV9CWMkn/8B05m65rZX1drPy8u36UNB05r8yHXB5Dis7+Slv2Uqqn/dD6DsrTiSSB5FwodJoQ8/0XlethKK+5xk6QXvtqlCQM7VPiY4h5DSfrN39brvv7t7LcPnzqnf21O0VVtAhTi763IMH8neygS+5eiD9iF912twV2ClePka+lOni36oL/5jR+q/OXzxQHKmReX79KLy3c5bNv966X2J5b8pH9vPqJebZpdvNPJU5c31rQ0V2Maiz37xcXxqH/4909KzbjYi7B2/ymt3X9KKafP68CpbP2/4V3UOcRPw+d/r0FdWmjWrd2UnXvBafiTpFV7M9Tuj8sqXdeqeHJpxWOuyps16Wz4glS2vYrDn1Q0wWduwm4tmzxAB0/WzMLVJf8OSl+yL8/vSoytyymxHuRfvys62QpqarUHr5Jy8gt00+tFJx47nxsub083jf/HJvt7fMvhdA3pGlLmcWkZOQ497s4m7hSf0OyffaPDOMiSij9DLS4Guz353wNavf+8/npPtCQ5DYOlH/rX7/bqg7WHFNDES49e31EjupU/U/rd7/dr2bZULduWqms7tdCrK/bo9ujW9vs3HUrXPBfjm13Vu6Y42//+UmN2xy3cqGWPdNO/dvXQufyi9+HZCwEqMFyPHFtTYmJaQaEh9xJtmnE+X/cv2qibe4Zp3a/DEwyjKCj7eJU/y72BX9W/bBEAG6B3vt9fa/u+62+V//CXii4fFHvzu7I9bJVR2fAnFf2hbz50Wre/Wf6Yq+o6nnUxeJyoxGXKvIJCvb3q4u9j8CvflQlqo7qXPRCklQg49y3cqMlDOrmcaPHox1urHP6q42zOBYegtPXwGfv/s3Iv6KtSk3gqGlNXFcezHC/hODvwFfci3P7mWs0cHalfzpzX4vWHtf1oprY5GcNZF0r3xDtTlfF7lVEcOmPmfOOw/d0fUtXEu/ITokpa+MPBKj9mR2q2skoE1eHzvy9T5u8/lA1/X+885rAkzZnzeYr5P8fXklsiNC/84YDSMnI06fqODidfktTxqa9c1u/qWSuUWaIHvOSf0F1vr5MsUvz4vnrskyRZJM2/q6fD47/clqbCQkML1xzU81/s0B3RrTX3zh5lnuebXcd08OQ5vbS8aFhOakaOHl68pcKe2lMlJq1c9XyiJOn9tY7DZlx9JriKfzUVhA6crNzJ3T/WHdO5fMee2u+P3a61+zN0W2D5AfiOt9Zo6cSiCVkpp8/pzrfWKi0zR5tKdSBcPWuFkv80rNx91cHHoylZjIY+YrYBy8zMlM1mU0ZGhvz9XfcEVdVVzyc6nfFmBhZL7Z7t/WFYF4fxlcClahNg1eH0ik8mzOo314Tr4w2OQ0nu6dNGs27tpoTtafZxwO2aN6nU5faa9NId3fXEvy+uAXnwhZGV7k3+7yP9dSIrVzdElu3JlKQ/fb69ysH704eu1FUR7bQ8OVUTPiw78SGgiWeZiW/15fsnBuval8ofE3xgzo1KP5dvD8Cu/H1cb13VJkD+3p46lZ1nHzde/LsoHipTk2rr+H05oQcQDUptn468vbJ6vZiAK4S/8pUOf5K0eP1hFRQaDqsR1HX4kxx7waWqDb8pXhUg8fHr1Cmk7FI+1Vm65La3t+uGrie0YqfzZVgaSviTVGH4k6SIGV9Wal/FE5SGRoYocccxLbzvau1Kvdh+dFPVDgJgA2TW3r+6kOlk0gSAuld6Kar6UDrwVTawlJSw45iC/bwdZjb/dOSMw3i4qnAV/sygeAJP6eWsyH+1g3UAAQCmVBMh9OX/7VaP5xL036RfVFhoaM2+k/YJMKgZjFSrHfQAAgBwiR6LT1LyLxl653vX38CE6iH+1Q56AAEAqAGEv9pxpgGNfWxMCIAAAAAmQwAEAAAwGQIgAACAyRAAAQAATIYACAAAYDIEQAAAAJMhAAIAAJgMARAAAMBkTB8A//rXvyoiIkLe3t6Kjo7W999/X99VAgAAqFWmDoCffPKJpkyZoqeeekpbt27VtddeqxEjRujw4cP1XTUAAIBaY+oAOG/ePN1///164IEH1LVrV82fP1/h4eF6880367tqAAAAtca0ATAvL0+bN29WbGysw/bY2FitWbPG6WNyc3OVmZnp8AMAAHC5MW0APHnypAoKChQSEuKwPSQkRGlpaU4fM2fOHNlsNvtPeHh4XVQVAACgRpk2ABazWCwOtw3DKLOt2IwZM5SRkWH/SUlJqYsqAgAA1CiP+q5AfQkKCpK7u3uZ3r7jx4+X6RUsZrVaZbVa66J6AAAAtca0PYBeXl6Kjo5WYmKiw/bExET169evnmoFAABQ+0zbAyhJU6dOVVxcnHr37q2YmBj97W9/0+HDhzVhwoT6rhoAAECtMXUAvOuuu3Tq1Ck999xzSk1NVVRUlL788ku1bdu2vqsGAABQa0wdACVp4sSJmjhxYn1XAwAAoM6YdgwgAACAWREAAQAATIYACAAAYDIEQAAAAJMhAAIAAJgMARAAADRYV4b513cVGiUCYAN0S8+w+q4CAKCSpg3tXN9VaNSu7dSivqvQKBEAG6Cbe7Wq7yoAQKO3cNzVDrd/fDa2Wvt5dEgnff/EYD0wIEKJj19XE1VDCYWGUd9VaJRMvxB0Q9Q5xK++qwAAjVb8/ZHq3jZcTbw81LZ5Ex06dU79OzaXzcezyvu6oWuwJCk8sImeHhVZ01U1hT+OuEIvfLXL5f3tmvvWYW3Mgx7ABqhVM5/6rgJMbnCXFvrXhJj6rgZKefXunnX6fNFtA2r9Of4WF+1we++sEerWylarz2mxSE28ivo/4h/sq2lDO+u1u3tV6rFBTa0Ot3/bl68OvVTeHq6jyNShnTWmd+s6rI15EABRJV1M0Dt5YM6N5d4/c3TVzvLDbN5Ot/eJCJSHm0WRLas+wLlNYBP1DG9mv712xvXllrdYKr/v+Xf11N/HXa32QTV31h1m86r2Y9sH+er/Db+ixupyObu5ZysdfGGkPp80oNr7+PD+PpUqt/aJq7TgN+WHori+bfXR+Mrtz5n2LXwVe2WomlovXozycHfTG2OvqvY+K6PkFcWWNh89OqSTmpcKdq4M7Nyi3NvOVKdn0RlXnyX14YrQ2j8WvPO73po8pJM83IkqtYFWbYTcLXm1st9be7XSV49dq0X3XV1x4cuYpVRaKhm0Fj/QR+P6R5QZK3RNu0CX+/v4wb5ltq1/cojiH+yrvbNv1JePXetw395ZI7Ri6kCX+3t1TEetemKwXrqju31bS5uP5t7Zw+VjStbX090idzeLure+2MuS8Ph1CvazaurQzrqlVytZLBY1b2rVV49dq+mxFwe4e5U6U3+gf0u9d29vh23O3h+9wpvq4Asj9fOsES7r6Mo30wfp4UEdqvy4y90NXYM10cXr7ta6ej1kY3q31oBOQRWWuyLwgCSppc3b4f1fWv+OQerXoeL9ueL7ay+cW6kTlDbNm1R7n7Wt9MlU6c8LZ1r4VS5cFnMv3SBVeK668lkFJyHNfat/0oe6QQBsoN68p/JnwG2bN3G4NBTp92W1n/emHq5nIP+2b1u5uVk0qEtwtfcvSTNGVL03x8/bw+XjDr4wUpOHdLqkOknSi7d306o/DHbYNnVoZ/193NW6q3e4/hYXrf4diw52Nh9P3dOnjSRp2JUhenfcxRB021UXJ/Hc0DVYbZv7amT3lvZt/32kv0L8vR0+zFdMvU7hgT5aOrGfPNzd1DG4qR4a2N5pPa9pV9Rj2DnET/EP9tW30wdJku6IdrxMUtxrtmLqQPl7e9oPXL+5po12PT9cn00aoL2zRmjf7BvVOcRP658cUqYdu7b0V3jgxYPxgI5lD/ZupQ5Kzt4fnr+ewXtW4kz+2+mDtP1Pw9TU6qFrIpwH6wcGRNj/H9G8/ntFnrqxq9PtCY9fp0mDO1ZpX7/t20YzRlyhd++9Wk8Mv0L39wutiSpKkrqEVq63OfLXAGixWLR0Yj+Xl4KLl+fY/qdhFe4zpn1zh9utA3z0ypiik5axfYouo/brcLFMuwYaAqsTwV64rVuVyrcNdP7a3RrQEdvLw02vldND/OZvo8tsu/2q1vbPpZI9iLf2aq1AJ4ExogavQqAsJoE0UCO6tVS75k108NS5Csv+Z2J/7TmWZb/t7ZZZ5ecbHhkoP58m6hDcVJ/9eNRpmavaNKvyfiXp/d9fo39tStEXP6Xqrt7huq9/hLLzCvTa1z+X+7hNT98gN4tFgb5eMgxDp7PzNKecgcKX6q6r29j///H4vsrJL9DgK4rCzIsletuKPXdzlO7p01ZXhPrJrcQZe4i/t2bf2k3vfr9fz46+UpK04O5eemZkpEJdXMLpGOyn759wvIz7x+FXaNuRDBmGtHb/KaeP61vqoFrSw4M6OPScfTNtkJYnp+l3MW3tQazkpZXK9C44K2Go4hl6kS0rfzA3DEO+Vg9teWaoPN2d16lkOz59Y1vd/8Ful/t79e6eeiw+qdLPX9LI7i3Vu22A/vT5DpdlHujfUvcPiFDvdgHae/ys/rnxgDYeKvp7dLM49m6NiW6hP97YU8m/ZOh3f9/gdH9P3RgpHy93++1xMS21J2WNpo+6qdy6XhHqp11pWeWWqaySbwWLxSKjglmYvlYPHZhzoyJmOJ58+nt7KDPngiTpo/F9dCo7Tx+vP6w7erdWS9vFsc7TYjsrpkNz9S4RNAurMfHzjujW+vfmIxWWq8yuu7fyVX6hu3amZurhQR305nf7JFVtOEWx3u0C9fOsEer01Ff2bZ1DmmrPsbNV31kDMrp7S3m5u+nKMH/9a1OKXvtmr/2+0u30xaMDFPXr2M6HrmuvFTuP6cEPNkuSbE08tfGpG9ThyYvvn0X3Xa2OwU1r/0WYWAM6n0BVXNe5hfpEBOqLRwcowNfL4eBtsRi6rtWWCntG/l1ikP+M4W308p09NK5fO4eDbnGAaOFnrTAgNLV6aOszQ7V31gi99pteuqdPG+2bfaMGdm6huXf20D9+f42eu+VKeXm4aerQzlr1h8H6zTXheui69uoR3kwv3n7xLPnb6YMU1NRqPyu0WCxODwh/vqmoJyg2MqTcukllLzOVJ6ZDc3v4c8XdzaLIMH97+Hv3d711S88wPTK4o8b2aaNvpg+y9565uVlchj9XLBaLFj/Q55LGWJUUEeSrhwd1kK+1+ud9ZS9/OY6ncmVkN9dBtbTi+nl5uLl8z43t08bpdmfK69Uu9u5vuzjd/sbYq3Rf/win9xXz8XSTm5tFvdoE6M7e4Xrtrk7qFHBC13W0qUOLpmpdqjcn0NfL5azGNoFNHMKfJHm4W9Qh4JSC/Rx7SF4pdcn/3w/3059uulLv//4aLX6gj95y0gMT0KTsWLRX7+6phb+7Qr6euS5fY8lf8agSvdkll+dw9rv68IE+imrlr4/G95HFYlFQU6seHdLJIfxJRT3DAzu3cHhvNi3nfVpyLHJ44MV9lTcMorJsPkXtP7BTM3312LU6+MJIPVaiZ/z2qy72tN9chTVbS/Z+39arlZZNvtZlWVd/UrW5GspdvcOr/BiLxaLhUaEKD2yiqbFdHHrxure2KdTfWxaL9OP/xdrDnySHE+ZiJS97+3i6X/KVJlSMANiAlfxAvbVXK80pcRnhzujW+uShGPsfVenP3hZNzuij+yM1rl87l/t3FgS8Pd318h0XP0Sn3NBJr9zZQ188WvGg8x/+eL0CfL3k4e6mm3qEadat3ex/1N6e7rqucwtZPS4e3No0b6I5t3XXjBu76r+P9Hd4vc66/kv3NI3rvlFDrijqMYhqZdPKPwxSk1IHz5ICfas2DqeqbogM0fy7e5V74Koqi8VSpXE/tT14vjoXwML90h0uE5dsn4/H91Wn4Kb65MG+eun27np2dKRC/MsPyte0C7TP4JSkVs1c/15X/7/BFbbfvDs66Mqwsu+3jx64GLxLv//v7HUxgLR0MsGlf/hBvXhbB1ksFofAMLRr0SVtX6vz92npMZbluT26tXqUGAvY1Oqhe/u108DOLdS/Y5CuatvMft8zoyJ1V+9wp2G4WRMvXRFafg/tzF97siWpQ4uLvTLl9dJd2ylI3Vs30xePXlutcYKv3t1TV4T66ZU7e+jZUhOvSp4AFL+mziFF9frSRbCKq+Rs3cX3RWpQm70a0/tiAPEqEd56tmmmFVOv09ShnTXrVueXdp0NlSjJzc1S7nAIZz2ulfkMvhQv3tFdz998ZcUFVdST7UzJb+ywerhr9f8brP2zb5TNyYlHeSpzVQGXjkvADVjJw9Zf7uopSeoS6qeth884nIVLUlSYTe5ukqfF8ZLCkzd21aAuLbRi5zF9uO6wffvIbo6Pd3jeEk9s9XDX7dGVm4J/qTPdKlr/MLDJxQNtv/ZlxzK1be6rJl7uOpdX4LA9oImn/m90pBatOaSTZ133cjQGrgaP1xRnWarkseqD+6+RVDR2cl7iHqf78PFy19ncosuCMR2aK/HXCS99yrmcXVLxBIH/PhylRd98JJvPVfrPI/11yxs/lCnbOqB648je+V1v9StxEI8qtSxJ52BPDQjbqtO5Ng3qXP5MWXc3i76b2lMLlv1DUWFFAb15U6ueGtFWs746VK36FavsYfK2Xq0U4GJQfnEvnpd7gbLznT++R4mJIF1bXvw7LW+B3pJBsTo6hfhp+ZSLiyq3bd5Ev1+0SaH+3g4nEY8N6axurZqpb/uicB3p4mvDpsd20Qfritvbdb2bN/VUu2bp8ijxt+TmZtHO54ar0DBk9XBXx2A/TR7i+vOq5Gehs5Pw6vTkRbWyqVNwUx1JP1/mvmCfozp+/tK/Qap0b7Urj11fuWNCebN3nTWBh5tFFwqNSo9VxaWhB/Ayc1WbAN0/IKJMr4aPl7tWPNZT1wQtd9ju5eGmQV2C9fTISM2+tZt++OP1+nzSAM2v4/XEKqNneDO99dtol2fwHu5u+nb6ID1+Q2c9O6qdi72UTSjXXxGiW3u1Vqh/7fYA1qbi3o2KtAuq3YHzpVu39O3ir2wqeanRKFWqumu8ffJgX90Z3do+4SLYz0s2a1Gg7xnerNxLvf+eEKOuLf31z4diNLqCy9HPjmyroeUMKegW9LN6t/FWiG+6ugYerFQPrdXDTX5Wx5OPUU7qcU8VLm1LRSd4kjT+2rKXqT1KzBhwdsnN7tcj8XVt9qldc0/1bfmT02KfTxqgObd109DIi5NSygsyFY0brKrBXYL1+aQBSpx6nW7qGaYbu4XquZuLhpQMjwpVsxIniM4uZzb1vrT+Dh8v90oPn7jx1xNsH0/3Mr2XJW15ZqjT7aVbrvjS9ot3dNeY3q019/aLY3tbev+kXkGb1Dvk4jjV67s0U2g5Pemdgitea9bV+Fup7MSvYhMGFtVrRFT1Ji4tm3yt7uodrr9WYRIkqo8ewIasip053p5ucrM4/9D19nS3XzapaKFpayUuQ30zbaDW7T+tAsPQM/9JrlpFyzG8gg+OiCBfPXZDJ6WeTnV6f8nPJS8PN+VdKNTALkWh5Pmbo1RoFM1m/tuqffph7yn1atNMM0Z0VaBvzazTVVve//01ev3rZOVkJkpy/eF4Rai/3hh7VZXHG1ZWrzYBSthxzGGbs3dceYf+l+7orje+3au7r65a2OnTvnm5vYQv3t5dMRFWvfn1Gh3OaqknYi+GgN7tAvXVr8vthNva6vNtFyfV+JcKBq4uzT01oq0+35ioTgFHanw5jmdubKvoiNbqXsVw3Ld9c+18bniZcYNS0VjDh65rLzc3S6V65wO8czT/9mB98O1Jp/d3a21Tt9Y2h2DnV6rtSk64qemLeBaLxWH5m7/eU3aMY7E/3XylhkeF6rH4rcrMuVDni+vf2C1USx6OUcdgP4f3ysDOLbRyzwn9tm/Rez/Q10udgn3083HHXr3S2bl4hn+wn7deuqOHkg9fvJoTat0pyUdt/dO06VhR2BzaNUDv3NtV5/MLdPBktkYtWO2wvwcHhOkPn+6z357362zsXr/29DZr4qnsX3vpq6J/xyBtevoGh6s1rjg7P+gS6ud0wh1qBwGwAauvFZ+GdA3RNe0C1SPc9cGofYumat+iqfILCvVTyplKrS1WF0q22eonBmtHaqZ9odZgf2+987ui5Vq6t7Jp6dZfdHPPsEovAFufWtp8NGlQa729vOI1Hkd2d315/1LdPyBCXh5uev6Li70NVV2jNaip1T47uib5eLlrUOcAbdq+U71DdurWntNdlr02fL++T2mvK5of05VhlettGNWtuXbtrXiGaVX0aLFHp87bFBvZS+FBzaq1D2fhr9gMF8vTlFQ00zKj0s9nsVj0+theys69UGa85s09W9kDYH1+f6u3p7sGXxGs/zzSX2+t3KeJg6q2FM+lslgsim5bdgmjheOu1pnz+U6XPCnNy92ivAJD8+4ouxZkyZa1qND+/z/d2Fz/3fKjBnbqJXc3i5paPRTVyqburW366UjR77hn4Lca0NHxPX/br+NUmzXx0o/Pxsrb001Rz/7Pfv+7v+2iBz50PdO+pNLflIKGi0vADdhjNxQtwHtrr1YVlKweV5/Pnu5u+ueEGD01suJvvPB0d9PLd/bQzT1rp45VVbJjJtjfW4O6BDvtrQnw9dLvB0RcFuGvvhWvfRge6CMvDzfdX2INPoul6LJvdNsA/S7m4iD7+v7u9oo66DoEnNJ/Hmylvq0Ol7mvLqvesdkR9Wm53WG8WV0Lr+S4r5JGdQ9zWDapoWrfoqleuqOH2gX5ys1StLSLzXpe4QH1s3akm5ulUuHPkKGvH++pO69IUkz7sifillKli/Vo7a3uwallPvNK9oB6VvBFATYfT1k93B3+hp1NksLljx7ABuymHmG6ul2AQvxq/8OqAS0wf0nm3NZNv1+0SdOGdq64MColqKlVP82MlY+n854mT3c3LXm4n8vHN/fJrq2qoZqmx3bW3IQ9+nSi69/bparvk4DSLBaL3hrbWW8v/07ubv3ruzrlssgiDzeLfL2cz8oJ9PVQS98TysnLloebi5k7Jfzmmjb6Kjnt151X7hdT+7++BvYGMSECYANXer2smtRYQl9J118R4nJMFKrP39v5GLIrQp33DJQcJ9Yt2Pl4zYaqPnvj6sqk6zvpoYEdKvXNLNXVEA/vRcsq1XctXHt6RFu9uSr11+9gLjvbt5jFYlG/sG1KOZlSqf2W/D03cS9aLNzm46mM8/llxsDCPLgEjEaH8Ff74u+P1OC2e9U3wvlyDSVnZHq4NcQoUFYb351q5nVcAzpUb5by5aa2wl/x995WZnF2SP7eFz+vRnZrrk1P3+Cw7E5NKw7AnzzUV0MjQ/TPEl8IUFJNz+JGw0P0B1BlbZt7q60t3eX9o7q31KqfT6hLsLtSj26sw5pVX3u/otnsHu7D67kml7evpw3UwZPZ1V7ux2yeHN5WD/7jB3UKOCzpqhqfYS45v9pzRai/fVKcM7Ud//pEFM3ob1ONMaioGQRAADXOw91N88b0VOrpVL3t/Kul0Uj5e3uqe+tm9V2Ny0ZYM6sGhW+p1edoiFe9A3y9tG1mrLxdjC1G7eMSMAAAcFD6CnD7oJqfjOjn7Vmr41BRPloeAIBGrDpL/ZSeHBJQxe/zRcNHAAQAoBELa+ajN+7upN7NEyr9mA/u76MOLbwVG1G5BaBx+SEAmhiTvADAHK5q46emnpX/xpce4c304X2RCvPLlNQ4lw0zOwIgJBUtPAoAAMyBAAgAAGAyBEAAAACTIQACAACYDAEQAACUi1HijQ8BEAAAwGQIgAAAACZDAAQAADAZAiAAACgXC0E3PgRAEzPEV4EAAGBGBEAU4ewOAOACh4jGhwAIAABgMgRAAAAAkyEAAgAAmAwBEAAAwGQIgAAAACZDAAQAAOVjIcBGhwAIAABgMgRAEzNYBxoAAFMiAEISi3wCAGAmBEAAAACTIQACAIBycZWo8SEAAgAAmEydBsBZs2apX79+atKkiZo1a+a0zOHDhzV69Gj5+voqKChIkydPVl5enkOZbdu2aeDAgfLx8VGrVq303HPPySg1o2HlypWKjo6Wt7e32rdvr7feeqvMcy1ZskSRkZGyWq2KjIzU0qVLa+y1Xg6Y1Q8AgDnVaQDMy8vTnXfeqYcfftjp/QUFBRo5cqSys7O1evVqxcfHa8mSJZo2bZq9TGZmpoYOHaqwsDBt3LhRCxYs0Ny5czVv3jx7mQMHDujGG2/Utddeq61bt+rJJ5/U5MmTtWTJEnuZtWvX6q677lJcXJx+/PFHxcXFacyYMVq/fn3tNQAAAEAD4FGXT/anP/1JkrRo0SKn9yckJGjHjh1KSUlRWFiYJOmVV17RuHHjNGvWLPn7+2vx4sXKycnRokWLZLVaFRUVpT179mjevHmaOnWqLBaL3nrrLbVp00bz58+XJHXt2lWbNm3S3Llzdfvtt0uS5s+fr6FDh2rGjBmSpBkzZmjlypWaP3++Pv7449ptCAAAgHrUoMYArl27VlFRUfbwJ0nDhg1Tbm6uNm/ebC8zcOBAWa1WhzJHjx7VwYMH7WViY2Md9j1s2DBt2rRJ+fn55ZZZs2ZNbbw0AACABqNBBcC0tDSFhIQ4bAsICJCXl5fS0tJclim+XVGZCxcu6OTJk+WWKd6HM7m5ucrMzHT4AQCgsWPMeONzyQFw5syZslgs5f5s2rSp0vuzOHmXGYbhsL10meIJIDVRxtnzF5szZ45sNpv9Jzw8vKKX06DxTSAAAJjTJY8BnDRpku6+++5yy7Rr165S+woNDS0zCSM9PV35+fn23rrQ0NAyvXTHjx+XpArLeHh4qHnz5uWWKd0rWNKMGTM0depU++3MzMzLPgQW4+wOAADzuOQAGBQUpKCgoJqoi2JiYjRr1iylpqaqZcuWkoomhlitVkVHR9vLPPnkk8rLy5OXl5e9TFhYmD1oxsTE6PPPP3fYd0JCgnr37i1PT097mcTERD3++OMOZfr16+eyflar1WHsIQAAwOWoTscAHj58WElJSTp8+LAKCgqUlJSkpKQknT17VpIUGxuryMhIxcXFaevWrfr66681ffp0jR8/Xv7+/pKksWPHymq1aty4cUpOTtbSpUs1e/Zs+wxgSZowYYIOHTqkqVOnaufOnfr73/+u9957T9OnT7fX5bHHHlNCQoJefPFF7dq1Sy+++KJWrFihKVOm1GWTAAAA1Lk6DYD/93//p169eunZZ5/V2bNn1atXL/Xq1cs+RtDd3V3Lli2Tt7e3+vfvrzFjxuiWW27R3Llz7fuw2WxKTEzUkSNH1Lt3b02cOFFTp051uDQbERGhL7/8Ut9995169uyp559/Xq+99pp9CRhJ6tevn+Lj47Vw4UJ1795dixYt0ieffKI+ffrUXYMAAADUgzpdB3DRokUu1wAs1qZNG33xxRfllunWrZtWrVpVbpmBAwdqy5Yt5Za54447dMcdd5RbBgAAs2OYeOPToJaBAQAAQO0jAAIAAJgMARAAAMBkCIAAAAAmQwCEJAb4AgBgJgRAAABQLr4tqvEhAAIAAJgMARAAAMBkCIAAAAAmQwAEAAAwGQIgAAAol4W1IhodAiAAAIDJEAABAABMhgBoYoZR3zUAAAD1gQAISZKFVT4BADANAiAAAIDJEAABAEC5uEjU+BAAAQAATIYACAAAYDIEQBOjSx8AAHMiAAIAAJgMARAAAJSLC0aNDwHQxFgIGgAAcyIAAgAAmAwBEAAAwGQIgAAAACZDAAQAADAZAiAAACgf04AbHQIgAACAyRAAAQAATIYACAAAYDIEQAAAAJMhAJqYIb4KBABQMeaAND4EQAAAAJMhAAIAAJgMARAAAMBkCIAAAKBcFgujABsbAiAAAIDJEAABAEC56P9rfAiAAAAAJkMABAAAMBkCoIkZrAMNAIApEQABAABMhgAIAABgMgRAAABQPqYBNzoEQAAAAJMhAAIAAJgMARAAAMBkCIAAAAAmQwA0Mb7bGwBQGRwuGh8CIAAAgMkQAE2MbwIBAMCcCIAAAAAmQwAEAAAwmToLgAcPHtT999+viIgI+fj4qEOHDnr22WeVl5fnUO7w4cMaPXq0fH19FRQUpMmTJ5cps23bNg0cOFA+Pj5q1aqVnnvuORmlrmeuXLlS0dHR8vb2Vvv27fXWW2+VqdOSJUsUGRkpq9WqyMhILV26tOZfOAAAQAPjUVdPtGvXLhUWFurtt99Wx44dlZycrPHjxys7O1tz586VJBUUFGjkyJFq0aKFVq9erVOnTunee++VYRhasGCBJCkzM1NDhw7V4MGDtXHjRu3Zs0fjxo2Tr6+vpk2bJkk6cOCAbrzxRo0fP14ffvihfvjhB02cOFEtWrTQ7bffLklau3at7rrrLj3//PO69dZbtXTpUo0ZM0arV69Wnz596qpZAABo8JgF3PjUWQAcPny4hg8fbr/dvn177d69W2+++aY9ACYkJGjHjh1KSUlRWFiYJOmVV17RuHHjNGvWLPn7+2vx4sXKycnRokWLZLVaFRUVpT179mjevHmaOnWqLBaL3nrrLbVp00bz58+XJHXt2lWbNm3S3Llz7QFw/vz5Gjp0qGbMmCFJmjFjhlauXKn58+fr448/rqtmAQAAqHP1OgYwIyNDgYGB9ttr165VVFSUPfxJ0rBhw5Sbm6vNmzfbywwcOFBWq9WhzNGjR3Xw4EF7mdjYWIfnGjZsmDZt2qT8/Pxyy6xZs8ZlfXNzc5WZmenwAwAAcLmptwC4b98+LViwQBMmTLBvS0tLU0hIiEO5gIAAeXl5KS0tzWWZ4tsVlblw4YJOnjxZbpnifTgzZ84c2Ww2+094eHhVXjIAAECDcMkBcObMmbJYLOX+bNq0yeExR48e1fDhw3XnnXfqgQcecLjP4uTrKQzDcNheukzxBJCaKOPs+YvNmDFDGRkZ9p+UlBSXZQEAABqqSx4DOGnSJN19993llmnXrp39/0ePHtXgwYMVExOjv/3tbw7lQkNDtX79eodt6enpys/Pt/fWhYaGlumlO378uCRVWMbDw0PNmzcvt0zpXsGSrFarw6Xnyx3rQAMAYE6XHACDgoIUFBRUqbK//PKLBg8erOjoaC1cuFBubo4dkDExMZo1a5ZSU1PVsmVLSUUTQ6xWq6Kjo+1lnnzySeXl5cnLy8teJiwszB40Y2Ji9PnnnzvsOyEhQb1795anp6e9TGJioh5//HGHMv369at6IwAA0IiVd3UMl6c6GwN49OhRDRo0SOHh4Zo7d65OnDihtLQ0h1642NhYRUZGKi4uTlu3btXXX3+t6dOna/z48fL395ckjR07VlarVePGjVNycrKWLl2q2bNn22cAS9KECRN06NAhTZ06VTt37tTf//53vffee5o+fbr9uR577DElJCToxRdf1K5du/Tiiy9qxYoVmjJlSl01CQAAQL2os2VgEhIStHfvXu3du1etW7d2uK94fJ67u7uWLVumiRMnqn///vLx8dHYsWPty8RIks1mU2Jioh555BH17t1bAQEBmjp1qqZOnWovExERoS+//FKPP/643njjDYWFhem1116zLwEjSf369VN8fLyefvppPfPMM+rQoYM++eQT1gAEAACNXp0FwHHjxmncuHEVlmvTpo2++OKLcst069ZNq1atKrfMwIEDtWXLlnLL3HHHHbrjjjsqrBMAAEBjwncBAwCAcnm6MwawsSEAAgCAck24Lkw+7lnq6Le1vquCGlJnl4ABAMDlKdjPS31aLK/vaqAG0QMIAABgMgRAEyuefQ0AAMyFAAgAAGAyBEAAAACTIQACAACYDAEQAADAZAiAAAAAJkMABAAAMBkCIAAAgMkQAAEAAEyGAAgAAGAyBEATC2vmU99VAAAA9YAAaGIh/t564+5OGt0pub6rAgAA6hAB0OSuauOn5j7n67saAACgDhEAAQAATIYACAAAYDIEQAAAAJMhAAIAAJgMARAAAMBkCIAAAAAmQwAEAAAwGQIgAACAyRAAAQAATIYACAAAYDIEQAAAAJMhAAIAAJgMARAAAMBkPOq7ApczwzAkSZmZmfVckyJZmVnKy8lTfm6+cs/nKiszS74evhU+Jvdc5co2JJdrvS9FQ3rNla1LbdbZ2b6zMrOUez7X/n9nz1n8uLNZZ+2Pl6S8nLyKH/frvs9mnXX5PC7rVY26unpsTXNok0rU6XJVmbas678zV++D8upR/Jj8nHxJUp57nnINx/e0s8dU9B53Wrcq/I1cToqP28XHcTOyGGZ+9ZfoyJEjCg8Pr+9qAACAakhJSVHr1q3ruxr1ggB4CQoLC3X06FH5+fnJYrHU6L4zMzMVHh6ulJQU+fv71+i+zYR2rDm0Zc2hLWsObVlzzNSWhmEoKytLYWFhcnMz52g4LgFfAjc3t1o/c/D392/0f4h1gXasObRlzaEtaw5tWXPM0pY2m62+q1CvzBl7AQAATIwACAAAYDIEwAbKarXq2WefldVqre+qXNZox5pDW9Yc2rLm0JY1h7Y0FyaBAAAAmAw9gAAAACZDAAQAADAZAiAAAIDJEAABAABMhgDYAP31r39VRESEvL29FR0dre+//76+q1SvVq1apdGjRyssLEwWi0X/+c9/HO43DEMzZ85UWFiYfHx8NGjQIG3fvt2hTG5urh599FEFBQXJ19dXN910k44cOeJQJj09XXFxcbLZbLLZbIqLi9OZM2dq+dXVrTlz5ujqq6+Wn5+fgoODdcstt2j37t0OZWjPir355pvq3r27fcHcmJgYffXVV/b7acPqmzNnjiwWi6ZMmWLfRntWzsyZM2WxWBx+QkND7ffTjnBgoEGJj483PD09jXfeecfYsWOH8dhjjxm+vr7GoUOH6rtq9ebLL780nnrqKWPJkiWGJGPp0qUO97/wwguGn5+fsWTJEmPbtm3GXXfdZbRs2dLIzMy0l5kwYYLRqlUrIzEx0diyZYsxePBgo0ePHsaFCxfsZYYPH25ERUUZa9asMdasWWNERUUZo0aNqquXWSeGDRtmLFy40EhOTjaSkpKMkSNHGm3atDHOnj1rL0N7Vuyzzz4zli1bZuzevdvYvXu38eSTTxqenp5GcnKyYRi0YXVt2LDBaNeundG9e3fjscces2+nPSvn2WefNa688kojNTXV/nP8+HH7/bQjSiIANjDXXHONMWHCBIdtV1xxhfHHP/6xnmrUsJQOgIWFhUZoaKjxwgsv2Lfl5OQYNpvNeOuttwzDMIwzZ84Ynp6eRnx8vL3ML7/8Yri5uRnLly83DMMwduzYYUgy1q1bZy+zdu1aQ5Kxa9euWn5V9ef48eOGJGPlypWGYdCelyIgIMB49913acNqysrKMjp16mQkJiYaAwcOtAdA2rPynn32WaNHjx5O76MdURqXgBuQvLw8bd68WbGxsQ7bY2NjtWbNmnqqVcN24MABpaWlObSZ1WrVwIED7W22efNm5efnO5QJCwtTVFSUvczatWtls9nUp08fe5m+ffvKZrM16rbPyMiQJAUGBkqiPaujoKBA8fHxys7OVkxMDG1YTY888ohGjhypG264wWE77Vk1P//8s8LCwhQREaG7775b+/fvl0Q7oiyP+q4ALjp58qQKCgoUEhLisD0kJERpaWn1VKuGrbhdnLXZoUOH7GW8vLwUEBBQpkzx49PS0hQcHFxm/8HBwY227Q3D0NSpUzVgwABFRUVJoj2rYtu2bYqJiVFOTo6aNm2qpUuXKjIy0n4QpA0rLz4+Xlu2bNHGjRvL3Md7svL69Omjf/zjH+rcubOOHTumP//5z+rXr5+2b99OO6IMAmADZLFYHG4bhlFmGxxVp81Kl3FWvjG3/aRJk/TTTz9p9erVZe6jPSvWpUsXJSUl6cyZM1qyZInuvfderVy50n4/bVg5KSkpeuyxx5SQkCBvb2+X5WjPio0YMcL+/27duikmJkYdOnTQ+++/r759+0qiHXERl4AbkKCgILm7u5c5izp+/HiZszYUKZ7hVl6bhYaGKi8vT+np6eWWOXbsWJn9nzhxolG2/aOPPqrPPvtM3377rVq3bm3fTntWnpeXlzp27KjevXtrzpw56tGjh1599VXasIo2b96s48ePKzo6Wh4eHvLw8NDKlSv12muvycPDw/5aac+q8/X1Vbdu3fTzzz/zvkQZBMAGxMvLS9HR0UpMTHTYnpiYqH79+tVTrRq2iIgIhYaGOrRZXl6eVq5caW+z6OhoeXp6OpRJTU1VcnKyvUxMTIwyMjK0YcMGe5n169crIyOjUbW9YRiaNGmSPv30U33zzTeKiIhwuJ/2rD7DMJSbm0sbVtGQIUO0bds2JSUl2X969+6te+65R0lJSWrfvj3tWU25ubnauXOnWrZsyfsSZdXxpBNUoHgZmPfee8/YsWOHMWXKFMPX19c4ePBgfVet3mRlZRlbt241tm7dakgy5s2bZ2zdutW+NM4LL7xg2Gw249NPPzW2bdtm/OY3v3G6tEHr1q2NFStWGFu2bDGuv/56p0sbdO/e3Vi7dq2xdu1ao1u3bo1uaYOHH37YsNlsxnfffeewVMS5c+fsZWjPis2YMcNYtWqVceDAAeOnn34ynnzyScPNzc1ISEgwDIM2vFQlZwEbBu1ZWdOmTTO+++47Y//+/ca6deuMUaNGGX5+fvbjB+2IkgiADdAbb7xhtG3b1vDy8jKuuuoq+xIdZvXtt98aksr83HvvvYZhFC1v8OyzzxqhoaGG1Wo1rrvuOmPbtm0O+zh//rwxadIkIzAw0PDx8TFGjRplHD582KHMqVOnjHvuucfw8/Mz/Pz8jHvuucdIT0+vo1dZN5y1oyRj4cKF9jK0Z8V+//vf2/9GW7RoYQwZMsQe/gyDNrxUpQMg7Vk5xev6eXp6GmFhYcZtt91mbN++3X4/7YiSLIZhGPXT9wgAAID6wBhAAAAAkyEAAgAAmAwBEAAAwGQIgAAAACZDAAQAADAZAiAAAIDJEAABAABMhgAIAABgMgRAAAAAkyEAAgAAmAwBEAAAwGQIgAAAACZDAAQAADAZAiAAAIDJEAABAABMhgAIAABgMgRAAAAAkyEAAgAAmAwBEAAAwGQIgAAAACZDAAQAADAZAiAAAIDJEAABAABMhgAIAABgMgRAAAAAkyEAAgAAmAwBEAAAwGQIgAAAACZDAAQAADAZAiAAAIDJEAABAABM5v8DLx9BQYwHLTwAAAAASUVORK5CYII=' width=640.0/>\n",
       "            </div>\n",
       "        "
      ],
      "text/plain": [
       "Canvas(toolbar=Toolbar(toolitems=[('Home', 'Reset original view', 'home', 'home'), ('Back', 'Back to previous …"
      ]
     },
     "metadata": {},
     "output_type": "display_data"
    }
   ],
   "source": [
    "%matplotlib widget\n",
    "_, ax = plt.subplots()\n",
    "ax.plot(signal.time, signal.traces[60])\n",
    "\n",
    "for start, stop in zip(art_epochs.starts, art_epochs.stops):\n",
    "    ax.axvspan(start, stop, color=[0, 0.3, 0, 0.5])\n"
   ]
  },
  {
   "cell_type": "markdown",
   "id": "38876982",
   "metadata": {},
   "source": [
    "## Define probe group"
   ]
  },
  {
   "cell_type": "code",
   "execution_count": 7,
   "id": "cb4159cb",
   "metadata": {},
   "outputs": [
    {
     "name": "stdout",
     "output_type": "stream",
     "text": [
      "/Users/nkinsky/Documents/UM/Working/Trace_FC/Recording_Rats/Django/2023_03_10_recall2/Django_recall2_denoised.probegroup.npy saved\n"
     ]
    },
    {
     "data": {
      "application/vnd.jupyter.widget-view+json": {
       "model_id": "5e1b75fad70349cd92d27f23dbbfa81e",
       "version_major": 2,
       "version_minor": 0
      },
      "image/png": "[encoded data removed]",
      "text/html": [
       "\n",
       "            <div style=\"display: inline-block;\">\n",
       "                <div class=\"jupyter-widgets widget-label\" style=\"text-align: center;\">\n",
       "                    Figure\n",
       "                </div>\n",
       "                <img src='data:image/png;base64,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' width=640.0/>\n",
       "            </div>\n",
       "        "
      ],
      "text/plain": [
       "Canvas(toolbar=Toolbar(toolitems=[('Home', 'Reset original view', 'home', 'home'), ('Back', 'Back to previous …"
      ]
     },
     "metadata": {},
     "output_type": "display_data"
    }
   ],
   "source": [
    "from neuropy.core import Shank, Probe, ProbeGroup\n",
    "from neuropy.plotting import plot_probe\n",
    "shank = Shank()\n",
    "shank = shank.auto_generate(columns=1, contacts_per_column=128, xpitch=0,\n",
    "                   ypitch=20, channel_id=np.arange(128, 0, -1))\n",
    "shank.set_disconnected_channels([48, 112])\n",
    "probe = Probe(shank)\n",
    "prbgrp = ProbeGroup()\n",
    "prbgrp.add_probe(probe)\n",
    "plot_probe(prbgrp)\n",
    "prbgrp.filename = sess.filePrefix.with_suffix(\".probegroup.npy\")\n",
    "prbgrp.save(prbgrp.filename)\n",
    "sess.prbgrp = prbgrp"
   ]
  },
  {
   "cell_type": "markdown",
   "id": "a5e11fab-f025-4643-b23d-f9c7e2862bdc",
   "metadata": {},
   "source": [
    "# Detect Theta epochs"
   ]
  },
  {
   "cell_type": "code",
   "execution_count": 8,
   "id": "95826e80-d0b0-46d1-ad9b-87a141eb65bb",
   "metadata": {},
   "outputs": [
    {
     "name": "stdout",
     "output_type": "stream",
     "text": [
      "Best channel for theta: [55]\n",
      "2465 epochs remaining with durations within (0.25,20)\n"
     ]
    }
   ],
   "source": [
    "from neuropy.analyses.oscillations import detect_theta_epochs\n",
    "mindur=0.25\n",
    "maxdur=20\n",
    "thresh = (0.5, None)\n",
    "sigma = 0.125\n",
    "edge_cutoff = 0.25\n",
    "theta_channel = 55\n",
    "\n",
    "# use this if you don't know theta channel\n",
    "if theta_channel is None:\n",
    "    theta_epochs, theta_power = detect_theta_epochs(signal, prbgrp, mindur=mindur, maxdur=maxdur, thresh=thresh, \n",
    "                                                    edge_cutoff=edge_cutoff, ignore_epochs=art_epochs, return_power=True)\n",
    "else:\n",
    "    signal_use = signal.time_slice(channel_id=theta_channel)\n",
    "    theta_epochs, theta_power = detect_theta_epochs(signal_use, probegroup=None, mindur=mindur, maxdur=maxdur, thresh=thresh, \n",
    "                                                    edge_cutoff=edge_cutoff, ignore_epochs=art_epochs, return_power=True)"
   ]
  },
  {
   "cell_type": "code",
   "execution_count": 52,
   "id": "0156ad6a-a407-48a6-a571-b37236634087",
   "metadata": {},
   "outputs": [],
   "source": [
    "from neuropy.utils.signal_process import FourierSg\n",
    "channel_use = theta_channel\n",
    "signal = sess.eegfile.get_signal()\n",
    "fsg = FourierSg(signal.time_slice(channel_id=channel_use))\n",
    "fsg_sm = FourierSg(signal.time_slice(channel_id=channel_use), sigma=2)\n",
    "fsg_mt = FourierSg(signal.time_slice(channel_id=channel_use), multitaper=True)\n",
    "fsg_mt_sm = FourierSg(signal.time_slice(channel_id=channel_use), multitaper=True, sigma=2)"
   ]
  },
  {
   "cell_type": "code",
   "execution_count": 18,
   "id": "01a4e9c4-beb7-413b-81ec-c4621610d92f",
   "metadata": {},
   "outputs": [
    {
     "data": {
      "text/plain": [
       "0.5"
      ]
     },
     "execution_count": 18,
     "metadata": {},
     "output_type": "execute_result"
    }
   ],
   "source": [
    "fsg.freq_slice(5, 20).t_start"
   ]
  },
  {
   "cell_type": "code",
   "execution_count": 50,
   "id": "655c102d-dbe5-4d5b-8291-04e1d7613a62",
   "metadata": {},
   "outputs": [
    {
     "data": {
      "text/plain": [
       "(8, 80)"
      ]
     },
     "execution_count": 50,
     "metadata": {},
     "output_type": "execute_result"
    }
   ],
   "source": [
    "fsg_peri_cs[0].shape"
   ]
  },
  {
   "cell_type": "code",
   "execution_count": 49,
   "id": "c35c6a49-d364-420a-bdf5-d57f17f087a8",
   "metadata": {},
   "outputs": [
    {
     "data": {
      "text/plain": [
       "(176, 80)"
      ]
     },
     "execution_count": 49,
     "metadata": {},
     "output_type": "execute_result"
    }
   ],
   "source": [
    "np.concatenate(fsg_peri_cs).shape"
   ]
  },
  {
   "cell_type": "code",
   "execution_count": 46,
   "id": "eedbe147-d4cf-45b1-bf65-376baf88e8b5",
   "metadata": {},
   "outputs": [],
   "source": [
    "buffer_sec = (5, 35)\n",
    "for fsg_use, fst_type in zip([fsg, fsg_sm, fsg\n",
    "fsg_peri_cs = []\n",
    "for start_time in cs_oe_start_df['timestamps'].values/30000:\n",
    "    ftemp = fsg_use.freq_slice(5, 12).time_slice(start_time - buffer_sec[0], start_time + buffer_sec[1])\n",
    "    fsg_peri_cs.append(ftemp.traces)\n",
    "\n",
    "_, ax = plt.subplots(figsize=(12, 5))\n",
    "\n",
    "sns.heatmap(fsg.freq_slice(5, 12).time_slice(1, 5000).traces, ax=ax, cmap='viridis')\n",
    "ax.invert_yaxis()\n",
    "ax.set_yticklabels([ int(freq) for freq in fsg.freq_slice(5, 12).freqs])"
   ]
  },
  {
   "cell_type": "code",
   "execution_count": 30,
   "id": "aa18e9db-2682-4a6e-83c2-6c4689747bb9",
   "metadata": {},
   "outputs": [
    {
     "data": {
      "text/plain": [
       "[Text(0, 0.5, '5'),\n",
       " Text(0, 1.5, '6'),\n",
       " Text(0, 2.5, '7'),\n",
       " Text(0, 3.5, '8'),\n",
       " Text(0, 4.5, '9'),\n",
       " Text(0, 5.5, '10'),\n",
       " Text(0, 6.5, '11'),\n",
       " Text(0, 7.5, '12')]"
      ]
     },
     "execution_count": 30,
     "metadata": {},
     "output_type": "execute_result"
    },
    {
     "data": {
      "application/vnd.jupyter.widget-view+json": {
       "model_id": "52ee9c9d790a43bb83d23a8d1986fbbd",
       "version_major": 2,
       "version_minor": 0
      },
      "image/png": "[encoded data removed]",
      "text/html": [
       "\n",
       "            <div style=\"display: inline-block;\">\n",
       "                <div class=\"jupyter-widgets widget-label\" style=\"text-align: center;\">\n",
       "                    Figure\n",
       "                </div>\n",
       "                <img src='data:image/png;base64,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' width=1200.0/>\n",
       "            </div>\n",
       "        "
      ],
      "text/plain": [
       "Canvas(toolbar=Toolbar(toolitems=[('Home', 'Reset original view', 'home', 'home'), ('Back', 'Back to previous …"
      ]
     },
     "metadata": {},
     "output_type": "display_data"
    }
   ],
   "source": [
    "_, ax = plt.subplots(figsize=(12, 5))\n",
    "\n",
    "sns.heatmap(fsg.freq_slice(5, 12).time_slice(1, 5000).traces, ax=ax, cmap='viridis')\n",
    "ax.invert_yaxis()\n",
    "ax.set_yticklabels([ int(freq) for freq in fsg.freq_slice(5, 12).freqs])"
   ]
  },
  {
   "cell_type": "code",
   "execution_count": 9,
   "id": "70e97aca-20ba-4aa5-b5e2-cf53ba4d79bf",
   "metadata": {},
   "outputs": [
    {
     "data": {
      "text/plain": [
       "[<matplotlib.lines.Line2D at 0x154635210>]"
      ]
     },
     "execution_count": 9,
     "metadata": {},
     "output_type": "execute_result"
    },
    {
     "data": {
      "application/vnd.jupyter.widget-view+json": {
       "model_id": "99c76989511c4ab786b07621d97f641d",
       "version_major": 2,
       "version_minor": 0
      },
      "image/png": "[encoded data removed]",
      "text/html": [
       "\n",
       "            <div style=\"display: inline-block;\">\n",
       "                <div class=\"jupyter-widgets widget-label\" style=\"text-align: center;\">\n",
       "                    Figure\n",
       "                </div>\n",
       "                <img src='data:image/png;base64,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' width=640.0/>\n",
       "            </div>\n",
       "        "
      ],
      "text/plain": [
       "Canvas(toolbar=Toolbar(toolitems=[('Home', 'Reset original view', 'home', 'home'), ('Back', 'Back to previous …"
      ]
     },
     "metadata": {},
     "output_type": "display_data"
    }
   ],
   "source": [
    "from neuropy.utils.signal_process import psd_auc\n",
    "import scipy.signal as sg\n",
    "from scipy import fftpack, stats\n",
    "\n",
    "# theta_chan_signal = signal.time_slice(channel_id=[55, 56, 57, 58, 59, 60])\n",
    "# aucChans = psd_auc(signal, freq_band=(5, 12))\n",
    "\n",
    "# this calculates PSD for the WHOLE SESSION\n",
    "channel_use = 55\n",
    "window = 10\n",
    "overlap = 5\n",
    "freq_band = (5, 12)\n",
    "\n",
    "fs = signal.sampling_rate\n",
    "f, pxx = sg.welch(\n",
    "            stats.zscore(signal.time_slice(channel_id=channel_use).traces[0]),\n",
    "            fs=fs,\n",
    "            nperseg=int(window * fs),\n",
    "            noverlap=int(overlap * fs),\n",
    "            axis=-1,\n",
    "        )\n",
    "f_theta = np.where((f > freq_band[0]) & (f < freq_band[1]))[0]\n",
    "\n",
    "_, ax = plt.subplots()\n",
    "\n",
    "ax.plot(f[f < 100], pxx[f < 100])"
   ]
  },
  {
   "cell_type": "code",
   "execution_count": null,
   "id": "8ed7d1eb-8e9c-4f46-bba8-0c3ac4c32b4c",
   "metadata": {},
   "outputs": [],
   "source": [
    "# Now try to get power in theta for whole session\n",
    "import neuropy.utils.signal_process as signal_process\n",
    "from scipy.ndimage import gaussian_filter1d\n",
    "channel_use = 55\n",
    "window = 10\n",
    "overlap = 5\n",
    "freq_band = (5, 12)\n",
    "thresh = (0.5, 2)\n",
    "sigma = 0.125\n",
    "\n",
    "signal_use = signal.time_slice(channel_id=channel_use).traces\n",
    "fs = signal.sampling_rate\n",
    "\n",
    "lf, hf = freq_band\n",
    "dt = 1 / fs\n",
    "smooth = lambda x: gaussian_filter1d(x, sigma=sigma / dt, axis=-1)\n",
    "lowthresh, highthresh = thresh\n",
    "\n",
    "# Because here one shank is selected per shank, based on visualization:\n",
    "# mean: very conservative in cases where some shanks may not have that strong ripple\n",
    "# max: works well but may have ocassional false positives\n",
    "power = np.zeros(signal_use.shape[1])\n",
    "for sig in signal_use:\n",
    "    yf = signal_process.filter_sig.bandpass(sig, lf=lf, hf=hf, fs=fs)\n",
    "    # zsc_chan = smooth(stats.zscore(np.abs(signal_process.hilbertfast(yf))))\n",
    "    # zscsignal[sig_i] = zsc_chan\n",
    "    power += np.abs(signal_process.hilbertfast(yf))\n",
    "\n",
    "# mean and smooth\n",
    "power = smooth(power / signal_use.shape[0])"
   ]
  },
  {
   "cell_type": "code",
   "execution_count": null,
   "id": "dac13e16-8501-4e0c-8485-1aea499e4f2d",
   "metadata": {},
   "outputs": [],
   "source": [
    "theta_epochs2.metadata"
   ]
  },
  {
   "cell_type": "code",
   "execution_count": null,
   "id": "f45a323a-5a84-4043-a11e-798276fcc366",
   "metadata": {},
   "outputs": [],
   "source": [
    "# Now plot these epochs for sanity checks\n",
    "%matplotlib widget\n",
    "_, ax = plt.subplots(2, 1, figsize=(12, 6), sharex=True)\n",
    "plot_signal_w_epochs(signal, channel_use, theta_epochs2, ax=ax[0])\n",
    "ax[0].set_title('Raw Signal with theta epochs')\n",
    "theta_power_sig = signal.time_slice(channel_id=channel_use)\n",
    "theta_power_sig.traces = theta_power[None, :]\n",
    "# theta_power_sig.traces = stats.zscore(power)[None, :]\n",
    "plot_signal_w_epochs(theta_power_sig, 0, theta_epochs2, ax=ax[1])\n",
    "ax[1].set_title('Theta power signal with theta epochs')\n",
    "ax[1].axhline(thresh[0], color='r', linestyle='--')\n",
    "ax[1].axhline(thresh[1], color='r', linestyle='--')"
   ]
  },
  {
   "cell_type": "code",
   "execution_count": null,
   "id": "0a1d264d-60b9-4a0e-8a3d-3f719e219f5d",
   "metadata": {},
   "outputs": [],
   "source": [
    "buffer = 1\n",
    "peri_start_power = []\n",
    "peri_stop_power = []\n",
    "for start, stop in zip(theta_epochs2.starts, theta_epochs2.stops):\n",
    "    start_bool = np.bitwise_and(signal.time > (start - buffer), signal.time < (start + buffer))\n",
    "    stop_bool = np.bitwise_and(signal.time > (stop - buffer), signal.time < (stop + buffer))\n",
    "    peri_start_power.append(theta_power[start_bool])\n",
    "    peri_stop_power.append(theta_power[stop_bool])"
   ]
  },
  {
   "cell_type": "code",
   "execution_count": null,
   "id": "86c9a107-1f33-4fd4-830f-26be797af771",
   "metadata": {},
   "outputs": [],
   "source": [
    "peri_start_power2 = [start_times if len(start_times) == int(buffer*2*1250) else np.nan*np.ones(int(buffer*2*1250)) for start_times in peri_start_power]\n",
    "peri_start_power2 = np.array(peri_start_power2)\n",
    "peri_start_power2 = peri_start_power2[~np.isnan(peri_start_power2).all(axis=1)]\n",
    "peri_stop_power2 = [stop_times if len(stop_times) == int(buffer*2*1250) else np.nan*np.ones(int(buffer*2*1250)) for stop_times in peri_stop_power]\n",
    "peri_stop_power2 = np.array(peri_stop_power2)\n",
    "peri_stop_power2 = peri_stop_power2[~np.isnan(peri_stop_power2).all(axis=1)]"
   ]
  },
  {
   "cell_type": "code",
   "execution_count": null,
   "id": "3635c714-19ed-4a4c-a231-47febbbf92ef",
   "metadata": {},
   "outputs": [],
   "source": [
    "# Sanity checks on theta power detection - looks great!\n",
    "_, ax = plt.subplots(1, 3, figsize=(8, 3), layout='tight')\n",
    "times = np.linspace(-buffer, buffer, int(fs*2*buffer))\n",
    "\n",
    "# Starts\n",
    "sns.heatmap(peri_start_power2, ax=ax[0], cbar_kws={'label': 'Theta power (z)'}, yticklabels=(len(peri_start_power2)-1),\n",
    "            xticklabels=(int(len(times)/2))-1)\n",
    "ax[0].set_xlabel('Time from theta start (s)')\n",
    "ax[0].set_xticklabels([-buffer, 0, buffer])\n",
    "ax[0].set_ylabel('Theta epoch #')\n",
    "# ax[0].\n",
    "\n",
    "# Stops\n",
    "sns.heatmap(peri_stop_power2, ax=ax[1], cbar_kws={'label': 'Theta power (z)'}, yticklabels=(len(peri_stop_power2)-1),\n",
    "            xticklabels=(int(len(times)/2))-1)\n",
    "ax[1].set_xlabel('Time from theta stop (s)')\n",
    "ax[1].set_xticklabels([-buffer, 0, buffer])\n",
    "ax[1].set_ylabel('Theta epoch #')\n",
    "\n",
    "# Means\n",
    "hstart = ax[2].plot(times, peri_start_power2.mean(axis=0), 'k-')\n",
    "hstop = ax[2].plot(times, peri_stop_power2.mean(axis=0), 'g--')\n",
    "ax[2].legend((hstart, hstop), ('Start', 'Stop'))\n",
    "ax[2].set_title('Mean theta power')\n",
    "ax[2].set_xlabel('Time from epoch start/stop (s)')\n",
    "ax[2].set_ylabel('Theta power (z)')"
   ]
  },
  {
   "cell_type": "markdown",
   "id": "76f196cd-3206-4f30-945c-63428ee69f61",
   "metadata": {},
   "source": [
    "Ok, seems like things are working well - nice peack in theta after onset and before offset,"
   ]
  },
  {
   "cell_type": "code",
   "execution_count": null,
   "id": "d9a0553e-dae0-481c-b898-c1b8626379f5",
   "metadata": {},
   "outputs": [],
   "source": [
    "_, ax = plt.subplots()\n",
    "\n",
    "sns.histplot(theta_epochs.durations, bins=100, stat='probability', cumulative=False, ax=ax)\n",
    "ax.set_title('Theta epochs')\n",
    "ax.set_xlabel('Theta epoch length (s)')"
   ]
  },
  {
   "cell_type": "markdown",
   "id": "d1f08bfb-a4fc-45ca-85b9-e1e894f848c7",
   "metadata": {},
   "source": [
    "# Import CS timestamps"
   ]
  },
  {
   "cell_type": "code",
   "execution_count": 31,
   "id": "162b6b3d-f200-4388-b17f-0ab764bee60f",
   "metadata": {},
   "outputs": [
    {
     "data": {
      "text/html": [
       "<div>\n",
       "<style scoped>\n",
       "    .dataframe tbody tr th:only-of-type {\n",
       "        vertical-align: middle;\n",
       "    }\n",
       "\n",
       "    .dataframe tbody tr th {\n",
       "        vertical-align: top;\n",
       "    }\n",
       "\n",
       "    .dataframe thead th {\n",
       "        text-align: right;\n",
       "    }\n",
       "</style>\n",
       "<table border=\"1\" class=\"dataframe\">\n",
       "  <thead>\n",
       "    <tr style=\"text-align: right;\">\n",
       "      <th></th>\n",
       "      <th>channel_states</th>\n",
       "      <th>timestamps</th>\n",
       "      <th>datetimes</th>\n",
       "      <th>event_name</th>\n",
       "    </tr>\n",
       "  </thead>\n",
       "  <tbody>\n",
       "    <tr>\n",
       "      <th>919</th>\n",
       "      <td>2</td>\n",
       "      <td>16856515</td>\n",
       "      <td>2023-03-10 12:39:11.883833333</td>\n",
       "      <td></td>\n",
       "    </tr>\n",
       "    <tr>\n",
       "      <th>1851</th>\n",
       "      <td>2</td>\n",
       "      <td>18737123</td>\n",
       "      <td>2023-03-10 12:40:14.570766667</td>\n",
       "      <td></td>\n",
       "    </tr>\n",
       "    <tr>\n",
       "      <th>2754</th>\n",
       "      <td>2</td>\n",
       "      <td>20557304</td>\n",
       "      <td>2023-03-10 12:41:15.243466667</td>\n",
       "      <td></td>\n",
       "    </tr>\n",
       "    <tr>\n",
       "      <th>3671</th>\n",
       "      <td>2</td>\n",
       "      <td>22407930</td>\n",
       "      <td>2023-03-10 12:42:16.931000000</td>\n",
       "      <td></td>\n",
       "    </tr>\n",
       "    <tr>\n",
       "      <th>4604</th>\n",
       "      <td>2</td>\n",
       "      <td>24288544</td>\n",
       "      <td>2023-03-10 12:43:19.618133333</td>\n",
       "      <td></td>\n",
       "    </tr>\n",
       "  </tbody>\n",
       "</table>\n",
       "</div>"
      ],
      "text/plain": [
       "      channel_states  timestamps                     datetimes event_name\n",
       "919                2    16856515 2023-03-10 12:39:11.883833333           \n",
       "1851               2    18737123 2023-03-10 12:40:14.570766667           \n",
       "2754               2    20557304 2023-03-10 12:41:15.243466667           \n",
       "3671               2    22407930 2023-03-10 12:42:16.931000000           \n",
       "4604               2    24288544 2023-03-10 12:43:19.618133333           "
      ]
     },
     "execution_count": 31,
     "metadata": {},
     "output_type": "execute_result"
    }
   ],
   "source": [
    "import neuropy.io.openephysio as oeio\n",
    "\n",
    "# Import TTLs for CS from OpenEphys\n",
    "ttl_df = oeio.load_all_ttl_events(sess.basepath)\n",
    "ttl_df[ttl_df['channel_states'] == 2].head(5)"
   ]
  },
  {
   "cell_type": "code",
   "execution_count": 32,
   "id": "40ed4639-7e95-420f-8f6d-1721c59dc8e9",
   "metadata": {},
   "outputs": [
    {
     "name": "stdout",
     "output_type": "stream",
     "text": [
      "22\n"
     ]
    },
    {
     "data": {
      "text/html": [
       "<div>\n",
       "<style scoped>\n",
       "    .dataframe tbody tr th:only-of-type {\n",
       "        vertical-align: middle;\n",
       "    }\n",
       "\n",
       "    .dataframe tbody tr th {\n",
       "        vertical-align: top;\n",
       "    }\n",
       "\n",
       "    .dataframe thead th {\n",
       "        text-align: right;\n",
       "    }\n",
       "</style>\n",
       "<table border=\"1\" class=\"dataframe\">\n",
       "  <thead>\n",
       "    <tr style=\"text-align: right;\">\n",
       "      <th></th>\n",
       "      <th>Time (s)</th>\n",
       "      <th>Event</th>\n",
       "      <th>Timestamp</th>\n",
       "    </tr>\n",
       "  </thead>\n",
       "  <tbody>\n",
       "    <tr>\n",
       "      <th>5</th>\n",
       "      <td>61.779992</td>\n",
       "      <td>CS1_start</td>\n",
       "      <td>2023-03-10 12:39:12.213177104</td>\n",
       "    </tr>\n",
       "    <tr>\n",
       "      <th>7</th>\n",
       "      <td>124.467165</td>\n",
       "      <td>CS2_start</td>\n",
       "      <td>2023-03-10 12:40:14.900350232</td>\n",
       "    </tr>\n",
       "    <tr>\n",
       "      <th>9</th>\n",
       "      <td>185.140091</td>\n",
       "      <td>CS3_start</td>\n",
       "      <td>2023-03-10 12:41:15.573275942</td>\n",
       "    </tr>\n",
       "    <tr>\n",
       "      <th>11</th>\n",
       "      <td>246.827830</td>\n",
       "      <td>CS4_start</td>\n",
       "      <td>2023-03-10 12:42:17.261015076</td>\n",
       "    </tr>\n",
       "    <tr>\n",
       "      <th>13</th>\n",
       "      <td>309.515002</td>\n",
       "      <td>CS5_start</td>\n",
       "      <td>2023-03-10 12:43:19.948187011</td>\n",
       "    </tr>\n",
       "  </tbody>\n",
       "</table>\n",
       "</div>"
      ],
      "text/plain": [
       "      Time (s)      Event                     Timestamp\n",
       "5    61.779992  CS1_start 2023-03-10 12:39:12.213177104\n",
       "7   124.467165  CS2_start 2023-03-10 12:40:14.900350232\n",
       "9   185.140091  CS3_start 2023-03-10 12:41:15.573275942\n",
       "11  246.827830  CS4_start 2023-03-10 12:42:17.261015076\n",
       "13  309.515002  CS5_start 2023-03-10 12:43:19.948187011"
      ]
     },
     "execution_count": 32,
     "metadata": {},
     "output_type": "execute_result"
    }
   ],
   "source": [
    "import tracefc.io.traceio as traceio\n",
    "cs_starts, cs_ends, cs_df = traceio.load_trace_events(sess.basepath, session_type=\"tone_recall\", event_type=\"CS+\",\n",
    "                                                      return_df=True)\n",
    "print(cs_starts.shape[0])\n",
    "cs_starts.head(5)"
   ]
  },
  {
   "cell_type": "code",
   "execution_count": 33,
   "id": "1240f191-21a5-4248-a2ae-7be0b87de164",
   "metadata": {},
   "outputs": [
    {
     "data": {
      "text/plain": [
       "Timedelta('0 days 00:00:00.330591522')"
      ]
     },
     "execution_count": 33,
     "metadata": {},
     "output_type": "execute_result"
    }
   ],
   "source": [
    "# Need to figure out a way to filter out/collect only the proper time stamps assuming things have a \n",
    "# +/- 1 second start difference in the CSV vs OpenEphys\n",
    "\n",
    "# Make below a function 'calc_cs_lag' in traceio module.\n",
    "start_diff = (ttl_df[ttl_df['channel_states'] == 2].head(15)['datetimes'] - cs_starts.head(15)['Timestamp'].values)\n",
    "start_diff_mean = pd.Timedelta(np.abs(start_diff.dt.total_seconds().mean()), unit='seconds')\n",
    "start_diff_mean"
   ]
  },
  {
   "cell_type": "code",
   "execution_count": 34,
   "id": "b937879b-1d20-47b3-ab0c-e074153f07eb",
   "metadata": {},
   "outputs": [],
   "source": [
    "def trace_ttl_to_openephys(trace_cs_df: pd.DataFrame, oe_ttls_df: pd.DataFrame, ttl_lag=pd.Timedelta(0.33, unit='seconds'), \n",
    "                           trace_ts_key='Timestamp', oe_ts_key='datetimes'):\n",
    "    \"\"\"Finds TTLs in OpenEphys that correspond to CS timestamps recorded from python in a CSV file, assuming a consistent\n",
    "    time lag from CS start to delivery in OpenEphys\n",
    "    ttl_lag: amount of time OE LAGS the csv in tracefc csv. Enter a negative number if lag is positive for some reason.\"\"\"\n",
    "\n",
    "    cs_bool = np.zeros(len(oe_ttls_df[oe_ts_key]), dtype=bool)\n",
    "    for event in trace_cs_df[trace_ts_key]:\n",
    "        cs_bool = cs_bool | ((oe_ttls_df[oe_ts_key] > (event - ttl_lag)) & (oe_ttls_df[oe_ts_key] < (event)))\n",
    "\n",
    "    return oe_ttls_df[cs_bool]"
   ]
  },
  {
   "cell_type": "code",
   "execution_count": 43,
   "id": "cd726591-2b5c-454d-a7c1-4f09c5a8e4b3",
   "metadata": {},
   "outputs": [
    {
     "data": {
      "text/plain": [
       "919      16856515\n",
       "1851     18737123\n",
       "2754     20557304\n",
       "3671     22407930\n",
       "4604     24288544\n",
       "5657     26413135\n",
       "6860     28842175\n",
       "7988     31118085\n",
       "9162     33486714\n",
       "10095    35367786\n",
       "11042    37278822\n",
       "11945    39099019\n",
       "12953    41132297\n",
       "14066    43378208\n",
       "15179    45624567\n",
       "17292    54382690\n",
       "18284    56385024\n",
       "19473    58783617\n",
       "20421    60695118\n",
       "21549    62971475\n",
       "17543    37221555\n",
       "18716    39589208\n",
       "Name: timestamps, dtype: int64"
      ]
     },
     "execution_count": 43,
     "metadata": {},
     "output_type": "execute_result"
    }
   ],
   "source": [
    "cs_oe_start_df['timestamps']"
   ]
  },
  {
   "cell_type": "code",
   "execution_count": 41,
   "id": "d435722d-ccaa-4746-b732-98cfc3ebc407",
   "metadata": {},
   "outputs": [],
   "source": [
    "# Grab CS times corresponding to OE timestamps\n",
    "cs_oe_start_df = trace_ttl_to_openephys(cs_starts, \n",
    "                                  ttl_df[ttl_df['channel_states'].abs() == 2], \n",
    "                                  ttl_lag=start_diff_mean*1.1)\n",
    "\n",
    "cs_oe_end_df = trace_ttl_to_openephys(cs_ends, \n",
    "                                  ttl_df[ttl_df['channel_states'].abs() == 2], \n",
    "                                  ttl_lag=start_diff_mean*1.1)"
   ]
  },
  {
   "cell_type": "code",
   "execution_count": 37,
   "id": "7287ef16-1bb5-4c5b-a3b0-bf299faa5343",
   "metadata": {},
   "outputs": [
    {
     "ename": "ValueError",
     "evalue": "need at least one array to concatenate",
     "output_type": "error",
     "traceback": [
      "\u001b[0;31m---------------------------------------------------------------------------\u001b[0m",
      "\u001b[0;31mValueError\u001b[0m                                Traceback (most recent call last)",
      "Cell \u001b[0;32mIn[37], line 2\u001b[0m\n\u001b[1;32m      1\u001b[0m \u001b[38;5;28;01mfrom\u001b[39;00m \u001b[38;5;21;01mneuropy\u001b[39;00m\u001b[38;5;21;01m.\u001b[39;00m\u001b[38;5;21;01mio\u001b[39;00m\u001b[38;5;21;01m.\u001b[39;00m\u001b[38;5;21;01mopenephysio\u001b[39;00m \u001b[38;5;28;01mimport\u001b[39;00m create_sync_df\n\u001b[0;32m----> 2\u001b[0m sync_df \u001b[38;5;241m=\u001b[39m \u001b[43mcreate_sync_df\u001b[49m\u001b[43m(\u001b[49m\u001b[43msess\u001b[49m\u001b[38;5;241;43m.\u001b[39;49m\u001b[43mbasepath\u001b[49m\u001b[43m)\u001b[49m\n\u001b[1;32m      3\u001b[0m sync_df\n",
      "File \u001b[0;32m~/Documents/UM/GitHub/NeuroPy/neuropy/io/openephysio.py:124\u001b[0m, in \u001b[0;36mcreate_sync_df\u001b[0;34m(basepath, sync, sr_dat, sr_eeg)\u001b[0m\n\u001b[1;32m    117\u001b[0m \u001b[38;5;28;01mdef\u001b[39;00m \u001b[38;5;21mcreate_sync_df\u001b[39m(\n\u001b[1;32m    118\u001b[0m     basepath: \u001b[38;5;28mstr\u001b[39m \u001b[38;5;129;01mor\u001b[39;00m Path, sync: \u001b[38;5;28mbool\u001b[39m \u001b[38;5;241m=\u001b[39m \u001b[38;5;28;01mFalse\u001b[39;00m, sr_dat\u001b[38;5;241m=\u001b[39m\u001b[38;5;241m30000\u001b[39m, sr_eeg\u001b[38;5;241m=\u001b[39m\u001b[38;5;241m1250\u001b[39m\n\u001b[1;32m    119\u001b[0m ):\n\u001b[1;32m    120\u001b[0m \u001b[38;5;250m    \u001b[39m\u001b[38;5;124;03m\"\"\"Create a dataframe with start and stop times of all recordings in a parent folder.\u001b[39;00m\n\u001b[1;32m    121\u001b[0m \u001b[38;5;124;03m    nframe_dat and nframe_eeg assumes the files have been concatenated into one file.\u001b[39;00m\n\u001b[1;32m    122\u001b[0m \u001b[38;5;124;03m    \"\"\"\u001b[39;00m\n\u001b[0;32m--> 124\u001b[0m     start_stop_df \u001b[38;5;241m=\u001b[39m \u001b[43mget_dat_timestamps\u001b[49m\u001b[43m(\u001b[49m\u001b[43mbasepath\u001b[49m\u001b[43m,\u001b[49m\u001b[43m \u001b[49m\u001b[43msync\u001b[49m\u001b[43m,\u001b[49m\u001b[43m \u001b[49m\u001b[43mstart_end_only\u001b[49m\u001b[38;5;241;43m=\u001b[39;49m\u001b[38;5;28;43;01mTrue\u001b[39;49;00m\u001b[43m)\u001b[49m\n\u001b[1;32m    126\u001b[0m     \u001b[38;5;66;03m# Calculate eeg frames\u001b[39;00m\n\u001b[1;32m    127\u001b[0m     nframe_eeg \u001b[38;5;241m=\u001b[39m (start_stop_df[\u001b[38;5;124m\"\u001b[39m\u001b[38;5;124mnframe_dat\u001b[39m\u001b[38;5;124m\"\u001b[39m] \u001b[38;5;241m/\u001b[39m (sr_dat \u001b[38;5;241m/\u001b[39m sr_eeg))\u001b[38;5;241m.\u001b[39mvalues\u001b[38;5;241m.\u001b[39mastype(\u001b[38;5;28mint\u001b[39m)\n",
      "File \u001b[0;32m~/Documents/UM/GitHub/NeuroPy/neuropy/io/openephysio.py:110\u001b[0m, in \u001b[0;36mget_dat_timestamps\u001b[0;34m(basepath, sync, start_end_only)\u001b[0m\n\u001b[1;32m    105\u001b[0m     \u001b[38;5;28;01mreturn\u001b[39;00m pd\u001b[38;5;241m.\u001b[39mconcat(timestamps)\n\u001b[1;32m    106\u001b[0m \u001b[38;5;28;01melse\u001b[39;00m:\n\u001b[1;32m    107\u001b[0m     \u001b[38;5;28;01mreturn\u001b[39;00m pd\u001b[38;5;241m.\u001b[39mDataFrame(\n\u001b[1;32m    108\u001b[0m         {\n\u001b[1;32m    109\u001b[0m             \u001b[38;5;124m\"\u001b[39m\u001b[38;5;124mRecording\u001b[39m\u001b[38;5;124m\"\u001b[39m: nrec,\n\u001b[0;32m--> 110\u001b[0m             \u001b[38;5;124m\"\u001b[39m\u001b[38;5;124mDatetime\u001b[39m\u001b[38;5;124m\"\u001b[39m: \u001b[43mnp\u001b[49m\u001b[38;5;241;43m.\u001b[39;49m\u001b[43mconcatenate\u001b[49m\u001b[43m(\u001b[49m\u001b[43mtimestamps\u001b[49m\u001b[43m)\u001b[49m\u001b[38;5;241m.\u001b[39mreshape(\u001b[38;5;241m-\u001b[39m\u001b[38;5;241m1\u001b[39m),\n\u001b[1;32m    111\u001b[0m             \u001b[38;5;124m\"\u001b[39m\u001b[38;5;124mCondition\u001b[39m\u001b[38;5;124m\"\u001b[39m: start_end_str,\n\u001b[1;32m    112\u001b[0m             \u001b[38;5;124m\"\u001b[39m\u001b[38;5;124mnframe_dat\u001b[39m\u001b[38;5;124m\"\u001b[39m: nframe_dat,\n\u001b[1;32m    113\u001b[0m         }\n\u001b[1;32m    114\u001b[0m     )\n",
      "\u001b[0;31mValueError\u001b[0m: need at least one array to concatenate"
     ]
    }
   ],
   "source": [
    "from neuropy.io.openephysio import create_sync_df\n",
    "sync_df = create_sync_df(sess.basepath)\n",
    "sync_df"
   ]
  },
  {
   "cell_type": "code",
   "execution_count": null,
   "id": "feb2a624-5095-467d-b47f-6073403f74fd",
   "metadata": {},
   "outputs": [],
   "source": [
    "from itertools import compress\n",
    "\n",
    "# Next, step through each row and figure out if it matches a starts/end\n",
    "cs_oe_starts = cs_oe_start_df['timestamps']/sess.recinfo.dat_sampling_rate\n",
    "cs_oe_ends = cs_oe_end_df['timestamps']/sess.recinfo.dat_sampling_rate\n",
    "\n",
    "buffer = 5\n",
    "cs_start_power = []\n",
    "cs_stop_power = []\n",
    "for start, stop in zip(cs_oe_starts, cs_oe_ends):\n",
    "    start_bool = np.bitwise_and(signal.time > (start - buffer), signal.time < (start + buffer))\n",
    "    stop_bool = np.bitwise_and(signal.time > (stop - buffer), signal.time < (stop + buffer))\n",
    "    cs_start_power.append(theta_power[start_bool])\n",
    "    cs_stop_power.append(theta_power[stop_bool])\n",
    "\n",
    "cs_start_power = np.array(list(compress(cs_start_power, [len(start) == int(buffer*2*1250) for start in cs_start_power])))\n",
    "cs_stop_power = np.array(list(compress(cs_stop_power, [len(stop) == int(buffer*2*1250) for stop in cs_stop_power])))"
   ]
  },
  {
   "cell_type": "code",
   "execution_count": null,
   "id": "bf53eef0-d124-47d5-8213-42989d55ec6f",
   "metadata": {},
   "outputs": [],
   "source": [
    "# Now plot theta power\n",
    "_, ax = plt.subplots(1, 3, figsize=(8, 3), layout='tight')\n",
    "times = np.linspace(-buffer, buffer, int(fs*2*buffer))\n",
    "\n",
    "# Starts\n",
    "sns.heatmap(cs_start_power, ax=ax[0], cbar_kws={'label': 'Theta power (z)'}, yticklabels=(len(peri_start_power2)-1),\n",
    "            xticklabels=(int(len(times)/2))-1)\n",
    "ax[0].set_xlabel('Time from CS+ start (s)')\n",
    "ax[0].set_xticklabels([-buffer, 0, buffer])\n",
    "ax[0].set_ylabel('CS+ #')\n",
    "# ax[0].\n",
    "\n",
    "# Stops\n",
    "sns.heatmap(cs_stop_power, ax=ax[1], cbar_kws={'label': 'Theta power (z)'}, yticklabels=(len(peri_stop_power2)-1),\n",
    "            xticklabels=(int(len(times)/2))-1)\n",
    "ax[1].set_xlabel('Time from CS+ stop (s)')\n",
    "ax[1].set_xticklabels([-buffer, 0, buffer])\n",
    "ax[1].set_ylabel('CS+ #')\n",
    "\n",
    "# Means\n",
    "hstart = ax[2].plot(times, cs_start_power.mean(axis=0), 'k-')\n",
    "hstop = ax[2].plot(times, cs_stop_power.mean(axis=0), 'g--')\n",
    "ax[2].legend((hstart, hstop), ('Start', 'Stop'))\n",
    "ax[2].set_title('Mean theta power')\n",
    "ax[2].set_xlabel('Time from CS+ start/stop (s)')\n",
    "ax[2].set_ylabel('Theta power (z)')"
   ]
  },
  {
   "cell_type": "code",
   "execution_count": null,
   "id": "e08804a5-7d21-4f8d-bfda-f9d075dedc79",
   "metadata": {},
   "outputs": [],
   "source": [
    "# Same for CS-\n",
    "csn_starts, csn_ends, csn_df = traceio.load_trace_events(sess.basepath, session_type=\"control_tone_recall\", event_type=\"CS-\",\n",
    "                                                      return_df=True)"
   ]
  },
  {
   "cell_type": "code",
   "execution_count": null,
   "id": "6d68829b-f820-40d9-a28f-bb03ec2e650d",
   "metadata": {},
   "outputs": [],
   "source": [
    "# Grab CS times corresponding to OE timestamps\n",
    "csn_oe_start_df = trace_ttl_to_openephys(csn_starts, \n",
    "                                  ttl_df[ttl_df['channel_states'].abs() == 2], \n",
    "                                  ttl_lag=start_diff_mean*1.1)\n",
    "\n",
    "csn_oe_end_df = trace_ttl_to_openephys(csn_ends, \n",
    "                                  ttl_df[ttl_df['channel_states'].abs() == 2], \n",
    "                                  ttl_lag=start_diff_mean*1.1)"
   ]
  },
  {
   "cell_type": "code",
   "execution_count": null,
   "id": "16123a7d-452e-46bf-9d10-8fd52fb591a8",
   "metadata": {},
   "outputs": [],
   "source": [
    "from itertools import compress\n",
    "\n",
    "# Next, step through each row and figure out if it matches a starts/end\n",
    "csn_oe_starts = csn_oe_start_df['timestamps']/sess.recinfo.dat_sampling_rate\n",
    "csn_oe_ends = csn_oe_end_df['timestamps']/sess.recinfo.dat_sampling_rate\n",
    "\n",
    "buffer = 5\n",
    "csn_start_power = []\n",
    "csn_stop_power = []\n",
    "for start, stop in zip(csn_oe_starts, csn_oe_ends):\n",
    "    start_bool = np.bitwise_and(signal.time > (start - buffer), signal.time < (start + buffer))\n",
    "    stop_bool = np.bitwise_and(signal.time > (stop - buffer), signal.time < (stop + buffer))\n",
    "    csn_start_power.append(theta_power[start_bool])\n",
    "    csn_stop_power.append(theta_power[stop_bool])\n",
    "\n",
    "csn_start_power = np.array(list(compress(csn_start_power, [len(start) == int(buffer*2*1250) for start in csn_start_power])))\n",
    "csn_stop_power = np.array(list(compress(csn_stop_power, [len(stop) == int(buffer*2*1250) for stop in csn_stop_power])))"
   ]
  },
  {
   "cell_type": "code",
   "execution_count": null,
   "id": "8abf0618-4b6e-4482-9d50-2fd7f28a19df",
   "metadata": {},
   "outputs": [],
   "source": [
    "# Now plot theta power\n",
    ", ax = plt.subplots(1, 3, figsize=(8, 3), layout='tight')\n",
    "times = np.linspace(-buffer, buffer, int(fs*2*buffer))\n",
    "\n",
    "# Starts\n",
    "sns.heatmap(csn_start_power, ax=ax[0], cbar_kws={'label': 'Theta power (z)'}, yticklabels=(len(csn_start_power)-1),\n",
    "            xticklabels=(int(len(times)/2))-1)\n",
    "ax[0].set_xlabel('Time from CS- start (s)')\n",
    "ax[0].set_xticklabels([-buffer, 0, buffer])\n",
    "ax[0].set_ylabel('CS- #')\n",
    "# ax[0].\n",
    "\n",
    "# Stops\n",
    "sns.heatmap(csn_stop_power, ax=ax[1], cbar_kws={'label': 'Theta power (z)'}, yticklabels=(len(csn_stop_power)-1),\n",
    "            xticklabels=(int(len(times)/2))-1)\n",
    "ax[1].set_xlabel('Time from CS- stop (s)')\n",
    "ax[1].set_xticklabels([-buffer, 0, buffer])\n",
    "ax[1].set_ylabel('CS- #')\n",
    "\n",
    "# Means\n",
    "hstart = ax[2].plot(times, csn_start_power.mean(axis=0), 'k-')\n",
    "hstop = ax[2].plot(times, csn_stop_power.mean(axis=0), 'g--')\n",
    "ax[2].legend((hstart, hstop), ('Start', 'Stop'))\n",
    "ax[2].set_title('Mean theta power')\n",
    "ax[2].set_xlabel('Time from CS- start/stop (s)')\n",
    "ax[2].set_ylabel('Theta power (z)')"
   ]
  },
  {
   "cell_type": "code",
   "execution_count": null,
   "id": "6bda74c6-5424-4651-b29b-193260110b1e",
   "metadata": {},
   "outputs": [],
   "source": []
  },
  {
   "cell_type": "markdown",
   "id": "49ea220d-1fa1-4737-9665-3e6f66782f15",
   "metadata": {},
   "source": [
    "# Detect Population Burst Events"
   ]
  },
  {
   "cell_type": "code",
   "execution_count": null,
   "id": "18f15b4b-88bc-44ab-83a0-bbf784cad6e7",
   "metadata": {},
   "outputs": [],
   "source": [
    "# 1) Detect MUA.\n",
    "\n",
    "# 1a) Load in neuron spiketrains from phy\n",
    "from neuropy.io.phyio import PhyIO\n",
    "dirname = Path('/data3/Trace_FC/Recording_Rats/Django/2023_03_10_recall2/spyk-circ/Django_recall2_denoised/Django_recall2_denoised-merged.GUI')\n",
    "phy = PhyIO(dirname)\n",
    "\n",
    "# 1b) Convert spiketrains to Neurons class\n",
    "from neuropy.core.neurons import Neurons\n",
    "neurons = Neurons(phy.spiketrains, sess.eegfile.duration)\n",
    "# 1c) Convert Neurons class data to MUA class\n",
    "mua = neurons.get_mua(bin_size=0.05)\n",
    "\n",
    "# 2) Run PBE detection.\n",
    "from neuropy.analyses.spkepochs import detect_pbe_epochs\n",
    "pbe_epochs = detect_pbe_epochs(mua)\n",
    "\n",
    "# 3) Export to neuroscope\n",
    "type(pbe_epochs)\n",
    "sess.recinfo.write_epochs(pbe_epochs, ext = \"pbe\")\n"
   ]
  },
  {
   "cell_type": "code",
   "execution_count": null,
   "id": "82d46435-3eaf-4a7b-93aa-63a8403d8d48",
   "metadata": {},
   "outputs": [],
   "source": [
    "pbe_epochs"
   ]
  },
  {
   "cell_type": "code",
   "execution_count": null,
   "id": "b77d84f1-541b-47aa-bd23-377c31f01cbd",
   "metadata": {},
   "outputs": [],
   "source": [
    "%matplotlib inline\n",
    "_, ax = plt.subplots()\n",
    "\n",
    "ax.plot(mua.firing_rate)"
   ]
  },
  {
   "cell_type": "code",
   "execution_count": null,
   "id": "2a20a61a-7f2d-47de-9c36-153ae1083d24",
   "metadata": {},
   "outputs": [],
   "source": [
    "dirname / \"spike_trains.npy\""
   ]
  },
  {
   "cell_type": "code",
   "execution_count": null,
   "id": "9d6a3e60",
   "metadata": {},
   "outputs": [],
   "source": [
    "sess.pyr_neurons.spiketrains[1]"
   ]
  },
  {
   "cell_type": "markdown",
   "id": "2481786a-28b1-4dd6-8d80-5bcb8f977818",
   "metadata": {},
   "source": [
    "# Load in neurons to Neuroscope"
   ]
  },
  {
   "cell_type": "code",
   "execution_count": null,
   "id": "55b6f76b",
   "metadata": {},
   "outputs": [],
   "source": [
    "# Read in event timestamps\n",
    "session_type = 'tone_recall'\n",
    "\n",
    "from neuropy.io.openephysio import load_all_ttl_events, get_dat_timestamps\n",
    "events_df = load_all_ttl_events(sorted(sess.basepath.glob(f\"**/*{session_type}\"))[0])\n",
    "dat_timestamps = get_dat_timestamps(sess.basepath)"
   ]
  },
  {
   "cell_type": "code",
   "execution_count": null,
   "id": "c6e0fa62",
   "metadata": {},
   "outputs": [],
   "source": [
    "dat_times_zeroed = (dat_timestamps - dat_timestamps.iloc[0])[0].dt.total_seconds().to_numpy()"
   ]
  },
  {
   "cell_type": "code",
   "execution_count": null,
   "id": "f6a088f0",
   "metadata": {},
   "outputs": [],
   "source": [
    "CStimes_zeroed = [(CSon - dat_timestamps.iloc[0]).dt.total_seconds()[0] for CSon in CSon_times]"
   ]
  },
  {
   "cell_type": "code",
   "execution_count": null,
   "id": "0b4103ea",
   "metadata": {},
   "outputs": [],
   "source": []
  },
  {
   "cell_type": "code",
   "execution_count": null,
   "id": "4c5beeb7",
   "metadata": {},
   "outputs": [],
   "source": [
    "tbefore = 10\n",
    "tafter = 40\n",
    "CSon_tstamps = (events_df[events_df[\"channel_states\"] == 2]['datetimes'] - dat_timestamps.iloc[0])\n",
    "CSon_times = events_df[events_df[\"channel_states\"] == 2]['datetimes']\n",
    "CSon_times"
   ]
  },
  {
   "cell_type": "code",
   "execution_count": null,
   "id": "c88e8ebd",
   "metadata": {},
   "outputs": [],
   "source": [
    "def PSTH(neurons: Neurons, neuron_id, times_zeroed, tbefore=10, tafter=40, ax=None):\n",
    "    \"\"\"Plot peri-stimulus raster\"\"\"\n",
    "    \n",
    "    # Grab appropriate neuron's spike times and pre-allocate\n",
    "    spiketimes = neurons.spiketrains[neuron]\n",
    "    ps_spike_times = []\n",
    "    \n",
    "    # Build up peri-stimulus spike times\n",
    "    for stim_start in times_zeroed:\n",
    "        trial_bool = np.bitwise_and(spiketimes > (stim_start - tbefore), spiketimes < (stim_start + tafter))\n",
    "        ps_spike_times.append(spiketimes[trial_bool] - stim_start)\n",
    "    \n",
    "    # Send to Neurons class for easy manipulation and plotting\n",
    "    rast = Neurons(ps_spike_times, t_start=-tbefore, t_stop=tafter, sampling_rate=1)\n",
    "    \n",
    "    # Plot raster\n",
    "    ax = plot_raster(rast, ax=ax)\n",
    "    \n",
    "    return rast, ax"
   ]
  },
  {
   "cell_type": "code",
   "execution_count": null,
   "id": "6fb03132",
   "metadata": {},
   "outputs": [],
   "source": [
    "def CS_PSTH(neurons, neuron_id, times_zeroed, tbefore=10, tafter=40, CSdur=10, USlag=30, \n",
    "            CStype='CS+' in ['CS+', 'CS-'], training=False, ax=None):\n",
    "    \"\"\"Plots peri-stimulus time histogram for each CS with colors overlaid for CS duration\n",
    "    and US lag\"\"\"\n",
    "    \n",
    "    # Plot raster\n",
    "    rast, ax = PSTH(neurons, neuron_id, times_zeroed, tbefore=tbefore, tafter=tafter, ax=ax)\n",
    "    \n",
    "    # Add in colors for CS duration\n",
    "    assert CStype in ['CS+', 'CS-']\n",
    "    if CStype == 'CS+':\n",
    "        CScolor = [1, 0.647, 0, 0.3]\n",
    "    else:\n",
    "        CScolor = [0, 1, 0, 0.3]\n",
    "    ax.axvspan(0, CSdur, color=CScolor)\n",
    "    \n",
    "    # Add in US line\n",
    "    linetype = '-' if training else '--'\n",
    "    ax.axvline(USlag, linestyle=linetype, color='r')\n",
    "    \n",
    "    return rast, ax"
   ]
  },
  {
   "cell_type": "code",
   "execution_count": null,
   "id": "a73ff3ee",
   "metadata": {},
   "outputs": [],
   "source": [
    "for "
   ]
  },
  {
   "cell_type": "code",
   "execution_count": null,
   "id": "462cce03",
   "metadata": {},
   "outputs": [],
   "source": [
    "pyr_ind = np.where([ neuron in [1, 2, 3] for neuron in sess.pyr_neurons.neuron_type])[0]\n",
    "np.ceil(len(pyr_ind)/3).astype(int)"
   ]
  },
  {
   "cell_type": "code",
   "execution_count": null,
   "id": "d43e4782",
   "metadata": {},
   "outputs": [],
   "source": [
    "binned_sp = rast.get_binned_spiketrains(bin_size=0.5)"
   ]
  },
  {
   "cell_type": "code",
   "execution_count": null,
   "id": "bc0fd9e1",
   "metadata": {},
   "outputs": [],
   "source": [
    "binned_sp.spike_counts.mean(axis=0)"
   ]
  },
  {
   "cell_type": "code",
   "execution_count": null,
   "id": "fd75217c",
   "metadata": {},
   "outputs": [],
   "source": [
    "from neuropy.plotting.spikes import plot_firing_rate\n",
    "rast, ax = PSTH(sess.pyr_neurons, 0, CStimes_zeroed)\n",
    "plot_firing_rate(rast, bin_size=0.5, stacked=True)"
   ]
  },
  {
   "cell_type": "code",
   "execution_count": null,
   "id": "b848080d",
   "metadata": {},
   "outputs": [],
   "source": [
    "ncols = 3\n",
    "\n",
    "# Pyramidal neurons\n",
    "pyr_ind = np.where([ neuron in [1, 2, 3] for neuron in sess.pyr_neurons.neuron_type])[0]\n",
    "fig, ax = plt.subplots(np.ceil(len(pyr_ind)/ncols).astype(int), ncols)\n",
    "fig.set_size_inches(10, 3*np.ceil(len(pyr_ind)/ncols).astype(int))\n",
    "fig.suptitle('Pyr neurons')\n",
    "\n",
    "for a, neuron in zip(ax.reshape(-1), pyr_ind):\n",
    "    CS_PSTH(sess.pyr_neurons, neuron, CStimes_zeroed, CStype='CS+', ax=a)\n",
    "\n",
    "# MUA\n",
    "mua_ind = np.where(sess.pyr_neurons.neuron_type == 6)[0]\n",
    "fig, ax = plt.subplots(np.ceil(len(mua_ind)/ncols).astype(int), ncols)\n",
    "fig.set_size_inches(10, 3*np.ceil(len(mua_ind)/ncols).astype(int))\n",
    "fig.suptitle('MUA')\n",
    "\n",
    "for a, neuron in zip(ax.reshape(-1), mua_ind):\n",
    "    CS_PSTH(sess.pyr_neurons, neuron, CStimes_zeroed, CStype='CS+', ax=a)\n",
    "    \n",
    "# Interneurons\n",
    "int_ind = np.where(sess.pyr_neurons.neuron_type == 8)[0]\n",
    "fig, ax = plt.subplots(np.ceil(len(int_ind)/ncols).astype(int), ncols)\n",
    "fig.set_size_inches(10, 3*np.ceil(len(int_ind)/ncols).astype(int))\n",
    "fig.suptitle('Interneurons')\n",
    "\n",
    "for a, neuron in zip(ax.reshape(-1), int_ind):\n",
    "    CS_PSTH(sess.pyr_neurons, neuron, CStimes_zeroed, CStype='CS+', ax=a)"
   ]
  },
  {
   "cell_type": "code",
   "execution_count": null,
   "id": "0a8addba",
   "metadata": {},
   "outputs": [],
   "source": [
    "ax.figure.get_size_inches()"
   ]
  },
  {
   "cell_type": "code",
   "execution_count": null,
   "id": "e349b234",
   "metadata": {},
   "outputs": [],
   "source": [
    "sess.pyr_neurons.neuron_type"
   ]
  },
  {
   "cell_type": "code",
   "execution_count": null,
   "id": "6cf16e13",
   "metadata": {},
   "outputs": [],
   "source": [
    "# Super slow!!!\n",
    "neuron = 3\n",
    "spiketimes = sess.pyr_neurons.spiketrains[neuron]\n",
    "raster = []\n",
    "for CSon in CStimes_zeroed:\n",
    "    trial_bool = np.bitwise_and(spiketimes > (CSon - tbefore), spiketimes < (CSon + tafter))\n",
    "    raster.append(spiketimes[trial_bool] - CSon)"
   ]
  },
  {
   "cell_type": "code",
   "execution_count": null,
   "id": "b38dd159",
   "metadata": {},
   "outputs": [],
   "source": [
    "rast1 = Neurons(raster, t_start=-tbefore, t_stop=tafter, sampling_rate=1)"
   ]
  },
  {
   "cell_type": "code",
   "execution_count": null,
   "id": "6d4a67aa",
   "metadata": {},
   "outputs": [],
   "source": [
    "plot_raster(rast1)"
   ]
  },
  {
   "cell_type": "code",
   "execution_count": null,
   "id": "971d0874",
   "metadata": {},
   "outputs": [],
   "source": [
    "events_df[events_df[\"channel_states\"].abs() == 2]"
   ]
  },
  {
   "cell_type": "markdown",
   "id": "7c09f6e1",
   "metadata": {},
   "source": [
    "Calculate MUA"
   ]
  },
  {
   "cell_type": "code",
   "execution_count": null,
   "id": "04146358",
   "metadata": {},
   "outputs": [],
   "source": [
    "sess.mua = sess.pyr_neurons.get_mua(bin_size=0.05)"
   ]
  },
  {
   "cell_type": "markdown",
   "id": "d712b9e4",
   "metadata": {},
   "source": [
    "Import curated ripple data"
   ]
  },
  {
   "cell_type": "code",
   "execution_count": null,
   "id": "c4f72add",
   "metadata": {},
   "outputs": [],
   "source": [
    "from neuropy.core.epoch import Epoch\n",
    "sess.ripple = Epoch(epochs=None, file=sess.filePrefix.with_suffix('.ripple_curated.npy'))"
   ]
  },
  {
   "cell_type": "code",
   "execution_count": null,
   "id": "59c1fab1",
   "metadata": {},
   "outputs": [],
   "source": [
    "a = sess.ripple.to_dataframe()"
   ]
  },
  {
   "cell_type": "markdown",
   "id": "b842b7e5",
   "metadata": {},
   "source": [
    "# Detect ripples and theta"
   ]
  },
  {
   "cell_type": "markdown",
   "id": "23afaeec",
   "metadata": {},
   "source": [
    "NRK - try running this with a) more aggressive artifact filter and b) selecting a better ripple channel and c) adding in a sharpwave channel too  \n",
    "  \n",
    "Also, need to run spyking-circus with median filter AND on different session - maybe less noisy/better with different preamp?"
   ]
  },
  {
   "cell_type": "code",
   "execution_count": null,
   "id": "0f9de848",
   "metadata": {},
   "outputs": [],
   "source": [
    "from neuropy.core.epoch import Epoch\n",
    "art_epochs = Epoch(epochs=None, file=sess.filePrefix.with_suffix('.art_epochs.npy'))"
   ]
  },
  {
   "cell_type": "code",
   "execution_count": null,
   "id": "2002d8c5",
   "metadata": {},
   "outputs": [],
   "source": [
    "from neuropy.utils import signal_process\n",
    "pyr_ch = 57\n",
    "sw_ch = 84\n",
    "signal = sess.eegfile.get_signal()\n",
    "yripple = signal_process.filter_sig.bandpass(signal.traces[pyr_ch], 150, 250, 1250)\n",
    "ysw = signal_process.filter_sig.bandpass(signal.traces[sw_ch], 2, 50, 1250)"
   ]
  },
  {
   "cell_type": "code",
   "execution_count": null,
   "id": "a0c23aec",
   "metadata": {},
   "outputs": [],
   "source": [
    "import scipy.stats as stats\n",
    "zsc_ripple = stats.zscore(np.abs(signal_process.hilbertfast(yripple)))\n",
    "zsc_sw = stats.zscore(np.abs(signal_process.hilbertfast(ysw)))"
   ]
  },
  {
   "cell_type": "code",
   "execution_count": null,
   "id": "d1383027",
   "metadata": {
    "scrolled": true
   },
   "outputs": [],
   "source": [
    "from neuropy.analyses import oscillations\n",
    "signal = sess.eegfile.get_signal()\n",
    "# old method\n",
    "# ripple_epochs = oscillations.detect_ripple_epochs(signal, sess.prbgrp, thresh=(1, 3),\n",
    "#                                                   ignore_epochs=art_epochs, mindur=0.025)\n",
    "\n",
    "# new method\n",
    "ripple_epochs = oscillations.detect_ripple_epochs(signal, sess.prbgrp, thresh=(4, None), \n",
    "                                                  ripple_channel=pyr_ch,\n",
    "                                                  ignore_epochs=art_epochs, mindur=0.1)\n",
    "ripple_epochs.source_file = sess.filePrefix.with_suffix(\".ripple.npy\")\n",
    "sess.ripple_epochs = ripple_epochs\n",
    "sess.recinfo.write_epochs(sess.ripple_epochs, 'swr')\n",
    "sess.ripple_epochs.save(sess.filePrefix.with_suffix('.ripple.npy'))"
   ]
  },
  {
   "cell_type": "code",
   "execution_count": null,
   "id": "919282d5",
   "metadata": {},
   "outputs": [],
   "source": [
    "sw_epochs = oscillations.detect_sharpwave_epochs(signal, sess.prbgrp, thresh=(4, None),\n",
    "                                                 edge_cutoff=1.5, ignore_epochs=art_epochs,\n",
    "                                                 sharpwave_channel=12)"
   ]
  },
  {
   "cell_type": "code",
   "execution_count": null,
   "id": "e7e08d8f",
   "metadata": {},
   "outputs": [],
   "source": [
    "# sw_epochs.source_file = sess.filePrefix.with_suffix(\".sharpwave.npy\")\n",
    "sess.recinfo.write_epochs(sw_epochs, 'swv')\n",
    "sess.sw_epochs = sw_epochs\n",
    "sess.sw_epochs.save(sess.filePrefix.with_suffix('.ripple.npy'))"
   ]
  },
  {
   "cell_type": "code",
   "execution_count": null,
   "id": "98e8288b",
   "metadata": {},
   "outputs": [],
   "source": [
    "%matplotlib notebook\n",
    "plot_artifact = False\n",
    "plot_sw = True\n",
    "fig, ax = plt.subplots()\n",
    "# ax.plot(np.arange(len(yripple))/1250, yripple)\n",
    "ax.plot(np.arange(len(yripple))/1250, zsc_ripple)\n",
    "ax.set_xlabel('Time (sec)')\n",
    "# ax.plot(np.arange(len(ysw))/1250, zsc_sw, '--')\n",
    "h, legend_text = [], []\n",
    "if plot_artifact:\n",
    "    for ind, epoch in art_epochs._epochs.iterrows():\n",
    "        hart = ax.axvspan(epoch['start'], epoch['stop'], color=[0, 1, 0, 0.3])\n",
    "    h.append(hart)\n",
    "    legend_text.append('Artifact')\n",
    "    \n",
    "for ind, epoch in ripple_epochs._epochs.iterrows():\n",
    "    hswr = ax.axvspan(epoch['start'], epoch['stop'], color=[1, 0, 0, 0.3])\n",
    "h.append(hswr)\n",
    "legend_text.append('Ripple')\n",
    "    \n",
    "if plot_sw:\n",
    "    for ind, epoch in sw_epochs._epochs.iterrows():\n",
    "        hswv = ax.axvspan(epoch['start'], epoch['stop'], color=[0.5, 0.5, 0, 0.3])\n",
    "    h.append(hswv)\n",
    "    legend_text.append('Sharp Wave')\n",
    "\n",
    "plt.legend(h, legend_text)\n",
    "# ax.set_xlim([2922.8, 2924.2])"
   ]
  },
  {
   "cell_type": "markdown",
   "id": "c6af3751",
   "metadata": {},
   "source": [
    "### Combine epochs and get power in both bands across events and then plot and run k-means"
   ]
  },
  {
   "cell_type": "code",
   "execution_count": null,
   "id": "46b7ea7c",
   "metadata": {
    "scrolled": true
   },
   "outputs": [],
   "source": [
    "# Ok, combine epochs and then get power in both bands across al\n",
    "# candidate events\n",
    "comb_epochs = pd.concat((ripple_epochs.to_dataframe(), \n",
    "                         sw_epochs.to_dataframe()))\n",
    "candidate_bool = np.zeros(sess.eegfile.n_frames, dtype=bool)\n",
    "SR = sess.eegfile.sampling_rate\n",
    "\n",
    "for idr, epoch in comb_epochs.iterrows():\n",
    "    start_frame = int(epoch['start'] * SR)\n",
    "    end_frame = int(epoch['stop'] * SR)\n",
    "    candidate_bool[start_frame:end_frame] = True\n",
    "\n",
    "candidate_bool = np.concatenate(([0], candidate_bool))\n",
    "cand_diff = np.diff(candidate_bool)\n",
    "cand_start = np.where(cand_diff == 1)[0]\n",
    "cand_end = np.where(cand_diff == -1)[0]\n",
    "epochs_array = np.vstack((cand_start, cand_end)).T.astype(int)\n",
    "cand_epochs = pd.DataFrame(\n",
    "            {\"start\": epochs_array[:, 0], \"stop\": epochs_array[:, 1], \"label\": \"\"}\n",
    "        )"
   ]
  },
  {
   "cell_type": "code",
   "execution_count": null,
   "id": "a2cb4c98",
   "metadata": {
    "scrolled": true
   },
   "outputs": [],
   "source": [
    "from neuropy.utils import signal_process\n",
    "import scipy.stats as stats\n",
    "pyr_ch = 24\n",
    "sw_ch = 31\n",
    "signal = sess.eegfile.get_signal()\n",
    "yripple = signal_process.filter_sig.bandpass(signal.traces[pyr_ch], 150, 250, 1250)\n",
    "ysw = signal_process.filter_sig.bandpass(signal.traces[sw_ch], 2, 50, 1250)\n",
    "zsc_ripple = stats.zscore(np.abs(signal_process.hilbertfast(yripple)))\n",
    "zsc_sw = stats.zscore(np.abs(signal_process.hilbertfast(ysw)))"
   ]
  },
  {
   "cell_type": "code",
   "execution_count": null,
   "id": "107ab974",
   "metadata": {},
   "outputs": [],
   "source": [
    "sw_power, ripple_power = [], []\n",
    "for idr, row in cand_epochs.iterrows():\n",
    "    start = row['start']\n",
    "    end = row['stop']\n",
    "    ripple_z = zsc_ripple[start:end]\n",
    "    ripple_power.append([ripple_z.mean(), ripple_z.max()])\n",
    "    \n",
    "    sw_z = zsc_sw[start:end]\n",
    "    sw_power.append([sw_z.mean(), sw_z.max()])\n",
    "\n",
    "ripple_power = np.asarray(ripple_power)\n",
    "sw_power = np.asarray(sw_power)"
   ]
  },
  {
   "cell_type": "code",
   "execution_count": null,
   "id": "1c6302dd",
   "metadata": {},
   "outputs": [],
   "source": [
    "from sklearn.cluster import KMeans\n",
    "mean_features = np.vstack((sw_power[:,0], ripple_power[:, 0])).T\n",
    "max_features = np.vstack((sw_power[:,1], ripple_power[:, 1])).T\n",
    "kmeans = KMeans(n_clusters=3, random_state=0).fit(max_features)"
   ]
  },
  {
   "cell_type": "code",
   "execution_count": null,
   "id": "2264dc9a",
   "metadata": {
    "scrolled": true
   },
   "outputs": [],
   "source": [
    "fig, ax = plt.subplots(1, 2, figsize=(8,3))\n",
    "n_clusters = 3\n",
    "for ida, (a, title) in enumerate(zip(ax, ['Mean', 'Max'])):\n",
    "    features = np.vstack((sw_power[:,ida], ripple_power[:, ida])).T\n",
    "    kmeans = KMeans(n_clusters=n_clusters, random_state=0).fit(features)\n",
    "    for feat_id in np.unique(kmeans.labels_):\n",
    "        feat_bool = feat_id == kmeans.labels_\n",
    "        sns.scatterplot(x=features[feat_bool, 0], y=features[feat_bool, 1], \n",
    "                        ax=a, size=3, alpha=0.5)\n",
    "    a.set_title(title + ' Epoch Power')\n",
    "    a.set_xlabel('SW z-score')\n",
    "    a.set_ylabel('Ripple z-score')\n",
    "    a.legend([])\n",
    "                                 "
   ]
  },
  {
   "cell_type": "code",
   "execution_count": null,
   "id": "06dccb17",
   "metadata": {},
   "outputs": [],
   "source": [
    "ext='test'\n",
    "ripple_epochs.filename.with_suffix(f\".evt.{ext}\")"
   ]
  },
  {
   "cell_type": "code",
   "execution_count": null,
   "id": "75c329ea",
   "metadata": {},
   "outputs": [],
   "source": [
    "# NRK debug this!\n",
    "sess.ripple_epochs.epochs = sess.ripple_epochs.to_dataframe()\n",
    "NeuroscopeIO.write_epochs(sess.ripple_epochs, 'swr')"
   ]
  },
  {
   "cell_type": "code",
   "execution_count": null,
   "id": "e18882bc",
   "metadata": {},
   "outputs": [],
   "source": [
    "sw_epochs.to_dataframe()"
   ]
  },
  {
   "cell_type": "markdown",
   "id": "8a16ac39",
   "metadata": {},
   "source": [
    "# Ok, now write code to step through each ripple event and ok it by hand - should go super fast!!"
   ]
  },
  {
   "cell_type": "code",
   "execution_count": null,
   "id": "dbf79723-a8a2-490f-ac05-4cde392cd3a3",
   "metadata": {},
   "outputs": [],
   "source": []
  },
  {
   "cell_type": "code",
   "execution_count": null,
   "id": "58c48de0-8bda-4cad-96ec-26901596aff3",
   "metadata": {},
   "outputs": [],
   "source": []
  }
 ],
 "metadata": {
  "kernelspec": {
   "display_name": "Python 3 (ipykernel)",
   "language": "python",
   "name": "python3"
  },
  "language_info": {
   "codemirror_mode": {
    "name": "ipython",
    "version": 3
   },
   "file_extension": ".py",
   "mimetype": "text/x-python",
   "name": "python",
   "nbconvert_exporter": "python",
   "pygments_lexer": "ipython3",
   "version": "3.11.5"
  }
 },
 "nbformat": 4,
 "nbformat_minor": 5
}
