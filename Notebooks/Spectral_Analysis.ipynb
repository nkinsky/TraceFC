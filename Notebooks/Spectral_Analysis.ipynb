{
 "cells": [
  {
   "cell_type": "code",
   "execution_count": 4,
   "id": "1c62d5e2",
   "metadata": {},
   "outputs": [
    {
     "name": "stdout",
     "output_type": "stream",
     "text": [
      "The autoreload extension is already loaded. To reload it, use:\n",
      "  %reload_ext autoreload\n"
     ]
    }
   ],
   "source": [
    "# Import all the functions you need\n",
    "%load_ext autoreload\n",
    "%autoreload 2\n",
    "\n",
    "import numpy as np\n",
    "import matplotlib.pyplot as plt\n",
    "import seaborn as sns\n",
    "import pandas as pd\n",
    "import sys\n",
    "import os\n",
    "from pathlib import Path\n",
    "import platform\n",
    "\n",
    "# Comment here to add in for either mac or linux computer\n",
    "if platform.system() == \"Linux\":   # for linux\n",
    "    sys.path.extend(['/data/GitHub/NeuroPy']) \n",
    "    sys.path.extend(['/data/GitHub/TraceFC/'])\n",
    "elif platform.system() == \"Darwin\":\n",
    "    sys.path.extend(['/Users/nkinsky/Documents/UM/GitHub/NeuroPy'])\n",
    "    sys.path.extend(['/Users/nkinsky/Documents/UM/GitHub/TraceFC'])\n",
    "elif platform.system() == \"Windows\":\n",
    "    print('No windows repositories defined')\n",
    "\n",
    "from neuropy import core\n",
    "from neuropy.io import (optitrackio,\n",
    "                        dlcio,\n",
    "                        )\n",
    "from neuropy.io.neuroscopeio import NeuroscopeIO\n",
    "from neuropy.io.binarysignalio import BinarysignalIO \n",
    "from neuropy.io.miniscopeio import MiniscopeIO\n",
    "from neuropy.core import Epoch\n",
    "from neuropy.utils import plot_util\n",
    "from neuropy.utils.signal_process import WaveletSg\n",
    "from neuropy.plotting.spikes import plot_raster, plot_binned_raster\n",
    "from neuropy.plotting.signals import plot_signal_w_epochs, plot_spectrogram\n",
    "\n",
    "from tracefc.io.session_directory import get_session_dir\n"
   ]
  },
  {
   "cell_type": "code",
   "execution_count": 5,
   "id": "d4a72eaf",
   "metadata": {},
   "outputs": [],
   "source": [
    "# Define a class for a typical recording or set of recordings\n",
    "class ProcessData:\n",
    "    def __init__(self, basepath):\n",
    "        basepath = Path(basepath)\n",
    "        self.basepath = basepath\n",
    "        xml_files = sorted(basepath.glob(\"*.xml\"))\n",
    "        assert len(xml_files) == 1, \"Found more than one .xml file\"\n",
    "        \n",
    "        fp = xml_files[0].with_suffix(\"\")\n",
    "        self.filePrefix = fp\n",
    "        \n",
    "        self.recinfo = NeuroscopeIO(xml_files[0])\n",
    "        eegfiles = sorted(basepath.glob('*.eeg'))\n",
    "        assert len(eegfiles) == 1, \"Fewer/more than one .eeg file detected\"\n",
    "        self.eegfile = BinarysignalIO(eegfiles[0], n_channels=self.recinfo.n_channels,\n",
    "                                     sampling_rate=self.recinfo.eeg_sampling_rate,\n",
    "                                     )\n",
    "        try:\n",
    "            self.datfile = BinarysignalIO(eegfiles[0].with_suffix('.dat'),\n",
    "                                         n_channels=self.recinfo.n_channels,\n",
    "                                         sampling_rate=self.recinfo.dat_sampling_rate,\n",
    "                                         )\n",
    "        except FileNotFoundError:\n",
    "            print('No dat file found, not loading')\n",
    "                \n",
    "        \n",
    "    def __repr__(self) -> str:\n",
    "        return f\"{self.__class__.__name__}({self.recinfo.source_file.name})\"\n",
    "    \n",
    "def sess_use(basepath=os.getcwd()):\n",
    "\n",
    "    return ProcessData(basepath)"
   ]
  },
  {
   "cell_type": "code",
   "execution_count": 6,
   "id": "258b9191",
   "metadata": {
    "scrolled": true
   },
   "outputs": [
    {
     "ename": "AssertionError",
     "evalue": "Fewer/more than one .eeg file detected",
     "output_type": "error",
     "traceback": [
      "\u001b[0;31m---------------------------------------------------------------------------\u001b[0m",
      "\u001b[0;31mAssertionError\u001b[0m                            Traceback (most recent call last)",
      "Cell \u001b[0;32mIn[6], line 3\u001b[0m\n\u001b[1;32m      1\u001b[0m animal, sess_name \u001b[38;5;241m=\u001b[39m \u001b[38;5;124m'\u001b[39m\u001b[38;5;124mBoba\u001b[39m\u001b[38;5;124m'\u001b[39m, \u001b[38;5;124m'\u001b[39m\u001b[38;5;124mhabituation1\u001b[39m\u001b[38;5;124m'\u001b[39m\n\u001b[1;32m      2\u001b[0m sess_dir \u001b[38;5;241m=\u001b[39m get_session_dir(animal, sess_name)\n\u001b[0;32m----> 3\u001b[0m sess \u001b[38;5;241m=\u001b[39m \u001b[43msess_use\u001b[49m\u001b[43m(\u001b[49m\u001b[43msess_dir\u001b[49m\u001b[43m)\u001b[49m\n\u001b[1;32m      4\u001b[0m \u001b[38;5;28mprint\u001b[39m(sess\u001b[38;5;241m.\u001b[39mrecinfo)\n",
      "Cell \u001b[0;32mIn[5], line 32\u001b[0m, in \u001b[0;36msess_use\u001b[0;34m(basepath)\u001b[0m\n\u001b[1;32m     30\u001b[0m \u001b[38;5;28;01mdef\u001b[39;00m \u001b[38;5;21msess_use\u001b[39m(basepath\u001b[38;5;241m=\u001b[39mos\u001b[38;5;241m.\u001b[39mgetcwd()):\n\u001b[0;32m---> 32\u001b[0m     \u001b[38;5;28;01mreturn\u001b[39;00m \u001b[43mProcessData\u001b[49m\u001b[43m(\u001b[49m\u001b[43mbasepath\u001b[49m\u001b[43m)\u001b[49m\n",
      "Cell \u001b[0;32mIn[5], line 14\u001b[0m, in \u001b[0;36mProcessData.__init__\u001b[0;34m(self, basepath)\u001b[0m\n\u001b[1;32m     12\u001b[0m \u001b[38;5;28mself\u001b[39m\u001b[38;5;241m.\u001b[39mrecinfo \u001b[38;5;241m=\u001b[39m NeuroscopeIO(xml_files[\u001b[38;5;241m0\u001b[39m])\n\u001b[1;32m     13\u001b[0m eegfiles \u001b[38;5;241m=\u001b[39m \u001b[38;5;28msorted\u001b[39m(basepath\u001b[38;5;241m.\u001b[39mglob(\u001b[38;5;124m'\u001b[39m\u001b[38;5;124m*.eeg\u001b[39m\u001b[38;5;124m'\u001b[39m))\n\u001b[0;32m---> 14\u001b[0m \u001b[38;5;28;01massert\u001b[39;00m \u001b[38;5;28mlen\u001b[39m(eegfiles) \u001b[38;5;241m==\u001b[39m \u001b[38;5;241m1\u001b[39m, \u001b[38;5;124m\"\u001b[39m\u001b[38;5;124mFewer/more than one .eeg file detected\u001b[39m\u001b[38;5;124m\"\u001b[39m\n\u001b[1;32m     15\u001b[0m \u001b[38;5;28mself\u001b[39m\u001b[38;5;241m.\u001b[39meegfile \u001b[38;5;241m=\u001b[39m BinarysignalIO(eegfiles[\u001b[38;5;241m0\u001b[39m], n_channels\u001b[38;5;241m=\u001b[39m\u001b[38;5;28mself\u001b[39m\u001b[38;5;241m.\u001b[39mrecinfo\u001b[38;5;241m.\u001b[39mn_channels,\n\u001b[1;32m     16\u001b[0m                              sampling_rate\u001b[38;5;241m=\u001b[39m\u001b[38;5;28mself\u001b[39m\u001b[38;5;241m.\u001b[39mrecinfo\u001b[38;5;241m.\u001b[39meeg_sampling_rate,\n\u001b[1;32m     17\u001b[0m                              )\n\u001b[1;32m     18\u001b[0m \u001b[38;5;28;01mtry\u001b[39;00m:\n",
      "\u001b[0;31mAssertionError\u001b[0m: Fewer/more than one .eeg file detected"
     ]
    }
   ],
   "source": [
    "animal, sess_name = 'Boba', 'habituation1'\n",
    "sess_dir = get_session_dir(animal, sess_name)\n",
    "sess = sess_use(sess_dir)\n",
    "print(sess.recinfo)"
   ]
  },
  {
   "cell_type": "code",
   "execution_count": null,
   "id": "80fb1e0f",
   "metadata": {},
   "outputs": [],
   "source": [
    "print(sess.eegfile)"
   ]
  },
  {
   "cell_type": "markdown",
   "id": "738c2a76",
   "metadata": {},
   "source": [
    "# Preprocess Ephys data\n",
    "Identify artifacts:  \n",
    "- disconnects  \n",
    "- filtering  \n",
    "  \n",
    "Send to event files to check in Neuroscope  \n",
    "Write `dead_times.txt` file for spyking-circus and `artifacts.npy` file for my own analysis."
   ]
  },
  {
   "cell_type": "markdown",
   "id": "28508b7a",
   "metadata": {},
   "source": [
    "### Identify disconnect and motion artifacts"
   ]
  },
  {
   "cell_type": "code",
   "execution_count": null,
   "id": "e339bfda",
   "metadata": {},
   "outputs": [],
   "source": [
    "from neuropy.analyses.artifact import detect_artifact_epochs\n",
    "signal = sess.eegfile.get_signal()\n",
    "buffer_add = 0.1  # seconds, None = don't add\n",
    "\n",
    "art_epochs_file = sess.filePrefix.with_suffix(\".art_epochs.npy\")\n",
    "if art_epochs_file.exists():\n",
    "    art_epochs = Epoch(epochs=None, file=art_epochs_file)\n",
    "    print('Existing artifact epochs file loaded')\n",
    "else:\n",
    "    art_epochs = detect_artifact_epochs(signal, thresh=8, \n",
    "                                    edge_cutoff=3, merge=6)\n",
    "\n",
    "    # Code to add in artifact epochs manually - comment out after using\n",
    "    # art_epochs = art_epochs.add_epoch_manually(538, 560)\n",
    "    # art_epochs = art_epochs.add_epoch_manually(1588, 1615)\n",
    "\n",
    "    if buffer_add is not None:  # Add in buffer to prevent erroneous detection of start/stop of artifact as SWRs\n",
    "        art_epochs.add_epoch_buffer(buffer_add)\n",
    "    sess.recinfo.write_epochs(epochs=art_epochs, ext='art')\n",
    "    art_epochs.save(art_epochs_file)\n",
    "art_epochs"
   ]
  },
  {
   "cell_type": "code",
   "execution_count": null,
   "id": "7deec6a8-91d4-41ed-ac28-6a38b7acf8c8",
   "metadata": {},
   "outputs": [],
   "source": [
    "%matplotlib widget\n",
    "\n",
    "chan_plot = 28\n",
    "plot_signal_w_epochs(signal, 28, art_epochs)"
   ]
  },
  {
   "cell_type": "markdown",
   "id": "38876982",
   "metadata": {},
   "source": [
    "## Define probe group"
   ]
  },
  {
   "cell_type": "code",
   "execution_count": null,
   "id": "cb4159cb",
   "metadata": {},
   "outputs": [],
   "source": [
    "from neuropy.core import Shank, Probe, ProbeGroup\n",
    "from neuropy.plotting import plot_probe\n",
    "shank = Shank()\n",
    "shank = shank.auto_generate(columns=1, contacts_per_column=32, xpitch=0,\n",
    "                   ypitch=20, channel_id=np.arange(31, -1, -1))\n",
    "shank.set_disconnected_channels(sess.recinfo.skipped_channels)\n",
    "probe = Probe(shank)\n",
    "prbgrp = ProbeGroup()\n",
    "prbgrp.add_probe(probe)\n",
    "plot_probe(prbgrp)\n",
    "prbgrp.filename = sess.filePrefix.with_suffix(\".probegroup.npy\")\n",
    "prbgrp.save(prbgrp.filename)\n",
    "sess.prbgrp = prbgrp"
   ]
  },
  {
   "cell_type": "markdown",
   "id": "a5e11fab-f025-4643-b23d-f9c7e2862bdc",
   "metadata": {},
   "source": [
    "# Detect Theta epochs"
   ]
  },
  {
   "cell_type": "code",
   "execution_count": null,
   "id": "95826e80-d0b0-46d1-ad9b-87a141eb65bb",
   "metadata": {},
   "outputs": [],
   "source": [
    "from neuropy.analyses.oscillations import detect_theta_epochs\n",
    "mindur=0.25\n",
    "maxdur=20\n",
    "thresh = (0.5, None)\n",
    "sigma = 0.125\n",
    "edge_cutoff = 0.25\n",
    "theta_channel = 31\n",
    "\n",
    "# use this if you don't know theta channel\n",
    "if theta_channel is None:\n",
    "    theta_epochs, theta_power = detect_theta_epochs(signal, prbgrp, mindur=mindur, maxdur=maxdur, thresh=thresh, \n",
    "                                                    edge_cutoff=edge_cutoff, ignore_epochs=art_epochs, return_power=True)\n",
    "else:\n",
    "    signal_use = signal.time_slice(channel_id=theta_channel)\n",
    "    theta_epochs, theta_power = detect_theta_epochs(signal_use, probegroup=None, mindur=mindur, maxdur=maxdur, thresh=thresh, \n",
    "                                                    edge_cutoff=edge_cutoff, ignore_epochs=art_epochs, return_power=True)"
   ]
  },
  {
   "cell_type": "markdown",
   "id": "d2ab0bd1-8848-402a-89bb-a5696bddff3c",
   "metadata": {},
   "source": [
    "## Detect SWR Epochs"
   ]
  },
  {
   "cell_type": "code",
   "execution_count": null,
   "id": "1d19b2a9-4063-4159-a1d5-4730a7589165",
   "metadata": {},
   "outputs": [],
   "source": [
    "from neuropy.analyses.oscillations import detect_ripple_epochs\n",
    "ripple_channel = 29\n",
    "thresh = (3, None)  # conservative but good\n",
    "ripple_epochs = detect_ripple_epochs(signal, prbgrp, thresh=thresh, ripple_channel=ripple_channel, \n",
    "                                     ignore_epochs=art_epochs)\n"
   ]
  },
  {
   "cell_type": "markdown",
   "id": "015e56fe-f840-441d-87db-1163d049ff53",
   "metadata": {},
   "source": [
    "# Wavelet Analysis"
   ]
  },
  {
   "cell_type": "markdown",
   "id": "9e7b3282-9acb-4737-a41b-7ad3142e0234",
   "metadata": {},
   "source": [
    "### Start with Theta"
   ]
  },
  {
   "cell_type": "code",
   "execution_count": null,
   "id": "89432795-e6a6-439f-b0e9-4633a94610fe",
   "metadata": {},
   "outputs": [],
   "source": [
    "# Run wavelet on theta range\n",
    "theta_range = np.arange(4, 14, 0.25)  # How do I select these? 0.25Hz seems good to start\n",
    "wv_theta = WaveletSg(signal.time_slice(channel_id=theta_channel), freqs=theta_range, sigma=None)"
   ]
  },
  {
   "cell_type": "code",
   "execution_count": null,
   "id": "20417581-b8d4-4a14-a874-f143879c63d0",
   "metadata": {},
   "outputs": [],
   "source": [
    "# Sanity check code - does wavelet align well with actual theta epochs?\n",
    "_, ax = plt.subplots(2, 1, sharex=True, figsize=(9, 4))\n",
    "time_to_plot = [0, 60]\n",
    "theta_freq_lims = [5, 12]\n",
    "\n",
    "plot_signal_w_epochs(signal, theta_channel, theta_epochs, ax=ax[0])\n",
    "\n",
    "plot_spectrogram(wv_theta, time_lims=time_to_plot, freq_lims=theta_freq_lims, ax=ax[1])"
   ]
  },
  {
   "cell_type": "markdown",
   "id": "f5cf9d4b-7788-46e4-8408-441178e2f8bf",
   "metadata": {},
   "source": [
    "### Mean spectrogram at theta starts"
   ]
  },
  {
   "cell_type": "code",
   "execution_count": null,
   "id": "2951cfbb-bcd0-4602-bca4-91d8440a5aaa",
   "metadata": {},
   "outputs": [],
   "source": [
    "theta_buffer_sec = (0.75, 5.5)\n",
    "wv_theta_mean = wv_theta.get_pe_mean_spec(theta_epochs.starts, buffer_sec=theta_buffer_sec)\n",
    "ax = plot_spectrogram(wv_theta_mean, time_lims=np.multiply(theta_buffer_sec, (-1, 1)), freq_lims=theta_freq_lims)\n",
    "ax.set_xlabel('Time from Theta epoch start (sec)')"
   ]
  },
  {
   "cell_type": "markdown",
   "id": "f2b8dc6e-f6ec-444e-9053-a13edf362a00",
   "metadata": {},
   "source": [
    "### Try out SWRs"
   ]
  },
  {
   "cell_type": "code",
   "execution_count": null,
   "id": "b18e0470-a34c-4078-a982-2979638a70e0",
   "metadata": {},
   "outputs": [],
   "source": [
    "swr_range = np.arange(125, 275, 5)\n",
    "wv_swr = WaveletSg(signal.time_slice(channel_id=ripple_channel), freqs=swr_range, sigma=None)"
   ]
  },
  {
   "cell_type": "code",
   "execution_count": null,
   "id": "adf10e6f-ab66-4e17-93fa-4f379226aa45",
   "metadata": {},
   "outputs": [],
   "source": [
    "# Sanity check code - does wavelet align well with actual theta epochs?\n",
    "_, ax = plt.subplots(2, 1, sharex=True, figsize=(9, 4))\n",
    "time_to_plot = [0, 60]\n",
    "swr_freq_lims = [130, 260]\n",
    "\n",
    "plot_signal_w_epochs(signal, theta_channel, ripple_epochs, ax=ax[0])\n",
    "\n",
    "plot_spectrogram(wv_swr, time_lims=time_to_plot, freq_lims=swr_freq_lims, ax=ax[1])"
   ]
  },
  {
   "cell_type": "markdown",
   "id": "7b972dc5-36a9-4894-b81e-3fe37c2f0bc1",
   "metadata": {},
   "source": [
    "### Mean spectrogram at all ripples"
   ]
  },
  {
   "cell_type": "code",
   "execution_count": null,
   "id": "0b95b571-a50a-48ed-8f4c-0166bc93987d",
   "metadata": {},
   "outputs": [],
   "source": [
    "ripple_buffer_sec = (0.1, 0.1)\n",
    "wv_swr_mean = wv_swr.get_pe_mean_spec(ripple_epochs.to_dataframe()['peak_time'].values, buffer_sec=ripple_buffer_sec)\n",
    "ax = plot_spectrogram(wv_swr_mean, time_lims=np.multiply(ripple_buffer_sec, (-1, 1)), freq_lims=swr_freq_lims)\n",
    "ax.set_xlabel('Time from Ripple Peak (sec)')"
   ]
  },
  {
   "cell_type": "markdown",
   "id": "259840db-185a-4059-b69c-350ed3d297e7",
   "metadata": {},
   "source": [
    "## Peri-CS analyses"
   ]
  },
  {
   "cell_type": "code",
   "execution_count": null,
   "id": "4a9f2ab5-d72e-44bb-b0c5-2ef925a81972",
   "metadata": {},
   "outputs": [],
   "source": [
    "import neuropy.io.openephysio as oeio\n",
    "\n",
    "# Import TTLs for CS from OpenEphys\n",
    "ttl_df = oeio.load_all_ttl_events(sess.basepath, sanity_check_channel=1, zero_timestamps=True)\n",
    "ttl_df[ttl_df['channel_states'].abs() == 2].head(5)"
   ]
  },
  {
   "cell_type": "code",
   "execution_count": null,
   "id": "f8f0a1f7-2523-4ea8-b769-5ee0753932f3",
   "metadata": {
    "scrolled": true
   },
   "outputs": [],
   "source": [
    "import tracefc.io.traceio as traceio\n",
    "\n",
    "# For tone recall CS+\n",
    "cs_starts, cs_ends, cs_df = traceio.load_trace_events(sess.basepath, session_type=\"tone_recall\", \n",
    "                                                      event_type=\"CS+\", return_df=True)\n",
    "print(f'{cs_starts.shape[0]} CS+ events detected')\n",
    "print(cs_starts.head(6))\n",
    "\n",
    "# For control tone recall CS-\n",
    "csn_starts, csn_ends, csn_df = traceio.load_trace_events(sess.basepath, session_type=\"control_tone_recall\", \n",
    "                                                      event_type=\"CS-\", return_df=True)\n",
    "print(f'{csn_starts.shape[0]} CS- events detected')\n",
    "print(csn_starts.head(6))\n",
    "\n",
    "\n",
    "# For CS+ at end of control_tone_recall\n",
    "cs2_starts, cs2_ends, cs2_df = traceio.load_trace_events(sess.basepath, session_type=\"control_tone_recall\", \n",
    "                                                      event_type=\"CS+\", return_df=True)\n",
    "print(f'{cs2_starts.shape[0]} CS+ events detected')\n",
    "print(cs2_starts.head(6))"
   ]
  },
  {
   "cell_type": "code",
   "execution_count": null,
   "id": "3841a100-2ae6-4ba2-bfed-7137db2c32ef",
   "metadata": {},
   "outputs": [],
   "source": [
    "sync_df = oeio.create_sync_df(sess.basepath)\n",
    "sync_df"
   ]
  },
  {
   "cell_type": "code",
   "execution_count": null,
   "id": "94082861-1e8c-4ed6-ae78-341a9f62a189",
   "metadata": {},
   "outputs": [],
   "source": [
    "# Grab CS times corresponding to OE timestamps\n",
    "ttl_lag_use = ttl_lag=pd.Timedelta(0.8, unit=\"seconds\")\n",
    "cs_oe_start_df = traceio.trace_ttl_to_openephys(cs_starts, \n",
    "                                  ttl_df[ttl_df['channel_states'].abs() == 2], \n",
    "                                  ttl_lag=ttl_lag_use)\n",
    "# Convert to times in combined eeg file\n",
    "cs_starts_combined = oeio.recording_events_to_combined_time(cs_oe_start_df, sync_df)\n",
    "\n",
    "csn_oe_start_df = traceio.trace_ttl_to_openephys(csn_starts, \n",
    "                                  ttl_df[ttl_df['channel_states'].abs() == 2], \n",
    "                                  ttl_lag=ttl_lag_use*2)\n",
    "\n",
    "# Convert to times in combined eeg file\n",
    "csn_starts_combined = oeio.recording_events_to_combined_time(csn_oe_start_df, sync_df)\n",
    "\n",
    "\n",
    "cs2_oe_start_df = traceio.trace_ttl_to_openephys(cs2_starts, \n",
    "                                  ttl_df[ttl_df['channel_states'].abs() == 2], \n",
    "                                  ttl_lag=ttl_lag_use)\n",
    "# Convert to times in combined eeg file\n",
    "cs2_starts_combined = oeio.recording_events_to_combined_time(cs2_oe_start_df, sync_df)"
   ]
  },
  {
   "cell_type": "markdown",
   "id": "75efdd21-d69d-4d92-9746-51dbbbae13ab",
   "metadata": {},
   "source": [
    "## Theta mean spectrogram"
   ]
  },
  {
   "cell_type": "code",
   "execution_count": null,
   "id": "055a9c62-f26f-469f-9a9a-d90b22ba9e6b",
   "metadata": {},
   "outputs": [],
   "source": [
    "from tracefc.plotting.signals import plot_cs_mean_wavelet\n",
    "cs_buffer = (5, 35)\n",
    "\n",
    "_, ax = plt.subplots(6, 1, figsize=(9, 12), height_ratios=[1, 5, 1, 5, 1, 5], layout='tight', sharex=True)\n",
    "\n",
    "_, std_sxx = plot_cs_mean_wavelet(wv_theta, cs_starts_combined, 'CS+', buffer_sec=cs_buffer, freq_lims=theta_freq_lims,\n",
    "                     ignore_epochs=art_epochs, ax=ax[:2])\n",
    "plot_cs_mean_wavelet(wv_theta, csn_starts_combined, 'CS-', buffer_sec=cs_buffer, freq_lims=theta_freq_lims,\n",
    "                     ignore_epochs=art_epochs, std_sxx=std_sxx, ax=ax[2:4])\n",
    "plot_cs_mean_wavelet(wv_theta, cs2_starts_combined, 'CS+', buffer_sec=cs_buffer, freq_lims=theta_freq_lims,\n",
    "                     ignore_epochs=art_epochs, std_sxx=std_sxx, ax=ax[4:])\n",
    "ax[5].set_title('CS+ at end of control tone recall session')\n",
    "\n",
    "\n",
    "# For habituation sessions\n",
    "# plot_cs_mean_wavelet(wv_theta, csn_starts_combined, 'CS-', buffer_sec=cs_buffer, freq_lims=theta_freq_lims,\n",
    "#                      ignore_epochs=art_epochs, std_sxx=None, ax=ax[2:])"
   ]
  },
  {
   "cell_type": "markdown",
   "id": "c1fafe12-f806-45ef-b279-221399903f1c",
   "metadata": {},
   "source": [
    "## Ripple mean spectrogram"
   ]
  },
  {
   "cell_type": "code",
   "execution_count": null,
   "id": "a50358db-a352-40b4-98b8-f6f8fddc002c",
   "metadata": {},
   "outputs": [],
   "source": [
    "cs_buffer = (5, 35)\n",
    "\n",
    "_, ax = plt.subplots(6, 1, figsize=(9, 11), height_ratios=[1, 5, 1, 5, 1, 5], layout='tight', sharex=True)\n",
    "\n",
    "_, std_sxx = plot_cs_mean_wavelet(wv_swr, cs_starts_combined, 'CS+', buffer_sec=cs_buffer, freq_lims=swr_freq_lims,\n",
    "                     ignore_epochs=art_epochs, ax=ax[:2])\n",
    "plot_cs_mean_wavelet(wv_swr, csn_starts_combined, 'CS-', buffer_sec=cs_buffer, freq_lims=swr_freq_lims,\n",
    "                     ignore_epochs=art_epochs, std_sxx=std_sxx, ax=ax[2:4])\n",
    "plot_cs_mean_wavelet(wv_swr, cs2_starts_combined, 'CS+', buffer_sec=cs_buffer, freq_lims=swr_freq_lims,\n",
    "                     ignore_epochs=art_epochs, std_sxx=std_sxx, ax=ax[4:])\n",
    "ax[5].set_title('CS+ at end of control tone recall session')\n",
    "\n",
    "# # For habituation sessions\n",
    "# plot_cs_mean_wavelet(wv_swr, csn_starts_combined, 'CS-', buffer_sec=cs_buffer, freq_lims=swr_freq_lims,\n",
    "#                      ignore_epochs=art_epochs, std_sxx=None, ax=ax[2:])"
   ]
  },
  {
   "cell_type": "markdown",
   "id": "8a16ac39",
   "metadata": {},
   "source": [
    "## Save notebook to working directory"
   ]
  },
  {
   "cell_type": "code",
   "execution_count": null,
   "id": "1fdd40e5-daba-459a-bc1c-6469978bd513",
   "metadata": {},
   "outputs": [],
   "source": [
    "from neuropy.utils.manipulate_files import save_notebook\n",
    "save_notebook(sess.basepath, save_prepend=f\"{animal}_{sess_name}_\")"
   ]
  }
 ],
 "metadata": {
  "kernelspec": {
   "display_name": "Python 3 (ipykernel)",
   "language": "python",
   "name": "python3"
  },
  "language_info": {
   "codemirror_mode": {
    "name": "ipython",
    "version": 3
   },
   "file_extension": ".py",
   "mimetype": "text/x-python",
   "name": "python",
   "nbconvert_exporter": "python",
   "pygments_lexer": "ipython3",
   "version": "3.11.5"
  },
  "widgets": {
   "application/vnd.jupyter.widget-state+json": {
    "state": {},
    "version_major": 2,
    "version_minor": 0
   }
  }
 },
 "nbformat": 4,
 "nbformat_minor": 5
}
