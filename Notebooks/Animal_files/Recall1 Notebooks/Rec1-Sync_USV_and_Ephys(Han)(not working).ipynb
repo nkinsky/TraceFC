{
 "cells": [
  {
   "cell_type": "code",
   "execution_count": 1,
   "id": "1c62d5e2",
   "metadata": {},
   "outputs": [],
   "source": [
    "# Import all the functions you need\n",
    "%load_ext autoreload\n",
    "%autoreload 2\n",
    "\n",
    "import numpy as np\n",
    "import matplotlib.pyplot as plt\n",
    "import seaborn as sns\n",
    "import pandas as pd\n",
    "import sys\n",
    "import os\n",
    "from pathlib import Path\n",
    "import platform\n",
    "\n",
    "# Comment here to add in for either mac or linux computer\n",
    "if platform.system() == \"Linux\":   # for linux\n",
    "    sys.path.extend(['/data/GitHub/NeuroPy']) \n",
    "    sys.path.extend(['/data/GitHub/TraceFC/'])\n",
    "elif platform.system() == \"Darwin\":\n",
    "    sys.path.extend(['/Users/nkinsky/Documents/UM/GitHub/NeuroPy'])\n",
    "    sys.path.extend(['/Users/nkinsky/Documents/UM/GitHub/TraceFC'])\n",
    "elif platform.system() == \"Windows\":\n",
    "    print('No windows repositories defined')\n",
    "\n",
    "from neuropy import core\n",
    "from neuropy.io import (optitrackio,\n",
    "                        dlcio,\n",
    "                        )\n",
    "from neuropy.io.neuroscopeio import NeuroscopeIO\n",
    "from neuropy.io.binarysignalio import BinarysignalIO \n",
    "from neuropy.io.miniscopeio import MiniscopeIO\n",
    "from neuropy.core import Epoch\n",
    "from neuropy.utils import plot_util\n",
    "from neuropy.utils.signal_process import WaveletSg\n",
    "from neuropy.plotting.spikes import plot_raster, plot_binned_raster\n",
    "from neuropy.plotting.signals import plot_signal_w_epochs, plot_spectrogram\n",
    "from neuropy.io.usvio import detect_tone\n",
    "\n",
    "from tracefc.io.session_directory import get_session_dir"
   ]
  },
  {
   "cell_type": "code",
   "execution_count": 2,
   "id": "534754a6-beb8-48c2-b3f2-d4b5a837b54e",
   "metadata": {},
   "outputs": [],
   "source": [
    "from neuropy.core.session import ProcessData\n",
    "\n",
    "def sess_use(basepath=os.getcwd()):\n",
    "\n",
    "    return ProcessData(basepath)"
   ]
  },
  {
   "cell_type": "code",
   "execution_count": 3,
   "id": "258b9191",
   "metadata": {
    "scrolled": true
   },
   "outputs": [
    {
     "name": "stdout",
     "output_type": "stream",
     "text": [
      "filename: /data2/Trace_FC/Recording_Rats/Han/2022_08_04_recall1/Han_recall1.xml \n",
      "# channels: 35\n",
      "sampling rate: 30000\n",
      "lfp Srate (downsampled): 1250\n",
      "\n"
     ]
    }
   ],
   "source": [
    "animal, sess_name = 'Han', 'recall1'\n",
    "sess_dir = get_session_dir(animal, sess_name)\n",
    "sess = sess_use(sess_dir)\n",
    "print(sess.recinfo)"
   ]
  },
  {
   "cell_type": "code",
   "execution_count": 4,
   "id": "80fb1e0f",
   "metadata": {},
   "outputs": [
    {
     "name": "stdout",
     "output_type": "stream",
     "text": [
      "duration: 3594.69 seconds \n",
      "duration: 1.00 hours \n",
      "\n"
     ]
    }
   ],
   "source": [
    "print(sess.eegfile)"
   ]
  },
  {
   "cell_type": "markdown",
   "id": "40dc099e-01d3-4c85-aa06-194777e77dfe",
   "metadata": {},
   "source": [
    "### Read in miniscope data"
   ]
  },
  {
   "cell_type": "code",
   "execution_count": 26,
   "id": "6bb4f55b-7d7d-4980-be9f-98a3653b5c2b",
   "metadata": {},
   "outputs": [],
   "source": [
    "import neuropy.io.miniscopeio as miniio\n",
    "mini = miniio.MiniscopeIO(sess.basepath)"
   ]
  },
  {
   "cell_type": "code",
   "execution_count": 35,
   "id": "4b3b257a-58b2-44cb-99f9-9ca6cbcc9689",
   "metadata": {},
   "outputs": [
    {
     "name": "stdout",
     "output_type": "stream",
     "text": [
      "including folder /data2/Trace_FC/Recording_Rats/Han/2022_08_04_recall1/1_tone_recall/tone_recall/Han/gobears/2022_08_04/12_24_53\n",
      "including folder /data2/Trace_FC/Recording_Rats/Han/2022_08_04_recall1/2_control_tone_recall/control_tone_recall/Han/gobears/2022_08_04/12_46_35\n",
      "including folder /data2/Trace_FC/Recording_Rats/Han/2022_08_04_recall1/2_control_tone_recall/control_tone_recall/Han/gobears/2022_08_04/13_04_59\n",
      "including folder /data2/Trace_FC/Recording_Rats/Han/2022_08_04_recall1/3_ctx_recall/ctx_recall/Han/gobears/2022_08_04/13_09_08\n"
     ]
    },
    {
     "data": {
      "text/html": [
       "<div>\n",
       "<style scoped>\n",
       "    .dataframe tbody tr th:only-of-type {\n",
       "        vertical-align: middle;\n",
       "    }\n",
       "\n",
       "    .dataframe tbody tr th {\n",
       "        vertical-align: top;\n",
       "    }\n",
       "\n",
       "    .dataframe thead th {\n",
       "        text-align: right;\n",
       "    }\n",
       "</style>\n",
       "<table border=\"1\" class=\"dataframe\">\n",
       "  <thead>\n",
       "    <tr style=\"text-align: right;\">\n",
       "      <th></th>\n",
       "      <th>Frame Number</th>\n",
       "      <th>Time Stamp (ms)</th>\n",
       "      <th>Buffer Index</th>\n",
       "      <th>Timestamps</th>\n",
       "    </tr>\n",
       "  </thead>\n",
       "  <tbody>\n",
       "    <tr>\n",
       "      <th>0</th>\n",
       "      <td>0</td>\n",
       "      <td>-3</td>\n",
       "      <td>1</td>\n",
       "      <td>2022-08-04 12:24:53.256</td>\n",
       "    </tr>\n",
       "    <tr>\n",
       "      <th>1</th>\n",
       "      <td>1</td>\n",
       "      <td>99</td>\n",
       "      <td>0</td>\n",
       "      <td>2022-08-04 12:24:53.358</td>\n",
       "    </tr>\n",
       "    <tr>\n",
       "      <th>2</th>\n",
       "      <td>2</td>\n",
       "      <td>196</td>\n",
       "      <td>0</td>\n",
       "      <td>2022-08-04 12:24:53.455</td>\n",
       "    </tr>\n",
       "    <tr>\n",
       "      <th>3</th>\n",
       "      <td>3</td>\n",
       "      <td>297</td>\n",
       "      <td>0</td>\n",
       "      <td>2022-08-04 12:24:53.556</td>\n",
       "    </tr>\n",
       "    <tr>\n",
       "      <th>4</th>\n",
       "      <td>4</td>\n",
       "      <td>397</td>\n",
       "      <td>0</td>\n",
       "      <td>2022-08-04 12:24:53.656</td>\n",
       "    </tr>\n",
       "    <tr>\n",
       "      <th>...</th>\n",
       "      <td>...</td>\n",
       "      <td>...</td>\n",
       "      <td>...</td>\n",
       "      <td>...</td>\n",
       "    </tr>\n",
       "    <tr>\n",
       "      <th>9301</th>\n",
       "      <td>9301</td>\n",
       "      <td>929451</td>\n",
       "      <td>0</td>\n",
       "      <td>2022-08-04 13:24:38.381</td>\n",
       "    </tr>\n",
       "    <tr>\n",
       "      <th>9302</th>\n",
       "      <td>9302</td>\n",
       "      <td>929552</td>\n",
       "      <td>0</td>\n",
       "      <td>2022-08-04 13:24:38.482</td>\n",
       "    </tr>\n",
       "    <tr>\n",
       "      <th>9303</th>\n",
       "      <td>9303</td>\n",
       "      <td>929651</td>\n",
       "      <td>0</td>\n",
       "      <td>2022-08-04 13:24:38.581</td>\n",
       "    </tr>\n",
       "    <tr>\n",
       "      <th>9304</th>\n",
       "      <td>9304</td>\n",
       "      <td>929751</td>\n",
       "      <td>0</td>\n",
       "      <td>2022-08-04 13:24:38.681</td>\n",
       "    </tr>\n",
       "    <tr>\n",
       "      <th>9305</th>\n",
       "      <td>9305</td>\n",
       "      <td>929851</td>\n",
       "      <td>0</td>\n",
       "      <td>2022-08-04 13:24:38.781</td>\n",
       "    </tr>\n",
       "  </tbody>\n",
       "</table>\n",
       "<p>32249 rows × 4 columns</p>\n",
       "</div>"
      ],
      "text/plain": [
       "      Frame Number  Time Stamp (ms)  Buffer Index              Timestamps\n",
       "0                0               -3             1 2022-08-04 12:24:53.256\n",
       "1                1               99             0 2022-08-04 12:24:53.358\n",
       "2                2              196             0 2022-08-04 12:24:53.455\n",
       "3                3              297             0 2022-08-04 12:24:53.556\n",
       "4                4              397             0 2022-08-04 12:24:53.656\n",
       "...            ...              ...           ...                     ...\n",
       "9301          9301           929451             0 2022-08-04 13:24:38.381\n",
       "9302          9302           929552             0 2022-08-04 13:24:38.482\n",
       "9303          9303           929651             0 2022-08-04 13:24:38.581\n",
       "9304          9304           929751             0 2022-08-04 13:24:38.681\n",
       "9305          9305           929851             0 2022-08-04 13:24:38.781\n",
       "\n",
       "[32249 rows x 4 columns]"
      ]
     },
     "execution_count": 35,
     "metadata": {},
     "output_type": "execute_result"
    }
   ],
   "source": [
    "mini.load_all_orientation()\n",
    "mini.load_all_timestamps()"
   ]
  },
  {
   "cell_type": "code",
   "execution_count": 25,
   "id": "8baddd41-d512-4d6b-aef7-62a49c2ea4a1",
   "metadata": {},
   "outputs": [
    {
     "name": "stdout",
     "output_type": "stream",
     "text": [
      "start time = 2022-08-04 12:23:56.581623-04:00\n",
      "start time = 2022-08-04 12:45:27.837675-04:00\n",
      "start time = 2022-08-04 13:07:02.327536-04:00\n"
     ]
    },
    {
     "data": {
      "text/html": [
       "<div>\n",
       "<style scoped>\n",
       "    .dataframe tbody tr th:only-of-type {\n",
       "        vertical-align: middle;\n",
       "    }\n",
       "\n",
       "    .dataframe tbody tr th {\n",
       "        vertical-align: top;\n",
       "    }\n",
       "\n",
       "    .dataframe thead th {\n",
       "        text-align: right;\n",
       "    }\n",
       "</style>\n",
       "<table border=\"1\" class=\"dataframe\">\n",
       "  <thead>\n",
       "    <tr style=\"text-align: right;\">\n",
       "      <th></th>\n",
       "      <th>Recording</th>\n",
       "      <th>Datetime</th>\n",
       "      <th>Condition</th>\n",
       "      <th>nframe_dat</th>\n",
       "      <th>dat_time</th>\n",
       "      <th>nframe_eeg</th>\n",
       "      <th>eeg_time</th>\n",
       "      <th>Time since rec start (sec)</th>\n",
       "    </tr>\n",
       "  </thead>\n",
       "  <tbody>\n",
       "    <tr>\n",
       "      <th>0</th>\n",
       "      <td>0</td>\n",
       "      <td>2022-08-04 12:23:56.581623-04:00</td>\n",
       "      <td>start</td>\n",
       "      <td>0</td>\n",
       "      <td>0.000000</td>\n",
       "      <td>0</td>\n",
       "      <td>0.0000</td>\n",
       "      <td>0.000000</td>\n",
       "    </tr>\n",
       "    <tr>\n",
       "      <th>1</th>\n",
       "      <td>0</td>\n",
       "      <td>2022-08-04 12:44:28.999723-04:00</td>\n",
       "      <td>stop</td>\n",
       "      <td>36972543</td>\n",
       "      <td>1232.418100</td>\n",
       "      <td>1540522</td>\n",
       "      <td>1232.4176</td>\n",
       "      <td>1232.418100</td>\n",
       "    </tr>\n",
       "    <tr>\n",
       "      <th>2</th>\n",
       "      <td>1</td>\n",
       "      <td>2022-08-04 12:45:27.837675-04:00</td>\n",
       "      <td>start</td>\n",
       "      <td>36972544</td>\n",
       "      <td>1232.418133</td>\n",
       "      <td>1540523</td>\n",
       "      <td>1232.4184</td>\n",
       "      <td>1291.256052</td>\n",
       "    </tr>\n",
       "    <tr>\n",
       "      <th>3</th>\n",
       "      <td>1</td>\n",
       "      <td>2022-08-04 13:06:38.655775-04:00</td>\n",
       "      <td>stop</td>\n",
       "      <td>75097087</td>\n",
       "      <td>2503.236233</td>\n",
       "      <td>3129045</td>\n",
       "      <td>2503.2360</td>\n",
       "      <td>2562.074152</td>\n",
       "    </tr>\n",
       "    <tr>\n",
       "      <th>4</th>\n",
       "      <td>2</td>\n",
       "      <td>2022-08-04 13:07:02.327536-04:00</td>\n",
       "      <td>start</td>\n",
       "      <td>75097088</td>\n",
       "      <td>2503.236267</td>\n",
       "      <td>3129046</td>\n",
       "      <td>2503.2368</td>\n",
       "      <td>2585.745913</td>\n",
       "    </tr>\n",
       "    <tr>\n",
       "      <th>5</th>\n",
       "      <td>2</td>\n",
       "      <td>2022-08-04 13:25:13.783502667-04:00</td>\n",
       "      <td>stop</td>\n",
       "      <td>107840767</td>\n",
       "      <td>3594.692233</td>\n",
       "      <td>4493365</td>\n",
       "      <td>3594.6920</td>\n",
       "      <td>3677.201880</td>\n",
       "    </tr>\n",
       "  </tbody>\n",
       "</table>\n",
       "</div>"
      ],
      "text/plain": [
       "   Recording                            Datetime Condition  nframe_dat  \\\n",
       "0          0    2022-08-04 12:23:56.581623-04:00     start           0   \n",
       "1          0    2022-08-04 12:44:28.999723-04:00      stop    36972543   \n",
       "2          1    2022-08-04 12:45:27.837675-04:00     start    36972544   \n",
       "3          1    2022-08-04 13:06:38.655775-04:00      stop    75097087   \n",
       "4          2    2022-08-04 13:07:02.327536-04:00     start    75097088   \n",
       "5          2 2022-08-04 13:25:13.783502667-04:00      stop   107840767   \n",
       "\n",
       "      dat_time  nframe_eeg   eeg_time  Time since rec start (sec)  \n",
       "0     0.000000           0     0.0000                    0.000000  \n",
       "1  1232.418100     1540522  1232.4176                 1232.418100  \n",
       "2  1232.418133     1540523  1232.4184                 1291.256052  \n",
       "3  2503.236233     3129045  2503.2360                 2562.074152  \n",
       "4  2503.236267     3129046  2503.2368                 2585.745913  \n",
       "5  3594.692233     4493365  3594.6920                 3677.201880  "
      ]
     },
     "execution_count": 25,
     "metadata": {},
     "output_type": "execute_result"
    }
   ],
   "source": [
    "import neuropy.io.openephysio as oeio\n",
    "sync_df = oeio.create_sync_df(sess.basepath)\n",
    "sync_df[\"Time since rec start (sec)\"] = (sync_df['Datetime'] - sync_df.loc[0, 'Datetime']).dt.total_seconds()\n",
    "sync_df"
   ]
  },
  {
   "cell_type": "code",
   "execution_count": 24,
   "id": "afa813da-d634-4b30-a83a-61de1380b59b",
   "metadata": {},
   "outputs": [
    {
     "data": {
      "text/html": [
       "<div>\n",
       "<style scoped>\n",
       "    .dataframe tbody tr th:only-of-type {\n",
       "        vertical-align: middle;\n",
       "    }\n",
       "\n",
       "    .dataframe tbody tr th {\n",
       "        vertical-align: top;\n",
       "    }\n",
       "\n",
       "    .dataframe thead th {\n",
       "        text-align: right;\n",
       "    }\n",
       "</style>\n",
       "<table border=\"1\" class=\"dataframe\">\n",
       "  <thead>\n",
       "    <tr style=\"text-align: right;\">\n",
       "      <th></th>\n",
       "      <th>Time Stamp (ms)</th>\n",
       "      <th>qw</th>\n",
       "      <th>qx</th>\n",
       "      <th>qy</th>\n",
       "      <th>qz</th>\n",
       "      <th>Timestamps</th>\n",
       "      <th>roll</th>\n",
       "      <th>pitch</th>\n",
       "      <th>yaw</th>\n",
       "      <th>Rough eeg time (s)</th>\n",
       "      <th>Time from OE start</th>\n",
       "      <th>Head speed</th>\n",
       "    </tr>\n",
       "  </thead>\n",
       "  <tbody>\n",
       "    <tr>\n",
       "      <th>0</th>\n",
       "      <td>-3</td>\n",
       "      <td>0</td>\n",
       "      <td>0</td>\n",
       "      <td>0</td>\n",
       "      <td>0</td>\n",
       "      <td>2022-08-04 12:24:53.256</td>\n",
       "      <td>0.0</td>\n",
       "      <td>-0.0</td>\n",
       "      <td>0.0</td>\n",
       "      <td>56.674354</td>\n",
       "      <td>56.674377</td>\n",
       "      <td>NaN</td>\n",
       "    </tr>\n",
       "    <tr>\n",
       "      <th>1</th>\n",
       "      <td>99</td>\n",
       "      <td>0</td>\n",
       "      <td>0</td>\n",
       "      <td>0</td>\n",
       "      <td>0</td>\n",
       "      <td>2022-08-04 12:24:53.358</td>\n",
       "      <td>0.0</td>\n",
       "      <td>-0.0</td>\n",
       "      <td>0.0</td>\n",
       "      <td>56.776354</td>\n",
       "      <td>56.776377</td>\n",
       "      <td>0.0</td>\n",
       "    </tr>\n",
       "    <tr>\n",
       "      <th>2</th>\n",
       "      <td>196</td>\n",
       "      <td>0</td>\n",
       "      <td>0</td>\n",
       "      <td>0</td>\n",
       "      <td>0</td>\n",
       "      <td>2022-08-04 12:24:53.455</td>\n",
       "      <td>0.0</td>\n",
       "      <td>-0.0</td>\n",
       "      <td>0.0</td>\n",
       "      <td>56.873354</td>\n",
       "      <td>56.873377</td>\n",
       "      <td>0.0</td>\n",
       "    </tr>\n",
       "    <tr>\n",
       "      <th>3</th>\n",
       "      <td>297</td>\n",
       "      <td>0</td>\n",
       "      <td>0</td>\n",
       "      <td>0</td>\n",
       "      <td>0</td>\n",
       "      <td>2022-08-04 12:24:53.556</td>\n",
       "      <td>0.0</td>\n",
       "      <td>-0.0</td>\n",
       "      <td>0.0</td>\n",
       "      <td>56.974354</td>\n",
       "      <td>56.974377</td>\n",
       "      <td>0.0</td>\n",
       "    </tr>\n",
       "    <tr>\n",
       "      <th>4</th>\n",
       "      <td>397</td>\n",
       "      <td>0</td>\n",
       "      <td>0</td>\n",
       "      <td>0</td>\n",
       "      <td>0</td>\n",
       "      <td>2022-08-04 12:24:53.656</td>\n",
       "      <td>0.0</td>\n",
       "      <td>-0.0</td>\n",
       "      <td>0.0</td>\n",
       "      <td>57.074354</td>\n",
       "      <td>57.074377</td>\n",
       "      <td>0.0</td>\n",
       "    </tr>\n",
       "    <tr>\n",
       "      <th>...</th>\n",
       "      <td>...</td>\n",
       "      <td>...</td>\n",
       "      <td>...</td>\n",
       "      <td>...</td>\n",
       "      <td>...</td>\n",
       "      <td>...</td>\n",
       "      <td>...</td>\n",
       "      <td>...</td>\n",
       "      <td>...</td>\n",
       "      <td>...</td>\n",
       "      <td>...</td>\n",
       "      <td>...</td>\n",
       "    </tr>\n",
       "    <tr>\n",
       "      <th>9301</th>\n",
       "      <td>929451</td>\n",
       "      <td>0</td>\n",
       "      <td>0</td>\n",
       "      <td>0</td>\n",
       "      <td>0</td>\n",
       "      <td>2022-08-04 13:24:38.381</td>\n",
       "      <td>0.0</td>\n",
       "      <td>-0.0</td>\n",
       "      <td>0.0</td>\n",
       "      <td>3559.289522</td>\n",
       "      <td>3641.799377</td>\n",
       "      <td>0.0</td>\n",
       "    </tr>\n",
       "    <tr>\n",
       "      <th>9302</th>\n",
       "      <td>929552</td>\n",
       "      <td>0</td>\n",
       "      <td>0</td>\n",
       "      <td>0</td>\n",
       "      <td>0</td>\n",
       "      <td>2022-08-04 13:24:38.482</td>\n",
       "      <td>0.0</td>\n",
       "      <td>-0.0</td>\n",
       "      <td>0.0</td>\n",
       "      <td>3559.390522</td>\n",
       "      <td>3641.900377</td>\n",
       "      <td>0.0</td>\n",
       "    </tr>\n",
       "    <tr>\n",
       "      <th>9303</th>\n",
       "      <td>929651</td>\n",
       "      <td>0</td>\n",
       "      <td>0</td>\n",
       "      <td>0</td>\n",
       "      <td>0</td>\n",
       "      <td>2022-08-04 13:24:38.581</td>\n",
       "      <td>0.0</td>\n",
       "      <td>-0.0</td>\n",
       "      <td>0.0</td>\n",
       "      <td>3559.489522</td>\n",
       "      <td>3641.999377</td>\n",
       "      <td>0.0</td>\n",
       "    </tr>\n",
       "    <tr>\n",
       "      <th>9304</th>\n",
       "      <td>929751</td>\n",
       "      <td>0</td>\n",
       "      <td>0</td>\n",
       "      <td>0</td>\n",
       "      <td>0</td>\n",
       "      <td>2022-08-04 13:24:38.681</td>\n",
       "      <td>0.0</td>\n",
       "      <td>-0.0</td>\n",
       "      <td>0.0</td>\n",
       "      <td>3559.589522</td>\n",
       "      <td>3642.099377</td>\n",
       "      <td>0.0</td>\n",
       "    </tr>\n",
       "    <tr>\n",
       "      <th>9305</th>\n",
       "      <td>929851</td>\n",
       "      <td>0</td>\n",
       "      <td>0</td>\n",
       "      <td>0</td>\n",
       "      <td>0</td>\n",
       "      <td>2022-08-04 13:24:38.781</td>\n",
       "      <td>0.0</td>\n",
       "      <td>-0.0</td>\n",
       "      <td>0.0</td>\n",
       "      <td>3559.689522</td>\n",
       "      <td>3642.199377</td>\n",
       "      <td>0.0</td>\n",
       "    </tr>\n",
       "  </tbody>\n",
       "</table>\n",
       "<p>32249 rows × 12 columns</p>\n",
       "</div>"
      ],
      "text/plain": [
       "      Time Stamp (ms)  qw  qx  qy  qz              Timestamps  roll  pitch  \\\n",
       "0                  -3   0   0   0   0 2022-08-04 12:24:53.256   0.0   -0.0   \n",
       "1                  99   0   0   0   0 2022-08-04 12:24:53.358   0.0   -0.0   \n",
       "2                 196   0   0   0   0 2022-08-04 12:24:53.455   0.0   -0.0   \n",
       "3                 297   0   0   0   0 2022-08-04 12:24:53.556   0.0   -0.0   \n",
       "4                 397   0   0   0   0 2022-08-04 12:24:53.656   0.0   -0.0   \n",
       "...               ...  ..  ..  ..  ..                     ...   ...    ...   \n",
       "9301           929451   0   0   0   0 2022-08-04 13:24:38.381   0.0   -0.0   \n",
       "9302           929552   0   0   0   0 2022-08-04 13:24:38.482   0.0   -0.0   \n",
       "9303           929651   0   0   0   0 2022-08-04 13:24:38.581   0.0   -0.0   \n",
       "9304           929751   0   0   0   0 2022-08-04 13:24:38.681   0.0   -0.0   \n",
       "9305           929851   0   0   0   0 2022-08-04 13:24:38.781   0.0   -0.0   \n",
       "\n",
       "      yaw  Rough eeg time (s)  Time from OE start  Head speed  \n",
       "0     0.0           56.674354           56.674377         NaN  \n",
       "1     0.0           56.776354           56.776377         0.0  \n",
       "2     0.0           56.873354           56.873377         0.0  \n",
       "3     0.0           56.974354           56.974377         0.0  \n",
       "4     0.0           57.074354           57.074377         0.0  \n",
       "...   ...                 ...                 ...         ...  \n",
       "9301  0.0         3559.289522         3641.799377         0.0  \n",
       "9302  0.0         3559.390522         3641.900377         0.0  \n",
       "9303  0.0         3559.489522         3641.999377         0.0  \n",
       "9304  0.0         3559.589522         3642.099377         0.0  \n",
       "9305  0.0         3559.689522         3642.199377         0.0  \n",
       "\n",
       "[32249 rows x 12 columns]"
      ]
     },
     "execution_count": 24,
     "metadata": {},
     "output_type": "execute_result"
    }
   ],
   "source": [
    "rough_headsensor_times = (mini.orient_all[\"Timestamps\"].dt.tz_localize(tz=\"America/Detroit\") - sync_df.loc[0, \"Datetime\"]).dt.total_seconds()\n",
    "mini.orient_all[\"Time from OE start\"] = rough_headsensor_times\n",
    "mini.orient_all\n",
    "\n",
    "# Key line of code - converts miniscope time (which doesn't account for disconnects) to eeg time (which cuts out disconnect times)\n",
    "mini.orient_all[\"Rough eeg time (s)\"] = np.interp(mini.orient_all[\"Time from OE start\"], sync_df[\"Time since rec start (sec)\"], \n",
    "                                            sync_df[\"eeg_time\"])\n",
    "mini.orient_all"
   ]
  },
  {
   "cell_type": "code",
   "execution_count": 34,
   "id": "b7a4f90b-ca2c-4cf8-b86d-a6f68705e6fe",
   "metadata": {},
   "outputs": [
    {
     "ename": "KeyError",
     "evalue": "'Time from OE start'",
     "output_type": "error",
     "traceback": [
      "\u001b[0;31m---------------------------------------------------------------------------\u001b[0m",
      "\u001b[0;31mKeyError\u001b[0m                                  Traceback (most recent call last)",
      "File \u001b[0;32m~/miniforge3/envs/NeuroPy/lib/python3.11/site-packages/pandas/core/indexes/base.py:3802\u001b[0m, in \u001b[0;36mIndex.get_loc\u001b[0;34m(self, key, method, tolerance)\u001b[0m\n\u001b[1;32m   3801\u001b[0m \u001b[38;5;28;01mtry\u001b[39;00m:\n\u001b[0;32m-> 3802\u001b[0m     \u001b[38;5;28;01mreturn\u001b[39;00m \u001b[38;5;28;43mself\u001b[39;49m\u001b[38;5;241;43m.\u001b[39;49m\u001b[43m_engine\u001b[49m\u001b[38;5;241;43m.\u001b[39;49m\u001b[43mget_loc\u001b[49m\u001b[43m(\u001b[49m\u001b[43mcasted_key\u001b[49m\u001b[43m)\u001b[49m\n\u001b[1;32m   3803\u001b[0m \u001b[38;5;28;01mexcept\u001b[39;00m \u001b[38;5;167;01mKeyError\u001b[39;00m \u001b[38;5;28;01mas\u001b[39;00m err:\n",
      "File \u001b[0;32m~/miniforge3/envs/NeuroPy/lib/python3.11/site-packages/pandas/_libs/index.pyx:138\u001b[0m, in \u001b[0;36mpandas._libs.index.IndexEngine.get_loc\u001b[0;34m()\u001b[0m\n",
      "File \u001b[0;32m~/miniforge3/envs/NeuroPy/lib/python3.11/site-packages/pandas/_libs/index.pyx:165\u001b[0m, in \u001b[0;36mpandas._libs.index.IndexEngine.get_loc\u001b[0;34m()\u001b[0m\n",
      "File \u001b[0;32mpandas/_libs/hashtable_class_helper.pxi:5745\u001b[0m, in \u001b[0;36mpandas._libs.hashtable.PyObjectHashTable.get_item\u001b[0;34m()\u001b[0m\n",
      "File \u001b[0;32mpandas/_libs/hashtable_class_helper.pxi:5753\u001b[0m, in \u001b[0;36mpandas._libs.hashtable.PyObjectHashTable.get_item\u001b[0;34m()\u001b[0m\n",
      "\u001b[0;31mKeyError\u001b[0m: 'Time from OE start'",
      "\nThe above exception was the direct cause of the following exception:\n",
      "\u001b[0;31mKeyError\u001b[0m                                  Traceback (most recent call last)",
      "Cell \u001b[0;32mIn[34], line 1\u001b[0m\n\u001b[0;32m----> 1\u001b[0m \u001b[43mmini\u001b[49m\u001b[38;5;241;43m.\u001b[39;49m\u001b[43morient_all\u001b[49m\u001b[43m[\u001b[49m\u001b[38;5;124;43m\"\u001b[39;49m\u001b[38;5;124;43mTime from OE start\u001b[39;49m\u001b[38;5;124;43m\"\u001b[39;49m\u001b[43m]\u001b[49m\n",
      "File \u001b[0;32m~/miniforge3/envs/NeuroPy/lib/python3.11/site-packages/pandas/core/frame.py:3807\u001b[0m, in \u001b[0;36mDataFrame.__getitem__\u001b[0;34m(self, key)\u001b[0m\n\u001b[1;32m   3805\u001b[0m \u001b[38;5;28;01mif\u001b[39;00m \u001b[38;5;28mself\u001b[39m\u001b[38;5;241m.\u001b[39mcolumns\u001b[38;5;241m.\u001b[39mnlevels \u001b[38;5;241m>\u001b[39m \u001b[38;5;241m1\u001b[39m:\n\u001b[1;32m   3806\u001b[0m     \u001b[38;5;28;01mreturn\u001b[39;00m \u001b[38;5;28mself\u001b[39m\u001b[38;5;241m.\u001b[39m_getitem_multilevel(key)\n\u001b[0;32m-> 3807\u001b[0m indexer \u001b[38;5;241m=\u001b[39m \u001b[38;5;28;43mself\u001b[39;49m\u001b[38;5;241;43m.\u001b[39;49m\u001b[43mcolumns\u001b[49m\u001b[38;5;241;43m.\u001b[39;49m\u001b[43mget_loc\u001b[49m\u001b[43m(\u001b[49m\u001b[43mkey\u001b[49m\u001b[43m)\u001b[49m\n\u001b[1;32m   3808\u001b[0m \u001b[38;5;28;01mif\u001b[39;00m is_integer(indexer):\n\u001b[1;32m   3809\u001b[0m     indexer \u001b[38;5;241m=\u001b[39m [indexer]\n",
      "File \u001b[0;32m~/miniforge3/envs/NeuroPy/lib/python3.11/site-packages/pandas/core/indexes/base.py:3804\u001b[0m, in \u001b[0;36mIndex.get_loc\u001b[0;34m(self, key, method, tolerance)\u001b[0m\n\u001b[1;32m   3802\u001b[0m     \u001b[38;5;28;01mreturn\u001b[39;00m \u001b[38;5;28mself\u001b[39m\u001b[38;5;241m.\u001b[39m_engine\u001b[38;5;241m.\u001b[39mget_loc(casted_key)\n\u001b[1;32m   3803\u001b[0m \u001b[38;5;28;01mexcept\u001b[39;00m \u001b[38;5;167;01mKeyError\u001b[39;00m \u001b[38;5;28;01mas\u001b[39;00m err:\n\u001b[0;32m-> 3804\u001b[0m     \u001b[38;5;28;01mraise\u001b[39;00m \u001b[38;5;167;01mKeyError\u001b[39;00m(key) \u001b[38;5;28;01mfrom\u001b[39;00m \u001b[38;5;21;01merr\u001b[39;00m\n\u001b[1;32m   3805\u001b[0m \u001b[38;5;28;01mexcept\u001b[39;00m \u001b[38;5;167;01mTypeError\u001b[39;00m:\n\u001b[1;32m   3806\u001b[0m     \u001b[38;5;66;03m# If we have a listlike key, _check_indexing_error will raise\u001b[39;00m\n\u001b[1;32m   3807\u001b[0m     \u001b[38;5;66;03m#  InvalidIndexError. Otherwise we fall through and re-raise\u001b[39;00m\n\u001b[1;32m   3808\u001b[0m     \u001b[38;5;66;03m#  the TypeError.\u001b[39;00m\n\u001b[1;32m   3809\u001b[0m     \u001b[38;5;28mself\u001b[39m\u001b[38;5;241m.\u001b[39m_check_indexing_error(key)\n",
      "\u001b[0;31mKeyError\u001b[0m: 'Time from OE start'"
     ]
    }
   ],
   "source": [
    "mini.orient_all[\"Time from OE start\"]"
   ]
  },
  {
   "cell_type": "code",
   "execution_count": 28,
   "id": "8bcf6e1e-5caf-42ed-aeaf-14b5e84e24c4",
   "metadata": {
    "scrolled": true
   },
   "outputs": [
    {
     "data": {
      "text/html": [
       "<div>\n",
       "<style scoped>\n",
       "    .dataframe tbody tr th:only-of-type {\n",
       "        vertical-align: middle;\n",
       "    }\n",
       "\n",
       "    .dataframe tbody tr th {\n",
       "        vertical-align: top;\n",
       "    }\n",
       "\n",
       "    .dataframe thead th {\n",
       "        text-align: right;\n",
       "    }\n",
       "</style>\n",
       "<table border=\"1\" class=\"dataframe\">\n",
       "  <thead>\n",
       "    <tr style=\"text-align: right;\">\n",
       "      <th></th>\n",
       "      <th>Time Stamp (ms)</th>\n",
       "      <th>qw</th>\n",
       "      <th>qx</th>\n",
       "      <th>qy</th>\n",
       "      <th>qz</th>\n",
       "      <th>Timestamps</th>\n",
       "      <th>roll</th>\n",
       "      <th>pitch</th>\n",
       "      <th>yaw</th>\n",
       "    </tr>\n",
       "  </thead>\n",
       "  <tbody>\n",
       "    <tr>\n",
       "      <th>0</th>\n",
       "      <td>-3</td>\n",
       "      <td>0</td>\n",
       "      <td>0</td>\n",
       "      <td>0</td>\n",
       "      <td>0</td>\n",
       "      <td>2022-08-04 12:24:53.256</td>\n",
       "      <td>0.0</td>\n",
       "      <td>-0.0</td>\n",
       "      <td>0.0</td>\n",
       "    </tr>\n",
       "    <tr>\n",
       "      <th>1</th>\n",
       "      <td>99</td>\n",
       "      <td>0</td>\n",
       "      <td>0</td>\n",
       "      <td>0</td>\n",
       "      <td>0</td>\n",
       "      <td>2022-08-04 12:24:53.358</td>\n",
       "      <td>0.0</td>\n",
       "      <td>-0.0</td>\n",
       "      <td>0.0</td>\n",
       "    </tr>\n",
       "    <tr>\n",
       "      <th>2</th>\n",
       "      <td>196</td>\n",
       "      <td>0</td>\n",
       "      <td>0</td>\n",
       "      <td>0</td>\n",
       "      <td>0</td>\n",
       "      <td>2022-08-04 12:24:53.455</td>\n",
       "      <td>0.0</td>\n",
       "      <td>-0.0</td>\n",
       "      <td>0.0</td>\n",
       "    </tr>\n",
       "    <tr>\n",
       "      <th>3</th>\n",
       "      <td>297</td>\n",
       "      <td>0</td>\n",
       "      <td>0</td>\n",
       "      <td>0</td>\n",
       "      <td>0</td>\n",
       "      <td>2022-08-04 12:24:53.556</td>\n",
       "      <td>0.0</td>\n",
       "      <td>-0.0</td>\n",
       "      <td>0.0</td>\n",
       "    </tr>\n",
       "    <tr>\n",
       "      <th>4</th>\n",
       "      <td>397</td>\n",
       "      <td>0</td>\n",
       "      <td>0</td>\n",
       "      <td>0</td>\n",
       "      <td>0</td>\n",
       "      <td>2022-08-04 12:24:53.656</td>\n",
       "      <td>0.0</td>\n",
       "      <td>-0.0</td>\n",
       "      <td>0.0</td>\n",
       "    </tr>\n",
       "    <tr>\n",
       "      <th>...</th>\n",
       "      <td>...</td>\n",
       "      <td>...</td>\n",
       "      <td>...</td>\n",
       "      <td>...</td>\n",
       "      <td>...</td>\n",
       "      <td>...</td>\n",
       "      <td>...</td>\n",
       "      <td>...</td>\n",
       "      <td>...</td>\n",
       "    </tr>\n",
       "    <tr>\n",
       "      <th>9301</th>\n",
       "      <td>929451</td>\n",
       "      <td>0</td>\n",
       "      <td>0</td>\n",
       "      <td>0</td>\n",
       "      <td>0</td>\n",
       "      <td>2022-08-04 13:24:38.381</td>\n",
       "      <td>0.0</td>\n",
       "      <td>-0.0</td>\n",
       "      <td>0.0</td>\n",
       "    </tr>\n",
       "    <tr>\n",
       "      <th>9302</th>\n",
       "      <td>929552</td>\n",
       "      <td>0</td>\n",
       "      <td>0</td>\n",
       "      <td>0</td>\n",
       "      <td>0</td>\n",
       "      <td>2022-08-04 13:24:38.482</td>\n",
       "      <td>0.0</td>\n",
       "      <td>-0.0</td>\n",
       "      <td>0.0</td>\n",
       "    </tr>\n",
       "    <tr>\n",
       "      <th>9303</th>\n",
       "      <td>929651</td>\n",
       "      <td>0</td>\n",
       "      <td>0</td>\n",
       "      <td>0</td>\n",
       "      <td>0</td>\n",
       "      <td>2022-08-04 13:24:38.581</td>\n",
       "      <td>0.0</td>\n",
       "      <td>-0.0</td>\n",
       "      <td>0.0</td>\n",
       "    </tr>\n",
       "    <tr>\n",
       "      <th>9304</th>\n",
       "      <td>929751</td>\n",
       "      <td>0</td>\n",
       "      <td>0</td>\n",
       "      <td>0</td>\n",
       "      <td>0</td>\n",
       "      <td>2022-08-04 13:24:38.681</td>\n",
       "      <td>0.0</td>\n",
       "      <td>-0.0</td>\n",
       "      <td>0.0</td>\n",
       "    </tr>\n",
       "    <tr>\n",
       "      <th>9305</th>\n",
       "      <td>929851</td>\n",
       "      <td>0</td>\n",
       "      <td>0</td>\n",
       "      <td>0</td>\n",
       "      <td>0</td>\n",
       "      <td>2022-08-04 13:24:38.781</td>\n",
       "      <td>0.0</td>\n",
       "      <td>-0.0</td>\n",
       "      <td>0.0</td>\n",
       "    </tr>\n",
       "  </tbody>\n",
       "</table>\n",
       "<p>32249 rows × 9 columns</p>\n",
       "</div>"
      ],
      "text/plain": [
       "      Time Stamp (ms)  qw  qx  qy  qz              Timestamps  roll  pitch  \\\n",
       "0                  -3   0   0   0   0 2022-08-04 12:24:53.256   0.0   -0.0   \n",
       "1                  99   0   0   0   0 2022-08-04 12:24:53.358   0.0   -0.0   \n",
       "2                 196   0   0   0   0 2022-08-04 12:24:53.455   0.0   -0.0   \n",
       "3                 297   0   0   0   0 2022-08-04 12:24:53.556   0.0   -0.0   \n",
       "4                 397   0   0   0   0 2022-08-04 12:24:53.656   0.0   -0.0   \n",
       "...               ...  ..  ..  ..  ..                     ...   ...    ...   \n",
       "9301           929451   0   0   0   0 2022-08-04 13:24:38.381   0.0   -0.0   \n",
       "9302           929552   0   0   0   0 2022-08-04 13:24:38.482   0.0   -0.0   \n",
       "9303           929651   0   0   0   0 2022-08-04 13:24:38.581   0.0   -0.0   \n",
       "9304           929751   0   0   0   0 2022-08-04 13:24:38.681   0.0   -0.0   \n",
       "9305           929851   0   0   0   0 2022-08-04 13:24:38.781   0.0   -0.0   \n",
       "\n",
       "      yaw  \n",
       "0     0.0  \n",
       "1     0.0  \n",
       "2     0.0  \n",
       "3     0.0  \n",
       "4     0.0  \n",
       "...   ...  \n",
       "9301  0.0  \n",
       "9302  0.0  \n",
       "9303  0.0  \n",
       "9304  0.0  \n",
       "9305  0.0  \n",
       "\n",
       "[32249 rows x 9 columns]"
      ]
     },
     "execution_count": 28,
     "metadata": {},
     "output_type": "execute_result"
    }
   ],
   "source": [
    "mini.orient_all"
   ]
  },
  {
   "cell_type": "code",
   "execution_count": 15,
   "id": "613804a4-0d4a-4109-8a7a-b18a178e469f",
   "metadata": {},
   "outputs": [
    {
     "data": {
      "text/plain": [
       "array([ 117.763277,  180.450677,  252.285743,  328.18071 ,  397.971877,\n",
       "        465.747343,  541.642243,  608.37311 ,  681.224277,  743.927177,\n",
       "        822.850977,  885.55391 ,  951.301277, 1013.972877, 1075.66051 ])"
      ]
     },
     "execution_count": 15,
     "metadata": {},
     "output_type": "execute_result"
    }
   ],
   "source": [
    "cs_epochs_file = sess.filePrefix.with_suffix(\".cs_epochs.npy\")\n",
    "sess.cs_epochs = Epoch(epochs=None, file=cs_epochs_file)\n",
    "sess.cs_epochs.starts"
   ]
  },
  {
   "cell_type": "code",
   "execution_count": 17,
   "id": "64f3354c-de20-402c-afa6-e228a334cb2b",
   "metadata": {},
   "outputs": [
    {
     "data": {
      "text/plain": [
       "array([1360.769591, 1441.707158, 1513.543525, 1589.437758, 1665.301958,\n",
       "       1732.063091, 1812.017291, 1885.866725, 1952.628925, 2031.567791,\n",
       "       2112.520691, 2192.475091])"
      ]
     },
     "execution_count": 17,
     "metadata": {},
     "output_type": "execute_result"
    }
   ],
   "source": [
    "csn_epochs_file = sess.filePrefix.with_suffix(\".csn_epochs.npy\")\n",
    "sess.csn_epochs = Epoch(epochs=None, file=csn_epochs_file)\n",
    "sess.csn_epochs.starts"
   ]
  },
  {
   "cell_type": "code",
   "execution_count": 18,
   "id": "016f4883-fe96-4b6b-b9fb-9dc61b80ebdc",
   "metadata": {},
   "outputs": [
    {
     "data": {
      "text/plain": [
       "array([2269.384858, 2347.294525, 2424.204825])"
      ]
     },
     "execution_count": 18,
     "metadata": {},
     "output_type": "execute_result"
    }
   ],
   "source": [
    "cs2_epochs_file = sess.filePrefix.with_suffix(\".cs2_epochs.npy\")\n",
    "sess.cs2_epochs = Epoch(epochs=None, file=cs2_epochs_file)\n",
    "sess.cs2_epochs.starts"
   ]
  },
  {
   "cell_type": "code",
   "execution_count": 19,
   "id": "1fb9c848-f751-4421-806b-36b66303e50e",
   "metadata": {},
   "outputs": [
    {
     "data": {
      "application/vnd.jupyter.widget-view+json": {
       "model_id": "cd9159ff533a4321bd4befc049037906",
       "version_major": 2,
       "version_minor": 0
      },
      "image/png": "[encoded data removed]",
      "text/html": [
       "\n",
       "            <div style=\"display: inline-block;\">\n",
       "                <div class=\"jupyter-widgets widget-label\" style=\"text-align: center;\">\n",
       "                    Figure\n",
       "                </div>\n",
       "                <img src='data:image/png;base64,iVBORw0KGgoAAAANSUhEUgAAAoAAAAHgCAYAAAA10dzkAAAAOXRFWHRTb2Z0d2FyZQBNYXRwbG90bGliIHZlcnNpb24zLjguMCwgaHR0cHM6Ly9tYXRwbG90bGliLm9yZy81sbWrAAAACXBIWXMAAA9hAAAPYQGoP6dpAAAlnElEQVR4nO3ce3CV9Z348U8QSNRCqiIJ0YDRtoKLum1YMcxS7MUI1ktX7eKlWTsKK8tYCrTTEWkHandFXYfNOqhsKVadWnV2kK4zZRniqtQuwQuXimgZf1sEqkSExYRWDbfn94fL2Y25kEjMhe/r1cmM5zmf58n3e85pfHtyycuyLAsAAJLRp7sXAABA1xKAAACJEYAAAIkRgAAAiRGAAACJEYAAAIkRgAAAiRGAAACJEYAAAIkRgAAAiRGAAACJEYAAAIkRgAAAiRGAAACJEYAAAIkRgAAAiRGAAACJEYAAAIkRgAAAiRGAAACJEYAAAIkRgAAAiRGAAACJEYAAAIkRgAAAiRGAAACJEYAAAIkRgAAAiRGAAACJEYAAAIkRgAAAiRGAAACJEYAAAIkRgAAAiRGAAACJEYAAAIkRgAAAiRGAAACJEYAAAIkRgAAAiRGAAACJEYAAAIkRgAAAiRGAAACJEYAAAIkRgAAAiRGAAACJEYAAAIkRgAAAiRGAAACJEYAAAIkRgAAAiRGAAACJEYAAAIkRgAAAiRGAAACJ6dvdC+jNDh48GG+99VYMGDAg8vLyuns5AEA7ZFkWe/bsiZKSkujTJ833wgTgEXjrrbeitLS0u5cBAHwM27Zti1NPPbW7l9EtBOARGDBgQER8+AIaOHBg133i+vqIf/3X/739jW9EFBa2//6W5toz09pcR2da+1wfZ00fd6az1tMZe++stXaR+qiPf43/3fM34htRGC2v6f/OtjbXnpnOnPs41znS9Xf1Hju6h4/1NaMz5qCbNDQ0RGlpae7f4ykSgEfg0Ld9Bw4c2LUBmGURxx4bkZ8f0dgYMXDghx/tvf+jcxGHn2nrWh2ZaetzdXRNRzLTWevpjL131lq7SBZZHBvHRn7kR2M0xsD/+V9bsxHR6lx7ZjpzrqPXOdw+e+IeO7qHDn/N6Kw56GYp//hWmt/4BgBImAAEAEiMAAQASIwABABIjAAEAEiMAAQASIwABABIjAAEAEiMAAQASIwABABIjAAEAEiMAAQASIwABABIjAAEAEiMAAQASIwABABIjAAEAEiMAAQASIwABABIjAAEAEiMAAQASIwABABIjAAEAEiMAAQASIwABABIjAAEAEiMAAQASIwABABIjAAEAEiMAAQASIwABABIjAAEAEiMAAQASIwABABIjAAEAEiMAAQASIwABABIjAAEAEiMAAQASIwABABIjAAEAEiMAAQASIwABABITK8JwPvuuy/KysqioKAgysvL47nnnmtzfuXKlVFeXh4FBQVx+umnx8KFC1udfeyxxyIvLy++/vWvd/KqAQB6nl4RgI8//nhMnz49Zs+eHevWrYuxY8fGhAkTYuvWrS3Ob968OS6++OIYO3ZsrFu3Lm699daYNm1aLFmypNnsli1b4nvf+16MHTv2k94GAECP0CsCcP78+XHjjTfGpEmTYsSIEVFdXR2lpaVx//33tzi/cOHCGDp0aFRXV8eIESNi0qRJccMNN8Tdd9/dZO7AgQNx3XXXxY9+9KM4/fTTu2IrAADdrscH4N69e2PNmjVRWVnZ5HhlZWWsWrWqxXNqa2ubzV900UXx0ksvxb59+3LHbrvttjj55JPjxhtvbNdaGhsbo6GhockHAEBv0+MDcOfOnXHgwIEoKipqcryoqCjq6upaPKeurq7F+f3798fOnTsjIuI///M/Y/HixbFo0aJ2r2XevHlRWFiY+ygtLe3gbgAAul+PD8BD8vLymtzOsqzZscPNHzq+Z8+e+OY3vxmLFi2KQYMGtXsNs2bNivr6+tzHtm3bOrADAICeoW93L+BwBg0aFMccc0yzd/t27NjR7F2+Q4qLi1uc79u3b5x00kmxcePGeOONN+LSSy/N3X/w4MGIiOjbt29s2rQpzjjjjGbXzc/Pj/z8/CPdEgBAt+rx7wD2798/ysvLo6ampsnxmpqaGDNmTIvnVFRUNJtfsWJFjBo1Kvr16xfDhw+PDRs2xPr163Mfl112WXzpS1+K9evX+9YuAHBU6/HvAEZEzJw5M6qqqmLUqFFRUVERP/nJT2Lr1q0xZcqUiPjwW7NvvvlmPPzwwxERMWXKlFiwYEHMnDkzJk+eHLW1tbF48eJ49NFHIyKioKAgRo4c2eRzfPrTn46IaHYcAOBo0ysCcOLEibFr16647bbbYvv27TFy5MhYtmxZDBs2LCIitm/f3uRvApaVlcWyZctixowZce+990ZJSUncc889ceWVV3bXFgAAeoxeEYAREVOnTo2pU6e2eN+DDz7Y7Ni4ceNi7dq17b5+S9cAADga9fifAQQAoHMJQACAxAhAAIDECEAAgMQIQACAxAhAAIDECEAAgMQIQACAxAhAAIDECEAAgMQIQACAxAhAAIDECEAAgMQIQACAxAhAAIDECEAAgMQIQACAxAhAAIDECEAAgMQIQACAxAhAAIDECEAAgMQIQACAxAhAAIDECEAAgMQIQACAxAhAAIDECEAAgMQIQACAxAhAAIDECEAAgMQIQACAxAhAAIDECEAAgMQIQACAxAhAAIDECEAAgMQIQACAxAhAAIDECEAAgMQIQACAxAhAAIDECEAAgMQIQACAxAhAAIDECEAAgMQIQACAxAhAAIDECEAAgMQIQACAxAhAAIDECEAAgMQIQACAxAhAAIDECEAAgMQIQACAxPSaALzvvvuirKwsCgoKory8PJ577rk251euXBnl5eVRUFAQp59+eixcuLDJ/YsWLYqxY8fGCSecECeccEJ89atfjRdeeOGT3AIAQI/QKwLw8ccfj+nTp8fs2bNj3bp1MXbs2JgwYUJs3bq1xfnNmzfHxRdfHGPHjo1169bFrbfeGtOmTYslS5bkZp599tm45ppr4plnnona2toYOnRoVFZWxptvvtlV2wIA6Ba9IgDnz58fN954Y0yaNClGjBgR1dXVUVpaGvfff3+L8wsXLoyhQ4dGdXV1jBgxIiZNmhQ33HBD3H333bmZRx55JKZOnRp//ud/HsOHD49FixbFwYMH4z/+4z+6alsAAN2ixwfg3r17Y82aNVFZWdnkeGVlZaxatarFc2pra5vNX3TRRfHSSy/Fvn37Wjznvffei3379sWJJ57Y6loaGxujoaGhyQcAQG/T4wNw586dceDAgSgqKmpyvKioKOrq6lo8p66ursX5/fv3x86dO1s855ZbbolTTjklvvrVr7a6lnnz5kVhYWHuo7S0tIO7AQDofj0+AA/Jy8trcjvLsmbHDjff0vGIiLvuuiseffTReOKJJ6KgoKDVa86aNSvq6+tzH9u2bevIFgAAeoS+3b2Awxk0aFAcc8wxzd7t27FjR7N3+Q4pLi5ucb5v375x0kknNTl+9913x+233x5PPfVUnHPOOW2uJT8/P/Lz8z/GLgAAeo4e/w5g//79o7y8PGpqapocr6mpiTFjxrR4TkVFRbP5FStWxKhRo6Jfv365Y//4j/8YP/7xj2P58uUxatSozl88AEAP1OMDMCJi5syZ8dOf/jQeeOCBeO2112LGjBmxdevWmDJlSkR8+K3Zv/mbv8nNT5kyJbZs2RIzZ86M1157LR544IFYvHhxfO9738vN3HXXXfGDH/wgHnjggTjttNOirq4u6urq4o9//GOX7w8AoCv1+G8BR0RMnDgxdu3aFbfddlts3749Ro4cGcuWLYthw4ZFRMT27dub/E3AsrKyWLZsWcyYMSPuvffeKCkpiXvuuSeuvPLK3Mx9990Xe/fujauuuqrJ55ozZ07MnTu3S/YFANAdekUARkRMnTo1pk6d2uJ9Dz74YLNj48aNi7Vr17Z6vTfeeKOTVgYA0Lv0im8BAwDQeQQgAEBiBCAAQGIEIABAYgQgAEBiBCAAQGIEIABAYgQgAEBiBCAAQGIEIABAYgQgAEBiBCAAQGIEIABAYgQgAEBiBCAAQGIEIABAYgQgAEBiBCAAQGIEIABAYgQgAEBiBCAAQGIEIABAYgQgAEBiBCAAQGIEIABAYgQgAEBiBCAAQGIEIABAYgQgAEBiBCAAQGIEIABAYgQgAEBiBCAAQGIEIABAYgQgAEBiBCAAQGIEIABAYgQgAEBiBCAAQGIEIABAYgQgAEBiBCAAQGIEIABAYgQgAEBiBCAAQGIEIABAYgQgAEBiBCAAQGIEIABAYgQgAEBiBCAAQGIEIABAYgQgAEBiBCAAQGIEIABAYgQgAEBiek0A3nfffVFWVhYFBQVRXl4ezz33XJvzK1eujPLy8igoKIjTTz89Fi5c2GxmyZIlcdZZZ0V+fn6cddZZsXTp0k9q+QAAPUavCMDHH388pk+fHrNnz45169bF2LFjY8KECbF169YW5zdv3hwXX3xxjB07NtatWxe33nprTJs2LZYsWZKbqa2tjYkTJ0ZVVVX89re/jaqqqvjrv/7reP7557tqWwAA3aJXBOD8+fPjxhtvjEmTJsWIESOiuro6SktL4/77729xfuHChTF06NCorq6OESNGxKRJk+KGG26Iu+++OzdTXV0dF154YcyaNSuGDx8es2bNiq985StRXV3dRbsCAOgefbt7AYezd+/eWLNmTdxyyy1NjldWVsaqVataPKe2tjYqKyubHLvoooti8eLFsW/fvujXr1/U1tbGjBkzms20FYCNjY3R2NiYu93Q0NDB3bTP8le2x/JX6lof2LcvYudJEX36RBw8GPHkpoh+/dp//0fnIg4/09a1OjLT1ufq6JqOZKaz1tMZe++stXaRvbEv3oiT4pjoEwfiYGyITdE/Wl7TodmIaHWuPTOdOdfR6xxunz1xjx3dQ4e/ZnTWHLTD+JHFMX7kkO5exlGnxwfgzp0748CBA1FUVNTkeFFRUdTVtRxJdXV1Lc7v378/du7cGUOGDGl1prVrRkTMmzcvfvSjH33MnbTf7+r2xC/Xv3WYqeP/9x83vvMx7v/IXHtm2pzrwEybn6uDazqimc5aT2fsvbPW2lX+d8+vRvsev7bn2jPTmXMdu87hZ3viHpvOtXd9EdEJXw86MgdtO23Q8QLwE9DjA/CQvLy8JrezLGt27HDzHz3e0WvOmjUrZs6cmbvd0NAQpaWlh198B4397Mnxqfw2npoPPohYuzaib9+I/fsjvvCFiIKC9t//0bmIw8+0da2OzLT1uTq6piOZ6az1dMbeO2utXeSD+CDWxtroG31jf+yPL8QXoiBaXtOh2Yhoda49M50519HrHG6fPXGPHd1Dh79mdNYctMPnh57Q3Us4KvX4ABw0aFAcc8wxzd6Z27FjR7N38A4pLi5ucb5v375x0kkntTnT2jUjIvLz8yM/P//jbKNDyoedEOXD2njB19dH/L+VEfn5EY2NEeedElFY2P77PzoXcfiZtq7VkZm2PldH13QkM521ns7Ye2ettYvUR30cEysjP/KjMRrj2jglCqPlNR2ajYhW59oz05lzHb3O4fbZE/fY0T10+GtGZ80B3abH/xJI//79o7y8PGpqapocr6mpiTFjxrR4TkVFRbP5FStWxKhRo6Lf//wcSmszrV0TAOBo0ePfAYyImDlzZlRVVcWoUaOioqIifvKTn8TWrVtjypQpEfHht2bffPPNePjhhyMiYsqUKbFgwYKYOXNmTJ48OWpra2Px4sXx6KOP5q75ne98J774xS/GnXfeGZdffnn827/9Wzz11FPxm9/8plv2CADQVXpFAE6cODF27doVt912W2zfvj1GjhwZy5Yti2HDhkVExPbt25v8TcCysrJYtmxZzJgxI+69994oKSmJe+65J6688srczJgxY+Kxxx6LH/zgB/HDH/4wzjjjjHj88cdj9OjRXb4/AICu1CsCMCJi6tSpMXXq1Bbve/DBB5sdGzduXKw99IPzrbjqqqviqquu6ozlAQD0Gj3+ZwABAOhcAhAAIDECEAAgMQIQACAxAhAAIDECEAAgMQIQACAxAhAAIDECEAAgMQIQACAxAhAAIDECEAAgMQIQACAxAhAAIDECEAAgMQIQACAxAhAAIDECEAAgMQIQACAxAhAAIDECEAAgMQIQACAxAhAAIDECEAAgMQIQACAxAhAAIDECEAAgMQIQACAxAhAAIDECEAAgMQIQACAxAhAAIDECEAAgMQIQACAxAhAAIDECEAAgMQIQACAxAhAAIDECEAAgMQIQACAxAhAAIDECEAAgMQIQACAxAhAAIDECEAAgMQIQACAxAhAAIDECEAAgMQIQACAxAhAAIDECEAAgMQIQACAxAhAAIDECEAAgMQIQACAxAhAAIDE9PgB3794dVVVVUVhYGIWFhVFVVRXvvvtum+dkWRZz586NkpKSOPbYY+OCCy6IjRs35u7/7//+7/j2t78dZ555Zhx33HExdOjQmDZtWtTX13/CuwEA6H49PgCvvfbaWL9+fSxfvjyWL18e69evj6qqqjbPueuuu2L+/PmxYMGCePHFF6O4uDguvPDC2LNnT0REvPXWW/HWW2/F3XffHRs2bIgHH3wwli9fHjfeeGNXbAkAoFv17e4FtOW1116L5cuXx+rVq2P06NEREbFo0aKoqKiITZs2xZlnntnsnCzLorq6OmbPnh1XXHFFREQ89NBDUVRUFL/4xS/ipptuipEjR8aSJUty55xxxhnxD//wD/HNb34z9u/fH3379uiHBQDgiPTodwBra2ujsLAwF38REeeff34UFhbGqlWrWjxn8+bNUVdXF5WVlblj+fn5MW7cuFbPiYior6+PgQMHij8A4KjXo2unrq4uBg8e3Oz44MGDo66urtVzIiKKioqaHC8qKootW7a0eM6uXbvixz/+cdx0001trqexsTEaGxtztxsaGtqcBwDoibrlHcC5c+dGXl5emx8vvfRSRETk5eU1Oz/LshaP/18fvb+1cxoaGuJrX/tanHXWWTFnzpw2rzlv3rzcL6MUFhZGaWnp4bYKANDjdMs7gDfffHNcffXVbc6cdtpp8fLLL8fbb7/d7L533nmn2Tt8hxQXF0fEh+8EDhkyJHd8x44dzc7Zs2dPjB8/Pj71qU/F0qVLo1+/fm2uadasWTFz5szc7YaGBhEIAPQ63RKAgwYNikGDBh12rqKiIurr6+OFF16I8847LyIinn/++aivr48xY8a0eE5ZWVkUFxdHTU1NfP7zn4+IiL1798bKlSvjzjvvzM01NDTERRddFPn5+fHkk09GQUHBYdeTn58f+fn57dkiAECP1aN/CWTEiBExfvz4mDx5cqxevTpWr14dkydPjksuuaTJbwAPHz48li5dGhEffut3+vTpcfvtt8fSpUvjlVdeiW9961tx3HHHxbXXXhsRH77zV1lZGX/6059i8eLF0dDQEHV1dVFXVxcHDhzolr0CAHSVHv1LIBERjzzySEybNi33W72XXXZZLFiwoMnMpk2bmvwR5+9///vx/vvvx9SpU2P37t0xevToWLFiRQwYMCAiItasWRPPP/98RER85jOfaXKtzZs3x2mnnfYJ7ggAoHv1+AA88cQT4+c//3mbM1mWNbmdl5cXc+fOjblz57Y4f8EFFzQ7BwAgFT36W8AAAHQ+AQgAkBgBCACQGAEIAJAYAQgAkBgBCACQGAEIAJAYAQgAkBgBCACQGAEIAJAYAQgAkBgBCACQGAEIAJAYAQgAkBgBCACQGAEIAJAYAQgAkBgBCACQGAEIAJAYAQgAkBgBCACQGAEIAJAYAQgAkBgBCACQGAEIAJAYAQgAkBgBCACQGAEIAJAYAQgAkBgBCACQGAEIAJAYAQgAkBgBCACQGAEIAJAYAQgAkBgBCACQGAEIAJAYAQgAkBgBCACQGAEIAJAYAQgAkBgBCACQGAEIAJAYAQgAkBgBCACQGAEIAJAYAQgAkBgBCACQGAEIAJAYAQgAkBgBCACQGAEIAJAYAQgAkBgBCACQGAEIAJAYAQgAkJgeH4C7d++OqqqqKCwsjMLCwqiqqop33323zXOyLIu5c+dGSUlJHHvssXHBBRfExo0bW52dMGFC5OXlxS9/+cvO3wAAQA/T4wPw2muvjfXr18fy5ctj+fLlsX79+qiqqmrznLvuuivmz58fCxYsiBdffDGKi4vjwgsvjD179jSbra6ujry8vE9q+QAAPU7f7l5AW1577bVYvnx5rF69OkaPHh0REYsWLYqKiorYtGlTnHnmmc3OybIsqqurY/bs2XHFFVdERMRDDz0URUVF8Ytf/CJuuumm3Oxvf/vbmD9/frz44osxZMiQrtkUAEA369HvANbW1kZhYWEu/iIizj///CgsLIxVq1a1eM7mzZujrq4uKisrc8fy8/Nj3LhxTc5577334pprrokFCxZEcXHxJ7cJAIAepke/A1hXVxeDBw9udnzw4MFRV1fX6jkREUVFRU2OFxUVxZYtW3K3Z8yYEWPGjInLL7+83etpbGyMxsbG3O2GhoZ2nwsA0FN0yzuAc+fOjby8vDY/XnrppYiIFn8+L8uyw/7c3kfv/7/nPPnkk/H0009HdXV1h9Y9b9683C+jFBYWRmlpaYfOBwDoCbrlHcCbb745rr766jZnTjvttHj55Zfj7bffbnbfO++80+wdvkMOfTu3rq6uyc/17dixI3fO008/Hf/1X/8Vn/70p5uce+WVV8bYsWPj2WefbfHas2bNipkzZ+ZuNzQ0iEAAoNfplgAcNGhQDBo06LBzFRUVUV9fHy+88EKcd955ERHx/PPPR319fYwZM6bFc8rKyqK4uDhqamri85//fERE7N27N1auXBl33nlnRETccsstMWnSpCbnnX322fFP//RPcemll7a6nvz8/MjPz2/XHgEAeqoe/TOAI0aMiPHjx8fkyZPjX/7lXyIi4m//9m/jkksuafIbwMOHD4958+bFX/3VX0VeXl5Mnz49br/99vjsZz8bn/3sZ+P222+P4447Lq699tqI+PBdwpZ+8WPo0KFRVlbWNZsDAOgmPToAIyIeeeSRmDZtWu63ei+77LJYsGBBk5lNmzZFfX197vb3v//9eP/992Pq1Kmxe/fuGD16dKxYsSIGDBjQpWsHAOiJenwAnnjiifHzn/+8zZksy5rczsvLi7lz58bcuXPb/Xk+eg0AgKNVj/47gAAAdD4BCACQGAEIAJAYAQgAkBgBCACQGAEIAJAYAQgAkBgBCACQGAEIAJAYAQgAkBgBCACQGAEIAJAYAQgAkBgBCACQGAEIAJAYAQgAkBgBCACQGAEIAJAYAQgAkBgBCACQGAEIAJAYAQgAkBgBCACQGAEIAJAYAQgAkBgBCACQGAEIAJAYAQgAkBgBCACQGAEIAJAYAQgAkBgBCACQGAEIAJAYAQgAkBgBCACQGAEIAJAYAQgAkBgBCACQGAEIAJAYAQgAkBgBCACQGAEIAJAYAQgAkJi+3b2A3izLsoiIaGho6NpP3NAQ8f77H34cup2X1/77PzrXnpm25joy09bn6uiajmSms9bTGXvvrLV2kYZoiPf/53+HbudFy2s6NNvWXHtmOnOuo9fpjPV39R47uocOf83orDnoJof+vX3o3+MpystS3v0R+sMf/hClpaXdvQwA4GPYtm1bnHrqqd29jG4hAI/AwYMH46233ooBAwZEXgf/67ahoSFKS0tj27ZtMXDgwE9ohT1b6o+B/ae9/wiPgf2nvf+I7nsMsiyLPXv2RElJSfTpk+ZPw/kW8BHo06fPEf+Xw8CBA5P9P/4hqT8G9p/2/iM8Bvaf9v4juucxKCws7NLP19Okmb0AAAkTgAAAiRGA3SQ/Pz/mzJkT+fn53b2UbpP6Y2D/ae8/wmNg/2nvP8Jj0J38EggAQGK8AwgAkBgBCACQGAEIAJAYAQgAkBgB2E3uu+++KCsri4KCgigvL4/nnnuuu5d0xObOnRt5eXlNPoqLi3P3Z1kWc+fOjZKSkjj22GPjggsuiI0bNza5RmNjY3z729+OQYMGxfHHHx+XXXZZ/OEPf+jqrbTbr3/967j00kujpKQk8vLy4pe//GWT+ztrz7t3746qqqooLCyMwsLCqKqqinffffcT3t3hHW7/3/rWt5q9Js4///wmM715//PmzYu/+Iu/iAEDBsTgwYPj61//emzatKnJzNH8GmjP/o/218D9998f55xzTu4PGVdUVMS///u/5+4/mp//iMPv/2h//nu1jC732GOPZf369csWLVqUvfrqq9l3vvOd7Pjjj8+2bNnS3Us7InPmzMn+7M/+LNu+fXvuY8eOHbn777jjjmzAgAHZkiVLsg0bNmQTJ07MhgwZkjU0NORmpkyZkp1yyilZTU1Ntnbt2uxLX/pSdu6552b79+/vji0d1rJly7LZs2dnS5YsySIiW7p0aZP7O2vP48ePz0aOHJmtWrUqW7VqVTZy5Mjskksu6apttupw+7/++uuz8ePHN3lN7Nq1q8lMb97/RRddlP3sZz/LXnnllWz9+vXZ1772tWzo0KHZH//4x9zM0fwaaM/+j/bXwJNPPpn96le/yjZt2pRt2rQpu/XWW7N+/fplr7zySpZlR/fzn2WH3//R/vz3ZgKwG5x33nnZlClTmhwbPnx4dsstt3TTijrHnDlzsnPPPbfF+w4ePJgVFxdnd9xxR+7YBx98kBUWFmYLFy7MsizL3n333axfv37ZY489lpt58803sz59+mTLly//RNfeGT4aQJ2151dffTWLiGz16tW5mdra2iwist/97nef8K7ar7UAvPzyy1s952jaf5Zl2Y4dO7KIyFauXJllWXqvgY/uP8vSew1kWZadcMIJ2U9/+tPknv9DDu0/y9J8/nsL3wLuYnv37o01a9ZEZWVlk+OVlZWxatWqblpV53n99dejpKQkysrK4uqrr47f//73ERGxefPmqKura7Lv/Pz8GDduXG7fa9asiX379jWZKSkpiZEjR/bKx6az9lxbWxuFhYUxevTo3Mz5558fhYWFveJxefbZZ2Pw4MHxuc99LiZPnhw7duzI3Xe07b++vj4iIk488cSISO818NH9H5LKa+DAgQPx2GOPxZ/+9KeoqKhI7vn/6P4PSeX57236dvcCUrNz5844cOBAFBUVNTleVFQUdXV13bSqzjF69Oh4+OGH43Of+1y8/fbb8fd///cxZsyY2LhxY25vLe17y5YtERFRV1cX/fv3jxNOOKHZTG98bDprz3V1dTF48OBm1x88eHCPf1wmTJgQ3/jGN2LYsGGxefPm+OEPfxhf/vKXY82aNZGfn39U7T/Lspg5c2b85V/+ZYwcOTIi0noNtLT/iDReAxs2bIiKior44IMP4lOf+lQsXbo0zjrrrFycHO3Pf2v7j0jj+e+tBGA3ycvLa3I7y7Jmx3qbCRMm5P757LPPjoqKijjjjDPioYceyv3Q78fZd29/bDpjzy3N94bHZeLEibl/HjlyZIwaNSqGDRsWv/rVr+KKK65o9bzeuP+bb745Xn755fjNb37T7L4UXgOt7T+F18CZZ54Z69evj3fffTeWLFkS119/faxcuTJ3/9H+/Le2/7POOiuJ57+38i3gLjZo0KA45phjmv1Xy44dO5r9V2Jvd/zxx8fZZ58dr7/+eu63gdvad3Fxcezduzd2797d6kxv0ll7Li4ujrfffrvZ9d95551e97gMGTIkhg0bFq+//npEHD37//a3vx1PPvlkPPPMM3HqqafmjqfyGmht/y05Gl8D/fv3j8985jMxatSomDdvXpx77rnxz//8z8k8/63tvyVH4/PfWwnALta/f/8oLy+PmpqaJsdrampizJgx3bSqT0ZjY2O89tprMWTIkCgrK4vi4uIm+967d2+sXLkyt+/y8vLo169fk5nt27fHK6+80isfm87ac0VFRdTX18cLL7yQm3n++eejvr6+1z0uu3btim3btsWQIUMiovfvP8uyuPnmm+OJJ56Ip59+OsrKyprcf7S/Bg63/5Ycba+BlmRZFo2NjUf989+aQ/tvSQrPf6/Rdb9vwiGH/gzM4sWLs1dffTWbPn16dvzxx2dvvPFGdy/tiHz3u9/Nnn322ez3v/99tnr16uySSy7JBgwYkNvXHXfckRUWFmZPPPFEtmHDhuyaa65p8c8hnHrqqdlTTz2VrV27Nvvyl7/co/8MzJ49e7J169Zl69atyyIimz9/frZu3brcn/TprD2PHz8+O+ecc7La2tqstrY2O/vss3vEn0Boa/979uzJvvvd72arVq3KNm/enD3zzDNZRUVFdsoppxw1+/+7v/u7rLCwMHv22Web/JmL9957LzdzNL8GDrf/FF4Ds2bNyn79619nmzdvzl5++eXs1ltvzfr06ZOtWLEiy7Kj+/nPsrb3n8Lz35sJwG5y7733ZsOGDcv69++ffeELX2jyZxN6q0N/36pfv35ZSUlJdsUVV2QbN27M3X/w4MFszpw5WXFxcZafn5998YtfzDZs2NDkGu+//3528803ZyeeeGJ27LHHZpdcckm2devWrt5Kuz3zzDNZRDT7uP7667Ms67w979q1K7vuuuuyAQMGZAMGDMiuu+66bPfu3V20y9a1tf/33nsvq6yszE4++eSsX79+2dChQ7Prr7++2d568/5b2ntEZD/72c9yM0fza+Bw+0/hNXDDDTfkvpaffPLJ2Ve+8pVc/GXZ0f38Z1nb+0/h+e/N8rIsy7ru/UYAALqbnwEEAEiMAAQASIwABABIjAAEAEiMAAQASIwABABIjAAEAEiMAAQASIwABABIjAAEAEiMAAQASIwABABIjAAEAEiMAAQASIwABABIjAAEAEiMAAQASIwABABIjAAEAEiMAAQASIwABABIjAAEAEiMAAQASIwABABIjAAEAEiMAAQASIwABABIjAAEAEiMAAQASIwABABIjAAEAEjM/wcrumNmOysVYgAAAABJRU5ErkJggg==' width=640.0/>\n",
       "            </div>\n",
       "        "
      ],
      "text/plain": [
       "Canvas(toolbar=Toolbar(toolitems=[('Home', 'Reset original view', 'home', 'home'), ('Back', 'Back to previous …"
      ]
     },
     "metadata": {},
     "output_type": "display_data"
    }
   ],
   "source": [
    "%matplotlib widget\n",
    "_, ax = plt.subplots()\n",
    "ax.plot(mini.orient_all[\"Rough eeg time (s)\"], mini.orient_all.pitch)\n",
    "for start, stop in zip(sess.cs_epochs.starts, sess.cs_epochs.stops):\n",
    "    ax.axvspan(start, stop, color=[1, 0, 0, 0.3])\n",
    "\n",
    "for start, stop in zip(sess.csn_epochs.starts, sess.csn_epochs.stops):\n",
    "    ax.axvspan(start, stop, color=[0, 1, 0, 0.3])\n",
    "\n",
    "for start, stop in zip(sess.cs2_epochs.starts, sess.cs2_epochs.stops):\n",
    "    ax.axvspan(start, stop, color=[1, 0, 0, 0.3])"
   ]
  },
  {
   "cell_type": "code",
   "execution_count": 20,
   "id": "8801773d-7c6a-417d-9321-4e6405828a58",
   "metadata": {},
   "outputs": [
    {
     "data": {
      "text/plain": [
       "array([nan,  0.,  0., ...,  0.,  0.,  0.])"
      ]
     },
     "execution_count": 20,
     "metadata": {},
     "output_type": "execute_result"
    }
   ],
   "source": [
    "def calc_head_speed(df):\n",
    "\n",
    "    angle_diffs = []\n",
    "    for ang_axis in [\"roll\", \"pitch\", \"yaw\"]:\n",
    "        axis_diff = df[ang_axis].diff()\n",
    "\n",
    "        # Correct any swings of > 2*pi\n",
    "        axis_diff[axis_diff > 1.8 * np.pi] = axis_diff[axis_diff > 1.8 * np.pi] - 2 * np.pi\n",
    "        axis_diff[axis_diff < -1.8 * np.pi] = axis_diff[axis_diff < -1.8 * np.pi] + 2 * np.pi\n",
    "        angle_diffs.append(axis_diff.values)\n",
    "    # head_speed = np.sqrt(np.square(df.roll.diff()) + np.square(df.pitch.diff()) + np.square(df.yaw.diff())) / df[\"Rough eeg time (s)\"].diff()\n",
    "    head_speed = np.sqrt(np.square(angle_diffs[0]) + np.square(angle_diffs[1]) + np.square(angle_diffs[2]))\n",
    "    return head_speed\n",
    "calc_head_speed(mini.orient_all)"
   ]
  },
  {
   "cell_type": "code",
   "execution_count": 21,
   "id": "1f46b5fc-7f28-494c-9be7-61540c8c316e",
   "metadata": {
    "scrolled": true
   },
   "outputs": [
    {
     "data": {
      "application/vnd.jupyter.widget-view+json": {
       "model_id": "08192d712d5c42358406caf62512aee1",
       "version_major": 2,
       "version_minor": 0
      },
      "image/png": "[encoded data removed]",
      "text/html": [
       "\n",
       "            <div style=\"display: inline-block;\">\n",
       "                <div class=\"jupyter-widgets widget-label\" style=\"text-align: center;\">\n",
       "                    Figure\n",
       "                </div>\n",
       "                <img src='data:image/png;base64,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' width=700.0/>\n",
       "            </div>\n",
       "        "
      ],
      "text/plain": [
       "Canvas(toolbar=Toolbar(toolitems=[('Home', 'Reset original view', 'home', 'home'), ('Back', 'Back to previous …"
      ]
     },
     "metadata": {},
     "output_type": "display_data"
    }
   ],
   "source": [
    "%matplotlib widget\n",
    "_, axs = plt.subplots(4, 1, figsize=(7, 10), sharex=True)\n",
    "ax = axs[0]\n",
    "mini.orient_all[\"Head speed\"] = calc_head_speed(mini.orient_all)\n",
    "ax.plot(mini.orient_all[\"Rough eeg time (s)\"], mini.orient_all[\"Head speed\"])\n",
    "for start, stop in zip(sess.cs_epochs.starts, sess.cs_epochs.stops):\n",
    "    ax.axvspan(start, stop, color=[1, 0, 0, 0.3])\n",
    "\n",
    "for start, stop in zip(sess.csn_epochs.starts, sess.csn_epochs.stops):\n",
    "    ax.axvspan(start, stop, color=[0, 1, 0, 0.3])\n",
    "\n",
    "for start, stop in zip(sess.cs2_epochs.starts, sess.cs2_epochs.stops):\n",
    "    ax.axvspan(start, stop, color=[1, 0, 0, 0.3])\n",
    "\n",
    "ax = axs[1]\n",
    "ax.plot(mini.orient_all[\"Rough eeg time (s)\"], mini.orient_all.pitch)\n",
    "for start, stop in zip(sess.cs_epochs.starts, sess.cs_epochs.stops):\n",
    "    ax.axvspan(start, stop, color=[1, 0, 0, 0.3])\n",
    "\n",
    "for start, stop in zip(sess.csn_epochs.starts, sess.csn_epochs.stops):\n",
    "    ax.axvspan(start, stop, color=[0, 1, 0, 0.3])\n",
    "\n",
    "for start, stop in zip(sess.cs2_epochs.starts, sess.cs2_epochs.stops):\n",
    "    ax.axvspan(start, stop, color=[1, 0, 0, 0.3])\n",
    "\n",
    "ax = axs[2]\n",
    "ax.plot(mini.orient_all[\"Rough eeg time (s)\"], mini.orient_all.yaw)\n",
    "for start, stop in zip(sess.cs_epochs.starts, sess.cs_epochs.stops):\n",
    "    ax.axvspan(start, stop, color=[1, 0, 0, 0.3])\n",
    "\n",
    "for start, stop in zip(sess.csn_epochs.starts, sess.csn_epochs.stops):\n",
    "    ax.axvspan(start, stop, color=[0, 1, 0, 0.3])\n",
    "\n",
    "for start, stop in zip(sess.cs2_epochs.starts, sess.cs2_epochs.stops):\n",
    "    ax.axvspan(start, stop, color=[1, 0, 0, 0.3])\n",
    "\n",
    "ax = axs[3]\n",
    "ax.plot(mini.orient_all[\"Rough eeg time (s)\"], mini.orient_all.roll)\n",
    "for start, stop in zip(sess.cs_epochs.starts, sess.cs_epochs.stops):\n",
    "    ax.axvspan(start, stop, color=[1, 0, 0, 0.3])\n",
    "\n",
    "for start, stop in zip(sess.csn_epochs.starts, sess.csn_epochs.stops):\n",
    "    ax.axvspan(start, stop, color=[0, 1, 0, 0.3])\n",
    "\n",
    "for start, stop in zip(sess.cs2_epochs.starts, sess.cs2_epochs.stops):\n",
    "    ax.axvspan(start, stop, color=[1, 0, 0, 0.3])"
   ]
  },
  {
   "cell_type": "markdown",
   "id": "f39d2d68-a092-41a1-8021-295dbac4448b",
   "metadata": {},
   "source": [
    "### Read in DeepLabCut Data and sync with OpenEphys data"
   ]
  },
  {
   "cell_type": "code",
   "execution_count": 30,
   "id": "aae3ae20-413f-42c3-9253-2a80b168dad5",
   "metadata": {
    "scrolled": true
   },
   "outputs": [
    {
     "ename": "ValueError",
     "evalue": "No objects to concatenate",
     "output_type": "error",
     "traceback": [
      "\u001b[0;31m---------------------------------------------------------------------------\u001b[0m",
      "\u001b[0;31mValueError\u001b[0m                                Traceback (most recent call last)",
      "Cell \u001b[0;32mIn[30], line 8\u001b[0m\n\u001b[1;32m      5\u001b[0m pix2cm \u001b[38;5;241m=\u001b[39m arena_side_cm \u001b[38;5;241m/\u001b[39m arena_side_pix\n\u001b[1;32m      7\u001b[0m \u001b[38;5;66;03m# Read in DLC data\u001b[39;00m\n\u001b[0;32m----> 8\u001b[0m sess\u001b[38;5;241m.\u001b[39mdlc \u001b[38;5;241m=\u001b[39m \u001b[43mdlcio\u001b[49m\u001b[38;5;241;43m.\u001b[39;49m\u001b[43mDLC\u001b[49m\u001b[43m(\u001b[49m\u001b[43mdlc_path\u001b[49m\u001b[43m,\u001b[49m\u001b[43m \u001b[49m\u001b[43mpix2cm\u001b[49m\u001b[38;5;241;43m=\u001b[39;49m\u001b[43mpix2cm\u001b[49m\u001b[43m)\u001b[49m\n\u001b[1;32m     10\u001b[0m \u001b[38;5;66;03m# Smooth position, get timestamps, and get speed\u001b[39;00m\n\u001b[1;32m     11\u001b[0m sess\u001b[38;5;241m.\u001b[39mdlc\u001b[38;5;241m.\u001b[39mget_timestamps(\u001b[38;5;124m'\u001b[39m\u001b[38;5;124mms_webcam\u001b[39m\u001b[38;5;124m'\u001b[39m, include_str\u001b[38;5;241m=\u001b[39m\u001b[38;5;124m\"\u001b[39m\u001b[38;5;124m1_tone_recall\u001b[39m\u001b[38;5;124m\"\u001b[39m)\n",
      "File \u001b[0;32m/data/GitHub/NeuroPy/neuropy/io/dlcio.py:78\u001b[0m, in \u001b[0;36mDLC.__init__\u001b[0;34m(self, base_path, search_str, movie_type, pix2cm)\u001b[0m\n\u001b[1;32m     76\u001b[0m     pos_data \u001b[38;5;241m=\u001b[39m pos_data[scorername]\n\u001b[1;32m     77\u001b[0m     pos_list\u001b[38;5;241m.\u001b[39mappend(pos_data)\n\u001b[0;32m---> 78\u001b[0m \u001b[38;5;28mself\u001b[39m\u001b[38;5;241m.\u001b[39mpos_data \u001b[38;5;241m=\u001b[39m \u001b[43mpd\u001b[49m\u001b[38;5;241;43m.\u001b[39;49m\u001b[43mconcat\u001b[49m\u001b[43m(\u001b[49m\u001b[43mpos_list\u001b[49m\u001b[43m,\u001b[49m\u001b[43m \u001b[49m\u001b[43maxis\u001b[49m\u001b[38;5;241;43m=\u001b[39;49m\u001b[38;5;241;43m0\u001b[39;49m\u001b[43m)\u001b[49m\n\u001b[1;32m     79\u001b[0m \u001b[38;5;28mself\u001b[39m\u001b[38;5;241m.\u001b[39mpix2cm \u001b[38;5;241m=\u001b[39m pix2cm\n\u001b[1;32m     81\u001b[0m \u001b[38;5;66;03m# Assume you've only run one scorer and that bodyparts are the same for all files\u001b[39;00m\n",
      "File \u001b[0;32m~/miniforge3/envs/NeuroPy/lib/python3.11/site-packages/pandas/util/_decorators.py:331\u001b[0m, in \u001b[0;36mdeprecate_nonkeyword_arguments.<locals>.decorate.<locals>.wrapper\u001b[0;34m(*args, **kwargs)\u001b[0m\n\u001b[1;32m    325\u001b[0m \u001b[38;5;28;01mif\u001b[39;00m \u001b[38;5;28mlen\u001b[39m(args) \u001b[38;5;241m>\u001b[39m num_allow_args:\n\u001b[1;32m    326\u001b[0m     warnings\u001b[38;5;241m.\u001b[39mwarn(\n\u001b[1;32m    327\u001b[0m         msg\u001b[38;5;241m.\u001b[39mformat(arguments\u001b[38;5;241m=\u001b[39m_format_argument_list(allow_args)),\n\u001b[1;32m    328\u001b[0m         \u001b[38;5;167;01mFutureWarning\u001b[39;00m,\n\u001b[1;32m    329\u001b[0m         stacklevel\u001b[38;5;241m=\u001b[39mfind_stack_level(),\n\u001b[1;32m    330\u001b[0m     )\n\u001b[0;32m--> 331\u001b[0m \u001b[38;5;28;01mreturn\u001b[39;00m \u001b[43mfunc\u001b[49m\u001b[43m(\u001b[49m\u001b[38;5;241;43m*\u001b[39;49m\u001b[43margs\u001b[49m\u001b[43m,\u001b[49m\u001b[43m \u001b[49m\u001b[38;5;241;43m*\u001b[39;49m\u001b[38;5;241;43m*\u001b[39;49m\u001b[43mkwargs\u001b[49m\u001b[43m)\u001b[49m\n",
      "File \u001b[0;32m~/miniforge3/envs/NeuroPy/lib/python3.11/site-packages/pandas/core/reshape/concat.py:368\u001b[0m, in \u001b[0;36mconcat\u001b[0;34m(objs, axis, join, ignore_index, keys, levels, names, verify_integrity, sort, copy)\u001b[0m\n\u001b[1;32m    146\u001b[0m \u001b[38;5;129m@deprecate_nonkeyword_arguments\u001b[39m(version\u001b[38;5;241m=\u001b[39m\u001b[38;5;28;01mNone\u001b[39;00m, allowed_args\u001b[38;5;241m=\u001b[39m[\u001b[38;5;124m\"\u001b[39m\u001b[38;5;124mobjs\u001b[39m\u001b[38;5;124m\"\u001b[39m])\n\u001b[1;32m    147\u001b[0m \u001b[38;5;28;01mdef\u001b[39;00m \u001b[38;5;21mconcat\u001b[39m(\n\u001b[1;32m    148\u001b[0m     objs: Iterable[NDFrame] \u001b[38;5;241m|\u001b[39m Mapping[HashableT, NDFrame],\n\u001b[0;32m   (...)\u001b[0m\n\u001b[1;32m    157\u001b[0m     copy: \u001b[38;5;28mbool\u001b[39m \u001b[38;5;241m=\u001b[39m \u001b[38;5;28;01mTrue\u001b[39;00m,\n\u001b[1;32m    158\u001b[0m ) \u001b[38;5;241m-\u001b[39m\u001b[38;5;241m>\u001b[39m DataFrame \u001b[38;5;241m|\u001b[39m Series:\n\u001b[1;32m    159\u001b[0m \u001b[38;5;250m    \u001b[39m\u001b[38;5;124;03m\"\"\"\u001b[39;00m\n\u001b[1;32m    160\u001b[0m \u001b[38;5;124;03m    Concatenate pandas objects along a particular axis.\u001b[39;00m\n\u001b[1;32m    161\u001b[0m \n\u001b[0;32m   (...)\u001b[0m\n\u001b[1;32m    366\u001b[0m \u001b[38;5;124;03m    1   3   4\u001b[39;00m\n\u001b[1;32m    367\u001b[0m \u001b[38;5;124;03m    \"\"\"\u001b[39;00m\n\u001b[0;32m--> 368\u001b[0m     op \u001b[38;5;241m=\u001b[39m \u001b[43m_Concatenator\u001b[49m\u001b[43m(\u001b[49m\n\u001b[1;32m    369\u001b[0m \u001b[43m        \u001b[49m\u001b[43mobjs\u001b[49m\u001b[43m,\u001b[49m\n\u001b[1;32m    370\u001b[0m \u001b[43m        \u001b[49m\u001b[43maxis\u001b[49m\u001b[38;5;241;43m=\u001b[39;49m\u001b[43maxis\u001b[49m\u001b[43m,\u001b[49m\n\u001b[1;32m    371\u001b[0m \u001b[43m        \u001b[49m\u001b[43mignore_index\u001b[49m\u001b[38;5;241;43m=\u001b[39;49m\u001b[43mignore_index\u001b[49m\u001b[43m,\u001b[49m\n\u001b[1;32m    372\u001b[0m \u001b[43m        \u001b[49m\u001b[43mjoin\u001b[49m\u001b[38;5;241;43m=\u001b[39;49m\u001b[43mjoin\u001b[49m\u001b[43m,\u001b[49m\n\u001b[1;32m    373\u001b[0m \u001b[43m        \u001b[49m\u001b[43mkeys\u001b[49m\u001b[38;5;241;43m=\u001b[39;49m\u001b[43mkeys\u001b[49m\u001b[43m,\u001b[49m\n\u001b[1;32m    374\u001b[0m \u001b[43m        \u001b[49m\u001b[43mlevels\u001b[49m\u001b[38;5;241;43m=\u001b[39;49m\u001b[43mlevels\u001b[49m\u001b[43m,\u001b[49m\n\u001b[1;32m    375\u001b[0m \u001b[43m        \u001b[49m\u001b[43mnames\u001b[49m\u001b[38;5;241;43m=\u001b[39;49m\u001b[43mnames\u001b[49m\u001b[43m,\u001b[49m\n\u001b[1;32m    376\u001b[0m \u001b[43m        \u001b[49m\u001b[43mverify_integrity\u001b[49m\u001b[38;5;241;43m=\u001b[39;49m\u001b[43mverify_integrity\u001b[49m\u001b[43m,\u001b[49m\n\u001b[1;32m    377\u001b[0m \u001b[43m        \u001b[49m\u001b[43mcopy\u001b[49m\u001b[38;5;241;43m=\u001b[39;49m\u001b[43mcopy\u001b[49m\u001b[43m,\u001b[49m\n\u001b[1;32m    378\u001b[0m \u001b[43m        \u001b[49m\u001b[43msort\u001b[49m\u001b[38;5;241;43m=\u001b[39;49m\u001b[43msort\u001b[49m\u001b[43m,\u001b[49m\n\u001b[1;32m    379\u001b[0m \u001b[43m    \u001b[49m\u001b[43m)\u001b[49m\n\u001b[1;32m    381\u001b[0m     \u001b[38;5;28;01mreturn\u001b[39;00m op\u001b[38;5;241m.\u001b[39mget_result()\n",
      "File \u001b[0;32m~/miniforge3/envs/NeuroPy/lib/python3.11/site-packages/pandas/core/reshape/concat.py:425\u001b[0m, in \u001b[0;36m_Concatenator.__init__\u001b[0;34m(self, objs, axis, join, keys, levels, names, ignore_index, verify_integrity, copy, sort)\u001b[0m\n\u001b[1;32m    422\u001b[0m     objs \u001b[38;5;241m=\u001b[39m \u001b[38;5;28mlist\u001b[39m(objs)\n\u001b[1;32m    424\u001b[0m \u001b[38;5;28;01mif\u001b[39;00m \u001b[38;5;28mlen\u001b[39m(objs) \u001b[38;5;241m==\u001b[39m \u001b[38;5;241m0\u001b[39m:\n\u001b[0;32m--> 425\u001b[0m     \u001b[38;5;28;01mraise\u001b[39;00m \u001b[38;5;167;01mValueError\u001b[39;00m(\u001b[38;5;124m\"\u001b[39m\u001b[38;5;124mNo objects to concatenate\u001b[39m\u001b[38;5;124m\"\u001b[39m)\n\u001b[1;32m    427\u001b[0m \u001b[38;5;28;01mif\u001b[39;00m keys \u001b[38;5;129;01mis\u001b[39;00m \u001b[38;5;28;01mNone\u001b[39;00m:\n\u001b[1;32m    428\u001b[0m     objs \u001b[38;5;241m=\u001b[39m \u001b[38;5;28mlist\u001b[39m(com\u001b[38;5;241m.\u001b[39mnot_none(\u001b[38;5;241m*\u001b[39mobjs))\n",
      "\u001b[0;31mValueError\u001b[0m: No objects to concatenate"
     ]
    }
   ],
   "source": [
    "import neuropy.io.dlcio as dlcio\n",
    "dlc_path = '/data3/Trace_FC/Recording_Rats/Finn2/2023_05_09_recall1'\n",
    "arena_side_pix = 60  # Keep this\n",
    "arena_side_cm = 25.4  # Update this after measuring!!!\n",
    "pix2cm = arena_side_cm / arena_side_pix\n",
    "\n",
    "# Read in DLC data\n",
    "sess.dlc = dlcio.DLC(dlc_path, pix2cm=pix2cm)\n",
    "\n",
    "# Smooth position, get timestamps, and get speed\n",
    "sess.dlc.get_timestamps('ms_webcam', include_str=\"1_tone_recall\")\n",
    "sess.dlc.smooth_pos(bodyparts=[\"crown_middle\", \"back_middle\"])\n",
    "sess.dlc.timestamps[\"Timestamps\"] = sess.dlc.timestamps[\"Timestamps\"].dt.tz_localize(\"America/Detroit\")\n",
    "sess.dlc.get_all_speed()"
   ]
  },
  {
   "cell_type": "code",
   "execution_count": 31,
   "id": "33ed8622-fbde-415e-8994-6a24db1b7696",
   "metadata": {},
   "outputs": [
    {
     "name": "stdout",
     "output_type": "stream",
     "text": [
      "start time = 2022-08-04 12:23:56.581623-04:00\n",
      "start time = 2022-08-04 12:45:27.837675-04:00\n",
      "start time = 2022-08-04 13:07:02.327536-04:00\n"
     ]
    },
    {
     "ename": "AttributeError",
     "evalue": "'ProcessData' object has no attribute 'dlc'",
     "output_type": "error",
     "traceback": [
      "\u001b[0;31m---------------------------------------------------------------------------\u001b[0m",
      "\u001b[0;31mAttributeError\u001b[0m                            Traceback (most recent call last)",
      "Cell \u001b[0;32mIn[31], line 7\u001b[0m\n\u001b[1;32m      4\u001b[0m sync_df[\u001b[38;5;124m\"\u001b[39m\u001b[38;5;124mTotal seconds from start\u001b[39m\u001b[38;5;124m\"\u001b[39m] \u001b[38;5;241m=\u001b[39m (sync_df[\u001b[38;5;124m\"\u001b[39m\u001b[38;5;124mDatetime\u001b[39m\u001b[38;5;124m\"\u001b[39m] \u001b[38;5;241m-\u001b[39m sync_df[\u001b[38;5;124m\"\u001b[39m\u001b[38;5;124mDatetime\u001b[39m\u001b[38;5;124m\"\u001b[39m][\u001b[38;5;241m0\u001b[39m])\u001b[38;5;241m.\u001b[39mdt\u001b[38;5;241m.\u001b[39mtotal_seconds()\n\u001b[1;32m      6\u001b[0m \u001b[38;5;66;03m# sync DLC times to your eeg file\u001b[39;00m\n\u001b[0;32m----> 7\u001b[0m sess\u001b[38;5;241m.\u001b[39mdlc\u001b[38;5;241m.\u001b[39mtimestamps[\u001b[38;5;124m\"\u001b[39m\u001b[38;5;124mTotal seconds from OE start\u001b[39m\u001b[38;5;124m\"\u001b[39m] \u001b[38;5;241m=\u001b[39m (\u001b[43msess\u001b[49m\u001b[38;5;241;43m.\u001b[39;49m\u001b[43mdlc\u001b[49m\u001b[38;5;241m.\u001b[39mtimestamps[\u001b[38;5;124m\"\u001b[39m\u001b[38;5;124mTimestamps\u001b[39m\u001b[38;5;124m\"\u001b[39m] \u001b[38;5;241m-\u001b[39m sync_df[\u001b[38;5;124m\"\u001b[39m\u001b[38;5;124mDatetime\u001b[39m\u001b[38;5;124m\"\u001b[39m][\u001b[38;5;241m0\u001b[39m])\u001b[38;5;241m.\u001b[39mdt\u001b[38;5;241m.\u001b[39mtotal_seconds()\n\u001b[1;32m      8\u001b[0m sess\u001b[38;5;241m.\u001b[39mdlc\u001b[38;5;241m.\u001b[39mtimestamps[\u001b[38;5;124m\"\u001b[39m\u001b[38;5;124meeg_time\u001b[39m\u001b[38;5;124m\"\u001b[39m] \u001b[38;5;241m=\u001b[39m np\u001b[38;5;241m.\u001b[39minterp(sess\u001b[38;5;241m.\u001b[39mdlc\u001b[38;5;241m.\u001b[39mtimestamps[\u001b[38;5;124m\"\u001b[39m\u001b[38;5;124mTotal seconds from OE start\u001b[39m\u001b[38;5;124m\"\u001b[39m], sync_df[\u001b[38;5;124m\"\u001b[39m\u001b[38;5;124mTotal seconds from start\u001b[39m\u001b[38;5;124m\"\u001b[39m], \n\u001b[1;32m      9\u001b[0m                                             sync_df[\u001b[38;5;124m\"\u001b[39m\u001b[38;5;124meeg_time\u001b[39m\u001b[38;5;124m\"\u001b[39m])\n\u001b[1;32m     10\u001b[0m sess\u001b[38;5;241m.\u001b[39mdlc\u001b[38;5;241m.\u001b[39mtimestamps\n",
      "\u001b[0;31mAttributeError\u001b[0m: 'ProcessData' object has no attribute 'dlc'"
     ]
    }
   ],
   "source": [
    "# Load in openephys times to sync\n",
    "import neuropy.io.openephysio as oeio\n",
    "sync_df = oeio.create_sync_df(sess.basepath)\n",
    "sync_df[\"Total seconds from start\"] = (sync_df[\"Datetime\"] - sync_df[\"Datetime\"][0]).dt.total_seconds()\n",
    "\n",
    "# sync DLC times to your eeg file\n",
    "sess.dlc.timestamps[\"Total seconds from OE start\"] = (sess.dlc.timestamps[\"Timestamps\"] - sync_df[\"Datetime\"][0]).dt.total_seconds()\n",
    "sess.dlc.timestamps[\"eeg_time\"] = np.interp(sess.dlc.timestamps[\"Total seconds from OE start\"], sync_df[\"Total seconds from start\"], \n",
    "                                            sync_df[\"eeg_time\"])\n",
    "sess.dlc.timestamps"
   ]
  },
  {
   "cell_type": "code",
   "execution_count": null,
   "id": "d06f9558-1509-4330-9d5d-58e2a399595b",
   "metadata": {},
   "outputs": [],
   "source": [
    "# Last calculate freezing times and plot again to check\n",
    "frz_thresh = 0.25 # cm/sec  Adjust this to something that looks reasonable!\n",
    "duration_thresh = 1 # sec, must be below the threshold above for at least that long to be considered freezing\n",
    "bodypart_use = \"crown_middle\"\n",
    "frz_bool = sess.dlc.speed[bodypart_use] < frz_thresh\n",
    "frz_epochs = Epoch.from_boolean_array(frz_bool, t=sess.dlc.timestamps[\"eeg_time\"])\n",
    "frz_df = frz_epochs.to_dataframe()\n",
    "frz_df = frz_df[frz_epochs.durations > duration_thresh]\n",
    "frz_epochs = Epoch(frz_df)\n",
    "frz_epochs"
   ]
  },
  {
   "cell_type": "code",
   "execution_count": null,
   "id": "266db961-59f2-4d73-bb5e-580224194bf1",
   "metadata": {},
   "outputs": [],
   "source": [
    "%matplotlib widget\n",
    "# Plot to check! Looks ok, though there might be some mismatches between theta and movement.\n",
    "\n",
    "_, ax = plt.subplots(figsize=(12, 4))\n",
    "hc, = ax.plot(sess.dlc.timestamps[\"eeg_time\"], sess.dlc.speed[\"crown_middle\"])\n",
    "hb, = ax.plot(sess.dlc.timestamps[\"eeg_time\"], sess.dlc.speed[\"back_middle\"])\n",
    "hthresh = ax.axhline(frz_thresh, color='r', linestyle='--')\n",
    "\n",
    "for start, stop in zip(frz_epochs.starts, frz_epochs.stops):\n",
    "    hf = ax.axvspan(start, stop, color=[0.3, 0, 0, 0.5])\n",
    "\n",
    "# Now plot theta epochs over it to triple check!\n",
    "theta_epochs_file = sess.filePrefix.with_suffix(\".theta_epochs.npy\")\n",
    "theta_epochs = Epoch(epochs=None, file=theta_epochs_file)\n",
    "theta_epochs = theta_epochs.time_slice(t_start = sess.dlc.timestamps[\"eeg_time\"].min(), t_stop=sess.dlc.timestamps[\"eeg_time\"].max())\n",
    "\n",
    "for start, stop in zip(theta_epochs.starts, theta_epochs.stops):\n",
    "    htheta = ax.axvspan(start, stop, color=[0, 0.3, 0, 0.5])\n",
    "\n",
    "ax.legend((hc, hb, hthresh, htheta, hf), (\"crown_middle\", \"back_middle\", \"freeze threshold\", \"theta\", \"frz\"))"
   ]
  },
  {
   "cell_type": "markdown",
   "id": "34c2df51-13eb-4e1b-bf3f-5afbb377c6f1",
   "metadata": {},
   "source": [
    "#### Double check start time"
   ]
  },
  {
   "cell_type": "code",
   "execution_count": null,
   "id": "fdebe4e0-9187-4aeb-87f6-8f17b6fb5ac7",
   "metadata": {},
   "outputs": [],
   "source": [
    "import neuropy.io.openephysio as oeio\n",
    "\n",
    "# Import TTLs for CS from OpenEphys\n",
    "ttl_df = oeio.load_all_ttl_events(sess.basepath, sanity_check_channel=1, zero_timestamps=True)\n",
    "ttl_df[ttl_df['channel_states'].abs() == 2].head(5)"
   ]
  },
  {
   "cell_type": "code",
   "execution_count": null,
   "id": "911ed15d-5280-48a3-a587-16cc6260919f",
   "metadata": {},
   "outputs": [],
   "source": [
    "accurate_start_time = ttl_df[ttl_df['channel_states'].abs() == 1].iloc[6355]['datetimes']\n",
    "accurate_start_time = accurate_start_time.tz_localize('America/Detroit')"
   ]
  },
  {
   "cell_type": "code",
   "execution_count": null,
   "id": "49d6ad37-0932-4609-a82b-1d97699026b1",
   "metadata": {},
   "outputs": [],
   "source": [
    "approx_start_time = sess.dlc.timestamps.loc[0, 'Timestamps']\n",
    "approx_start_time"
   ]
  },
  {
   "cell_type": "code",
   "execution_count": null,
   "id": "ac47cee9-0c16-4d61-8c04-35246e050189",
   "metadata": {},
   "outputs": [],
   "source": [
    "adj_time_delta = (accurate_start_time - approx_start_time).total_seconds()\n",
    "adj_time_delta"
   ]
  },
  {
   "cell_type": "code",
   "execution_count": null,
   "id": "e4fd585c-71fb-4b09-8870-ad0e3d76b24d",
   "metadata": {},
   "outputs": [],
   "source": [
    "sess.dlc.timestamps.head(1)"
   ]
  },
  {
   "cell_type": "code",
   "execution_count": null,
   "id": "70d9bcdc-244e-4009-9896-01fe9a329a21",
   "metadata": {},
   "outputs": [],
   "source": [
    "# Try manually adjusting times in DLC data and see if it matches better!\n",
    "from copy import deepcopy\n",
    "dlcadj = deepcopy(sess.dlc)\n",
    "\n",
    "dlcadj.timestamps[\"eeg_time\"] = dlcadj.timestamps[\"eeg_time\"] + adj_time_delta\n",
    "\n",
    "_, axcomb = plt.subplots(2, 1, sharex=True, figsize=(12, 5))\n",
    "ax = axcomb[0]\n",
    "hc, = ax.plot(dlcadj.timestamps[\"eeg_time\"], dlcadj.speed[\"crown_middle\"])\n",
    "hb, = ax.plot(dlcadj.timestamps[\"eeg_time\"], dlcadj.speed[\"back_middle\"])\n",
    "hthresh = ax.axhline(frz_thresh, color='r', linestyle='--')\n",
    "\n",
    "for start, stop in zip(frz_epochs.starts, frz_epochs.stops):\n",
    "    hf = ax.axvspan(start, stop, color=[0.3, 0, 0, 0.5])\n",
    "\n",
    "# Now plot theta epochs over it to triple check!\n",
    "theta_epochs_file = sess.filePrefix.with_suffix(\".theta_epochs.npy\")\n",
    "theta_epochs = Epoch(epochs=None, file=theta_epochs_file)\n",
    "theta_epochs = theta_epochs.time_slice(t_start = dlcadj.timestamps[\"eeg_time\"].min(), t_stop=dlcadj.timestamps[\"eeg_time\"].max())\n",
    "\n",
    "for start, stop in zip(theta_epochs.starts, theta_epochs.stops):\n",
    "    htheta = ax.axvspan(start, stop, color=[0, 0.3, 0, 0.5])\n",
    "\n",
    "ax.legend((hc, hb, hthresh, htheta, hf), (\"crown_middle\", \"back_middle\", \"freeze threshold\", \"theta\", \"frz\"))\n",
    "# ax.set_xlim((2535, 2565))\n",
    "\n",
    "plot_signal_w_epochs(signal, 28, art_epochs, ax=axcomb[1])"
   ]
  },
  {
   "cell_type": "code",
   "execution_count": null,
   "id": "6982fca4-23ea-426f-9980-0d1948425134",
   "metadata": {},
   "outputs": [],
   "source": [
    "# Try manually adjusting times in DLC data and see if it matches better!\n",
    "from copy import deepcopy\n",
    "manually_adjust_dlc_times = -0.528  # seconds\n",
    "dlcadj = deepcopy(sess.dlc)\n",
    "\n",
    "dlcadj.timestamps[\"eeg_time\"] = dlcadj.timestamps[\"eeg_time\"] + manually_adjust_dlc_times\n",
    "\n",
    "_, ax = plt.subplots(figsize=(12, 4))\n",
    "\n",
    "hthresh = ax.axhline(frz_thresh, color='r', linestyle='--')\n",
    "\n",
    "for start, stop in zip(frz_epochs.starts, frz_epochs.stops):\n",
    "\n",
    "    hf = ax.axvspan(start, stop, color=[0.3, 0, 0, 0.5])\n",
    "\n",
    "# Now plot theta epochs over it to triple check!\n",
    "theta_epochs_file = sess.filePrefix.with_suffix(\".theta_epochs.npy\")\n",
    "theta_epochs = Epoch(epochs=None, file=theta_epochs_file)\n",
    "theta_epochs = theta_epochs.time_slice(t_start = dlcadj.timestamps[\"eeg_time\"].min(), t_stop=dlcadj.timestamps[\"eeg_time\"].max())\n",
    "\n",
    "for start, stop in zip(theta_epochs.starts, theta_epochs.stops):\n",
    "    htheta = ax.axvspan(start, stop, color=[0, 0.3, 0, 0.5])\n",
    "\n",
    "ax.legend((hc, hb, hthresh, htheta, hf), (\"crown_middle\", \"back_middle\", \"freeze threshold\", \"theta\", \"frz\"))\n",
    "# ax.set_xlim((2535, 2565))"
   ]
  },
  {
   "cell_type": "code",
   "execution_count": null,
   "id": "209144d0-5795-4eba-9a0e-799e11c1cfe9",
   "metadata": {},
   "outputs": [],
   "source": [
    "#Freezing and theta\n",
    "from copy import deepcopy\n",
    "\n",
    "manually_adjust_dlc_times = -0.528  \n",
    "dlcadj = deepcopy(sess.dlc)\n",
    "dlcadj.timestamps[\"eeg_time\"] = dlcadj.timestamps[\"eeg_time\"] + manually_adjust_dlc_times\n",
    "\n",
    "_, ax = plt.subplots(figsize=(12, 4))\n",
    "hthresh = ax.axhline(frz_thresh, color='r', linestyle='--')\n",
    "\n",
    "for start, stop in zip(frz_epochs.starts, frz_epochs.stops):\n",
    "    duration = stop - start\n",
    "    if duration > 4:  # Check if the frz epoch duration is greater than 5 seconds\n",
    "        hf = ax.axvspan(start, stop, color=[0.3, 0, 0, 0.5], label='frz')\n",
    "\n",
    "theta_epochs_file = sess.filePrefix.with_suffix(\".theta_epochs.npy\")\n",
    "theta_epochs = Epoch(epochs=None, file=theta_epochs_file)\n",
    "theta_epochs = theta_epochs.time_slice(t_start=dlcadj.timestamps[\"eeg_time\"].min(), t_stop=dlcadj.timestamps[\"eeg_time\"].max())\n",
    "\n",
    "beta_epochs_file = sess.filePrefix.with_suffix(\".beta_epochs.npy\")\n",
    "beta_epochs = Epoch(epochs=None, file=beta_epochs_file)\n",
    "beta_epochs = beta_epochs.time_slice(t_start=dlcadj.timestamps[\"eeg_time\"].min(), t_stop=dlcadj.timestamps[\"eeg_time\"].max())\n",
    "\n",
    "for start, stop in zip(theta_epochs.starts, theta_epochs.stops):\n",
    "    htheta = ax.axvspan(start, stop, color=[0, 0.3, 0, 0.5], label='theta')\n",
    "    \n",
    "    \n",
    "handles, labels = ax.get_legend_handles_labels()\n",
    "by_label = dict(zip(labels, handles))  \n",
    "ax.legend(by_label.values(), by_label.keys())\n"
   ]
  },
  {
   "cell_type": "code",
   "execution_count": null,
   "id": "96f31e1f-b7c7-483b-b2b1-76eea4b8888a",
   "metadata": {},
   "outputs": [],
   "source": []
  },
  {
   "cell_type": "code",
   "execution_count": null,
   "id": "d53453ec-2542-4b97-879c-80ee60c59b6a",
   "metadata": {},
   "outputs": [],
   "source": [
    "#Freezing and ripple\n",
    "from copy import deepcopy\n",
    "\n",
    "manually_adjust_dlc_times = -0.528  \n",
    "dlcadj = deepcopy(sess.dlc)\n",
    "dlcadj.timestamps[\"eeg_time\"] = dlcadj.timestamps[\"eeg_time\"] + manually_adjust_dlc_times\n",
    "\n",
    "_, ax = plt.subplots(figsize=(12, 4))\n",
    "hthresh = ax.axhline(frz_thresh, color='r', linestyle='--')\n",
    "\n",
    "for start, stop in zip(frz_epochs.starts, frz_epochs.stops):\n",
    "    duration = stop - start\n",
    "    if duration > 4:  # Check if the frz epoch duration is greater than 5 seconds\n",
    "        hf = ax.axvspan(start, stop, color=[0.3, 0, 0, 0.5], label='frz')\n",
    "\n",
    "ripple_epochs_file = sess.filePrefix.with_suffix(\".ripple_epochs.npy\")\n",
    "ripple_epochs = Epoch(epochs=None, file=ripple_epochs_file)\n",
    "ripple_epochs = ripple_epochs.time_slice(t_start=dlcadj.timestamps[\"eeg_time\"].min(), t_stop=dlcadj.timestamps[\"eeg_time\"].max())\n",
    "\n",
    "beta_epochs_file = sess.filePrefix.with_suffix(\".beta_epochs.npy\")\n",
    "beta_epochs = Epoch(epochs=None, file=beta_epochs_file)\n",
    "beta_epochs = beta_epochs.time_slice(t_start=dlcadj.timestamps[\"eeg_time\"].min(), t_stop=dlcadj.timestamps[\"eeg_time\"].max())\n",
    "\n",
    "for start, stop in zip(ripple_epochs.starts, ripple_epochs.stops):\n",
    "    hripple = ax.axvspan(start, stop, color=[0, 0.3, 0, 0.5], label='ripple')\n",
    "    \n",
    "    \n",
    "handles, labels = ax.get_legend_handles_labels()\n",
    "by_label = dict(zip(labels, handles))  \n",
    "ax.legend(by_label.values(), by_label.keys())\n"
   ]
  },
  {
   "cell_type": "code",
   "execution_count": null,
   "id": "58a9a204-b2ab-4390-9e9e-7b58f0e06f04",
   "metadata": {},
   "outputs": [],
   "source": [
    "#Freezing and ripple\n",
    "from copy import deepcopy\n",
    "import matplotlib.pyplot as plt\n",
    "\n",
    "# Assuming sess, frz_thresh, frz_epochs, and other necessary variables are defined elsewhere\n",
    "\n",
    "manually_adjust_dlc_times = -0.528  \n",
    "dlcadj = deepcopy(sess.dlc)\n",
    "dlcadj.timestamps[\"eeg_time\"] = dlcadj.timestamps[\"eeg_time\"] + manually_adjust_dlc_times\n",
    "\n",
    "_, ax = plt.subplots(figsize=(12, 4))\n",
    "\n",
    "# Use axhline to draw lines for visual separation (optional)\n",
    "ax.axhline(0.5, color='k', linestyle='-', alpha=0.5)  # Mid-line for visual separation\n",
    "\n",
    "# Plot freezing events below the line\n",
    "for start, stop in zip(frz_epochs.starts, frz_epochs.stops):\n",
    "    duration = stop - start\n",
    "    ax.axvspan(start, stop, ymin=0, ymax=0.5, color=[0.3, 0, 0, 0.5], label='frz')\n",
    "\n",
    "# Plot ripple events above the line\n",
    "for start, stop in zip(ripple_epochs.starts, ripple_epochs.stops):\n",
    "    ax.axvspan(start, stop, ymin=0.5, ymax=1, color=[0, 0.3, 0, 0.5], label='ripple')\n",
    "\n",
    "# Adjust the y-axis to hide the y-ticks and labels as they don't represent meaningful values in this context\n",
    "ax.set_yticks([])\n",
    "ax.set_ylabel(\"Events\")\n",
    "\n",
    "# Handle legend to avoid duplicate labels\n",
    "handles, labels = ax.get_legend_handles_labels()\n",
    "by_label = dict(zip(labels, handles))\n",
    "ax.legend(by_label.values(), by_label.keys())\n",
    "\n",
    "plt.tight_layout()\n",
    "plt.show()"
   ]
  },
  {
   "cell_type": "code",
   "execution_count": null,
   "id": "d3c97422-3b90-4fef-bcf3-ce4f3e562cf2",
   "metadata": {},
   "outputs": [],
   "source": [
    "#Freezing and beta\n",
    "from copy import deepcopy\n",
    "\n",
    "manually_adjust_dlc_times = -0.528\n",
    "dlcadj = deepcopy(sess.dlc)\n",
    "dlcadj.timestamps[\"eeg_time\"] = dlcadj.timestamps[\"eeg_time\"] + manually_adjust_dlc_times\n",
    "\n",
    "_, ax = plt.subplots(figsize=(12, 4))\n",
    "hthresh = ax.axhline(frz_thresh, color='r', linestyle='--')\n",
    "\n",
    "for start, stop in zip(frz_epochs.starts, frz_epochs.stops):\n",
    "    duration = stop - start\n",
    "    if duration > 4:  # Check if the frz epoch duration is greater than 5 seconds\n",
    "        hf = ax.axvspan(start, stop, color=[0.3, 0, 0, 0.5], label='frz')\n",
    "\n",
    "theta_epochs_file = sess.filePrefix.with_suffix(\".theta_epochs.npy\")\n",
    "theta_epochs = Epoch(epochs=None, file=theta_epochs_file)\n",
    "theta_epochs = theta_epochs.time_slice(t_start=dlcadj.timestamps[\"eeg_time\"].min(), t_stop=dlcadj.timestamps[\"eeg_time\"].max())\n",
    "\n",
    "beta_epochs_file = sess.filePrefix.with_suffix(\".beta_epochs.npy\")\n",
    "beta_epochs = Epoch(epochs=None, file=beta_epochs_file)\n",
    "beta_epochs = beta_epochs.time_slice(t_start=dlcadj.timestamps[\"eeg_time\"].min(), t_stop=dlcadj.timestamps[\"eeg_time\"].max())\n",
    "\n",
    "\n",
    "    \n",
    "for start, stop in zip(beta_epochs.starts, beta_epochs.stops):\n",
    "    hbeta = ax.axvspan(start, stop, color=[0, 0, 0.3, 0.5], label='beta')\n",
    "    \n",
    "handles, labels = ax.get_legend_handles_labels()\n",
    "by_label = dict(zip(labels, handles))  \n",
    "ax.legend(by_label.values(), by_label.keys())"
   ]
  },
  {
   "cell_type": "code",
   "execution_count": null,
   "id": "e67e7a41-2cc0-46a9-ad0d-87c8ffbd726b",
   "metadata": {},
   "outputs": [],
   "source": [
    "#Freezing and gamma  Gamma detection is wrong?\n",
    "from copy import deepcopy\n",
    "\n",
    "manually_adjust_dlc_times = -0.528 \n",
    "dlcadj = deepcopy(sess.dlc)\n",
    "dlcadj.timestamps[\"eeg_time\"] = dlcadj.timestamps[\"eeg_time\"] + manually_adjust_dlc_times\n",
    "\n",
    "_, ax = plt.subplots(figsize=(12, 4))\n",
    "hthresh = ax.axhline(frz_thresh, color='r', linestyle='--')\n",
    "\n",
    "for start, stop in zip(frz_epochs.starts, frz_epochs.stops):\n",
    "    duration = stop - start\n",
    "    if duration > 4:  # Check if the frz epoch duration is greater than 5 seconds\n",
    "        hf = ax.axvspan(start, stop, color=[0.3, 0, 0, 0.5], label='frz')\n",
    "\n",
    "theta_epochs_file = sess.filePrefix.with_suffix(\".theta_epochs.npy\")\n",
    "theta_epochs = Epoch(epochs=None, file=theta_epochs_file)\n",
    "theta_epochs = theta_epochs.time_slice(t_start=dlcadj.timestamps[\"eeg_time\"].min(), t_stop=dlcadj.timestamps[\"eeg_time\"].max())\n",
    "\n",
    "gamma_epochs_file = sess.filePrefix.with_suffix(\".gamma_epochs.npy\")\n",
    "gamma_epochs = Epoch(epochs=None, file=gamma_epochs_file)\n",
    "gamma_epochs = gamma_epochs.time_slice(t_start=dlcadj.timestamps[\"eeg_time\"].min(), t_stop=dlcadj.timestamps[\"eeg_time\"].max())\n",
    "\n",
    "\n",
    "    \n",
    "for start, stop in zip(gamma_epochs.starts, gamma_epochs.stops):\n",
    "    hgamma = ax.axvspan(start, stop, color=[0, 0, 0.3, 0.5], label='gamma')\n",
    "    \n",
    "handles, labels = ax.get_legend_handles_labels()\n",
    "by_label = dict(zip(labels, handles))  \n",
    "ax.legend(by_label.values(), by_label.keys())"
   ]
  },
  {
   "cell_type": "code",
   "execution_count": null,
   "id": "42b07f5b-f2dc-4fe1-a175-05d911e0765d",
   "metadata": {},
   "outputs": [],
   "source": [
    "#Freezing and delta\n",
    "from copy import deepcopy\n",
    "\n",
    "manually_adjust_dlc_times = -0.528 \n",
    "dlcadj = deepcopy(sess.dlc)\n",
    "dlcadj.timestamps[\"eeg_time\"] = dlcadj.timestamps[\"eeg_time\"] + manually_adjust_dlc_times\n",
    "\n",
    "_, ax = plt.subplots(figsize=(12, 4))\n",
    "hthresh = ax.axhline(frz_thresh, color='r', linestyle='--')\n",
    "\n",
    "for start, stop in zip(frz_epochs.starts, frz_epochs.stops):\n",
    "    duration = stop - start\n",
    "    if duration > 4:  # Check if the frz epoch duration is greater than 5 seconds\n",
    "        hf = ax.axvspan(start, stop, color=[0.3, 0, 0, 0.5], label='frz')\n",
    "\n",
    "# theta_epochs_file = sess.filePrefix.with_suffix(\".theta_epochs.npy\")\n",
    "# theta_epochs = Epoch(epochs=None, file=theta_epochs_file)\n",
    "# theta_epochs = theta_epochs.time_slice(t_start=dlcadj.timestamps[\"eeg_time\"].min(), t_stop=dlcadj.timestamps[\"eeg_time\"].max())\n",
    "\n",
    "delta_epochs_file = sess.filePrefix.with_suffix(\".delta_epochs.npy\")\n",
    "delta_epochs = Epoch(epochs=None, file=delta_epochs_file)\n",
    "delta_epochs = delta_epochs.time_slice(t_start=dlcadj.timestamps[\"eeg_time\"].min(), t_stop=dlcadj.timestamps[\"eeg_time\"].max())\n",
    "\n",
    "\n",
    "    \n",
    "for start, stop in zip(delta_epochs.starts, delta_epochs.stops):\n",
    "    duration = stop-start\n",
    "    if duration>0.2:\n",
    "        hdelta = ax.axvspan(start, stop, color=[0, 0, 0.3, 0.5], label='delta')\n",
    "    \n",
    "handles, labels = ax.get_legend_handles_labels()\n",
    "by_label = dict(zip(labels, handles))  \n",
    "ax.legend(by_label.values(), by_label.keys())"
   ]
  },
  {
   "cell_type": "code",
   "execution_count": null,
   "id": "78032042-442e-481d-97a6-fb5ea2e611e2",
   "metadata": {},
   "outputs": [],
   "source": [
    "#Freezing and USV\n",
    "from copy import deepcopy\n",
    "\n",
    "manually_adjust_dlc_times = -0.528 \n",
    "dlcadj = deepcopy(sess.dlc)\n",
    "dlcadj.timestamps[\"eeg_time\"] = dlcadj.timestamps[\"eeg_time\"] + manually_adjust_dlc_times\n",
    "\n",
    "_, ax = plt.subplots(figsize=(12, 4))\n",
    "hthresh = ax.axhline(frz_thresh, color='r', linestyle='--')\n",
    "\n",
    "for start, stop in zip(frz_epochs.starts, frz_epochs.stops):\n",
    "    duration = stop - start\n",
    "    hf = ax.axvspan(start, stop, color=[0.3, 0, 0, 0.5], label='frz')\n",
    "\n",
    "# theta_epochs_file = sess.filePrefix.with_suffix(\".theta_epochs.npy\")\n",
    "# theta_epochs = Epoch(epochs=None, file=theta_epochs_file)\n",
    "# theta_epochs = theta_epochs.time_slice(t_start=dlcadj.timestamps[\"eeg_time\"].min(), t_stop=dlcadj.timestamps[\"eeg_time\"].max())\n",
    "\n",
    "usv_epochs_file = sess.filePrefix.with_suffix(\".usv_epochs.npy\")\n",
    "usv_epochs = Epoch(epochs=None, file=usv_epochs_file)\n",
    "usv_epochs\n",
    "\n",
    "\n",
    "# delta_epochs_file = sess.filePrefix.with_suffix(\".delta_epochs.npy\")\n",
    "# delta_epochs = Epoch(epochs=None, file=delta_epochs_file)\n",
    "# delta_epochs = delta_epochs.time_slice(t_start=dlcadj.timestamps[\"eeg_time\"].min(), t_stop=dlcadj.timestamps[\"eeg_time\"].max())\n",
    "\n",
    "\n",
    "    \n",
    "for start, stop in zip(usv_epochs.starts, usv_epochs.stops):\n",
    "    duration = stop-start\n",
    "\n",
    "    husv = ax.axvspan(start, stop, color=[0, 0, 0.3, 0.5], label='usv')\n",
    "    \n",
    "handles, labels = ax.get_legend_handles_labels()\n",
    "by_label = dict(zip(labels, handles))  \n",
    "ax.legend(by_label.values(), by_label.keys())"
   ]
  },
  {
   "cell_type": "markdown",
   "id": "64ddeddb-2a7e-46bb-a050-f08f21390853",
   "metadata": {},
   "source": [
    "## Save notebook to animal working directory"
   ]
  },
  {
   "cell_type": "code",
   "execution_count": null,
   "id": "265b9af2-5254-4df9-abdf-a1c649ef28eb",
   "metadata": {},
   "outputs": [],
   "source": [
    "from neuropy.utils.manipulate_files import save_notebook\n",
    "try:\n",
    "    save_notebook(sess.basepath, save_prepend=f\"{animal}_{sess_name}_\")\n",
    "except PermissionError:\n",
    "    print('Got a weird PermissionError. Check to make sure file saved successfully')"
   ]
  },
  {
   "cell_type": "markdown",
   "id": "28508b7a",
   "metadata": {},
   "source": [
    "### Load in disconnect and motion artifacts"
   ]
  },
  {
   "cell_type": "code",
   "execution_count": null,
   "id": "e339bfda",
   "metadata": {},
   "outputs": [],
   "source": [
    "from neuropy.analyses.artifact import detect_artifact_epochs\n",
    "signal = sess.eegfile.get_signal()\n",
    "buffer_add = 0.25  # seconds, None = don't add\n",
    "\n",
    "art_epochs_file = sess.filePrefix.with_suffix(\".art_epochs.npy\")\n",
    "if art_epochs_file.exists():\n",
    "    art_epochs = Epoch(epochs=None, file=art_epochs_file)\n",
    "    print('Existing artifact epochs file loaded')\n",
    "else:\n",
    "    # art_epochs = detect_artifact_epochs(signal, thresh=8, \n",
    "    #                                 edge_cutoff=3, merge=6)\n",
    "\n",
    "    # Pick a particular channel with the code below\n",
    "    art_epochs = detect_artifact_epochs(signal.time_slice(channel_id=31), thresh=11, \n",
    "                                    edge_cutoff=3, merge=6)\n",
    "\n",
    "    if buffer_add is not None:  # Add in buffer to prevent erroneous detection of start/stop of artifact as SWRs\n",
    "        art_epochs.add_epoch_buffer(buffer_add)\n",
    "    sess.recinfo.write_epochs(epochs=art_epochs, ext='art')\n",
    "    art_epochs.save(art_epochs_file)\n",
    "\n",
    "print(f'Total artifact time = {art_epochs.durations.sum():0.1F} seconds')\n",
    "art_epochs.to_dataframe()"
   ]
  },
  {
   "cell_type": "code",
   "execution_count": null,
   "id": "7deec6a8-91d4-41ed-ac28-6a38b7acf8c8",
   "metadata": {},
   "outputs": [],
   "source": [
    "%matplotlib widget\n",
    "\n",
    "chan_plot = 28\n",
    "plot_signal_w_epochs(signal, 28, art_epochs)"
   ]
  },
  {
   "cell_type": "markdown",
   "id": "38876982",
   "metadata": {},
   "source": [
    "## Define probe group"
   ]
  },
  {
   "cell_type": "code",
   "execution_count": null,
   "id": "cb4159cb",
   "metadata": {},
   "outputs": [],
   "source": [
    "from neuropy.core import Shank, Probe, ProbeGroup\n",
    "from neuropy.plotting import plot_probe\n",
    "shank = Shank()\n",
    "shank = shank.auto_generate(columns=1, contacts_per_column=32, xpitch=0,\n",
    "                   ypitch=20, channel_id=np.arange(31, -1, -1))\n",
    "shank.set_disconnected_channels(sess.recinfo.skipped_channels)\n",
    "probe = Probe(shank)\n",
    "prbgrp = ProbeGroup()\n",
    "prbgrp.add_probe(probe)\n",
    "plot_probe(prbgrp)\n",
    "prbgrp.filename = sess.filePrefix.with_suffix(\".probegroup.npy\")\n",
    "prbgrp.save(prbgrp.filename)\n",
    "sess.prbgrp = prbgrp"
   ]
  },
  {
   "cell_type": "markdown",
   "id": "eafd977d-6a8a-4ecc-865f-194fa2aae65d",
   "metadata": {},
   "source": [
    "## Detect delta epochs"
   ]
  },
  {
   "cell_type": "code",
   "execution_count": null,
   "id": "828866c2-11d8-44fd-9661-e15c8658e13a",
   "metadata": {
    "scrolled": true
   },
   "outputs": [],
   "source": [
    "#Detect Delta\n",
    "from neuropy.analyses.oscillations import detect_hpc_delta_wave_epochs\n",
    "freq_band = (0.5, 4)\n",
    "min_dur = 0.15  \n",
    "max_dur = 0.5   \n",
    "ignore_epochs = None  \n",
    "delta_channel = 59  \n",
    "\n",
    "if delta_channel is not None:\n",
    "    signal_use = signal.time_slice(channel_id=delta_channel)\n",
    "else:\n",
    "    signal_use = signal\n",
    "delta_epochs = detect_hpc_delta_wave_epochs(\n",
    "    signal_use, freq_band=freq_band, min_dur=min_dur, max_dur=max_dur, ignore_epochs=ignore_epochs\n",
    ")"
   ]
  },
  {
   "cell_type": "markdown",
   "id": "ed8dce57-b2d3-43fc-8c07-bea19bf2771b",
   "metadata": {},
   "source": [
    "## Detect Beta epochs"
   ]
  },
  {
   "cell_type": "code",
   "execution_count": null,
   "id": "2c55ebfa-d460-421f-a4d6-d522f926f0f5",
   "metadata": {},
   "outputs": [],
   "source": [
    "#Detect Beta\n",
    "from neuropy.analyses.oscillations import detect_beta_epochs\n",
    "mindur=1\n",
    "maxdur=20\n",
    "thresh = (1, None)\n",
    "sigma = 0.125\n",
    "edge_cutoff = 0.25\n",
    "beta_channel = 59\n",
    "  \n",
    "if beta_channel is None:\n",
    "    beta_epochs, beta_power = detect_beta_epochs(signal, prbgrp, mindur=mindur, maxdur=maxdur, thresh=thresh, \n",
    "                                                    edge_cutoff=edge_cutoff, ignore_epochs=art_epochs, return_power=True)\n",
    "else:\n",
    "    signal_use = signal.time_slice(channel_id=beta_channel)\n",
    "    beta_epochs, beta_power = detect_beta_epochs(signal_use, probegroup=None, mindur=mindur, maxdur=maxdur, thresh=thresh, \n",
    "                                                    edge_cutoff=edge_cutoff, ignore_epochs=art_epochs, return_power=True)"
   ]
  },
  {
   "cell_type": "markdown",
   "id": "a5e11fab-f025-4643-b23d-f9c7e2862bdc",
   "metadata": {},
   "source": [
    "## Detect Theta epochs"
   ]
  },
  {
   "cell_type": "code",
   "execution_count": null,
   "id": "95826e80-d0b0-46d1-ad9b-87a141eb65bb",
   "metadata": {},
   "outputs": [],
   "source": [
    "from neuropy.analyses.oscillations import detect_theta_epochs\n",
    "mindur=1\n",
    "maxdur=20\n",
    "thresh = (1, None)\n",
    "sigma = 0.125\n",
    "edge_cutoff = 0.25\n",
    "theta_channel = 59\n",
    "\n",
    "# use this if you don't know theta channel\n",
    "if theta_channel is None:\n",
    "    theta_epochs, theta_power = detect_theta_epochs(signal, prbgrp, mindur=mindur, maxdur=maxdur, thresh=thresh, \n",
    "                                                    edge_cutoff=edge_cutoff, ignore_epochs=art_epochs, return_power=True)\n",
    "else:\n",
    "    signal_use = signal.time_slice(channel_id=theta_channel)\n",
    "    theta_epochs, theta_power = detect_theta_epochs(signal_use, probegroup=None, mindur=mindur, maxdur=maxdur, thresh=thresh, \n",
    "                                                    edge_cutoff=edge_cutoff, ignore_epochs=art_epochs, return_power=True)"
   ]
  },
  {
   "cell_type": "markdown",
   "id": "d2ab0bd1-8848-402a-89bb-a5696bddff3c",
   "metadata": {},
   "source": [
    "## Detect SWR Epochs"
   ]
  },
  {
   "cell_type": "code",
   "execution_count": null,
   "id": "1d19b2a9-4063-4159-a1d5-4730a7589165",
   "metadata": {
    "scrolled": true
   },
   "outputs": [],
   "source": [
    "from neuropy.analyses.oscillations import detect_ripple_epochs\n",
    "ripple_channel = 59\n",
    "thresh = (2, None)  # conservative but good\n",
    "edge_cutoff = 0.5\n",
    "ripple_epochs = detect_ripple_epochs(signal, prbgrp, thresh=thresh, ripple_channel=ripple_channel, \n",
    "                                     ignore_epochs=art_epochs)\n"
   ]
  },
  {
   "cell_type": "markdown",
   "id": "dbe4af82-0804-4394-b249-8b92f321ce90",
   "metadata": {},
   "source": [
    "## Detect gamma epochs"
   ]
  },
  {
   "cell_type": "code",
   "execution_count": null,
   "id": "fb156ddf-c633-4155-b9a9-6e59cdc838a1",
   "metadata": {},
   "outputs": [],
   "source": [
    "125/1250"
   ]
  },
  {
   "cell_type": "code",
   "execution_count": null,
   "id": "3de15ebe-d43f-4814-9d5a-b6e722c2e03e",
   "metadata": {},
   "outputs": [],
   "source": [
    "# Detect Gamma\n",
    "from neuropy.analyses.oscillations import detect_gamma_epochs\n",
    "from neuropy.analyses.oscillations import Gamma\n",
    "band=(40, 80)\n",
    "lowthresh = 1.5  \n",
    "highthresh = 3 \n",
    "minDistance = 300\n",
    "minDuration = 125\n",
    "gamma_channel = 59\n",
    "\n",
    "# Use this if you don't know the specific channel for gamma detection\n",
    "if gamma_channel is None:\n",
    "    signal_use = signal.time_slice(channel_id=gamma_channel)\n",
    "else:\n",
    "    # If a specific channel for gamma is known\n",
    "    signal_use = signal\n",
    "\n",
    "gammadetect = Gamma()\n",
    "# gammadetect.get_peak_intervals(signal.traces, lowthresh=lowthresh, highthresh=highthresh, minDistance=minDistance, minDuration=minDuration)\n",
    "peakevents, gamma_amp = Gamma().get_peak_intervals(signal_use.traces[gamma_channel, :], band=band, lowthresh=lowthresh, highthresh=highthresh, \n",
    "                                        minDistance=minDistance, minDuration=minDuration, return_amplitude=True)\n",
    "# csd=csd(self, period, refchan, band=band, window=1250)\n",
    "gamma_epochs = Epoch(pd.DataFrame({\"start\" : peakevents[:, 0]/sess.eegfile.sampling_rate, \"stop\": peakevents[:, 1]/sess.eegfile.sampling_rate,\n",
    "                   \"label\": \"\"}))\n",
    "# pd.DataFrame(dict(start=peakevents[:, 0]/sess.eegfile.sampling_rate, stop=peakevents[:, 1]/sess.eegfile.sampling_rate))"
   ]
  },
  {
   "cell_type": "code",
   "execution_count": null,
   "id": "47ad18da-fbec-4435-bbb3-c3c8a0a23fdc",
   "metadata": {
    "scrolled": true
   },
   "outputs": [],
   "source": [
    "gamma_epochs"
   ]
  },
  {
   "cell_type": "code",
   "execution_count": null,
   "id": "1f27c532-9149-43bf-aa8b-f859e7e73ab3",
   "metadata": {},
   "outputs": [],
   "source": [
    "np.arange(0, len(gamma_amp))/sess.eegfile.sampling_rate "
   ]
  },
  {
   "cell_type": "code",
   "execution_count": null,
   "id": "212aefdc-46b9-4c8d-b3dd-ba4983653483",
   "metadata": {},
   "outputs": [],
   "source": [
    "import scipy.stats as stats\n",
    "_, ax = plt.subplots(2, 1, figsize=(12, 4), sharex=True)\n",
    "plot_signal_w_epochs(signal, gamma_channel, gamma_epochs, ax=ax[0])\n",
    "ax[1].plot(np.arange(0, len(gamma_amp))/sess.eegfile.sampling_rate , stats.zscore(gamma_amp))"
   ]
  },
  {
   "cell_type": "markdown",
   "id": "5b66efe2-a9de-431a-913b-4e97f70541ea",
   "metadata": {},
   "source": [
    "## Sync via CS+ or CS- times in tone_recall or control_tone_recall or tone_habituation session"
   ]
  },
  {
   "cell_type": "code",
   "execution_count": 9,
   "id": "4a9f2ab5-d72e-44bb-b0c5-2ef925a81972",
   "metadata": {},
   "outputs": [
    {
     "data": {
      "text/html": [
       "<div>\n",
       "<style scoped>\n",
       "    .dataframe tbody tr th:only-of-type {\n",
       "        vertical-align: middle;\n",
       "    }\n",
       "\n",
       "    .dataframe tbody tr th {\n",
       "        vertical-align: top;\n",
       "    }\n",
       "\n",
       "    .dataframe thead th {\n",
       "        text-align: right;\n",
       "    }\n",
       "</style>\n",
       "<table border=\"1\" class=\"dataframe\">\n",
       "  <thead>\n",
       "    <tr style=\"text-align: right;\">\n",
       "      <th></th>\n",
       "      <th>channel_states</th>\n",
       "      <th>timestamps</th>\n",
       "      <th>datetimes</th>\n",
       "      <th>event_name</th>\n",
       "    </tr>\n",
       "  </thead>\n",
       "  <tbody>\n",
       "    <tr>\n",
       "      <th>915</th>\n",
       "      <td>2</td>\n",
       "      <td>5920254</td>\n",
       "      <td>2023-05-09 12:17:50.341800000</td>\n",
       "      <td></td>\n",
       "    </tr>\n",
       "    <tr>\n",
       "      <th>1063</th>\n",
       "      <td>-2</td>\n",
       "      <td>6217851</td>\n",
       "      <td>2023-05-09 12:18:00.261700000</td>\n",
       "      <td></td>\n",
       "    </tr>\n",
       "    <tr>\n",
       "      <th>1862</th>\n",
       "      <td>2</td>\n",
       "      <td>7831319</td>\n",
       "      <td>2023-05-09 12:18:54.043966667</td>\n",
       "      <td></td>\n",
       "    </tr>\n",
       "    <tr>\n",
       "      <th>2011</th>\n",
       "      <td>-2</td>\n",
       "      <td>8129436</td>\n",
       "      <td>2023-05-09 12:19:03.981200000</td>\n",
       "      <td></td>\n",
       "    </tr>\n",
       "    <tr>\n",
       "      <th>2870</th>\n",
       "      <td>2</td>\n",
       "      <td>9864601</td>\n",
       "      <td>2023-05-09 12:20:01.820033333</td>\n",
       "      <td></td>\n",
       "    </tr>\n",
       "  </tbody>\n",
       "</table>\n",
       "</div>"
      ],
      "text/plain": [
       "      channel_states  timestamps                     datetimes event_name\n",
       "915                2     5920254 2023-05-09 12:17:50.341800000           \n",
       "1063              -2     6217851 2023-05-09 12:18:00.261700000           \n",
       "1862               2     7831319 2023-05-09 12:18:54.043966667           \n",
       "2011              -2     8129436 2023-05-09 12:19:03.981200000           \n",
       "2870               2     9864601 2023-05-09 12:20:01.820033333           "
      ]
     },
     "execution_count": 9,
     "metadata": {},
     "output_type": "execute_result"
    },
    {
     "data": {
      "image/png": "[encoded data removed]",
      "text/plain": [
       "<Figure size 640x480 with 1 Axes>"
      ]
     },
     "metadata": {},
     "output_type": "display_data"
    }
   ],
   "source": [
    "import neuropy.io.openephysio as oeio\n",
    "\n",
    "# Import TTLs for CS from OpenEphys\n",
    "ttl_df = oeio.load_all_ttl_events(sess.basepath, sanity_check_channel=1, zero_timestamps=True)\n",
    "ttl_df[ttl_df['channel_states'].abs() == 2].head(5)"
   ]
  },
  {
   "cell_type": "code",
   "execution_count": 10,
   "id": "f8f0a1f7-2523-4ea8-b769-5ee0753932f3",
   "metadata": {},
   "outputs": [
    {
     "name": "stdout",
     "output_type": "stream",
     "text": [
      "15 CS+ events detected\n",
      "      Time (s)      Event                     Timestamp\n",
      "5    61.734383  CS1_start 2023-05-09 12:17:50.975583106\n",
      "7   125.436887  CS2_start 2023-05-09 12:18:54.678087026\n",
      "9   193.213021  CS3_start 2023-05-09 12:20:02.454221040\n",
      "11  256.929908  CS4_start 2023-05-09 12:21:06.171107560\n",
      "13  330.764161  CS5_start 2023-05-09 12:22:20.005360872\n",
      "15  394.481047  CS6_start 2023-05-09 12:23:23.722247153\n",
      "12 CS- events detected\n",
      "      Time (s)      Event                     Timestamp\n",
      "5    61.624768  CS1_start 2023-05-09 12:38:24.051703780\n",
      "7   131.415150  CS2_start 2023-05-09 12:39:33.842086404\n",
      "9   199.191781  CS3_start 2023-05-09 12:40:41.618716806\n",
      "11  262.909666  CS4_start 2023-05-09 12:41:45.336602061\n",
      "13  332.700054  CS5_start 2023-05-09 12:42:55.126990407\n",
      "15  411.639126  CS6_start 2023-05-09 12:44:14.066062062\n"
     ]
    }
   ],
   "source": [
    "import tracefc.io.traceio as traceio\n",
    "\n",
    "if \"training\" in str(sess.basepath):\n",
    "    # For tone habituation\n",
    "    csn_starts, csn_stops, csn_df = traceio.load_trace_events(sess.basepath, session_type=\"tone_habituation\", \n",
    "                                                          event_type=\"CS-\", return_df=True)\n",
    "    print(f'{csn_starts.shape[0]} CS- events detected')\n",
    "    print(csn_starts.head(6))\n",
    "    \n",
    "    # For CS+ during training\n",
    "    cs_starts, cs_stops, cs_df = traceio.load_trace_events(sess.basepath, session_type=\"training\", \n",
    "                                                          event_type=\"CS+\", return_df=True)\n",
    "    print(f'{cs_starts.shape[0]} CS+ events detected')\n",
    "    print(cs_starts.head(6))\n",
    "elif \"recall\" in str(sess.basepath):\n",
    "    # For tone recall CS+\n",
    "    cs_starts, cs_stops, cs_df = traceio.load_trace_events(sess.basepath, session_type=\"tone_recall\", \n",
    "                                                          event_type=\"CS+\", return_df=True)\n",
    "    print(f'{cs_starts.shape[0]} CS+ events detected')\n",
    "    print(cs_starts.head(6))\n",
    "    \n",
    "    # For control tone recall CS-\n",
    "    csn_starts, csn_stops, csn_df = traceio.load_trace_events(sess.basepath, session_type=\"control_tone_recall\", \n",
    "                                                          event_type=\"CS-\", return_df=True)\n",
    "    print(f'{csn_starts.shape[0]} CS- events detected')\n",
    "    print(csn_starts.head(6))"
   ]
  },
  {
   "cell_type": "code",
   "execution_count": 11,
   "id": "3841a100-2ae6-4ba2-bfed-7137db2c32ef",
   "metadata": {},
   "outputs": [
    {
     "name": "stdout",
     "output_type": "stream",
     "text": [
      "start time = 2023-05-09 12:14:33-04:00\n",
      "start time = 2023-05-09 12:35:50-04:00\n",
      "start time = 2023-05-09 12:57:20-04:00\n"
     ]
    },
    {
     "data": {
      "text/html": [
       "<div>\n",
       "<style scoped>\n",
       "    .dataframe tbody tr th:only-of-type {\n",
       "        vertical-align: middle;\n",
       "    }\n",
       "\n",
       "    .dataframe tbody tr th {\n",
       "        vertical-align: top;\n",
       "    }\n",
       "\n",
       "    .dataframe thead th {\n",
       "        text-align: right;\n",
       "    }\n",
       "</style>\n",
       "<table border=\"1\" class=\"dataframe\">\n",
       "  <thead>\n",
       "    <tr style=\"text-align: right;\">\n",
       "      <th></th>\n",
       "      <th>Recording</th>\n",
       "      <th>Datetime</th>\n",
       "      <th>Condition</th>\n",
       "      <th>nframe_dat</th>\n",
       "      <th>dat_time</th>\n",
       "      <th>nframe_eeg</th>\n",
       "      <th>eeg_time</th>\n",
       "    </tr>\n",
       "  </thead>\n",
       "  <tbody>\n",
       "    <tr>\n",
       "      <th>0</th>\n",
       "      <td>0</td>\n",
       "      <td>2023-05-09 12:14:33-04:00</td>\n",
       "      <td>start</td>\n",
       "      <td>0</td>\n",
       "      <td>0.000000</td>\n",
       "      <td>0</td>\n",
       "      <td>0.0000</td>\n",
       "    </tr>\n",
       "    <tr>\n",
       "      <th>1</th>\n",
       "      <td>0</td>\n",
       "      <td>2023-05-09 12:35:26.794100-04:00</td>\n",
       "      <td>stop</td>\n",
       "      <td>37613823</td>\n",
       "      <td>1253.794100</td>\n",
       "      <td>1567242</td>\n",
       "      <td>1253.7936</td>\n",
       "    </tr>\n",
       "    <tr>\n",
       "      <th>2</th>\n",
       "      <td>1</td>\n",
       "      <td>2023-05-09 12:35:50-04:00</td>\n",
       "      <td>start</td>\n",
       "      <td>37613824</td>\n",
       "      <td>1253.794133</td>\n",
       "      <td>1567243</td>\n",
       "      <td>1253.7944</td>\n",
       "    </tr>\n",
       "    <tr>\n",
       "      <th>3</th>\n",
       "      <td>1</td>\n",
       "      <td>2023-05-09 12:57:05.383433333-04:00</td>\n",
       "      <td>stop</td>\n",
       "      <td>75875327</td>\n",
       "      <td>2529.177567</td>\n",
       "      <td>3161471</td>\n",
       "      <td>2529.1768</td>\n",
       "    </tr>\n",
       "    <tr>\n",
       "      <th>4</th>\n",
       "      <td>2</td>\n",
       "      <td>2023-05-09 12:57:20-04:00</td>\n",
       "      <td>start</td>\n",
       "      <td>75875328</td>\n",
       "      <td>2529.177600</td>\n",
       "      <td>3161472</td>\n",
       "      <td>2529.1776</td>\n",
       "    </tr>\n",
       "    <tr>\n",
       "      <th>5</th>\n",
       "      <td>2</td>\n",
       "      <td>2023-05-09 13:15:09.764233333-04:00</td>\n",
       "      <td>stop</td>\n",
       "      <td>107968255</td>\n",
       "      <td>3598.941833</td>\n",
       "      <td>4498677</td>\n",
       "      <td>3598.9416</td>\n",
       "    </tr>\n",
       "  </tbody>\n",
       "</table>\n",
       "</div>"
      ],
      "text/plain": [
       "   Recording                            Datetime Condition  nframe_dat  \\\n",
       "0          0           2023-05-09 12:14:33-04:00     start           0   \n",
       "1          0    2023-05-09 12:35:26.794100-04:00      stop    37613823   \n",
       "2          1           2023-05-09 12:35:50-04:00     start    37613824   \n",
       "3          1 2023-05-09 12:57:05.383433333-04:00      stop    75875327   \n",
       "4          2           2023-05-09 12:57:20-04:00     start    75875328   \n",
       "5          2 2023-05-09 13:15:09.764233333-04:00      stop   107968255   \n",
       "\n",
       "      dat_time  nframe_eeg   eeg_time  \n",
       "0     0.000000           0     0.0000  \n",
       "1  1253.794100     1567242  1253.7936  \n",
       "2  1253.794133     1567243  1253.7944  \n",
       "3  2529.177567     3161471  2529.1768  \n",
       "4  2529.177600     3161472  2529.1776  \n",
       "5  3598.941833     4498677  3598.9416  "
      ]
     },
     "execution_count": 11,
     "metadata": {},
     "output_type": "execute_result"
    }
   ],
   "source": [
    "sync_df = oeio.create_sync_df(sess.basepath)\n",
    "sync_df"
   ]
  },
  {
   "cell_type": "code",
   "execution_count": null,
   "id": "94082861-1e8c-4ed6-ae78-341a9f62a189",
   "metadata": {
    "scrolled": true
   },
   "outputs": [],
   "source": [
    "# Grab CS times corresponding to OE timestamps\n",
    "ttl_lag_use = pd.Timedelta(0.8, unit=\"seconds\")\n",
    "cs_oe_start_df = traceio.trace_ttl_to_openephys(cs_starts, \n",
    "                                  ttl_df[ttl_df['channel_states'].abs() == 2], \n",
    "                                  ttl_lag=ttl_lag_use)\n",
    "cs_oe_stop_df = traceio.trace_ttl_to_openephys(cs_stops, \n",
    "                                  ttl_df[ttl_df['channel_states'].abs() == 2], \n",
    "                                  ttl_lag=ttl_lag_use)\n",
    "# Convert to times in combined eeg file\n",
    "cs_starts_combined = oeio.recording_events_to_combined_time(cs_oe_start_df, sync_df)\n",
    "cs_stops_combined = oeio.recording_events_to_combined_time(cs_oe_stop_df, sync_df)\n",
    "\n",
    "csn_oe_start_df = traceio.trace_ttl_to_openephys(csn_starts, \n",
    "                                  ttl_df[ttl_df['channel_states'].abs() == 2], \n",
    "                                  ttl_lag=ttl_lag_use*2)\n",
    "csn_oe_stop_df = traceio.trace_ttl_to_openephys(csn_stops, \n",
    "                                  ttl_df[ttl_df['channel_states'].abs() == 2], \n",
    "                                  ttl_lag=ttl_lag_use*2)\n",
    "\n",
    "# Convert to times in combined eeg file\n",
    "csn_starts_combined = oeio.recording_events_to_combined_time(csn_oe_start_df, sync_df)\n",
    "csn_stops_combined = oeio.recording_events_to_combined_time(csn_oe_stop_df, sync_df)"
   ]
  },
  {
   "cell_type": "code",
   "execution_count": null,
   "id": "bd86dbd3-9a69-499f-9d48-f3896fde48ed",
   "metadata": {},
   "outputs": [],
   "source": [
    "cs_starts"
   ]
  },
  {
   "cell_type": "code",
   "execution_count": null,
   "id": "687f1852-d0cd-4797-95c2-43e991042f5f",
   "metadata": {},
   "outputs": [],
   "source": [
    "cs_oe_start_df"
   ]
  },
  {
   "cell_type": "markdown",
   "id": "fccc80da-4248-41e6-b969-61d0f24cf023",
   "metadata": {},
   "source": [
    "### How to write CS+ to neuroscope event file"
   ]
  },
  {
   "cell_type": "code",
   "execution_count": null,
   "id": "7ac224bc-902f-48ac-a232-e2698eb00ab5",
   "metadata": {},
   "outputs": [],
   "source": [
    "cs_tone_recall_epochs = Epoch({\"start\": cs_starts_combined, \"stop\": cs_stops_combined, \"label\": [\"CS+\"]*len(cs_starts_combined)})\n",
    "cs_tone_recall_epochs\n",
    "sess.recinfo.write_epochs(cs_tone_recall_epochs, \"cs+\")"
   ]
  },
  {
   "cell_type": "code",
   "execution_count": null,
   "id": "9c14374e-73a5-47ba-a816-eb9c7366a9ca",
   "metadata": {
    "scrolled": true
   },
   "outputs": [],
   "source": [
    "cs_tone_recall_epochs"
   ]
  },
  {
   "cell_type": "code",
   "execution_count": null,
   "id": "28f53e12-66c4-42b8-a599-e6c5c7623e0b",
   "metadata": {},
   "outputs": [],
   "source": [
    "sess_use"
   ]
  },
  {
   "cell_type": "code",
   "execution_count": null,
   "id": "4cf0503b-6762-4714-b431-fe4d784a4fa9",
   "metadata": {},
   "outputs": [],
   "source": [
    "from tracefc.io.traceio import grab_usv_folder\n",
    "csp_wav = grab_usv_folder(sess.basepath, 'csp')\n",
    "print(csp_wav)\n",
    "# Get CS+ times and plot to check\n",
    "cs_wav_epochs = detect_tone(csp_wav, freq_lims=(6900, 7100), thresh=0.05, tone_length=10, tone_label=\"CS+\", plot_check=True)\n",
    "# Check that lags are consistent\n",
    "if (animal == 'Django') & (sess_name == 'training'):\n",
    "    cs_starts_combined = cs_starts_combined[:5]\n",
    "    cs_stops_combined = cs_stops_combined[:5]\n",
    "cs_start_lags = cs_starts_combined - cs_wav_epochs.starts\n",
    "print(f\"Mean start lag time of {np.mean(cs_start_lags):0.3F} sec with std = {np.std(cs_start_lags):0.3F} sec. Add lags from wavfile times to get ephys times\")\n",
    "cs_stop_lags = cs_stops_combined - cs_wav_epochs.stops\n",
    "print(f\"Mean stop lag time of {np.mean(cs_stop_lags):0.3F} sec with std = {np.std(cs_stop_lags):0.3F} sec.\")"
   ]
  },
  {
   "cell_type": "markdown",
   "id": "87ad9355-bc11-4f09-b553-150e3ed6c9d8",
   "metadata": {},
   "source": [
    "Ditto for CS-"
   ]
  },
  {
   "cell_type": "code",
   "execution_count": null,
   "id": "729880d3-84a5-4e6a-b353-fe48366c7379",
   "metadata": {},
   "outputs": [],
   "source": [
    "# Detect CS- in audio recording.\n",
    "csn_wav = grab_usv_folder(sess.basepath, \"csn\")\n",
    "print(csn_wav)\n",
    "\n",
    "# Get CS+ times and plot to check\n",
    "csn_wav_epochs, csn_wav_stop = detect_tone(csn_wav, freq_lims=(900, 1100), thresh=-0.1, tone_length=10, tone_label=\"CS-\", \n",
    "                                           plot_check=True, return_stop=True)\n",
    "\n",
    "# Check that lags are consistent\n",
    "csn_start_lags = csn_starts_combined - csn_wav_epochs.starts\n",
    "print(f\"Mean start lag time of {np.mean(csn_start_lags):0.3F} sec with std = {np.std(csn_start_lags):0.3F} sec. Add lags from wavfile times to get ephys times\")\n",
    "csn_stop_lags = csn_stops_combined - csn_wav_epochs.stops\n",
    "print(f\"Mean stop lag time of {np.mean(csn_stop_lags):0.3F} sec with std = {np.std(csn_stop_lags):0.3F} sec.\")"
   ]
  },
  {
   "cell_type": "markdown",
   "id": "b340847c-6e8f-4ffa-9d40-0402c9caac55",
   "metadata": {},
   "source": [
    "Now try to sync to start tone "
   ]
  },
  {
   "cell_type": "code",
   "execution_count": null,
   "id": "b01fde53-e501-463b-9edf-10f6d6000490",
   "metadata": {},
   "outputs": [],
   "source": [
    "ctx_recall_wav = sorted((sess.basepath / \"3_post\").glob(\"**/*.wav\"))[0]\n",
    "print(ctx_recall_wav)\n",
    "\n",
    "# Get CS+ times and plot to check\n",
    "start_wav_epochs = detect_tone(ctx_recall_wav, freq_lims=(450, 550), thresh=10, tone_length=0.5, tone_label=\"start_tone\", plot_check=True)"
   ]
  },
  {
   "cell_type": "markdown",
   "id": "e4b8c6d5-b251-4174-835c-66c67590f688",
   "metadata": {},
   "source": [
    "## Sync recorded USV times to ephys file"
   ]
  },
  {
   "cell_type": "code",
   "execution_count": null,
   "id": "ba9d69cc-bd25-4a5c-b697-7b980699d6e8",
   "metadata": {},
   "outputs": [],
   "source": [
    "# Read in USV times from tone recall session\n",
    "from neuropy.io.usvio import DeepSqueakIO\n",
    "csp_wav = Path(csp_wav)\n",
    "usv_detect_file = sorted(csp_wav.parent.glob(f\"**/{csp_wav.name[:-4]}*_cell.mat\"))[0]\n",
    "\n",
    "ds_calls = DeepSqueakIO(filename=usv_detect_file)\n",
    "ds_calls.load_calls()\n",
    "ds_calls.usv_df"
   ]
  },
  {
   "cell_type": "markdown",
   "id": "f1c03ce6-62e8-4da6-b3ac-853c1afd5e67",
   "metadata": {},
   "source": [
    "Plot lags vs time to check for drift between ephys and audio recordings and correct if necessary"
   ]
  },
  {
   "cell_type": "code",
   "execution_count": null,
   "id": "537ed3d8-2f41-4bcb-b175-8e87e6cf88b6",
   "metadata": {},
   "outputs": [],
   "source": [
    "from scipy.linalg import lstsq\n",
    "\n",
    "_, ax = plt.subplots(layout='tight')\n",
    "cs_times_wav = np.stack((cs_wav_epochs.starts, cs_wav_epochs.stops), axis=1)\n",
    "cs_lags_comb = np.stack((cs_start_lags, cs_stop_lags), axis=1)\n",
    "hl = ax.plot(cs_times_wav, cs_lags_comb)\n",
    "ax.set_xlabel('WAV time (sec) #')\n",
    "ax.set_ylabel('Lag between TTL and WAV detected CS (sec)')\n",
    "ax.legend(hl, ('CS Start', 'CS Stop'))\n",
    "\n",
    "# Fit function to approximate drift\n",
    "y = cs_lags_comb.T.reshape(-1)\n",
    "M = np.stack((np.ones_like(cs_lags_comb.reshape(-1)), cs_times_wav.T.reshape(-1)), axis=1)\n",
    "p, res, rnk, s = lstsq(M, y)\n",
    "hfit = ax.plot(cs_times_wav.T.reshape(-1), p[0] + p[1]*cs_times_wav.T.reshape(-1), 'r-.')\n",
    "hl.extend(hfit)\n",
    "ax.legend(hl, ('CS start', 'CS stop', 'fit'))"
   ]
  },
  {
   "cell_type": "code",
   "execution_count": null,
   "id": "9e06e1b0-891c-4092-b855-a384143b7c1e",
   "metadata": {},
   "outputs": [],
   "source": [
    "# Sanity check code to output corrected CS times from WAV file to Neuroscope\n",
    "cs_wav_starts_aligned = cs_wav_epochs.starts + p[0] + p[1]*cs_wav_epochs.starts\n",
    "cs_wav_stops_aligned = cs_wav_epochs.stops + p[0] + p[1]*cs_wav_epochs.stops\n",
    "cs_wav_epochs_aligned = Epoch({\"start\": cs_wav_starts_aligned, \"stop\": cs_wav_stops_aligned, \n",
    "                               \"label\": [\"CS+ from WAV file\"]*len(cs_wav_stops_aligned)})\n",
    "\n",
    "\n",
    "cs_epochs_files = sess.filePrefix.with_suffix(\".cs_wav_epochs.npy\")\n",
    "cs_wav_epochs_aligned.save(cs_epochs_files)\n",
    "sess.recinfo.write_epochs(cs_wav_epochs_aligned, ext=\"wv+\")"
   ]
  },
  {
   "cell_type": "code",
   "execution_count": null,
   "id": "5d853e0a-c27f-413b-84db-c482af37d3f8",
   "metadata": {},
   "outputs": [],
   "source": [
    "cs_wav_epochs_aligned"
   ]
  },
  {
   "cell_type": "markdown",
   "id": "e73bbc0d-4af4-48ef-8473-423f63e145a0",
   "metadata": {},
   "source": [
    "Now correct that drift and find corrected lags!"
   ]
  },
  {
   "cell_type": "code",
   "execution_count": null,
   "id": "b226c00f-d6b1-46f5-b6c3-eaf53c815cc9",
   "metadata": {},
   "outputs": [],
   "source": [
    "# This should eventually be folded into the DeepSqueakIO class!\n",
    "# Bowen question: \n",
    "calls_accept_df = ds_calls.usv_df[ds_calls.usv_df['Accept'] == 1]\n",
    "call_starts_wav = calls_accept_df['Begin_Time'].values\n",
    "call_stops_wav = call_starts_wav + calls_accept_df['Duration'].values\n",
    "calls_accept_df.insert(0, \"start\", call_starts_wav + p[0] + p[1]*call_starts_wav)\n",
    "calls_accept_df.insert(1, \"stop\", call_stops_wav + p[0] + p[1]*call_stops_wav)\n",
    "calls_accept_df.insert(calls_accept_df.shape[1], \"label\", \"\")\n",
    "good_calls = Epoch(calls_accept_df)\n",
    "\n",
    "# output to neuroscope and neuropy\n",
    "sess.recinfo.write_epochs(good_calls, ext=\"usv\")\n",
    "usv_epochs_file = sess.filePrefix.with_suffix(\".usv_epochs.npy\")\n",
    "good_calls.save(usv_epochs_file)"
   ]
  },
  {
   "cell_type": "code",
   "execution_count": null,
   "id": "90661ee2-193b-4e14-9592-cbaecdee7188",
   "metadata": {},
   "outputs": [],
   "source": [
    "good_calls"
   ]
  },
  {
   "cell_type": "markdown",
   "id": "8a16ac39",
   "metadata": {},
   "source": [
    "## Save notebook to working directory"
   ]
  },
  {
   "cell_type": "code",
   "execution_count": null,
   "id": "1fdd40e5-daba-459a-bc1c-6469978bd513",
   "metadata": {},
   "outputs": [],
   "source": [
    "from neuropy.core.session import ProcessData\n",
    "\n",
    "def sess_use(basepath=os.getcwd()):\n",
    "\n",
    "    return ProcessData(basepath)"
   ]
  }
 ],
 "metadata": {
  "kernelspec": {
   "display_name": "Python 3 (ipykernel)",
   "language": "python",
   "name": "python3"
  },
  "language_info": {
   "codemirror_mode": {
    "name": "ipython",
    "version": 3
   },
   "file_extension": ".py",
   "mimetype": "text/x-python",
   "name": "python",
   "nbconvert_exporter": "python",
   "pygments_lexer": "ipython3",
   "version": "3.11.6"
  },
  "widgets": {
   "application/vnd.jupyter.widget-state+json": {
    "state": {
     "0234c784c04b48659269ef3ce0e82d24": {
      "model_module": "jupyter-matplotlib",
      "model_module_version": "^0.11",
      "model_name": "ToolbarModel",
      "state": {
       "_model_module_version": "^0.11",
       "_view_module_version": "^0.11",
       "collapsed": true,
       "layout": "IPY_MODEL_05056e1398e844248c8f015cfeab5887",
       "orientation": "vertical",
       "toolitems": [
        [
         "Home",
         "Reset original view",
         "home",
         "home"
        ],
        [
         "Back",
         "Back to previous view",
         "arrow-left",
         "back"
        ],
        [
         "Forward",
         "Forward to next view",
         "arrow-right",
         "forward"
        ],
        [
         "Pan",
         "Left button pans, Right button zooms\nx/y fixes axis, CTRL fixes aspect",
         "arrows",
         "pan"
        ],
        [
         "Zoom",
         "Zoom to rectangle\nx/y fixes axis",
         "square-o",
         "zoom"
        ],
        [
         "Download",
         "Download plot",
         "floppy-o",
         "save_figure"
        ]
       ]
      }
     },
     "05056e1398e844248c8f015cfeab5887": {
      "model_module": "@jupyter-widgets/base",
      "model_module_version": "2.0.0",
      "model_name": "LayoutModel",
      "state": {}
     },
     "08192d712d5c42358406caf62512aee1": {
      "model_module": "jupyter-matplotlib",
      "model_module_version": "^0.11",
      "model_name": "MPLCanvasModel",
      "state": {
       "_data_url": "data:image/png;base64,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",
       "_figure_label": "Figure 2",
       "_model_module_version": "^0.11",
       "_size": [
        700,
        1000
       ],
       "_view_module_version": "^0.11",
       "layout": "IPY_MODEL_71718abf03dd472c8c57ee4e706292e7",
       "toolbar": "IPY_MODEL_1805feadc0884e479a3b0bae1b649488",
       "toolbar_position": "left"
      }
     },
     "1805feadc0884e479a3b0bae1b649488": {
      "model_module": "jupyter-matplotlib",
      "model_module_version": "^0.11",
      "model_name": "ToolbarModel",
      "state": {
       "_model_module_version": "^0.11",
       "_view_module_version": "^0.11",
       "collapsed": true,
       "layout": "IPY_MODEL_a9254da145be4e3290697d2b0bc123dd",
       "orientation": "vertical",
       "toolitems": [
        [
         "Home",
         "Reset original view",
         "home",
         "home"
        ],
        [
         "Back",
         "Back to previous view",
         "arrow-left",
         "back"
        ],
        [
         "Forward",
         "Forward to next view",
         "arrow-right",
         "forward"
        ],
        [
         "Pan",
         "Left button pans, Right button zooms\nx/y fixes axis, CTRL fixes aspect",
         "arrows",
         "pan"
        ],
        [
         "Zoom",
         "Zoom to rectangle\nx/y fixes axis",
         "square-o",
         "zoom"
        ],
        [
         "Download",
         "Download plot",
         "floppy-o",
         "save_figure"
        ]
       ]
      }
     },
     "28bad205472843aeb847c394a6fb4e94": {
      "model_module": "@jupyter-widgets/base",
      "model_module_version": "2.0.0",
      "model_name": "LayoutModel",
      "state": {}
     },
     "71718abf03dd472c8c57ee4e706292e7": {
      "model_module": "@jupyter-widgets/base",
      "model_module_version": "2.0.0",
      "model_name": "LayoutModel",
      "state": {}
     },
     "a9254da145be4e3290697d2b0bc123dd": {
      "model_module": "@jupyter-widgets/base",
      "model_module_version": "2.0.0",
      "model_name": "LayoutModel",
      "state": {}
     },
     "cd9159ff533a4321bd4befc049037906": {
      "model_module": "jupyter-matplotlib",
      "model_module_version": "^0.11",
      "model_name": "MPLCanvasModel",
      "state": {
       "_data_url": "data:image/png;base64,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",
       "_figure_label": "Figure 1",
       "_message": "x=2500. y=−0.0080",
       "_model_module_version": "^0.11",
       "_size": [
        640,
        480
       ],
       "_view_module_version": "^0.11",
       "layout": "IPY_MODEL_28bad205472843aeb847c394a6fb4e94",
       "toolbar": "IPY_MODEL_0234c784c04b48659269ef3ce0e82d24",
       "toolbar_position": "left"
      }
     }
    },
    "version_major": 2,
    "version_minor": 0
   }
  }
 },
 "nbformat": 4,
 "nbformat_minor": 5
}
