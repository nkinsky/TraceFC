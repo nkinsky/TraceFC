{
 "cells": [
  {
   "cell_type": "code",
   "execution_count": 1,
   "id": "1c62d5e2",
   "metadata": {},
   "outputs": [],
   "source": [
    "# Import all the functions you need\n",
    "%load_ext autoreload\n",
    "%autoreload 2\n",
    "\n",
    "import numpy as np\n",
    "import matplotlib.pyplot as plt\n",
    "import seaborn as sns\n",
    "import pandas as pd\n",
    "import sys\n",
    "import os\n",
    "from pathlib import Path\n",
    "import platform\n",
    "\n",
    "# Comment here to add in for either mac or linux computer\n",
    "if platform.system() == \"Linux\":   # for linux\n",
    "    sys.path.extend(['/data/GitHub/NeuroPy']) \n",
    "    sys.path.extend(['/data/GitHub/TraceFC/'])\n",
    "elif platform.system() == \"Darwin\":\n",
    "    sys.path.extend(['/Users/nkinsky/Documents/UM/GitHub/NeuroPy'])\n",
    "    sys.path.extend(['/Users/nkinsky/Documents/UM/GitHub/TraceFC'])\n",
    "elif platform.system() == \"Windows\":\n",
    "    print('No windows repositories defined')\n",
    "\n",
    "from neuropy import core\n",
    "from neuropy.io import (optitrackio,\n",
    "                        dlcio,\n",
    "                        )\n",
    "from neuropy.io.neuroscopeio import NeuroscopeIO\n",
    "from neuropy.io.binarysignalio import BinarysignalIO \n",
    "from neuropy.io.miniscopeio import MiniscopeIO\n",
    "from neuropy.core import Epoch\n",
    "from neuropy.utils import plot_util\n",
    "from neuropy.utils.signal_process import WaveletSg\n",
    "from neuropy.plotting.spikes import plot_raster, plot_binned_raster\n",
    "from neuropy.plotting.signals import plot_signal_w_epochs, plot_spectrogram\n",
    "from neuropy.io.usvio import detect_tone\n",
    "\n",
    "from tracefc.io.session_directory import get_session_dir"
   ]
  },
  {
   "cell_type": "code",
   "execution_count": 2,
   "id": "534754a6-beb8-48c2-b3f2-d4b5a837b54e",
   "metadata": {},
   "outputs": [],
   "source": [
    "from neuropy.core.session import ProcessData\n",
    "\n",
    "def sess_use(basepath=os.getcwd()):\n",
    "\n",
    "    return ProcessData(basepath)"
   ]
  },
  {
   "cell_type": "code",
   "execution_count": 6,
   "id": "258b9191",
   "metadata": {
    "scrolled": true
   },
   "outputs": [
    {
     "name": "stdout",
     "output_type": "stream",
     "text": [
      "filename: /data2/Trace_FC/Recording_Rats/Han/2022_08_05_recall2/Han_recall2.xml \n",
      "# channels: 35\n",
      "sampling rate: 30000\n",
      "lfp Srate (downsampled): 1250\n",
      "\n"
     ]
    }
   ],
   "source": [
    "animal, sess_name = 'Han', 'recall2'\n",
    "sess_dir = get_session_dir(animal, sess_name)\n",
    "sess = sess_use(sess_dir)\n",
    "print(sess.recinfo)"
   ]
  },
  {
   "cell_type": "code",
   "execution_count": 4,
   "id": "80fb1e0f",
   "metadata": {},
   "outputs": [
    {
     "name": "stdout",
     "output_type": "stream",
     "text": [
      "duration: 3594.69 seconds \n",
      "duration: 1.00 hours \n",
      "\n"
     ]
    }
   ],
   "source": [
    "print(sess.eegfile)"
   ]
  },
  {
   "cell_type": "markdown",
   "id": "40dc099e-01d3-4c85-aa06-194777e77dfe",
   "metadata": {},
   "source": [
    "### Read in miniscope data"
   ]
  },
  {
   "cell_type": "code",
   "execution_count": 7,
   "id": "8baddd41-d512-4d6b-aef7-62a49c2ea4a1",
   "metadata": {},
   "outputs": [
    {
     "name": "stdout",
     "output_type": "stream",
     "text": [
      "start time = 2022-08-05 11:17:52.056029-04:00\n",
      "start time = 2022-08-05 11:37:37.892635-04:00\n",
      "start time = 2022-08-05 11:58:05.579217-04:00\n",
      "start time = 2022-08-05 12:05:59.256397-04:00\n"
     ]
    },
    {
     "data": {
      "text/html": [
       "<div>\n",
       "<style scoped>\n",
       "    .dataframe tbody tr th:only-of-type {\n",
       "        vertical-align: middle;\n",
       "    }\n",
       "\n",
       "    .dataframe tbody tr th {\n",
       "        vertical-align: top;\n",
       "    }\n",
       "\n",
       "    .dataframe thead th {\n",
       "        text-align: right;\n",
       "    }\n",
       "</style>\n",
       "<table border=\"1\" class=\"dataframe\">\n",
       "  <thead>\n",
       "    <tr style=\"text-align: right;\">\n",
       "      <th></th>\n",
       "      <th>Recording</th>\n",
       "      <th>Datetime</th>\n",
       "      <th>Condition</th>\n",
       "      <th>nframe_dat</th>\n",
       "      <th>dat_time</th>\n",
       "      <th>nframe_eeg</th>\n",
       "      <th>eeg_time</th>\n",
       "      <th>Time since rec start (sec)</th>\n",
       "    </tr>\n",
       "  </thead>\n",
       "  <tbody>\n",
       "    <tr>\n",
       "      <th>0</th>\n",
       "      <td>0</td>\n",
       "      <td>2022-08-05 11:17:52.056029-04:00</td>\n",
       "      <td>start</td>\n",
       "      <td>0</td>\n",
       "      <td>0.000000</td>\n",
       "      <td>0</td>\n",
       "      <td>0.0000</td>\n",
       "      <td>0.000000</td>\n",
       "    </tr>\n",
       "    <tr>\n",
       "      <th>1</th>\n",
       "      <td>0</td>\n",
       "      <td>2022-08-05 11:37:04.977595667-04:00</td>\n",
       "      <td>stop</td>\n",
       "      <td>34587647</td>\n",
       "      <td>1152.921567</td>\n",
       "      <td>1441151</td>\n",
       "      <td>1152.9208</td>\n",
       "      <td>1152.921567</td>\n",
       "    </tr>\n",
       "    <tr>\n",
       "      <th>2</th>\n",
       "      <td>1</td>\n",
       "      <td>2022-08-05 11:37:37.892635-04:00</td>\n",
       "      <td>start</td>\n",
       "      <td>34587648</td>\n",
       "      <td>1152.921600</td>\n",
       "      <td>1441152</td>\n",
       "      <td>1152.9216</td>\n",
       "      <td>1185.836606</td>\n",
       "    </tr>\n",
       "    <tr>\n",
       "      <th>3</th>\n",
       "      <td>1</td>\n",
       "      <td>2022-08-05 11:57:08.307535-04:00</td>\n",
       "      <td>stop</td>\n",
       "      <td>69700095</td>\n",
       "      <td>2323.336500</td>\n",
       "      <td>2904170</td>\n",
       "      <td>2323.3360</td>\n",
       "      <td>2356.251506</td>\n",
       "    </tr>\n",
       "    <tr>\n",
       "      <th>4</th>\n",
       "      <td>2</td>\n",
       "      <td>2022-08-05 11:58:05.579217-04:00</td>\n",
       "      <td>start</td>\n",
       "      <td>69700096</td>\n",
       "      <td>2323.336533</td>\n",
       "      <td>2904171</td>\n",
       "      <td>2323.3368</td>\n",
       "      <td>2413.523188</td>\n",
       "    </tr>\n",
       "    <tr>\n",
       "      <th>5</th>\n",
       "      <td>2</td>\n",
       "      <td>2022-08-05 12:05:37.555717-04:00</td>\n",
       "      <td>stop</td>\n",
       "      <td>83259391</td>\n",
       "      <td>2775.313033</td>\n",
       "      <td>3469141</td>\n",
       "      <td>2775.3128</td>\n",
       "      <td>2865.499688</td>\n",
       "    </tr>\n",
       "    <tr>\n",
       "      <th>6</th>\n",
       "      <td>3</td>\n",
       "      <td>2022-08-05 12:05:59.256397-04:00</td>\n",
       "      <td>start</td>\n",
       "      <td>83259392</td>\n",
       "      <td>2775.313067</td>\n",
       "      <td>3469142</td>\n",
       "      <td>2775.3136</td>\n",
       "      <td>2887.200368</td>\n",
       "    </tr>\n",
       "    <tr>\n",
       "      <th>7</th>\n",
       "      <td>3</td>\n",
       "      <td>2022-08-05 12:23:09.758763667-04:00</td>\n",
       "      <td>stop</td>\n",
       "      <td>114174463</td>\n",
       "      <td>3805.815433</td>\n",
       "      <td>4757269</td>\n",
       "      <td>3805.8152</td>\n",
       "      <td>3917.702735</td>\n",
       "    </tr>\n",
       "  </tbody>\n",
       "</table>\n",
       "</div>"
      ],
      "text/plain": [
       "   Recording                            Datetime Condition  nframe_dat  \\\n",
       "0          0    2022-08-05 11:17:52.056029-04:00     start           0   \n",
       "1          0 2022-08-05 11:37:04.977595667-04:00      stop    34587647   \n",
       "2          1    2022-08-05 11:37:37.892635-04:00     start    34587648   \n",
       "3          1    2022-08-05 11:57:08.307535-04:00      stop    69700095   \n",
       "4          2    2022-08-05 11:58:05.579217-04:00     start    69700096   \n",
       "5          2    2022-08-05 12:05:37.555717-04:00      stop    83259391   \n",
       "6          3    2022-08-05 12:05:59.256397-04:00     start    83259392   \n",
       "7          3 2022-08-05 12:23:09.758763667-04:00      stop   114174463   \n",
       "\n",
       "      dat_time  nframe_eeg   eeg_time  Time since rec start (sec)  \n",
       "0     0.000000           0     0.0000                    0.000000  \n",
       "1  1152.921567     1441151  1152.9208                 1152.921567  \n",
       "2  1152.921600     1441152  1152.9216                 1185.836606  \n",
       "3  2323.336500     2904170  2323.3360                 2356.251506  \n",
       "4  2323.336533     2904171  2323.3368                 2413.523188  \n",
       "5  2775.313033     3469141  2775.3128                 2865.499688  \n",
       "6  2775.313067     3469142  2775.3136                 2887.200368  \n",
       "7  3805.815433     4757269  3805.8152                 3917.702735  "
      ]
     },
     "execution_count": 7,
     "metadata": {},
     "output_type": "execute_result"
    }
   ],
   "source": [
    "import neuropy.io.openephysio as oeio\n",
    "sync_df = oeio.create_sync_df(sess.basepath)\n",
    "sync_df[\"Time since rec start (sec)\"] = (sync_df['Datetime'] - sync_df.loc[0, 'Datetime']).dt.total_seconds()\n",
    "sync_df"
   ]
  },
  {
   "cell_type": "code",
   "execution_count": 8,
   "id": "6bb4f55b-7d7d-4980-be9f-98a3653b5c2b",
   "metadata": {},
   "outputs": [],
   "source": [
    "import neuropy.io.miniscopeio as miniio\n",
    "mini = miniio.MiniscopeIO(sess.basepath)"
   ]
  },
  {
   "cell_type": "code",
   "execution_count": 9,
   "id": "4b3b257a-58b2-44cb-99f9-9ca6cbcc9689",
   "metadata": {},
   "outputs": [
    {
     "name": "stdout",
     "output_type": "stream",
     "text": [
      "including folder /data2/Trace_FC/Recording_Rats/Han/2022_08_05_recall2/1_tone_recall/tone_recall/Han/gobears/2022_08_05/11_18_16\n",
      "including folder /data2/Trace_FC/Recording_Rats/Han/2022_08_05_recall2/2_control_tone_recall/control_tone_recall/Han/gobears/2022_08_05/11_38_54\n",
      "including folder /data2/Trace_FC/Recording_Rats/Han/2022_08_05_recall2/3_control_tone_recall_novel1/control_tone_recall_novel1/Han/gobears/2022_08_05/11_58_38\n",
      "including folder /data2/Trace_FC/Recording_Rats/Han/2022_08_05_recall2/4_ctx_recall/ctx_recall/Han/gobears/2022_08_05/12_07_48\n"
     ]
    },
    {
     "data": {
      "text/html": [
       "<div>\n",
       "<style scoped>\n",
       "    .dataframe tbody tr th:only-of-type {\n",
       "        vertical-align: middle;\n",
       "    }\n",
       "\n",
       "    .dataframe tbody tr th {\n",
       "        vertical-align: top;\n",
       "    }\n",
       "\n",
       "    .dataframe thead th {\n",
       "        text-align: right;\n",
       "    }\n",
       "</style>\n",
       "<table border=\"1\" class=\"dataframe\">\n",
       "  <thead>\n",
       "    <tr style=\"text-align: right;\">\n",
       "      <th></th>\n",
       "      <th>Frame Number</th>\n",
       "      <th>Time Stamp (ms)</th>\n",
       "      <th>Buffer Index</th>\n",
       "      <th>Timestamps</th>\n",
       "    </tr>\n",
       "  </thead>\n",
       "  <tbody>\n",
       "    <tr>\n",
       "      <th>0</th>\n",
       "      <td>0</td>\n",
       "      <td>-96</td>\n",
       "      <td>1</td>\n",
       "      <td>2022-08-05 11:18:16.222</td>\n",
       "    </tr>\n",
       "    <tr>\n",
       "      <th>1</th>\n",
       "      <td>1</td>\n",
       "      <td>6</td>\n",
       "      <td>0</td>\n",
       "      <td>2022-08-05 11:18:16.324</td>\n",
       "    </tr>\n",
       "    <tr>\n",
       "      <th>2</th>\n",
       "      <td>2</td>\n",
       "      <td>104</td>\n",
       "      <td>0</td>\n",
       "      <td>2022-08-05 11:18:16.422</td>\n",
       "    </tr>\n",
       "    <tr>\n",
       "      <th>3</th>\n",
       "      <td>3</td>\n",
       "      <td>204</td>\n",
       "      <td>0</td>\n",
       "      <td>2022-08-05 11:18:16.522</td>\n",
       "    </tr>\n",
       "    <tr>\n",
       "      <th>4</th>\n",
       "      <td>4</td>\n",
       "      <td>304</td>\n",
       "      <td>0</td>\n",
       "      <td>2022-08-05 11:18:16.622</td>\n",
       "    </tr>\n",
       "    <tr>\n",
       "      <th>...</th>\n",
       "      <td>...</td>\n",
       "      <td>...</td>\n",
       "      <td>...</td>\n",
       "      <td>...</td>\n",
       "    </tr>\n",
       "    <tr>\n",
       "      <th>9191</th>\n",
       "      <td>9191</td>\n",
       "      <td>918464</td>\n",
       "      <td>0</td>\n",
       "      <td>2022-08-05 12:23:07.229</td>\n",
       "    </tr>\n",
       "    <tr>\n",
       "      <th>9192</th>\n",
       "      <td>9192</td>\n",
       "      <td>918564</td>\n",
       "      <td>0</td>\n",
       "      <td>2022-08-05 12:23:07.329</td>\n",
       "    </tr>\n",
       "    <tr>\n",
       "      <th>9193</th>\n",
       "      <td>9193</td>\n",
       "      <td>918663</td>\n",
       "      <td>0</td>\n",
       "      <td>2022-08-05 12:23:07.428</td>\n",
       "    </tr>\n",
       "    <tr>\n",
       "      <th>9194</th>\n",
       "      <td>9194</td>\n",
       "      <td>918763</td>\n",
       "      <td>0</td>\n",
       "      <td>2022-08-05 12:23:07.528</td>\n",
       "    </tr>\n",
       "    <tr>\n",
       "      <th>9195</th>\n",
       "      <td>9195</td>\n",
       "      <td>918864</td>\n",
       "      <td>0</td>\n",
       "      <td>2022-08-05 12:23:07.629</td>\n",
       "    </tr>\n",
       "  </tbody>\n",
       "</table>\n",
       "<p>35535 rows × 4 columns</p>\n",
       "</div>"
      ],
      "text/plain": [
       "      Frame Number  Time Stamp (ms)  Buffer Index              Timestamps\n",
       "0                0              -96             1 2022-08-05 11:18:16.222\n",
       "1                1                6             0 2022-08-05 11:18:16.324\n",
       "2                2              104             0 2022-08-05 11:18:16.422\n",
       "3                3              204             0 2022-08-05 11:18:16.522\n",
       "4                4              304             0 2022-08-05 11:18:16.622\n",
       "...            ...              ...           ...                     ...\n",
       "9191          9191           918464             0 2022-08-05 12:23:07.229\n",
       "9192          9192           918564             0 2022-08-05 12:23:07.329\n",
       "9193          9193           918663             0 2022-08-05 12:23:07.428\n",
       "9194          9194           918763             0 2022-08-05 12:23:07.528\n",
       "9195          9195           918864             0 2022-08-05 12:23:07.629\n",
       "\n",
       "[35535 rows x 4 columns]"
      ]
     },
     "execution_count": 9,
     "metadata": {},
     "output_type": "execute_result"
    }
   ],
   "source": [
    "mini.load_all_orientation()\n",
    "mini.load_all_timestamps()"
   ]
  },
  {
   "cell_type": "code",
   "execution_count": 10,
   "id": "afa813da-d634-4b30-a83a-61de1380b59b",
   "metadata": {},
   "outputs": [
    {
     "data": {
      "text/html": [
       "<div>\n",
       "<style scoped>\n",
       "    .dataframe tbody tr th:only-of-type {\n",
       "        vertical-align: middle;\n",
       "    }\n",
       "\n",
       "    .dataframe tbody tr th {\n",
       "        vertical-align: top;\n",
       "    }\n",
       "\n",
       "    .dataframe thead th {\n",
       "        text-align: right;\n",
       "    }\n",
       "</style>\n",
       "<table border=\"1\" class=\"dataframe\">\n",
       "  <thead>\n",
       "    <tr style=\"text-align: right;\">\n",
       "      <th></th>\n",
       "      <th>Time Stamp (ms)</th>\n",
       "      <th>qw</th>\n",
       "      <th>qx</th>\n",
       "      <th>qy</th>\n",
       "      <th>qz</th>\n",
       "      <th>Timestamps</th>\n",
       "      <th>roll</th>\n",
       "      <th>pitch</th>\n",
       "      <th>yaw</th>\n",
       "      <th>Time from OE start</th>\n",
       "      <th>Rough eeg time (s)</th>\n",
       "    </tr>\n",
       "  </thead>\n",
       "  <tbody>\n",
       "    <tr>\n",
       "      <th>0</th>\n",
       "      <td>-96</td>\n",
       "      <td>0</td>\n",
       "      <td>0</td>\n",
       "      <td>0</td>\n",
       "      <td>0</td>\n",
       "      <td>2022-08-05 11:18:16.222</td>\n",
       "      <td>0.0</td>\n",
       "      <td>-0.0</td>\n",
       "      <td>0.0</td>\n",
       "      <td>24.165971</td>\n",
       "      <td>24.165955</td>\n",
       "    </tr>\n",
       "    <tr>\n",
       "      <th>1</th>\n",
       "      <td>6</td>\n",
       "      <td>0</td>\n",
       "      <td>0</td>\n",
       "      <td>0</td>\n",
       "      <td>0</td>\n",
       "      <td>2022-08-05 11:18:16.324</td>\n",
       "      <td>0.0</td>\n",
       "      <td>-0.0</td>\n",
       "      <td>0.0</td>\n",
       "      <td>24.267971</td>\n",
       "      <td>24.267955</td>\n",
       "    </tr>\n",
       "    <tr>\n",
       "      <th>2</th>\n",
       "      <td>104</td>\n",
       "      <td>0</td>\n",
       "      <td>0</td>\n",
       "      <td>0</td>\n",
       "      <td>0</td>\n",
       "      <td>2022-08-05 11:18:16.422</td>\n",
       "      <td>0.0</td>\n",
       "      <td>-0.0</td>\n",
       "      <td>0.0</td>\n",
       "      <td>24.365971</td>\n",
       "      <td>24.365955</td>\n",
       "    </tr>\n",
       "    <tr>\n",
       "      <th>3</th>\n",
       "      <td>204</td>\n",
       "      <td>0</td>\n",
       "      <td>0</td>\n",
       "      <td>0</td>\n",
       "      <td>0</td>\n",
       "      <td>2022-08-05 11:18:16.522</td>\n",
       "      <td>0.0</td>\n",
       "      <td>-0.0</td>\n",
       "      <td>0.0</td>\n",
       "      <td>24.465971</td>\n",
       "      <td>24.465955</td>\n",
       "    </tr>\n",
       "    <tr>\n",
       "      <th>4</th>\n",
       "      <td>304</td>\n",
       "      <td>0</td>\n",
       "      <td>0</td>\n",
       "      <td>0</td>\n",
       "      <td>0</td>\n",
       "      <td>2022-08-05 11:18:16.622</td>\n",
       "      <td>0.0</td>\n",
       "      <td>-0.0</td>\n",
       "      <td>0.0</td>\n",
       "      <td>24.565971</td>\n",
       "      <td>24.565955</td>\n",
       "    </tr>\n",
       "    <tr>\n",
       "      <th>...</th>\n",
       "      <td>...</td>\n",
       "      <td>...</td>\n",
       "      <td>...</td>\n",
       "      <td>...</td>\n",
       "      <td>...</td>\n",
       "      <td>...</td>\n",
       "      <td>...</td>\n",
       "      <td>...</td>\n",
       "      <td>...</td>\n",
       "      <td>...</td>\n",
       "      <td>...</td>\n",
       "    </tr>\n",
       "    <tr>\n",
       "      <th>9191</th>\n",
       "      <td>918464</td>\n",
       "      <td>0</td>\n",
       "      <td>0</td>\n",
       "      <td>0</td>\n",
       "      <td>0</td>\n",
       "      <td>2022-08-05 12:23:07.229</td>\n",
       "      <td>0.0</td>\n",
       "      <td>-0.0</td>\n",
       "      <td>0.0</td>\n",
       "      <td>3915.172971</td>\n",
       "      <td>3803.285438</td>\n",
       "    </tr>\n",
       "    <tr>\n",
       "      <th>9192</th>\n",
       "      <td>918564</td>\n",
       "      <td>0</td>\n",
       "      <td>0</td>\n",
       "      <td>0</td>\n",
       "      <td>0</td>\n",
       "      <td>2022-08-05 12:23:07.329</td>\n",
       "      <td>0.0</td>\n",
       "      <td>-0.0</td>\n",
       "      <td>0.0</td>\n",
       "      <td>3915.272971</td>\n",
       "      <td>3803.385438</td>\n",
       "    </tr>\n",
       "    <tr>\n",
       "      <th>9193</th>\n",
       "      <td>918663</td>\n",
       "      <td>0</td>\n",
       "      <td>0</td>\n",
       "      <td>0</td>\n",
       "      <td>0</td>\n",
       "      <td>2022-08-05 12:23:07.428</td>\n",
       "      <td>0.0</td>\n",
       "      <td>-0.0</td>\n",
       "      <td>0.0</td>\n",
       "      <td>3915.371971</td>\n",
       "      <td>3803.484438</td>\n",
       "    </tr>\n",
       "    <tr>\n",
       "      <th>9194</th>\n",
       "      <td>918763</td>\n",
       "      <td>0</td>\n",
       "      <td>0</td>\n",
       "      <td>0</td>\n",
       "      <td>0</td>\n",
       "      <td>2022-08-05 12:23:07.528</td>\n",
       "      <td>0.0</td>\n",
       "      <td>-0.0</td>\n",
       "      <td>0.0</td>\n",
       "      <td>3915.471971</td>\n",
       "      <td>3803.584438</td>\n",
       "    </tr>\n",
       "    <tr>\n",
       "      <th>9195</th>\n",
       "      <td>918864</td>\n",
       "      <td>0</td>\n",
       "      <td>0</td>\n",
       "      <td>0</td>\n",
       "      <td>0</td>\n",
       "      <td>2022-08-05 12:23:07.629</td>\n",
       "      <td>0.0</td>\n",
       "      <td>-0.0</td>\n",
       "      <td>0.0</td>\n",
       "      <td>3915.572971</td>\n",
       "      <td>3803.685438</td>\n",
       "    </tr>\n",
       "  </tbody>\n",
       "</table>\n",
       "<p>35535 rows × 11 columns</p>\n",
       "</div>"
      ],
      "text/plain": [
       "      Time Stamp (ms)  qw  qx  qy  qz              Timestamps  roll  pitch  \\\n",
       "0                 -96   0   0   0   0 2022-08-05 11:18:16.222   0.0   -0.0   \n",
       "1                   6   0   0   0   0 2022-08-05 11:18:16.324   0.0   -0.0   \n",
       "2                 104   0   0   0   0 2022-08-05 11:18:16.422   0.0   -0.0   \n",
       "3                 204   0   0   0   0 2022-08-05 11:18:16.522   0.0   -0.0   \n",
       "4                 304   0   0   0   0 2022-08-05 11:18:16.622   0.0   -0.0   \n",
       "...               ...  ..  ..  ..  ..                     ...   ...    ...   \n",
       "9191           918464   0   0   0   0 2022-08-05 12:23:07.229   0.0   -0.0   \n",
       "9192           918564   0   0   0   0 2022-08-05 12:23:07.329   0.0   -0.0   \n",
       "9193           918663   0   0   0   0 2022-08-05 12:23:07.428   0.0   -0.0   \n",
       "9194           918763   0   0   0   0 2022-08-05 12:23:07.528   0.0   -0.0   \n",
       "9195           918864   0   0   0   0 2022-08-05 12:23:07.629   0.0   -0.0   \n",
       "\n",
       "      yaw  Time from OE start  Rough eeg time (s)  \n",
       "0     0.0           24.165971           24.165955  \n",
       "1     0.0           24.267971           24.267955  \n",
       "2     0.0           24.365971           24.365955  \n",
       "3     0.0           24.465971           24.465955  \n",
       "4     0.0           24.565971           24.565955  \n",
       "...   ...                 ...                 ...  \n",
       "9191  0.0         3915.172971         3803.285438  \n",
       "9192  0.0         3915.272971         3803.385438  \n",
       "9193  0.0         3915.371971         3803.484438  \n",
       "9194  0.0         3915.471971         3803.584438  \n",
       "9195  0.0         3915.572971         3803.685438  \n",
       "\n",
       "[35535 rows x 11 columns]"
      ]
     },
     "execution_count": 10,
     "metadata": {},
     "output_type": "execute_result"
    }
   ],
   "source": [
    "rough_headsensor_times = (mini.orient_all[\"Timestamps\"].dt.tz_localize(tz=\"America/Detroit\") - sync_df.loc[0, \"Datetime\"]).dt.total_seconds()\n",
    "mini.orient_all[\"Time from OE start\"] = rough_headsensor_times\n",
    "mini.orient_all\n",
    "\n",
    "# Key line of code - converts miniscope time (which doesn't account for disconnects) to eeg time (which cuts out disconnect times)\n",
    "mini.orient_all[\"Rough eeg time (s)\"] = np.interp(mini.orient_all[\"Time from OE start\"], sync_df[\"Time since rec start (sec)\"], \n",
    "                                            sync_df[\"eeg_time\"])\n",
    "mini.orient_all"
   ]
  },
  {
   "cell_type": "code",
   "execution_count": 11,
   "id": "b7a4f90b-ca2c-4cf8-b86d-a6f68705e6fe",
   "metadata": {},
   "outputs": [
    {
     "data": {
      "text/plain": [
       "0         24.165971\n",
       "1         24.267971\n",
       "2         24.365971\n",
       "3         24.465971\n",
       "4         24.565971\n",
       "           ...     \n",
       "9191    3915.172971\n",
       "9192    3915.272971\n",
       "9193    3915.371971\n",
       "9194    3915.471971\n",
       "9195    3915.572971\n",
       "Name: Time from OE start, Length: 35535, dtype: float64"
      ]
     },
     "execution_count": 11,
     "metadata": {},
     "output_type": "execute_result"
    }
   ],
   "source": [
    "mini.orient_all[\"Time from OE start\"]"
   ]
  },
  {
   "cell_type": "code",
   "execution_count": 28,
   "id": "8bcf6e1e-5caf-42ed-aeaf-14b5e84e24c4",
   "metadata": {
    "scrolled": true
   },
   "outputs": [
    {
     "data": {
      "text/html": [
       "<div>\n",
       "<style scoped>\n",
       "    .dataframe tbody tr th:only-of-type {\n",
       "        vertical-align: middle;\n",
       "    }\n",
       "\n",
       "    .dataframe tbody tr th {\n",
       "        vertical-align: top;\n",
       "    }\n",
       "\n",
       "    .dataframe thead th {\n",
       "        text-align: right;\n",
       "    }\n",
       "</style>\n",
       "<table border=\"1\" class=\"dataframe\">\n",
       "  <thead>\n",
       "    <tr style=\"text-align: right;\">\n",
       "      <th></th>\n",
       "      <th>Time Stamp (ms)</th>\n",
       "      <th>qw</th>\n",
       "      <th>qx</th>\n",
       "      <th>qy</th>\n",
       "      <th>qz</th>\n",
       "      <th>Timestamps</th>\n",
       "      <th>roll</th>\n",
       "      <th>pitch</th>\n",
       "      <th>yaw</th>\n",
       "    </tr>\n",
       "  </thead>\n",
       "  <tbody>\n",
       "    <tr>\n",
       "      <th>0</th>\n",
       "      <td>-3</td>\n",
       "      <td>0</td>\n",
       "      <td>0</td>\n",
       "      <td>0</td>\n",
       "      <td>0</td>\n",
       "      <td>2022-08-04 12:24:53.256</td>\n",
       "      <td>0.0</td>\n",
       "      <td>-0.0</td>\n",
       "      <td>0.0</td>\n",
       "    </tr>\n",
       "    <tr>\n",
       "      <th>1</th>\n",
       "      <td>99</td>\n",
       "      <td>0</td>\n",
       "      <td>0</td>\n",
       "      <td>0</td>\n",
       "      <td>0</td>\n",
       "      <td>2022-08-04 12:24:53.358</td>\n",
       "      <td>0.0</td>\n",
       "      <td>-0.0</td>\n",
       "      <td>0.0</td>\n",
       "    </tr>\n",
       "    <tr>\n",
       "      <th>2</th>\n",
       "      <td>196</td>\n",
       "      <td>0</td>\n",
       "      <td>0</td>\n",
       "      <td>0</td>\n",
       "      <td>0</td>\n",
       "      <td>2022-08-04 12:24:53.455</td>\n",
       "      <td>0.0</td>\n",
       "      <td>-0.0</td>\n",
       "      <td>0.0</td>\n",
       "    </tr>\n",
       "    <tr>\n",
       "      <th>3</th>\n",
       "      <td>297</td>\n",
       "      <td>0</td>\n",
       "      <td>0</td>\n",
       "      <td>0</td>\n",
       "      <td>0</td>\n",
       "      <td>2022-08-04 12:24:53.556</td>\n",
       "      <td>0.0</td>\n",
       "      <td>-0.0</td>\n",
       "      <td>0.0</td>\n",
       "    </tr>\n",
       "    <tr>\n",
       "      <th>4</th>\n",
       "      <td>397</td>\n",
       "      <td>0</td>\n",
       "      <td>0</td>\n",
       "      <td>0</td>\n",
       "      <td>0</td>\n",
       "      <td>2022-08-04 12:24:53.656</td>\n",
       "      <td>0.0</td>\n",
       "      <td>-0.0</td>\n",
       "      <td>0.0</td>\n",
       "    </tr>\n",
       "    <tr>\n",
       "      <th>...</th>\n",
       "      <td>...</td>\n",
       "      <td>...</td>\n",
       "      <td>...</td>\n",
       "      <td>...</td>\n",
       "      <td>...</td>\n",
       "      <td>...</td>\n",
       "      <td>...</td>\n",
       "      <td>...</td>\n",
       "      <td>...</td>\n",
       "    </tr>\n",
       "    <tr>\n",
       "      <th>9301</th>\n",
       "      <td>929451</td>\n",
       "      <td>0</td>\n",
       "      <td>0</td>\n",
       "      <td>0</td>\n",
       "      <td>0</td>\n",
       "      <td>2022-08-04 13:24:38.381</td>\n",
       "      <td>0.0</td>\n",
       "      <td>-0.0</td>\n",
       "      <td>0.0</td>\n",
       "    </tr>\n",
       "    <tr>\n",
       "      <th>9302</th>\n",
       "      <td>929552</td>\n",
       "      <td>0</td>\n",
       "      <td>0</td>\n",
       "      <td>0</td>\n",
       "      <td>0</td>\n",
       "      <td>2022-08-04 13:24:38.482</td>\n",
       "      <td>0.0</td>\n",
       "      <td>-0.0</td>\n",
       "      <td>0.0</td>\n",
       "    </tr>\n",
       "    <tr>\n",
       "      <th>9303</th>\n",
       "      <td>929651</td>\n",
       "      <td>0</td>\n",
       "      <td>0</td>\n",
       "      <td>0</td>\n",
       "      <td>0</td>\n",
       "      <td>2022-08-04 13:24:38.581</td>\n",
       "      <td>0.0</td>\n",
       "      <td>-0.0</td>\n",
       "      <td>0.0</td>\n",
       "    </tr>\n",
       "    <tr>\n",
       "      <th>9304</th>\n",
       "      <td>929751</td>\n",
       "      <td>0</td>\n",
       "      <td>0</td>\n",
       "      <td>0</td>\n",
       "      <td>0</td>\n",
       "      <td>2022-08-04 13:24:38.681</td>\n",
       "      <td>0.0</td>\n",
       "      <td>-0.0</td>\n",
       "      <td>0.0</td>\n",
       "    </tr>\n",
       "    <tr>\n",
       "      <th>9305</th>\n",
       "      <td>929851</td>\n",
       "      <td>0</td>\n",
       "      <td>0</td>\n",
       "      <td>0</td>\n",
       "      <td>0</td>\n",
       "      <td>2022-08-04 13:24:38.781</td>\n",
       "      <td>0.0</td>\n",
       "      <td>-0.0</td>\n",
       "      <td>0.0</td>\n",
       "    </tr>\n",
       "  </tbody>\n",
       "</table>\n",
       "<p>32249 rows × 9 columns</p>\n",
       "</div>"
      ],
      "text/plain": [
       "      Time Stamp (ms)  qw  qx  qy  qz              Timestamps  roll  pitch  \\\n",
       "0                  -3   0   0   0   0 2022-08-04 12:24:53.256   0.0   -0.0   \n",
       "1                  99   0   0   0   0 2022-08-04 12:24:53.358   0.0   -0.0   \n",
       "2                 196   0   0   0   0 2022-08-04 12:24:53.455   0.0   -0.0   \n",
       "3                 297   0   0   0   0 2022-08-04 12:24:53.556   0.0   -0.0   \n",
       "4                 397   0   0   0   0 2022-08-04 12:24:53.656   0.0   -0.0   \n",
       "...               ...  ..  ..  ..  ..                     ...   ...    ...   \n",
       "9301           929451   0   0   0   0 2022-08-04 13:24:38.381   0.0   -0.0   \n",
       "9302           929552   0   0   0   0 2022-08-04 13:24:38.482   0.0   -0.0   \n",
       "9303           929651   0   0   0   0 2022-08-04 13:24:38.581   0.0   -0.0   \n",
       "9304           929751   0   0   0   0 2022-08-04 13:24:38.681   0.0   -0.0   \n",
       "9305           929851   0   0   0   0 2022-08-04 13:24:38.781   0.0   -0.0   \n",
       "\n",
       "      yaw  \n",
       "0     0.0  \n",
       "1     0.0  \n",
       "2     0.0  \n",
       "3     0.0  \n",
       "4     0.0  \n",
       "...   ...  \n",
       "9301  0.0  \n",
       "9302  0.0  \n",
       "9303  0.0  \n",
       "9304  0.0  \n",
       "9305  0.0  \n",
       "\n",
       "[32249 rows x 9 columns]"
      ]
     },
     "execution_count": 28,
     "metadata": {},
     "output_type": "execute_result"
    }
   ],
   "source": [
    "mini.orient_all"
   ]
  },
  {
   "cell_type": "code",
   "execution_count": 15,
   "id": "613804a4-0d4a-4109-8a7a-b18a178e469f",
   "metadata": {},
   "outputs": [
    {
     "data": {
      "text/plain": [
       "array([ 117.763277,  180.450677,  252.285743,  328.18071 ,  397.971877,\n",
       "        465.747343,  541.642243,  608.37311 ,  681.224277,  743.927177,\n",
       "        822.850977,  885.55391 ,  951.301277, 1013.972877, 1075.66051 ])"
      ]
     },
     "execution_count": 15,
     "metadata": {},
     "output_type": "execute_result"
    }
   ],
   "source": [
    "cs_epochs_file = sess.filePrefix.with_suffix(\".cs_epochs.npy\")\n",
    "sess.cs_epochs = Epoch(epochs=None, file=cs_epochs_file)\n",
    "sess.cs_epochs.starts"
   ]
  },
  {
   "cell_type": "code",
   "execution_count": 17,
   "id": "64f3354c-de20-402c-afa6-e228a334cb2b",
   "metadata": {},
   "outputs": [
    {
     "data": {
      "text/plain": [
       "array([1360.769591, 1441.707158, 1513.543525, 1589.437758, 1665.301958,\n",
       "       1732.063091, 1812.017291, 1885.866725, 1952.628925, 2031.567791,\n",
       "       2112.520691, 2192.475091])"
      ]
     },
     "execution_count": 17,
     "metadata": {},
     "output_type": "execute_result"
    }
   ],
   "source": [
    "csn_epochs_file = sess.filePrefix.with_suffix(\".csn_epochs.npy\")\n",
    "sess.csn_epochs = Epoch(epochs=None, file=csn_epochs_file)\n",
    "sess.csn_epochs.starts"
   ]
  },
  {
   "cell_type": "code",
   "execution_count": 18,
   "id": "016f4883-fe96-4b6b-b9fb-9dc61b80ebdc",
   "metadata": {},
   "outputs": [
    {
     "data": {
      "text/plain": [
       "array([2269.384858, 2347.294525, 2424.204825])"
      ]
     },
     "execution_count": 18,
     "metadata": {},
     "output_type": "execute_result"
    }
   ],
   "source": [
    "cs2_epochs_file = sess.filePrefix.with_suffix(\".cs2_epochs.npy\")\n",
    "sess.cs2_epochs = Epoch(epochs=None, file=cs2_epochs_file)\n",
    "sess.cs2_epochs.starts"
   ]
  },
  {
   "cell_type": "code",
   "execution_count": 19,
   "id": "1fb9c848-f751-4421-806b-36b66303e50e",
   "metadata": {},
   "outputs": [
    {
     "data": {
      "application/vnd.jupyter.widget-view+json": {
       "model_id": "cd9159ff533a4321bd4befc049037906",
       "version_major": 2,
       "version_minor": 0
      },
      "image/png": "[encoded data removed]",
      "text/html": [
       "\n",
       "            <div style=\"display: inline-block;\">\n",
       "                <div class=\"jupyter-widgets widget-label\" style=\"text-align: center;\">\n",
       "                    Figure\n",
       "                </div>\n",
       "                <img src='data:image/png;base64,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' width=640.0/>\n",
       "            </div>\n",
       "        "
      ],
      "text/plain": [
       "Canvas(toolbar=Toolbar(toolitems=[('Home', 'Reset original view', 'home', 'home'), ('Back', 'Back to previous …"
      ]
     },
     "metadata": {},
     "output_type": "display_data"
    }
   ],
   "source": [
    "%matplotlib widget\n",
    "_, ax = plt.subplots()\n",
    "ax.plot(mini.orient_all[\"Rough eeg time (s)\"], mini.orient_all.pitch)\n",
    "for start, stop in zip(sess.cs_epochs.starts, sess.cs_epochs.stops):\n",
    "    ax.axvspan(start, stop, color=[1, 0, 0, 0.3])\n",
    "\n",
    "for start, stop in zip(sess.csn_epochs.starts, sess.csn_epochs.stops):\n",
    "    ax.axvspan(start, stop, color=[0, 1, 0, 0.3])\n",
    "\n",
    "for start, stop in zip(sess.cs2_epochs.starts, sess.cs2_epochs.stops):\n",
    "    ax.axvspan(start, stop, color=[1, 0, 0, 0.3])"
   ]
  },
  {
   "cell_type": "code",
   "execution_count": 20,
   "id": "8801773d-7c6a-417d-9321-4e6405828a58",
   "metadata": {},
   "outputs": [
    {
     "data": {
      "text/plain": [
       "array([nan,  0.,  0., ...,  0.,  0.,  0.])"
      ]
     },
     "execution_count": 20,
     "metadata": {},
     "output_type": "execute_result"
    }
   ],
   "source": [
    "def calc_head_speed(df):\n",
    "\n",
    "    angle_diffs = []\n",
    "    for ang_axis in [\"roll\", \"pitch\", \"yaw\"]:\n",
    "        axis_diff = df[ang_axis].diff()\n",
    "\n",
    "        # Correct any swings of > 2*pi\n",
    "        axis_diff[axis_diff > 1.8 * np.pi] = axis_diff[axis_diff > 1.8 * np.pi] - 2 * np.pi\n",
    "        axis_diff[axis_diff < -1.8 * np.pi] = axis_diff[axis_diff < -1.8 * np.pi] + 2 * np.pi\n",
    "        angle_diffs.append(axis_diff.values)\n",
    "    # head_speed = np.sqrt(np.square(df.roll.diff()) + np.square(df.pitch.diff()) + np.square(df.yaw.diff())) / df[\"Rough eeg time (s)\"].diff()\n",
    "    head_speed = np.sqrt(np.square(angle_diffs[0]) + np.square(angle_diffs[1]) + np.square(angle_diffs[2]))\n",
    "    return head_speed\n",
    "calc_head_speed(mini.orient_all)"
   ]
  },
  {
   "cell_type": "code",
   "execution_count": 21,
   "id": "1f46b5fc-7f28-494c-9be7-61540c8c316e",
   "metadata": {
    "scrolled": true
   },
   "outputs": [
    {
     "data": {
      "application/vnd.jupyter.widget-view+json": {
       "model_id": "08192d712d5c42358406caf62512aee1",
       "version_major": 2,
       "version_minor": 0
      },
      "image/png": "[encoded data removed]",
      "text/html": [
       "\n",
       "            <div style=\"display: inline-block;\">\n",
       "                <div class=\"jupyter-widgets widget-label\" style=\"text-align: center;\">\n",
       "                    Figure\n",
       "                </div>\n",
       "                <img src='data:image/png;base64,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' width=700.0/>\n",
       "            </div>\n",
       "        "
      ],
      "text/plain": [
       "Canvas(toolbar=Toolbar(toolitems=[('Home', 'Reset original view', 'home', 'home'), ('Back', 'Back to previous …"
      ]
     },
     "metadata": {},
     "output_type": "display_data"
    }
   ],
   "source": [
    "%matplotlib widget\n",
    "_, axs = plt.subplots(4, 1, figsize=(7, 10), sharex=True)\n",
    "ax = axs[0]\n",
    "mini.orient_all[\"Head speed\"] = calc_head_speed(mini.orient_all)\n",
    "ax.plot(mini.orient_all[\"Rough eeg time (s)\"], mini.orient_all[\"Head speed\"])\n",
    "for start, stop in zip(sess.cs_epochs.starts, sess.cs_epochs.stops):\n",
    "    ax.axvspan(start, stop, color=[1, 0, 0, 0.3])\n",
    "\n",
    "for start, stop in zip(sess.csn_epochs.starts, sess.csn_epochs.stops):\n",
    "    ax.axvspan(start, stop, color=[0, 1, 0, 0.3])\n",
    "\n",
    "for start, stop in zip(sess.cs2_epochs.starts, sess.cs2_epochs.stops):\n",
    "    ax.axvspan(start, stop, color=[1, 0, 0, 0.3])\n",
    "\n",
    "ax = axs[1]\n",
    "ax.plot(mini.orient_all[\"Rough eeg time (s)\"], mini.orient_all.pitch)\n",
    "for start, stop in zip(sess.cs_epochs.starts, sess.cs_epochs.stops):\n",
    "    ax.axvspan(start, stop, color=[1, 0, 0, 0.3])\n",
    "\n",
    "for start, stop in zip(sess.csn_epochs.starts, sess.csn_epochs.stops):\n",
    "    ax.axvspan(start, stop, color=[0, 1, 0, 0.3])\n",
    "\n",
    "for start, stop in zip(sess.cs2_epochs.starts, sess.cs2_epochs.stops):\n",
    "    ax.axvspan(start, stop, color=[1, 0, 0, 0.3])\n",
    "\n",
    "ax = axs[2]\n",
    "ax.plot(mini.orient_all[\"Rough eeg time (s)\"], mini.orient_all.yaw)\n",
    "for start, stop in zip(sess.cs_epochs.starts, sess.cs_epochs.stops):\n",
    "    ax.axvspan(start, stop, color=[1, 0, 0, 0.3])\n",
    "\n",
    "for start, stop in zip(sess.csn_epochs.starts, sess.csn_epochs.stops):\n",
    "    ax.axvspan(start, stop, color=[0, 1, 0, 0.3])\n",
    "\n",
    "for start, stop in zip(sess.cs2_epochs.starts, sess.cs2_epochs.stops):\n",
    "    ax.axvspan(start, stop, color=[1, 0, 0, 0.3])\n",
    "\n",
    "ax = axs[3]\n",
    "ax.plot(mini.orient_all[\"Rough eeg time (s)\"], mini.orient_all.roll)\n",
    "for start, stop in zip(sess.cs_epochs.starts, sess.cs_epochs.stops):\n",
    "    ax.axvspan(start, stop, color=[1, 0, 0, 0.3])\n",
    "\n",
    "for start, stop in zip(sess.csn_epochs.starts, sess.csn_epochs.stops):\n",
    "    ax.axvspan(start, stop, color=[0, 1, 0, 0.3])\n",
    "\n",
    "for start, stop in zip(sess.cs2_epochs.starts, sess.cs2_epochs.stops):\n",
    "    ax.axvspan(start, stop, color=[1, 0, 0, 0.3])"
   ]
  },
  {
   "cell_type": "markdown",
   "id": "f39d2d68-a092-41a1-8021-295dbac4448b",
   "metadata": {},
   "source": [
    "### Read in DeepLabCut Data and sync with OpenEphys data"
   ]
  },
  {
   "cell_type": "code",
   "execution_count": 30,
   "id": "aae3ae20-413f-42c3-9253-2a80b168dad5",
   "metadata": {
    "scrolled": true
   },
   "outputs": [
    {
     "ename": "ValueError",
     "evalue": "No objects to concatenate",
     "output_type": "error",
     "traceback": [
      "\u001b[0;31m---------------------------------------------------------------------------\u001b[0m",
      "\u001b[0;31mValueError\u001b[0m                                Traceback (most recent call last)",
      "Cell \u001b[0;32mIn[30], line 8\u001b[0m\n\u001b[1;32m      5\u001b[0m pix2cm \u001b[38;5;241m=\u001b[39m arena_side_cm \u001b[38;5;241m/\u001b[39m arena_side_pix\n\u001b[1;32m      7\u001b[0m \u001b[38;5;66;03m# Read in DLC data\u001b[39;00m\n\u001b[0;32m----> 8\u001b[0m sess\u001b[38;5;241m.\u001b[39mdlc \u001b[38;5;241m=\u001b[39m \u001b[43mdlcio\u001b[49m\u001b[38;5;241;43m.\u001b[39;49m\u001b[43mDLC\u001b[49m\u001b[43m(\u001b[49m\u001b[43mdlc_path\u001b[49m\u001b[43m,\u001b[49m\u001b[43m \u001b[49m\u001b[43mpix2cm\u001b[49m\u001b[38;5;241;43m=\u001b[39;49m\u001b[43mpix2cm\u001b[49m\u001b[43m)\u001b[49m\n\u001b[1;32m     10\u001b[0m \u001b[38;5;66;03m# Smooth position, get timestamps, and get speed\u001b[39;00m\n\u001b[1;32m     11\u001b[0m sess\u001b[38;5;241m.\u001b[39mdlc\u001b[38;5;241m.\u001b[39mget_timestamps(\u001b[38;5;124m'\u001b[39m\u001b[38;5;124mms_webcam\u001b[39m\u001b[38;5;124m'\u001b[39m, include_str\u001b[38;5;241m=\u001b[39m\u001b[38;5;124m\"\u001b[39m\u001b[38;5;124m1_tone_recall\u001b[39m\u001b[38;5;124m\"\u001b[39m)\n",
      "File \u001b[0;32m/data/GitHub/NeuroPy/neuropy/io/dlcio.py:78\u001b[0m, in \u001b[0;36mDLC.__init__\u001b[0;34m(self, base_path, search_str, movie_type, pix2cm)\u001b[0m\n\u001b[1;32m     76\u001b[0m     pos_data \u001b[38;5;241m=\u001b[39m pos_data[scorername]\n\u001b[1;32m     77\u001b[0m     pos_list\u001b[38;5;241m.\u001b[39mappend(pos_data)\n\u001b[0;32m---> 78\u001b[0m \u001b[38;5;28mself\u001b[39m\u001b[38;5;241m.\u001b[39mpos_data \u001b[38;5;241m=\u001b[39m \u001b[43mpd\u001b[49m\u001b[38;5;241;43m.\u001b[39;49m\u001b[43mconcat\u001b[49m\u001b[43m(\u001b[49m\u001b[43mpos_list\u001b[49m\u001b[43m,\u001b[49m\u001b[43m \u001b[49m\u001b[43maxis\u001b[49m\u001b[38;5;241;43m=\u001b[39;49m\u001b[38;5;241;43m0\u001b[39;49m\u001b[43m)\u001b[49m\n\u001b[1;32m     79\u001b[0m \u001b[38;5;28mself\u001b[39m\u001b[38;5;241m.\u001b[39mpix2cm \u001b[38;5;241m=\u001b[39m pix2cm\n\u001b[1;32m     81\u001b[0m \u001b[38;5;66;03m# Assume you've only run one scorer and that bodyparts are the same for all files\u001b[39;00m\n",
      "File \u001b[0;32m~/miniforge3/envs/NeuroPy/lib/python3.11/site-packages/pandas/util/_decorators.py:331\u001b[0m, in \u001b[0;36mdeprecate_nonkeyword_arguments.<locals>.decorate.<locals>.wrapper\u001b[0;34m(*args, **kwargs)\u001b[0m\n\u001b[1;32m    325\u001b[0m \u001b[38;5;28;01mif\u001b[39;00m \u001b[38;5;28mlen\u001b[39m(args) \u001b[38;5;241m>\u001b[39m num_allow_args:\n\u001b[1;32m    326\u001b[0m     warnings\u001b[38;5;241m.\u001b[39mwarn(\n\u001b[1;32m    327\u001b[0m         msg\u001b[38;5;241m.\u001b[39mformat(arguments\u001b[38;5;241m=\u001b[39m_format_argument_list(allow_args)),\n\u001b[1;32m    328\u001b[0m         \u001b[38;5;167;01mFutureWarning\u001b[39;00m,\n\u001b[1;32m    329\u001b[0m         stacklevel\u001b[38;5;241m=\u001b[39mfind_stack_level(),\n\u001b[1;32m    330\u001b[0m     )\n\u001b[0;32m--> 331\u001b[0m \u001b[38;5;28;01mreturn\u001b[39;00m \u001b[43mfunc\u001b[49m\u001b[43m(\u001b[49m\u001b[38;5;241;43m*\u001b[39;49m\u001b[43margs\u001b[49m\u001b[43m,\u001b[49m\u001b[43m \u001b[49m\u001b[38;5;241;43m*\u001b[39;49m\u001b[38;5;241;43m*\u001b[39;49m\u001b[43mkwargs\u001b[49m\u001b[43m)\u001b[49m\n",
      "File \u001b[0;32m~/miniforge3/envs/NeuroPy/lib/python3.11/site-packages/pandas/core/reshape/concat.py:368\u001b[0m, in \u001b[0;36mconcat\u001b[0;34m(objs, axis, join, ignore_index, keys, levels, names, verify_integrity, sort, copy)\u001b[0m\n\u001b[1;32m    146\u001b[0m \u001b[38;5;129m@deprecate_nonkeyword_arguments\u001b[39m(version\u001b[38;5;241m=\u001b[39m\u001b[38;5;28;01mNone\u001b[39;00m, allowed_args\u001b[38;5;241m=\u001b[39m[\u001b[38;5;124m\"\u001b[39m\u001b[38;5;124mobjs\u001b[39m\u001b[38;5;124m\"\u001b[39m])\n\u001b[1;32m    147\u001b[0m \u001b[38;5;28;01mdef\u001b[39;00m \u001b[38;5;21mconcat\u001b[39m(\n\u001b[1;32m    148\u001b[0m     objs: Iterable[NDFrame] \u001b[38;5;241m|\u001b[39m Mapping[HashableT, NDFrame],\n\u001b[0;32m   (...)\u001b[0m\n\u001b[1;32m    157\u001b[0m     copy: \u001b[38;5;28mbool\u001b[39m \u001b[38;5;241m=\u001b[39m \u001b[38;5;28;01mTrue\u001b[39;00m,\n\u001b[1;32m    158\u001b[0m ) \u001b[38;5;241m-\u001b[39m\u001b[38;5;241m>\u001b[39m DataFrame \u001b[38;5;241m|\u001b[39m Series:\n\u001b[1;32m    159\u001b[0m \u001b[38;5;250m    \u001b[39m\u001b[38;5;124;03m\"\"\"\u001b[39;00m\n\u001b[1;32m    160\u001b[0m \u001b[38;5;124;03m    Concatenate pandas objects along a particular axis.\u001b[39;00m\n\u001b[1;32m    161\u001b[0m \n\u001b[0;32m   (...)\u001b[0m\n\u001b[1;32m    366\u001b[0m \u001b[38;5;124;03m    1   3   4\u001b[39;00m\n\u001b[1;32m    367\u001b[0m \u001b[38;5;124;03m    \"\"\"\u001b[39;00m\n\u001b[0;32m--> 368\u001b[0m     op \u001b[38;5;241m=\u001b[39m \u001b[43m_Concatenator\u001b[49m\u001b[43m(\u001b[49m\n\u001b[1;32m    369\u001b[0m \u001b[43m        \u001b[49m\u001b[43mobjs\u001b[49m\u001b[43m,\u001b[49m\n\u001b[1;32m    370\u001b[0m \u001b[43m        \u001b[49m\u001b[43maxis\u001b[49m\u001b[38;5;241;43m=\u001b[39;49m\u001b[43maxis\u001b[49m\u001b[43m,\u001b[49m\n\u001b[1;32m    371\u001b[0m \u001b[43m        \u001b[49m\u001b[43mignore_index\u001b[49m\u001b[38;5;241;43m=\u001b[39;49m\u001b[43mignore_index\u001b[49m\u001b[43m,\u001b[49m\n\u001b[1;32m    372\u001b[0m \u001b[43m        \u001b[49m\u001b[43mjoin\u001b[49m\u001b[38;5;241;43m=\u001b[39;49m\u001b[43mjoin\u001b[49m\u001b[43m,\u001b[49m\n\u001b[1;32m    373\u001b[0m \u001b[43m        \u001b[49m\u001b[43mkeys\u001b[49m\u001b[38;5;241;43m=\u001b[39;49m\u001b[43mkeys\u001b[49m\u001b[43m,\u001b[49m\n\u001b[1;32m    374\u001b[0m \u001b[43m        \u001b[49m\u001b[43mlevels\u001b[49m\u001b[38;5;241;43m=\u001b[39;49m\u001b[43mlevels\u001b[49m\u001b[43m,\u001b[49m\n\u001b[1;32m    375\u001b[0m \u001b[43m        \u001b[49m\u001b[43mnames\u001b[49m\u001b[38;5;241;43m=\u001b[39;49m\u001b[43mnames\u001b[49m\u001b[43m,\u001b[49m\n\u001b[1;32m    376\u001b[0m \u001b[43m        \u001b[49m\u001b[43mverify_integrity\u001b[49m\u001b[38;5;241;43m=\u001b[39;49m\u001b[43mverify_integrity\u001b[49m\u001b[43m,\u001b[49m\n\u001b[1;32m    377\u001b[0m \u001b[43m        \u001b[49m\u001b[43mcopy\u001b[49m\u001b[38;5;241;43m=\u001b[39;49m\u001b[43mcopy\u001b[49m\u001b[43m,\u001b[49m\n\u001b[1;32m    378\u001b[0m \u001b[43m        \u001b[49m\u001b[43msort\u001b[49m\u001b[38;5;241;43m=\u001b[39;49m\u001b[43msort\u001b[49m\u001b[43m,\u001b[49m\n\u001b[1;32m    379\u001b[0m \u001b[43m    \u001b[49m\u001b[43m)\u001b[49m\n\u001b[1;32m    381\u001b[0m     \u001b[38;5;28;01mreturn\u001b[39;00m op\u001b[38;5;241m.\u001b[39mget_result()\n",
      "File \u001b[0;32m~/miniforge3/envs/NeuroPy/lib/python3.11/site-packages/pandas/core/reshape/concat.py:425\u001b[0m, in \u001b[0;36m_Concatenator.__init__\u001b[0;34m(self, objs, axis, join, keys, levels, names, ignore_index, verify_integrity, copy, sort)\u001b[0m\n\u001b[1;32m    422\u001b[0m     objs \u001b[38;5;241m=\u001b[39m \u001b[38;5;28mlist\u001b[39m(objs)\n\u001b[1;32m    424\u001b[0m \u001b[38;5;28;01mif\u001b[39;00m \u001b[38;5;28mlen\u001b[39m(objs) \u001b[38;5;241m==\u001b[39m \u001b[38;5;241m0\u001b[39m:\n\u001b[0;32m--> 425\u001b[0m     \u001b[38;5;28;01mraise\u001b[39;00m \u001b[38;5;167;01mValueError\u001b[39;00m(\u001b[38;5;124m\"\u001b[39m\u001b[38;5;124mNo objects to concatenate\u001b[39m\u001b[38;5;124m\"\u001b[39m)\n\u001b[1;32m    427\u001b[0m \u001b[38;5;28;01mif\u001b[39;00m keys \u001b[38;5;129;01mis\u001b[39;00m \u001b[38;5;28;01mNone\u001b[39;00m:\n\u001b[1;32m    428\u001b[0m     objs \u001b[38;5;241m=\u001b[39m \u001b[38;5;28mlist\u001b[39m(com\u001b[38;5;241m.\u001b[39mnot_none(\u001b[38;5;241m*\u001b[39mobjs))\n",
      "\u001b[0;31mValueError\u001b[0m: No objects to concatenate"
     ]
    }
   ],
   "source": [
    "import neuropy.io.dlcio as dlcio\n",
    "dlc_path = '/data3/Trace_FC/Recording_Rats/Finn2/2023_05_09_recall1'\n",
    "arena_side_pix = 60  # Keep this\n",
    "arena_side_cm = 25.4  # Update this after measuring!!!\n",
    "pix2cm = arena_side_cm / arena_side_pix\n",
    "\n",
    "# Read in DLC data\n",
    "sess.dlc = dlcio.DLC(dlc_path, pix2cm=pix2cm)\n",
    "\n",
    "# Smooth position, get timestamps, and get speed\n",
    "sess.dlc.get_timestamps('ms_webcam', include_str=\"1_tone_recall\")\n",
    "sess.dlc.smooth_pos(bodyparts=[\"crown_middle\", \"back_middle\"])\n",
    "sess.dlc.timestamps[\"Timestamps\"] = sess.dlc.timestamps[\"Timestamps\"].dt.tz_localize(\"America/Detroit\")\n",
    "sess.dlc.get_all_speed()"
   ]
  },
  {
   "cell_type": "code",
   "execution_count": 31,
   "id": "33ed8622-fbde-415e-8994-6a24db1b7696",
   "metadata": {},
   "outputs": [
    {
     "name": "stdout",
     "output_type": "stream",
     "text": [
      "start time = 2022-08-04 12:23:56.581623-04:00\n",
      "start time = 2022-08-04 12:45:27.837675-04:00\n",
      "start time = 2022-08-04 13:07:02.327536-04:00\n"
     ]
    },
    {
     "ename": "AttributeError",
     "evalue": "'ProcessData' object has no attribute 'dlc'",
     "output_type": "error",
     "traceback": [
      "\u001b[0;31m---------------------------------------------------------------------------\u001b[0m",
      "\u001b[0;31mAttributeError\u001b[0m                            Traceback (most recent call last)",
      "Cell \u001b[0;32mIn[31], line 7\u001b[0m\n\u001b[1;32m      4\u001b[0m sync_df[\u001b[38;5;124m\"\u001b[39m\u001b[38;5;124mTotal seconds from start\u001b[39m\u001b[38;5;124m\"\u001b[39m] \u001b[38;5;241m=\u001b[39m (sync_df[\u001b[38;5;124m\"\u001b[39m\u001b[38;5;124mDatetime\u001b[39m\u001b[38;5;124m\"\u001b[39m] \u001b[38;5;241m-\u001b[39m sync_df[\u001b[38;5;124m\"\u001b[39m\u001b[38;5;124mDatetime\u001b[39m\u001b[38;5;124m\"\u001b[39m][\u001b[38;5;241m0\u001b[39m])\u001b[38;5;241m.\u001b[39mdt\u001b[38;5;241m.\u001b[39mtotal_seconds()\n\u001b[1;32m      6\u001b[0m \u001b[38;5;66;03m# sync DLC times to your eeg file\u001b[39;00m\n\u001b[0;32m----> 7\u001b[0m sess\u001b[38;5;241m.\u001b[39mdlc\u001b[38;5;241m.\u001b[39mtimestamps[\u001b[38;5;124m\"\u001b[39m\u001b[38;5;124mTotal seconds from OE start\u001b[39m\u001b[38;5;124m\"\u001b[39m] \u001b[38;5;241m=\u001b[39m (\u001b[43msess\u001b[49m\u001b[38;5;241;43m.\u001b[39;49m\u001b[43mdlc\u001b[49m\u001b[38;5;241m.\u001b[39mtimestamps[\u001b[38;5;124m\"\u001b[39m\u001b[38;5;124mTimestamps\u001b[39m\u001b[38;5;124m\"\u001b[39m] \u001b[38;5;241m-\u001b[39m sync_df[\u001b[38;5;124m\"\u001b[39m\u001b[38;5;124mDatetime\u001b[39m\u001b[38;5;124m\"\u001b[39m][\u001b[38;5;241m0\u001b[39m])\u001b[38;5;241m.\u001b[39mdt\u001b[38;5;241m.\u001b[39mtotal_seconds()\n\u001b[1;32m      8\u001b[0m sess\u001b[38;5;241m.\u001b[39mdlc\u001b[38;5;241m.\u001b[39mtimestamps[\u001b[38;5;124m\"\u001b[39m\u001b[38;5;124meeg_time\u001b[39m\u001b[38;5;124m\"\u001b[39m] \u001b[38;5;241m=\u001b[39m np\u001b[38;5;241m.\u001b[39minterp(sess\u001b[38;5;241m.\u001b[39mdlc\u001b[38;5;241m.\u001b[39mtimestamps[\u001b[38;5;124m\"\u001b[39m\u001b[38;5;124mTotal seconds from OE start\u001b[39m\u001b[38;5;124m\"\u001b[39m], sync_df[\u001b[38;5;124m\"\u001b[39m\u001b[38;5;124mTotal seconds from start\u001b[39m\u001b[38;5;124m\"\u001b[39m], \n\u001b[1;32m      9\u001b[0m                                             sync_df[\u001b[38;5;124m\"\u001b[39m\u001b[38;5;124meeg_time\u001b[39m\u001b[38;5;124m\"\u001b[39m])\n\u001b[1;32m     10\u001b[0m sess\u001b[38;5;241m.\u001b[39mdlc\u001b[38;5;241m.\u001b[39mtimestamps\n",
      "\u001b[0;31mAttributeError\u001b[0m: 'ProcessData' object has no attribute 'dlc'"
     ]
    }
   ],
   "source": [
    "# Load in openephys times to sync\n",
    "import neuropy.io.openephysio as oeio\n",
    "sync_df = oeio.create_sync_df(sess.basepath)\n",
    "sync_df[\"Total seconds from start\"] = (sync_df[\"Datetime\"] - sync_df[\"Datetime\"][0]).dt.total_seconds()\n",
    "\n",
    "# sync DLC times to your eeg file\n",
    "sess.dlc.timestamps[\"Total seconds from OE start\"] = (sess.dlc.timestamps[\"Timestamps\"] - sync_df[\"Datetime\"][0]).dt.total_seconds()\n",
    "sess.dlc.timestamps[\"eeg_time\"] = np.interp(sess.dlc.timestamps[\"Total seconds from OE start\"], sync_df[\"Total seconds from start\"], \n",
    "                                            sync_df[\"eeg_time\"])\n",
    "sess.dlc.timestamps"
   ]
  },
  {
   "cell_type": "code",
   "execution_count": null,
   "id": "d06f9558-1509-4330-9d5d-58e2a399595b",
   "metadata": {},
   "outputs": [],
   "source": [
    "# Last calculate freezing times and plot again to check\n",
    "frz_thresh = 0.25 # cm/sec  Adjust this to something that looks reasonable!\n",
    "duration_thresh = 1 # sec, must be below the threshold above for at least that long to be considered freezing\n",
    "bodypart_use = \"crown_middle\"\n",
    "frz_bool = sess.dlc.speed[bodypart_use] < frz_thresh\n",
    "frz_epochs = Epoch.from_boolean_array(frz_bool, t=sess.dlc.timestamps[\"eeg_time\"])\n",
    "frz_df = frz_epochs.to_dataframe()\n",
    "frz_df = frz_df[frz_epochs.durations > duration_thresh]\n",
    "frz_epochs = Epoch(frz_df)\n",
    "frz_epochs"
   ]
  },
  {
   "cell_type": "code",
   "execution_count": null,
   "id": "266db961-59f2-4d73-bb5e-580224194bf1",
   "metadata": {},
   "outputs": [],
   "source": [
    "%matplotlib widget\n",
    "# Plot to check! Looks ok, though there might be some mismatches between theta and movement.\n",
    "\n",
    "_, ax = plt.subplots(figsize=(12, 4))\n",
    "hc, = ax.plot(sess.dlc.timestamps[\"eeg_time\"], sess.dlc.speed[\"crown_middle\"])\n",
    "hb, = ax.plot(sess.dlc.timestamps[\"eeg_time\"], sess.dlc.speed[\"back_middle\"])\n",
    "hthresh = ax.axhline(frz_thresh, color='r', linestyle='--')\n",
    "\n",
    "for start, stop in zip(frz_epochs.starts, frz_epochs.stops):\n",
    "    hf = ax.axvspan(start, stop, color=[0.3, 0, 0, 0.5])\n",
    "\n",
    "# Now plot theta epochs over it to triple check!\n",
    "theta_epochs_file = sess.filePrefix.with_suffix(\".theta_epochs.npy\")\n",
    "theta_epochs = Epoch(epochs=None, file=theta_epochs_file)\n",
    "theta_epochs = theta_epochs.time_slice(t_start = sess.dlc.timestamps[\"eeg_time\"].min(), t_stop=sess.dlc.timestamps[\"eeg_time\"].max())\n",
    "\n",
    "for start, stop in zip(theta_epochs.starts, theta_epochs.stops):\n",
    "    htheta = ax.axvspan(start, stop, color=[0, 0.3, 0, 0.5])\n",
    "\n",
    "ax.legend((hc, hb, hthresh, htheta, hf), (\"crown_middle\", \"back_middle\", \"freeze threshold\", \"theta\", \"frz\"))"
   ]
  },
  {
   "cell_type": "markdown",
   "id": "34c2df51-13eb-4e1b-bf3f-5afbb377c6f1",
   "metadata": {},
   "source": [
    "#### Double check start time"
   ]
  },
  {
   "cell_type": "code",
   "execution_count": null,
   "id": "fdebe4e0-9187-4aeb-87f6-8f17b6fb5ac7",
   "metadata": {},
   "outputs": [],
   "source": [
    "import neuropy.io.openephysio as oeio\n",
    "\n",
    "# Import TTLs for CS from OpenEphys\n",
    "ttl_df = oeio.load_all_ttl_events(sess.basepath, sanity_check_channel=1, zero_timestamps=True)\n",
    "ttl_df[ttl_df['channel_states'].abs() == 2].head(5)"
   ]
  },
  {
   "cell_type": "code",
   "execution_count": null,
   "id": "911ed15d-5280-48a3-a587-16cc6260919f",
   "metadata": {},
   "outputs": [],
   "source": [
    "accurate_start_time = ttl_df[ttl_df['channel_states'].abs() == 1].iloc[6355]['datetimes']\n",
    "accurate_start_time = accurate_start_time.tz_localize('America/Detroit')"
   ]
  },
  {
   "cell_type": "code",
   "execution_count": null,
   "id": "49d6ad37-0932-4609-a82b-1d97699026b1",
   "metadata": {},
   "outputs": [],
   "source": [
    "approx_start_time = sess.dlc.timestamps.loc[0, 'Timestamps']\n",
    "approx_start_time"
   ]
  },
  {
   "cell_type": "code",
   "execution_count": null,
   "id": "ac47cee9-0c16-4d61-8c04-35246e050189",
   "metadata": {},
   "outputs": [],
   "source": [
    "adj_time_delta = (accurate_start_time - approx_start_time).total_seconds()\n",
    "adj_time_delta"
   ]
  },
  {
   "cell_type": "code",
   "execution_count": null,
   "id": "e4fd585c-71fb-4b09-8870-ad0e3d76b24d",
   "metadata": {},
   "outputs": [],
   "source": [
    "sess.dlc.timestamps.head(1)"
   ]
  },
  {
   "cell_type": "code",
   "execution_count": null,
   "id": "70d9bcdc-244e-4009-9896-01fe9a329a21",
   "metadata": {},
   "outputs": [],
   "source": [
    "# Try manually adjusting times in DLC data and see if it matches better!\n",
    "from copy import deepcopy\n",
    "dlcadj = deepcopy(sess.dlc)\n",
    "\n",
    "dlcadj.timestamps[\"eeg_time\"] = dlcadj.timestamps[\"eeg_time\"] + adj_time_delta\n",
    "\n",
    "_, axcomb = plt.subplots(2, 1, sharex=True, figsize=(12, 5))\n",
    "ax = axcomb[0]\n",
    "hc, = ax.plot(dlcadj.timestamps[\"eeg_time\"], dlcadj.speed[\"crown_middle\"])\n",
    "hb, = ax.plot(dlcadj.timestamps[\"eeg_time\"], dlcadj.speed[\"back_middle\"])\n",
    "hthresh = ax.axhline(frz_thresh, color='r', linestyle='--')\n",
    "\n",
    "for start, stop in zip(frz_epochs.starts, frz_epochs.stops):\n",
    "    hf = ax.axvspan(start, stop, color=[0.3, 0, 0, 0.5])\n",
    "\n",
    "# Now plot theta epochs over it to triple check!\n",
    "theta_epochs_file = sess.filePrefix.with_suffix(\".theta_epochs.npy\")\n",
    "theta_epochs = Epoch(epochs=None, file=theta_epochs_file)\n",
    "theta_epochs = theta_epochs.time_slice(t_start = dlcadj.timestamps[\"eeg_time\"].min(), t_stop=dlcadj.timestamps[\"eeg_time\"].max())\n",
    "\n",
    "for start, stop in zip(theta_epochs.starts, theta_epochs.stops):\n",
    "    htheta = ax.axvspan(start, stop, color=[0, 0.3, 0, 0.5])\n",
    "\n",
    "ax.legend((hc, hb, hthresh, htheta, hf), (\"crown_middle\", \"back_middle\", \"freeze threshold\", \"theta\", \"frz\"))\n",
    "# ax.set_xlim((2535, 2565))\n",
    "\n",
    "plot_signal_w_epochs(signal, 28, art_epochs, ax=axcomb[1])"
   ]
  },
  {
   "cell_type": "code",
   "execution_count": null,
   "id": "6982fca4-23ea-426f-9980-0d1948425134",
   "metadata": {},
   "outputs": [],
   "source": [
    "# Try manually adjusting times in DLC data and see if it matches better!\n",
    "from copy import deepcopy\n",
    "manually_adjust_dlc_times = -0.528  # seconds\n",
    "dlcadj = deepcopy(sess.dlc)\n",
    "\n",
    "dlcadj.timestamps[\"eeg_time\"] = dlcadj.timestamps[\"eeg_time\"] + manually_adjust_dlc_times\n",
    "\n",
    "_, ax = plt.subplots(figsize=(12, 4))\n",
    "\n",
    "hthresh = ax.axhline(frz_thresh, color='r', linestyle='--')\n",
    "\n",
    "for start, stop in zip(frz_epochs.starts, frz_epochs.stops):\n",
    "\n",
    "    hf = ax.axvspan(start, stop, color=[0.3, 0, 0, 0.5])\n",
    "\n",
    "# Now plot theta epochs over it to triple check!\n",
    "theta_epochs_file = sess.filePrefix.with_suffix(\".theta_epochs.npy\")\n",
    "theta_epochs = Epoch(epochs=None, file=theta_epochs_file)\n",
    "theta_epochs = theta_epochs.time_slice(t_start = dlcadj.timestamps[\"eeg_time\"].min(), t_stop=dlcadj.timestamps[\"eeg_time\"].max())\n",
    "\n",
    "for start, stop in zip(theta_epochs.starts, theta_epochs.stops):\n",
    "    htheta = ax.axvspan(start, stop, color=[0, 0.3, 0, 0.5])\n",
    "\n",
    "ax.legend((hc, hb, hthresh, htheta, hf), (\"crown_middle\", \"back_middle\", \"freeze threshold\", \"theta\", \"frz\"))\n",
    "# ax.set_xlim((2535, 2565))"
   ]
  },
  {
   "cell_type": "code",
   "execution_count": null,
   "id": "209144d0-5795-4eba-9a0e-799e11c1cfe9",
   "metadata": {},
   "outputs": [],
   "source": [
    "#Freezing and theta\n",
    "from copy import deepcopy\n",
    "\n",
    "manually_adjust_dlc_times = -0.528  \n",
    "dlcadj = deepcopy(sess.dlc)\n",
    "dlcadj.timestamps[\"eeg_time\"] = dlcadj.timestamps[\"eeg_time\"] + manually_adjust_dlc_times\n",
    "\n",
    "_, ax = plt.subplots(figsize=(12, 4))\n",
    "hthresh = ax.axhline(frz_thresh, color='r', linestyle='--')\n",
    "\n",
    "for start, stop in zip(frz_epochs.starts, frz_epochs.stops):\n",
    "    duration = stop - start\n",
    "    if duration > 4:  # Check if the frz epoch duration is greater than 5 seconds\n",
    "        hf = ax.axvspan(start, stop, color=[0.3, 0, 0, 0.5], label='frz')\n",
    "\n",
    "theta_epochs_file = sess.filePrefix.with_suffix(\".theta_epochs.npy\")\n",
    "theta_epochs = Epoch(epochs=None, file=theta_epochs_file)\n",
    "theta_epochs = theta_epochs.time_slice(t_start=dlcadj.timestamps[\"eeg_time\"].min(), t_stop=dlcadj.timestamps[\"eeg_time\"].max())\n",
    "\n",
    "beta_epochs_file = sess.filePrefix.with_suffix(\".beta_epochs.npy\")\n",
    "beta_epochs = Epoch(epochs=None, file=beta_epochs_file)\n",
    "beta_epochs = beta_epochs.time_slice(t_start=dlcadj.timestamps[\"eeg_time\"].min(), t_stop=dlcadj.timestamps[\"eeg_time\"].max())\n",
    "\n",
    "for start, stop in zip(theta_epochs.starts, theta_epochs.stops):\n",
    "    htheta = ax.axvspan(start, stop, color=[0, 0.3, 0, 0.5], label='theta')\n",
    "    \n",
    "    \n",
    "handles, labels = ax.get_legend_handles_labels()\n",
    "by_label = dict(zip(labels, handles))  \n",
    "ax.legend(by_label.values(), by_label.keys())\n"
   ]
  },
  {
   "cell_type": "code",
   "execution_count": null,
   "id": "96f31e1f-b7c7-483b-b2b1-76eea4b8888a",
   "metadata": {},
   "outputs": [],
   "source": []
  },
  {
   "cell_type": "code",
   "execution_count": null,
   "id": "d53453ec-2542-4b97-879c-80ee60c59b6a",
   "metadata": {},
   "outputs": [],
   "source": [
    "#Freezing and ripple\n",
    "from copy import deepcopy\n",
    "\n",
    "manually_adjust_dlc_times = -0.528  \n",
    "dlcadj = deepcopy(sess.dlc)\n",
    "dlcadj.timestamps[\"eeg_time\"] = dlcadj.timestamps[\"eeg_time\"] + manually_adjust_dlc_times\n",
    "\n",
    "_, ax = plt.subplots(figsize=(12, 4))\n",
    "hthresh = ax.axhline(frz_thresh, color='r', linestyle='--')\n",
    "\n",
    "for start, stop in zip(frz_epochs.starts, frz_epochs.stops):\n",
    "    duration = stop - start\n",
    "    if duration > 4:  # Check if the frz epoch duration is greater than 5 seconds\n",
    "        hf = ax.axvspan(start, stop, color=[0.3, 0, 0, 0.5], label='frz')\n",
    "\n",
    "ripple_epochs_file = sess.filePrefix.with_suffix(\".ripple_epochs.npy\")\n",
    "ripple_epochs = Epoch(epochs=None, file=ripple_epochs_file)\n",
    "ripple_epochs = ripple_epochs.time_slice(t_start=dlcadj.timestamps[\"eeg_time\"].min(), t_stop=dlcadj.timestamps[\"eeg_time\"].max())\n",
    "\n",
    "beta_epochs_file = sess.filePrefix.with_suffix(\".beta_epochs.npy\")\n",
    "beta_epochs = Epoch(epochs=None, file=beta_epochs_file)\n",
    "beta_epochs = beta_epochs.time_slice(t_start=dlcadj.timestamps[\"eeg_time\"].min(), t_stop=dlcadj.timestamps[\"eeg_time\"].max())\n",
    "\n",
    "for start, stop in zip(ripple_epochs.starts, ripple_epochs.stops):\n",
    "    hripple = ax.axvspan(start, stop, color=[0, 0.3, 0, 0.5], label='ripple')\n",
    "    \n",
    "    \n",
    "handles, labels = ax.get_legend_handles_labels()\n",
    "by_label = dict(zip(labels, handles))  \n",
    "ax.legend(by_label.values(), by_label.keys())\n"
   ]
  },
  {
   "cell_type": "code",
   "execution_count": null,
   "id": "58a9a204-b2ab-4390-9e9e-7b58f0e06f04",
   "metadata": {},
   "outputs": [],
   "source": [
    "#Freezing and ripple\n",
    "from copy import deepcopy\n",
    "import matplotlib.pyplot as plt\n",
    "\n",
    "# Assuming sess, frz_thresh, frz_epochs, and other necessary variables are defined elsewhere\n",
    "\n",
    "manually_adjust_dlc_times = -0.528  \n",
    "dlcadj = deepcopy(sess.dlc)\n",
    "dlcadj.timestamps[\"eeg_time\"] = dlcadj.timestamps[\"eeg_time\"] + manually_adjust_dlc_times\n",
    "\n",
    "_, ax = plt.subplots(figsize=(12, 4))\n",
    "\n",
    "# Use axhline to draw lines for visual separation (optional)\n",
    "ax.axhline(0.5, color='k', linestyle='-', alpha=0.5)  # Mid-line for visual separation\n",
    "\n",
    "# Plot freezing events below the line\n",
    "for start, stop in zip(frz_epochs.starts, frz_epochs.stops):\n",
    "    duration = stop - start\n",
    "    ax.axvspan(start, stop, ymin=0, ymax=0.5, color=[0.3, 0, 0, 0.5], label='frz')\n",
    "\n",
    "# Plot ripple events above the line\n",
    "for start, stop in zip(ripple_epochs.starts, ripple_epochs.stops):\n",
    "    ax.axvspan(start, stop, ymin=0.5, ymax=1, color=[0, 0.3, 0, 0.5], label='ripple')\n",
    "\n",
    "# Adjust the y-axis to hide the y-ticks and labels as they don't represent meaningful values in this context\n",
    "ax.set_yticks([])\n",
    "ax.set_ylabel(\"Events\")\n",
    "\n",
    "# Handle legend to avoid duplicate labels\n",
    "handles, labels = ax.get_legend_handles_labels()\n",
    "by_label = dict(zip(labels, handles))\n",
    "ax.legend(by_label.values(), by_label.keys())\n",
    "\n",
    "plt.tight_layout()\n",
    "plt.show()"
   ]
  },
  {
   "cell_type": "code",
   "execution_count": null,
   "id": "d3c97422-3b90-4fef-bcf3-ce4f3e562cf2",
   "metadata": {},
   "outputs": [],
   "source": [
    "#Freezing and beta\n",
    "from copy import deepcopy\n",
    "\n",
    "manually_adjust_dlc_times = -0.528\n",
    "dlcadj = deepcopy(sess.dlc)\n",
    "dlcadj.timestamps[\"eeg_time\"] = dlcadj.timestamps[\"eeg_time\"] + manually_adjust_dlc_times\n",
    "\n",
    "_, ax = plt.subplots(figsize=(12, 4))\n",
    "hthresh = ax.axhline(frz_thresh, color='r', linestyle='--')\n",
    "\n",
    "for start, stop in zip(frz_epochs.starts, frz_epochs.stops):\n",
    "    duration = stop - start\n",
    "    if duration > 4:  # Check if the frz epoch duration is greater than 5 seconds\n",
    "        hf = ax.axvspan(start, stop, color=[0.3, 0, 0, 0.5], label='frz')\n",
    "\n",
    "theta_epochs_file = sess.filePrefix.with_suffix(\".theta_epochs.npy\")\n",
    "theta_epochs = Epoch(epochs=None, file=theta_epochs_file)\n",
    "theta_epochs = theta_epochs.time_slice(t_start=dlcadj.timestamps[\"eeg_time\"].min(), t_stop=dlcadj.timestamps[\"eeg_time\"].max())\n",
    "\n",
    "beta_epochs_file = sess.filePrefix.with_suffix(\".beta_epochs.npy\")\n",
    "beta_epochs = Epoch(epochs=None, file=beta_epochs_file)\n",
    "beta_epochs = beta_epochs.time_slice(t_start=dlcadj.timestamps[\"eeg_time\"].min(), t_stop=dlcadj.timestamps[\"eeg_time\"].max())\n",
    "\n",
    "\n",
    "    \n",
    "for start, stop in zip(beta_epochs.starts, beta_epochs.stops):\n",
    "    hbeta = ax.axvspan(start, stop, color=[0, 0, 0.3, 0.5], label='beta')\n",
    "    \n",
    "handles, labels = ax.get_legend_handles_labels()\n",
    "by_label = dict(zip(labels, handles))  \n",
    "ax.legend(by_label.values(), by_label.keys())"
   ]
  },
  {
   "cell_type": "code",
   "execution_count": null,
   "id": "e67e7a41-2cc0-46a9-ad0d-87c8ffbd726b",
   "metadata": {},
   "outputs": [],
   "source": [
    "#Freezing and gamma  Gamma detection is wrong?\n",
    "from copy import deepcopy\n",
    "\n",
    "manually_adjust_dlc_times = -0.528 \n",
    "dlcadj = deepcopy(sess.dlc)\n",
    "dlcadj.timestamps[\"eeg_time\"] = dlcadj.timestamps[\"eeg_time\"] + manually_adjust_dlc_times\n",
    "\n",
    "_, ax = plt.subplots(figsize=(12, 4))\n",
    "hthresh = ax.axhline(frz_thresh, color='r', linestyle='--')\n",
    "\n",
    "for start, stop in zip(frz_epochs.starts, frz_epochs.stops):\n",
    "    duration = stop - start\n",
    "    if duration > 4:  # Check if the frz epoch duration is greater than 5 seconds\n",
    "        hf = ax.axvspan(start, stop, color=[0.3, 0, 0, 0.5], label='frz')\n",
    "\n",
    "theta_epochs_file = sess.filePrefix.with_suffix(\".theta_epochs.npy\")\n",
    "theta_epochs = Epoch(epochs=None, file=theta_epochs_file)\n",
    "theta_epochs = theta_epochs.time_slice(t_start=dlcadj.timestamps[\"eeg_time\"].min(), t_stop=dlcadj.timestamps[\"eeg_time\"].max())\n",
    "\n",
    "gamma_epochs_file = sess.filePrefix.with_suffix(\".gamma_epochs.npy\")\n",
    "gamma_epochs = Epoch(epochs=None, file=gamma_epochs_file)\n",
    "gamma_epochs = gamma_epochs.time_slice(t_start=dlcadj.timestamps[\"eeg_time\"].min(), t_stop=dlcadj.timestamps[\"eeg_time\"].max())\n",
    "\n",
    "\n",
    "    \n",
    "for start, stop in zip(gamma_epochs.starts, gamma_epochs.stops):\n",
    "    hgamma = ax.axvspan(start, stop, color=[0, 0, 0.3, 0.5], label='gamma')\n",
    "    \n",
    "handles, labels = ax.get_legend_handles_labels()\n",
    "by_label = dict(zip(labels, handles))  \n",
    "ax.legend(by_label.values(), by_label.keys())"
   ]
  },
  {
   "cell_type": "code",
   "execution_count": null,
   "id": "42b07f5b-f2dc-4fe1-a175-05d911e0765d",
   "metadata": {},
   "outputs": [],
   "source": [
    "#Freezing and delta\n",
    "from copy import deepcopy\n",
    "\n",
    "manually_adjust_dlc_times = -0.528 \n",
    "dlcadj = deepcopy(sess.dlc)\n",
    "dlcadj.timestamps[\"eeg_time\"] = dlcadj.timestamps[\"eeg_time\"] + manually_adjust_dlc_times\n",
    "\n",
    "_, ax = plt.subplots(figsize=(12, 4))\n",
    "hthresh = ax.axhline(frz_thresh, color='r', linestyle='--')\n",
    "\n",
    "for start, stop in zip(frz_epochs.starts, frz_epochs.stops):\n",
    "    duration = stop - start\n",
    "    if duration > 4:  # Check if the frz epoch duration is greater than 5 seconds\n",
    "        hf = ax.axvspan(start, stop, color=[0.3, 0, 0, 0.5], label='frz')\n",
    "\n",
    "# theta_epochs_file = sess.filePrefix.with_suffix(\".theta_epochs.npy\")\n",
    "# theta_epochs = Epoch(epochs=None, file=theta_epochs_file)\n",
    "# theta_epochs = theta_epochs.time_slice(t_start=dlcadj.timestamps[\"eeg_time\"].min(), t_stop=dlcadj.timestamps[\"eeg_time\"].max())\n",
    "\n",
    "delta_epochs_file = sess.filePrefix.with_suffix(\".delta_epochs.npy\")\n",
    "delta_epochs = Epoch(epochs=None, file=delta_epochs_file)\n",
    "delta_epochs = delta_epochs.time_slice(t_start=dlcadj.timestamps[\"eeg_time\"].min(), t_stop=dlcadj.timestamps[\"eeg_time\"].max())\n",
    "\n",
    "\n",
    "    \n",
    "for start, stop in zip(delta_epochs.starts, delta_epochs.stops):\n",
    "    duration = stop-start\n",
    "    if duration>0.2:\n",
    "        hdelta = ax.axvspan(start, stop, color=[0, 0, 0.3, 0.5], label='delta')\n",
    "    \n",
    "handles, labels = ax.get_legend_handles_labels()\n",
    "by_label = dict(zip(labels, handles))  \n",
    "ax.legend(by_label.values(), by_label.keys())"
   ]
  },
  {
   "cell_type": "code",
   "execution_count": null,
   "id": "78032042-442e-481d-97a6-fb5ea2e611e2",
   "metadata": {},
   "outputs": [],
   "source": [
    "#Freezing and USV\n",
    "from copy import deepcopy\n",
    "\n",
    "manually_adjust_dlc_times = -0.528 \n",
    "dlcadj = deepcopy(sess.dlc)\n",
    "dlcadj.timestamps[\"eeg_time\"] = dlcadj.timestamps[\"eeg_time\"] + manually_adjust_dlc_times\n",
    "\n",
    "_, ax = plt.subplots(figsize=(12, 4))\n",
    "hthresh = ax.axhline(frz_thresh, color='r', linestyle='--')\n",
    "\n",
    "for start, stop in zip(frz_epochs.starts, frz_epochs.stops):\n",
    "    duration = stop - start\n",
    "    hf = ax.axvspan(start, stop, color=[0.3, 0, 0, 0.5], label='frz')\n",
    "\n",
    "# theta_epochs_file = sess.filePrefix.with_suffix(\".theta_epochs.npy\")\n",
    "# theta_epochs = Epoch(epochs=None, file=theta_epochs_file)\n",
    "# theta_epochs = theta_epochs.time_slice(t_start=dlcadj.timestamps[\"eeg_time\"].min(), t_stop=dlcadj.timestamps[\"eeg_time\"].max())\n",
    "\n",
    "usv_epochs_file = sess.filePrefix.with_suffix(\".usv_epochs.npy\")\n",
    "usv_epochs = Epoch(epochs=None, file=usv_epochs_file)\n",
    "usv_epochs\n",
    "\n",
    "\n",
    "# delta_epochs_file = sess.filePrefix.with_suffix(\".delta_epochs.npy\")\n",
    "# delta_epochs = Epoch(epochs=None, file=delta_epochs_file)\n",
    "# delta_epochs = delta_epochs.time_slice(t_start=dlcadj.timestamps[\"eeg_time\"].min(), t_stop=dlcadj.timestamps[\"eeg_time\"].max())\n",
    "\n",
    "\n",
    "    \n",
    "for start, stop in zip(usv_epochs.starts, usv_epochs.stops):\n",
    "    duration = stop-start\n",
    "\n",
    "    husv = ax.axvspan(start, stop, color=[0, 0, 0.3, 0.5], label='usv')\n",
    "    \n",
    "handles, labels = ax.get_legend_handles_labels()\n",
    "by_label = dict(zip(labels, handles))  \n",
    "ax.legend(by_label.values(), by_label.keys())"
   ]
  },
  {
   "cell_type": "markdown",
   "id": "64ddeddb-2a7e-46bb-a050-f08f21390853",
   "metadata": {},
   "source": [
    "## Save notebook to animal working directory"
   ]
  },
  {
   "cell_type": "code",
   "execution_count": null,
   "id": "265b9af2-5254-4df9-abdf-a1c649ef28eb",
   "metadata": {},
   "outputs": [],
   "source": [
    "from neuropy.utils.manipulate_files import save_notebook\n",
    "try:\n",
    "    save_notebook(sess.basepath, save_prepend=f\"{animal}_{sess_name}_\")\n",
    "except PermissionError:\n",
    "    print('Got a weird PermissionError. Check to make sure file saved successfully')"
   ]
  },
  {
   "cell_type": "markdown",
   "id": "28508b7a",
   "metadata": {},
   "source": [
    "### Load in disconnect and motion artifacts"
   ]
  },
  {
   "cell_type": "code",
   "execution_count": null,
   "id": "e339bfda",
   "metadata": {},
   "outputs": [],
   "source": [
    "from neuropy.analyses.artifact import detect_artifact_epochs\n",
    "signal = sess.eegfile.get_signal()\n",
    "buffer_add = 0.25  # seconds, None = don't add\n",
    "\n",
    "art_epochs_file = sess.filePrefix.with_suffix(\".art_epochs.npy\")\n",
    "if art_epochs_file.exists():\n",
    "    art_epochs = Epoch(epochs=None, file=art_epochs_file)\n",
    "    print('Existing artifact epochs file loaded')\n",
    "else:\n",
    "    # art_epochs = detect_artifact_epochs(signal, thresh=8, \n",
    "    #                                 edge_cutoff=3, merge=6)\n",
    "\n",
    "    # Pick a particular channel with the code below\n",
    "    art_epochs = detect_artifact_epochs(signal.time_slice(channel_id=31), thresh=11, \n",
    "                                    edge_cutoff=3, merge=6)\n",
    "\n",
    "    if buffer_add is not None:  # Add in buffer to prevent erroneous detection of start/stop of artifact as SWRs\n",
    "        art_epochs.add_epoch_buffer(buffer_add)\n",
    "    sess.recinfo.write_epochs(epochs=art_epochs, ext='art')\n",
    "    art_epochs.save(art_epochs_file)\n",
    "\n",
    "print(f'Total artifact time = {art_epochs.durations.sum():0.1F} seconds')\n",
    "art_epochs.to_dataframe()"
   ]
  },
  {
   "cell_type": "code",
   "execution_count": null,
   "id": "7deec6a8-91d4-41ed-ac28-6a38b7acf8c8",
   "metadata": {},
   "outputs": [],
   "source": [
    "%matplotlib widget\n",
    "\n",
    "chan_plot = 28\n",
    "plot_signal_w_epochs(signal, 28, art_epochs)"
   ]
  },
  {
   "cell_type": "markdown",
   "id": "38876982",
   "metadata": {},
   "source": [
    "## Define probe group"
   ]
  },
  {
   "cell_type": "code",
   "execution_count": null,
   "id": "cb4159cb",
   "metadata": {},
   "outputs": [],
   "source": [
    "from neuropy.core import Shank, Probe, ProbeGroup\n",
    "from neuropy.plotting import plot_probe\n",
    "shank = Shank()\n",
    "shank = shank.auto_generate(columns=1, contacts_per_column=32, xpitch=0,\n",
    "                   ypitch=20, channel_id=np.arange(31, -1, -1))\n",
    "shank.set_disconnected_channels(sess.recinfo.skipped_channels)\n",
    "probe = Probe(shank)\n",
    "prbgrp = ProbeGroup()\n",
    "prbgrp.add_probe(probe)\n",
    "plot_probe(prbgrp)\n",
    "prbgrp.filename = sess.filePrefix.with_suffix(\".probegroup.npy\")\n",
    "prbgrp.save(prbgrp.filename)\n",
    "sess.prbgrp = prbgrp"
   ]
  },
  {
   "cell_type": "markdown",
   "id": "eafd977d-6a8a-4ecc-865f-194fa2aae65d",
   "metadata": {},
   "source": [
    "## Detect delta epochs"
   ]
  },
  {
   "cell_type": "code",
   "execution_count": null,
   "id": "828866c2-11d8-44fd-9661-e15c8658e13a",
   "metadata": {
    "scrolled": true
   },
   "outputs": [],
   "source": [
    "#Detect Delta\n",
    "from neuropy.analyses.oscillations import detect_hpc_delta_wave_epochs\n",
    "freq_band = (0.5, 4)\n",
    "min_dur = 0.15  \n",
    "max_dur = 0.5   \n",
    "ignore_epochs = None  \n",
    "delta_channel = 59  \n",
    "\n",
    "if delta_channel is not None:\n",
    "    signal_use = signal.time_slice(channel_id=delta_channel)\n",
    "else:\n",
    "    signal_use = signal\n",
    "delta_epochs = detect_hpc_delta_wave_epochs(\n",
    "    signal_use, freq_band=freq_band, min_dur=min_dur, max_dur=max_dur, ignore_epochs=ignore_epochs\n",
    ")"
   ]
  },
  {
   "cell_type": "markdown",
   "id": "ed8dce57-b2d3-43fc-8c07-bea19bf2771b",
   "metadata": {},
   "source": [
    "## Detect Beta epochs"
   ]
  },
  {
   "cell_type": "code",
   "execution_count": null,
   "id": "2c55ebfa-d460-421f-a4d6-d522f926f0f5",
   "metadata": {},
   "outputs": [],
   "source": [
    "#Detect Beta\n",
    "from neuropy.analyses.oscillations import detect_beta_epochs\n",
    "mindur=1\n",
    "maxdur=20\n",
    "thresh = (1, None)\n",
    "sigma = 0.125\n",
    "edge_cutoff = 0.25\n",
    "beta_channel = 59\n",
    "  \n",
    "if beta_channel is None:\n",
    "    beta_epochs, beta_power = detect_beta_epochs(signal, prbgrp, mindur=mindur, maxdur=maxdur, thresh=thresh, \n",
    "                                                    edge_cutoff=edge_cutoff, ignore_epochs=art_epochs, return_power=True)\n",
    "else:\n",
    "    signal_use = signal.time_slice(channel_id=beta_channel)\n",
    "    beta_epochs, beta_power = detect_beta_epochs(signal_use, probegroup=None, mindur=mindur, maxdur=maxdur, thresh=thresh, \n",
    "                                                    edge_cutoff=edge_cutoff, ignore_epochs=art_epochs, return_power=True)"
   ]
  },
  {
   "cell_type": "markdown",
   "id": "a5e11fab-f025-4643-b23d-f9c7e2862bdc",
   "metadata": {},
   "source": [
    "## Detect Theta epochs"
   ]
  },
  {
   "cell_type": "code",
   "execution_count": null,
   "id": "95826e80-d0b0-46d1-ad9b-87a141eb65bb",
   "metadata": {},
   "outputs": [],
   "source": [
    "from neuropy.analyses.oscillations import detect_theta_epochs\n",
    "mindur=1\n",
    "maxdur=20\n",
    "thresh = (1, None)\n",
    "sigma = 0.125\n",
    "edge_cutoff = 0.25\n",
    "theta_channel = 59\n",
    "\n",
    "# use this if you don't know theta channel\n",
    "if theta_channel is None:\n",
    "    theta_epochs, theta_power = detect_theta_epochs(signal, prbgrp, mindur=mindur, maxdur=maxdur, thresh=thresh, \n",
    "                                                    edge_cutoff=edge_cutoff, ignore_epochs=art_epochs, return_power=True)\n",
    "else:\n",
    "    signal_use = signal.time_slice(channel_id=theta_channel)\n",
    "    theta_epochs, theta_power = detect_theta_epochs(signal_use, probegroup=None, mindur=mindur, maxdur=maxdur, thresh=thresh, \n",
    "                                                    edge_cutoff=edge_cutoff, ignore_epochs=art_epochs, return_power=True)"
   ]
  },
  {
   "cell_type": "markdown",
   "id": "d2ab0bd1-8848-402a-89bb-a5696bddff3c",
   "metadata": {},
   "source": [
    "## Detect SWR Epochs"
   ]
  },
  {
   "cell_type": "code",
   "execution_count": null,
   "id": "1d19b2a9-4063-4159-a1d5-4730a7589165",
   "metadata": {
    "scrolled": true
   },
   "outputs": [],
   "source": [
    "from neuropy.analyses.oscillations import detect_ripple_epochs\n",
    "ripple_channel = 59\n",
    "thresh = (2, None)  # conservative but good\n",
    "edge_cutoff = 0.5\n",
    "ripple_epochs = detect_ripple_epochs(signal, prbgrp, thresh=thresh, ripple_channel=ripple_channel, \n",
    "                                     ignore_epochs=art_epochs)\n"
   ]
  },
  {
   "cell_type": "markdown",
   "id": "dbe4af82-0804-4394-b249-8b92f321ce90",
   "metadata": {},
   "source": [
    "## Detect gamma epochs"
   ]
  },
  {
   "cell_type": "code",
   "execution_count": null,
   "id": "fb156ddf-c633-4155-b9a9-6e59cdc838a1",
   "metadata": {},
   "outputs": [],
   "source": [
    "125/1250"
   ]
  },
  {
   "cell_type": "code",
   "execution_count": null,
   "id": "3de15ebe-d43f-4814-9d5a-b6e722c2e03e",
   "metadata": {},
   "outputs": [],
   "source": [
    "# Detect Gamma\n",
    "from neuropy.analyses.oscillations import detect_gamma_epochs\n",
    "from neuropy.analyses.oscillations import Gamma\n",
    "band=(40, 80)\n",
    "lowthresh = 1.5  \n",
    "highthresh = 3 \n",
    "minDistance = 300\n",
    "minDuration = 125\n",
    "gamma_channel = 59\n",
    "\n",
    "# Use this if you don't know the specific channel for gamma detection\n",
    "if gamma_channel is None:\n",
    "    signal_use = signal.time_slice(channel_id=gamma_channel)\n",
    "else:\n",
    "    # If a specific channel for gamma is known\n",
    "    signal_use = signal\n",
    "\n",
    "gammadetect = Gamma()\n",
    "# gammadetect.get_peak_intervals(signal.traces, lowthresh=lowthresh, highthresh=highthresh, minDistance=minDistance, minDuration=minDuration)\n",
    "peakevents, gamma_amp = Gamma().get_peak_intervals(signal_use.traces[gamma_channel, :], band=band, lowthresh=lowthresh, highthresh=highthresh, \n",
    "                                        minDistance=minDistance, minDuration=minDuration, return_amplitude=True)\n",
    "# csd=csd(self, period, refchan, band=band, window=1250)\n",
    "gamma_epochs = Epoch(pd.DataFrame({\"start\" : peakevents[:, 0]/sess.eegfile.sampling_rate, \"stop\": peakevents[:, 1]/sess.eegfile.sampling_rate,\n",
    "                   \"label\": \"\"}))\n",
    "# pd.DataFrame(dict(start=peakevents[:, 0]/sess.eegfile.sampling_rate, stop=peakevents[:, 1]/sess.eegfile.sampling_rate))"
   ]
  },
  {
   "cell_type": "code",
   "execution_count": null,
   "id": "47ad18da-fbec-4435-bbb3-c3c8a0a23fdc",
   "metadata": {
    "scrolled": true
   },
   "outputs": [],
   "source": [
    "gamma_epochs"
   ]
  },
  {
   "cell_type": "code",
   "execution_count": null,
   "id": "1f27c532-9149-43bf-aa8b-f859e7e73ab3",
   "metadata": {},
   "outputs": [],
   "source": [
    "np.arange(0, len(gamma_amp))/sess.eegfile.sampling_rate "
   ]
  },
  {
   "cell_type": "code",
   "execution_count": null,
   "id": "212aefdc-46b9-4c8d-b3dd-ba4983653483",
   "metadata": {},
   "outputs": [],
   "source": [
    "import scipy.stats as stats\n",
    "_, ax = plt.subplots(2, 1, figsize=(12, 4), sharex=True)\n",
    "plot_signal_w_epochs(signal, gamma_channel, gamma_epochs, ax=ax[0])\n",
    "ax[1].plot(np.arange(0, len(gamma_amp))/sess.eegfile.sampling_rate , stats.zscore(gamma_amp))"
   ]
  },
  {
   "cell_type": "markdown",
   "id": "5b66efe2-a9de-431a-913b-4e97f70541ea",
   "metadata": {},
   "source": [
    "## Sync via CS+ or CS- times in tone_recall or control_tone_recall or tone_habituation session"
   ]
  },
  {
   "cell_type": "code",
   "execution_count": 9,
   "id": "4a9f2ab5-d72e-44bb-b0c5-2ef925a81972",
   "metadata": {},
   "outputs": [
    {
     "data": {
      "text/html": [
       "<div>\n",
       "<style scoped>\n",
       "    .dataframe tbody tr th:only-of-type {\n",
       "        vertical-align: middle;\n",
       "    }\n",
       "\n",
       "    .dataframe tbody tr th {\n",
       "        vertical-align: top;\n",
       "    }\n",
       "\n",
       "    .dataframe thead th {\n",
       "        text-align: right;\n",
       "    }\n",
       "</style>\n",
       "<table border=\"1\" class=\"dataframe\">\n",
       "  <thead>\n",
       "    <tr style=\"text-align: right;\">\n",
       "      <th></th>\n",
       "      <th>channel_states</th>\n",
       "      <th>timestamps</th>\n",
       "      <th>datetimes</th>\n",
       "      <th>event_name</th>\n",
       "    </tr>\n",
       "  </thead>\n",
       "  <tbody>\n",
       "    <tr>\n",
       "      <th>915</th>\n",
       "      <td>2</td>\n",
       "      <td>5920254</td>\n",
       "      <td>2023-05-09 12:17:50.341800000</td>\n",
       "      <td></td>\n",
       "    </tr>\n",
       "    <tr>\n",
       "      <th>1063</th>\n",
       "      <td>-2</td>\n",
       "      <td>6217851</td>\n",
       "      <td>2023-05-09 12:18:00.261700000</td>\n",
       "      <td></td>\n",
       "    </tr>\n",
       "    <tr>\n",
       "      <th>1862</th>\n",
       "      <td>2</td>\n",
       "      <td>7831319</td>\n",
       "      <td>2023-05-09 12:18:54.043966667</td>\n",
       "      <td></td>\n",
       "    </tr>\n",
       "    <tr>\n",
       "      <th>2011</th>\n",
       "      <td>-2</td>\n",
       "      <td>8129436</td>\n",
       "      <td>2023-05-09 12:19:03.981200000</td>\n",
       "      <td></td>\n",
       "    </tr>\n",
       "    <tr>\n",
       "      <th>2870</th>\n",
       "      <td>2</td>\n",
       "      <td>9864601</td>\n",
       "      <td>2023-05-09 12:20:01.820033333</td>\n",
       "      <td></td>\n",
       "    </tr>\n",
       "  </tbody>\n",
       "</table>\n",
       "</div>"
      ],
      "text/plain": [
       "      channel_states  timestamps                     datetimes event_name\n",
       "915                2     5920254 2023-05-09 12:17:50.341800000           \n",
       "1063              -2     6217851 2023-05-09 12:18:00.261700000           \n",
       "1862               2     7831319 2023-05-09 12:18:54.043966667           \n",
       "2011              -2     8129436 2023-05-09 12:19:03.981200000           \n",
       "2870               2     9864601 2023-05-09 12:20:01.820033333           "
      ]
     },
     "execution_count": 9,
     "metadata": {},
     "output_type": "execute_result"
    },
    {
     "data": {
      "image/png": "[encoded data removed]",
      "text/plain": [
       "<Figure size 640x480 with 1 Axes>"
      ]
     },
     "metadata": {},
     "output_type": "display_data"
    }
   ],
   "source": [
    "import neuropy.io.openephysio as oeio\n",
    "\n",
    "# Import TTLs for CS from OpenEphys\n",
    "ttl_df = oeio.load_all_ttl_events(sess.basepath, sanity_check_channel=1, zero_timestamps=True)\n",
    "ttl_df[ttl_df['channel_states'].abs() == 2].head(5)"
   ]
  },
  {
   "cell_type": "code",
   "execution_count": 10,
   "id": "f8f0a1f7-2523-4ea8-b769-5ee0753932f3",
   "metadata": {},
   "outputs": [
    {
     "name": "stdout",
     "output_type": "stream",
     "text": [
      "15 CS+ events detected\n",
      "      Time (s)      Event                     Timestamp\n",
      "5    61.734383  CS1_start 2023-05-09 12:17:50.975583106\n",
      "7   125.436887  CS2_start 2023-05-09 12:18:54.678087026\n",
      "9   193.213021  CS3_start 2023-05-09 12:20:02.454221040\n",
      "11  256.929908  CS4_start 2023-05-09 12:21:06.171107560\n",
      "13  330.764161  CS5_start 2023-05-09 12:22:20.005360872\n",
      "15  394.481047  CS6_start 2023-05-09 12:23:23.722247153\n",
      "12 CS- events detected\n",
      "      Time (s)      Event                     Timestamp\n",
      "5    61.624768  CS1_start 2023-05-09 12:38:24.051703780\n",
      "7   131.415150  CS2_start 2023-05-09 12:39:33.842086404\n",
      "9   199.191781  CS3_start 2023-05-09 12:40:41.618716806\n",
      "11  262.909666  CS4_start 2023-05-09 12:41:45.336602061\n",
      "13  332.700054  CS5_start 2023-05-09 12:42:55.126990407\n",
      "15  411.639126  CS6_start 2023-05-09 12:44:14.066062062\n"
     ]
    }
   ],
   "source": [
    "import tracefc.io.traceio as traceio\n",
    "\n",
    "if \"training\" in str(sess.basepath):\n",
    "    # For tone habituation\n",
    "    csn_starts, csn_stops, csn_df = traceio.load_trace_events(sess.basepath, session_type=\"tone_habituation\", \n",
    "                                                          event_type=\"CS-\", return_df=True)\n",
    "    print(f'{csn_starts.shape[0]} CS- events detected')\n",
    "    print(csn_starts.head(6))\n",
    "    \n",
    "    # For CS+ during training\n",
    "    cs_starts, cs_stops, cs_df = traceio.load_trace_events(sess.basepath, session_type=\"training\", \n",
    "                                                          event_type=\"CS+\", return_df=True)\n",
    "    print(f'{cs_starts.shape[0]} CS+ events detected')\n",
    "    print(cs_starts.head(6))\n",
    "elif \"recall\" in str(sess.basepath):\n",
    "    # For tone recall CS+\n",
    "    cs_starts, cs_stops, cs_df = traceio.load_trace_events(sess.basepath, session_type=\"tone_recall\", \n",
    "                                                          event_type=\"CS+\", return_df=True)\n",
    "    print(f'{cs_starts.shape[0]} CS+ events detected')\n",
    "    print(cs_starts.head(6))\n",
    "    \n",
    "    # For control tone recall CS-\n",
    "    csn_starts, csn_stops, csn_df = traceio.load_trace_events(sess.basepath, session_type=\"control_tone_recall\", \n",
    "                                                          event_type=\"CS-\", return_df=True)\n",
    "    print(f'{csn_starts.shape[0]} CS- events detected')\n",
    "    print(csn_starts.head(6))"
   ]
  },
  {
   "cell_type": "code",
   "execution_count": 11,
   "id": "3841a100-2ae6-4ba2-bfed-7137db2c32ef",
   "metadata": {},
   "outputs": [
    {
     "name": "stdout",
     "output_type": "stream",
     "text": [
      "start time = 2023-05-09 12:14:33-04:00\n",
      "start time = 2023-05-09 12:35:50-04:00\n",
      "start time = 2023-05-09 12:57:20-04:00\n"
     ]
    },
    {
     "data": {
      "text/html": [
       "<div>\n",
       "<style scoped>\n",
       "    .dataframe tbody tr th:only-of-type {\n",
       "        vertical-align: middle;\n",
       "    }\n",
       "\n",
       "    .dataframe tbody tr th {\n",
       "        vertical-align: top;\n",
       "    }\n",
       "\n",
       "    .dataframe thead th {\n",
       "        text-align: right;\n",
       "    }\n",
       "</style>\n",
       "<table border=\"1\" class=\"dataframe\">\n",
       "  <thead>\n",
       "    <tr style=\"text-align: right;\">\n",
       "      <th></th>\n",
       "      <th>Recording</th>\n",
       "      <th>Datetime</th>\n",
       "      <th>Condition</th>\n",
       "      <th>nframe_dat</th>\n",
       "      <th>dat_time</th>\n",
       "      <th>nframe_eeg</th>\n",
       "      <th>eeg_time</th>\n",
       "    </tr>\n",
       "  </thead>\n",
       "  <tbody>\n",
       "    <tr>\n",
       "      <th>0</th>\n",
       "      <td>0</td>\n",
       "      <td>2023-05-09 12:14:33-04:00</td>\n",
       "      <td>start</td>\n",
       "      <td>0</td>\n",
       "      <td>0.000000</td>\n",
       "      <td>0</td>\n",
       "      <td>0.0000</td>\n",
       "    </tr>\n",
       "    <tr>\n",
       "      <th>1</th>\n",
       "      <td>0</td>\n",
       "      <td>2023-05-09 12:35:26.794100-04:00</td>\n",
       "      <td>stop</td>\n",
       "      <td>37613823</td>\n",
       "      <td>1253.794100</td>\n",
       "      <td>1567242</td>\n",
       "      <td>1253.7936</td>\n",
       "    </tr>\n",
       "    <tr>\n",
       "      <th>2</th>\n",
       "      <td>1</td>\n",
       "      <td>2023-05-09 12:35:50-04:00</td>\n",
       "      <td>start</td>\n",
       "      <td>37613824</td>\n",
       "      <td>1253.794133</td>\n",
       "      <td>1567243</td>\n",
       "      <td>1253.7944</td>\n",
       "    </tr>\n",
       "    <tr>\n",
       "      <th>3</th>\n",
       "      <td>1</td>\n",
       "      <td>2023-05-09 12:57:05.383433333-04:00</td>\n",
       "      <td>stop</td>\n",
       "      <td>75875327</td>\n",
       "      <td>2529.177567</td>\n",
       "      <td>3161471</td>\n",
       "      <td>2529.1768</td>\n",
       "    </tr>\n",
       "    <tr>\n",
       "      <th>4</th>\n",
       "      <td>2</td>\n",
       "      <td>2023-05-09 12:57:20-04:00</td>\n",
       "      <td>start</td>\n",
       "      <td>75875328</td>\n",
       "      <td>2529.177600</td>\n",
       "      <td>3161472</td>\n",
       "      <td>2529.1776</td>\n",
       "    </tr>\n",
       "    <tr>\n",
       "      <th>5</th>\n",
       "      <td>2</td>\n",
       "      <td>2023-05-09 13:15:09.764233333-04:00</td>\n",
       "      <td>stop</td>\n",
       "      <td>107968255</td>\n",
       "      <td>3598.941833</td>\n",
       "      <td>4498677</td>\n",
       "      <td>3598.9416</td>\n",
       "    </tr>\n",
       "  </tbody>\n",
       "</table>\n",
       "</div>"
      ],
      "text/plain": [
       "   Recording                            Datetime Condition  nframe_dat  \\\n",
       "0          0           2023-05-09 12:14:33-04:00     start           0   \n",
       "1          0    2023-05-09 12:35:26.794100-04:00      stop    37613823   \n",
       "2          1           2023-05-09 12:35:50-04:00     start    37613824   \n",
       "3          1 2023-05-09 12:57:05.383433333-04:00      stop    75875327   \n",
       "4          2           2023-05-09 12:57:20-04:00     start    75875328   \n",
       "5          2 2023-05-09 13:15:09.764233333-04:00      stop   107968255   \n",
       "\n",
       "      dat_time  nframe_eeg   eeg_time  \n",
       "0     0.000000           0     0.0000  \n",
       "1  1253.794100     1567242  1253.7936  \n",
       "2  1253.794133     1567243  1253.7944  \n",
       "3  2529.177567     3161471  2529.1768  \n",
       "4  2529.177600     3161472  2529.1776  \n",
       "5  3598.941833     4498677  3598.9416  "
      ]
     },
     "execution_count": 11,
     "metadata": {},
     "output_type": "execute_result"
    }
   ],
   "source": [
    "sync_df = oeio.create_sync_df(sess.basepath)\n",
    "sync_df"
   ]
  },
  {
   "cell_type": "code",
   "execution_count": null,
   "id": "94082861-1e8c-4ed6-ae78-341a9f62a189",
   "metadata": {
    "scrolled": true
   },
   "outputs": [],
   "source": [
    "# Grab CS times corresponding to OE timestamps\n",
    "ttl_lag_use = pd.Timedelta(0.8, unit=\"seconds\")\n",
    "cs_oe_start_df = traceio.trace_ttl_to_openephys(cs_starts, \n",
    "                                  ttl_df[ttl_df['channel_states'].abs() == 2], \n",
    "                                  ttl_lag=ttl_lag_use)\n",
    "cs_oe_stop_df = traceio.trace_ttl_to_openephys(cs_stops, \n",
    "                                  ttl_df[ttl_df['channel_states'].abs() == 2], \n",
    "                                  ttl_lag=ttl_lag_use)\n",
    "# Convert to times in combined eeg file\n",
    "cs_starts_combined = oeio.recording_events_to_combined_time(cs_oe_start_df, sync_df)\n",
    "cs_stops_combined = oeio.recording_events_to_combined_time(cs_oe_stop_df, sync_df)\n",
    "\n",
    "csn_oe_start_df = traceio.trace_ttl_to_openephys(csn_starts, \n",
    "                                  ttl_df[ttl_df['channel_states'].abs() == 2], \n",
    "                                  ttl_lag=ttl_lag_use*2)\n",
    "csn_oe_stop_df = traceio.trace_ttl_to_openephys(csn_stops, \n",
    "                                  ttl_df[ttl_df['channel_states'].abs() == 2], \n",
    "                                  ttl_lag=ttl_lag_use*2)\n",
    "\n",
    "# Convert to times in combined eeg file\n",
    "csn_starts_combined = oeio.recording_events_to_combined_time(csn_oe_start_df, sync_df)\n",
    "csn_stops_combined = oeio.recording_events_to_combined_time(csn_oe_stop_df, sync_df)"
   ]
  },
  {
   "cell_type": "code",
   "execution_count": null,
   "id": "bd86dbd3-9a69-499f-9d48-f3896fde48ed",
   "metadata": {},
   "outputs": [],
   "source": [
    "cs_starts"
   ]
  },
  {
   "cell_type": "code",
   "execution_count": null,
   "id": "687f1852-d0cd-4797-95c2-43e991042f5f",
   "metadata": {},
   "outputs": [],
   "source": [
    "cs_oe_start_df"
   ]
  },
  {
   "cell_type": "markdown",
   "id": "fccc80da-4248-41e6-b969-61d0f24cf023",
   "metadata": {},
   "source": [
    "### How to write CS+ to neuroscope event file"
   ]
  },
  {
   "cell_type": "code",
   "execution_count": null,
   "id": "7ac224bc-902f-48ac-a232-e2698eb00ab5",
   "metadata": {},
   "outputs": [],
   "source": [
    "cs_tone_recall_epochs = Epoch({\"start\": cs_starts_combined, \"stop\": cs_stops_combined, \"label\": [\"CS+\"]*len(cs_starts_combined)})\n",
    "cs_tone_recall_epochs\n",
    "sess.recinfo.write_epochs(cs_tone_recall_epochs, \"cs+\")"
   ]
  },
  {
   "cell_type": "code",
   "execution_count": null,
   "id": "9c14374e-73a5-47ba-a816-eb9c7366a9ca",
   "metadata": {
    "scrolled": true
   },
   "outputs": [],
   "source": [
    "cs_tone_recall_epochs"
   ]
  },
  {
   "cell_type": "code",
   "execution_count": null,
   "id": "28f53e12-66c4-42b8-a599-e6c5c7623e0b",
   "metadata": {},
   "outputs": [],
   "source": [
    "sess_use"
   ]
  },
  {
   "cell_type": "code",
   "execution_count": null,
   "id": "4cf0503b-6762-4714-b431-fe4d784a4fa9",
   "metadata": {},
   "outputs": [],
   "source": [
    "from tracefc.io.traceio import grab_usv_folder\n",
    "csp_wav = grab_usv_folder(sess.basepath, 'csp')\n",
    "print(csp_wav)\n",
    "# Get CS+ times and plot to check\n",
    "cs_wav_epochs = detect_tone(csp_wav, freq_lims=(6900, 7100), thresh=0.05, tone_length=10, tone_label=\"CS+\", plot_check=True)\n",
    "# Check that lags are consistent\n",
    "if (animal == 'Django') & (sess_name == 'training'):\n",
    "    cs_starts_combined = cs_starts_combined[:5]\n",
    "    cs_stops_combined = cs_stops_combined[:5]\n",
    "cs_start_lags = cs_starts_combined - cs_wav_epochs.starts\n",
    "print(f\"Mean start lag time of {np.mean(cs_start_lags):0.3F} sec with std = {np.std(cs_start_lags):0.3F} sec. Add lags from wavfile times to get ephys times\")\n",
    "cs_stop_lags = cs_stops_combined - cs_wav_epochs.stops\n",
    "print(f\"Mean stop lag time of {np.mean(cs_stop_lags):0.3F} sec with std = {np.std(cs_stop_lags):0.3F} sec.\")"
   ]
  },
  {
   "cell_type": "markdown",
   "id": "87ad9355-bc11-4f09-b553-150e3ed6c9d8",
   "metadata": {},
   "source": [
    "Ditto for CS-"
   ]
  },
  {
   "cell_type": "code",
   "execution_count": null,
   "id": "729880d3-84a5-4e6a-b353-fe48366c7379",
   "metadata": {},
   "outputs": [],
   "source": [
    "# Detect CS- in audio recording.\n",
    "csn_wav = grab_usv_folder(sess.basepath, \"csn\")\n",
    "print(csn_wav)\n",
    "\n",
    "# Get CS+ times and plot to check\n",
    "csn_wav_epochs, csn_wav_stop = detect_tone(csn_wav, freq_lims=(900, 1100), thresh=-0.1, tone_length=10, tone_label=\"CS-\", \n",
    "                                           plot_check=True, return_stop=True)\n",
    "\n",
    "# Check that lags are consistent\n",
    "csn_start_lags = csn_starts_combined - csn_wav_epochs.starts\n",
    "print(f\"Mean start lag time of {np.mean(csn_start_lags):0.3F} sec with std = {np.std(csn_start_lags):0.3F} sec. Add lags from wavfile times to get ephys times\")\n",
    "csn_stop_lags = csn_stops_combined - csn_wav_epochs.stops\n",
    "print(f\"Mean stop lag time of {np.mean(csn_stop_lags):0.3F} sec with std = {np.std(csn_stop_lags):0.3F} sec.\")"
   ]
  },
  {
   "cell_type": "markdown",
   "id": "b340847c-6e8f-4ffa-9d40-0402c9caac55",
   "metadata": {},
   "source": [
    "Now try to sync to start tone "
   ]
  },
  {
   "cell_type": "code",
   "execution_count": null,
   "id": "b01fde53-e501-463b-9edf-10f6d6000490",
   "metadata": {},
   "outputs": [],
   "source": [
    "ctx_recall_wav = sorted((sess.basepath / \"3_post\").glob(\"**/*.wav\"))[0]\n",
    "print(ctx_recall_wav)\n",
    "\n",
    "# Get CS+ times and plot to check\n",
    "start_wav_epochs = detect_tone(ctx_recall_wav, freq_lims=(450, 550), thresh=10, tone_length=0.5, tone_label=\"start_tone\", plot_check=True)"
   ]
  },
  {
   "cell_type": "markdown",
   "id": "e4b8c6d5-b251-4174-835c-66c67590f688",
   "metadata": {},
   "source": [
    "## Sync recorded USV times to ephys file"
   ]
  },
  {
   "cell_type": "code",
   "execution_count": null,
   "id": "ba9d69cc-bd25-4a5c-b697-7b980699d6e8",
   "metadata": {},
   "outputs": [],
   "source": [
    "# Read in USV times from tone recall session\n",
    "from neuropy.io.usvio import DeepSqueakIO\n",
    "csp_wav = Path(csp_wav)\n",
    "usv_detect_file = sorted(csp_wav.parent.glob(f\"**/{csp_wav.name[:-4]}*_cell.mat\"))[0]\n",
    "\n",
    "ds_calls = DeepSqueakIO(filename=usv_detect_file)\n",
    "ds_calls.load_calls()\n",
    "ds_calls.usv_df"
   ]
  },
  {
   "cell_type": "markdown",
   "id": "f1c03ce6-62e8-4da6-b3ac-853c1afd5e67",
   "metadata": {},
   "source": [
    "Plot lags vs time to check for drift between ephys and audio recordings and correct if necessary"
   ]
  },
  {
   "cell_type": "code",
   "execution_count": null,
   "id": "537ed3d8-2f41-4bcb-b175-8e87e6cf88b6",
   "metadata": {},
   "outputs": [],
   "source": [
    "from scipy.linalg import lstsq\n",
    "\n",
    "_, ax = plt.subplots(layout='tight')\n",
    "cs_times_wav = np.stack((cs_wav_epochs.starts, cs_wav_epochs.stops), axis=1)\n",
    "cs_lags_comb = np.stack((cs_start_lags, cs_stop_lags), axis=1)\n",
    "hl = ax.plot(cs_times_wav, cs_lags_comb)\n",
    "ax.set_xlabel('WAV time (sec) #')\n",
    "ax.set_ylabel('Lag between TTL and WAV detected CS (sec)')\n",
    "ax.legend(hl, ('CS Start', 'CS Stop'))\n",
    "\n",
    "# Fit function to approximate drift\n",
    "y = cs_lags_comb.T.reshape(-1)\n",
    "M = np.stack((np.ones_like(cs_lags_comb.reshape(-1)), cs_times_wav.T.reshape(-1)), axis=1)\n",
    "p, res, rnk, s = lstsq(M, y)\n",
    "hfit = ax.plot(cs_times_wav.T.reshape(-1), p[0] + p[1]*cs_times_wav.T.reshape(-1), 'r-.')\n",
    "hl.extend(hfit)\n",
    "ax.legend(hl, ('CS start', 'CS stop', 'fit'))"
   ]
  },
  {
   "cell_type": "code",
   "execution_count": null,
   "id": "9e06e1b0-891c-4092-b855-a384143b7c1e",
   "metadata": {},
   "outputs": [],
   "source": [
    "# Sanity check code to output corrected CS times from WAV file to Neuroscope\n",
    "cs_wav_starts_aligned = cs_wav_epochs.starts + p[0] + p[1]*cs_wav_epochs.starts\n",
    "cs_wav_stops_aligned = cs_wav_epochs.stops + p[0] + p[1]*cs_wav_epochs.stops\n",
    "cs_wav_epochs_aligned = Epoch({\"start\": cs_wav_starts_aligned, \"stop\": cs_wav_stops_aligned, \n",
    "                               \"label\": [\"CS+ from WAV file\"]*len(cs_wav_stops_aligned)})\n",
    "\n",
    "\n",
    "cs_epochs_files = sess.filePrefix.with_suffix(\".cs_wav_epochs.npy\")\n",
    "cs_wav_epochs_aligned.save(cs_epochs_files)\n",
    "sess.recinfo.write_epochs(cs_wav_epochs_aligned, ext=\"wv+\")"
   ]
  },
  {
   "cell_type": "code",
   "execution_count": null,
   "id": "5d853e0a-c27f-413b-84db-c482af37d3f8",
   "metadata": {},
   "outputs": [],
   "source": [
    "cs_wav_epochs_aligned"
   ]
  },
  {
   "cell_type": "markdown",
   "id": "e73bbc0d-4af4-48ef-8473-423f63e145a0",
   "metadata": {},
   "source": [
    "Now correct that drift and find corrected lags!"
   ]
  },
  {
   "cell_type": "code",
   "execution_count": null,
   "id": "b226c00f-d6b1-46f5-b6c3-eaf53c815cc9",
   "metadata": {},
   "outputs": [],
   "source": [
    "# This should eventually be folded into the DeepSqueakIO class!\n",
    "# Bowen question: \n",
    "calls_accept_df = ds_calls.usv_df[ds_calls.usv_df['Accept'] == 1]\n",
    "call_starts_wav = calls_accept_df['Begin_Time'].values\n",
    "call_stops_wav = call_starts_wav + calls_accept_df['Duration'].values\n",
    "calls_accept_df.insert(0, \"start\", call_starts_wav + p[0] + p[1]*call_starts_wav)\n",
    "calls_accept_df.insert(1, \"stop\", call_stops_wav + p[0] + p[1]*call_stops_wav)\n",
    "calls_accept_df.insert(calls_accept_df.shape[1], \"label\", \"\")\n",
    "good_calls = Epoch(calls_accept_df)\n",
    "\n",
    "# output to neuroscope and neuropy\n",
    "sess.recinfo.write_epochs(good_calls, ext=\"usv\")\n",
    "usv_epochs_file = sess.filePrefix.with_suffix(\".usv_epochs.npy\")\n",
    "good_calls.save(usv_epochs_file)"
   ]
  },
  {
   "cell_type": "code",
   "execution_count": null,
   "id": "90661ee2-193b-4e14-9592-cbaecdee7188",
   "metadata": {},
   "outputs": [],
   "source": [
    "good_calls"
   ]
  },
  {
   "cell_type": "markdown",
   "id": "8a16ac39",
   "metadata": {},
   "source": [
    "## Save notebook to working directory"
   ]
  },
  {
   "cell_type": "code",
   "execution_count": null,
   "id": "1fdd40e5-daba-459a-bc1c-6469978bd513",
   "metadata": {},
   "outputs": [],
   "source": [
    "from neuropy.core.session import ProcessData\n",
    "\n",
    "def sess_use(basepath=os.getcwd()):\n",
    "\n",
    "    return ProcessData(basepath)"
   ]
  }
 ],
 "metadata": {
  "kernelspec": {
   "display_name": "Python 3 (ipykernel)",
   "language": "python",
   "name": "python3"
  },
  "language_info": {
   "codemirror_mode": {
    "name": "ipython",
    "version": 3
   },
   "file_extension": ".py",
   "mimetype": "text/x-python",
   "name": "python",
   "nbconvert_exporter": "python",
   "pygments_lexer": "ipython3",
   "version": "3.11.6"
  },
  "widgets": {
   "application/vnd.jupyter.widget-state+json": {
    "state": {},
    "version_major": 2,
    "version_minor": 0
   }
  }
 },
 "nbformat": 4,
 "nbformat_minor": 5
}
