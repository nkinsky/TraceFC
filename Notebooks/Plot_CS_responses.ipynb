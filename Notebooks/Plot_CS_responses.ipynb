{
 "cells": [
  {
   "cell_type": "markdown",
   "id": "2d9c4b18",
   "metadata": {},
   "source": [
    "Backbone to plot PETHs of PL neurons around the time of the CS for a single rat."
   ]
  },
  {
   "cell_type": "code",
   "execution_count": 2,
   "id": "6f165a5f",
   "metadata": {},
   "outputs": [
    {
     "name": "stdout",
     "output_type": "stream",
     "text": [
      "The autoreload extension is already loaded. To reload it, use:\n",
      "  %reload_ext autoreload\n"
     ]
    }
   ],
   "source": [
    "import numpy as np\n",
    "import pandas as pd\n",
    "import seaborn as sns\n",
    "import matplotlib.pyplot as plt\n",
    "from pathlib import Path\n",
    "import sys\n",
    "\n",
    "sys.path.append('/Users/nkinsky/Documents/UM/GitHub/TraceFC/')\n",
    "sys.path.append('/Users/nkinsky/Documents/UM/GitHub/NeuroPy/')\n",
    "%load_ext autoreload\n",
    "%autoreload 2\n",
    "\n",
    "from neuropy.plotting.ca_events import plot_pe_traces\n",
    "from neuropy.io.minianio import MinianIO\n",
    "import session_directory as sd\n",
    "from neuropy.analyses.trace_fc import load_events_from_csv"
   ]
  },
  {
   "cell_type": "markdown",
   "id": "511ba8b4",
   "metadata": {},
   "source": [
    "Set up everything for plotting"
   ]
  },
  {
   "cell_type": "code",
   "execution_count": null,
   "id": "f46f25e8",
   "metadata": {
    "scrolled": false
   },
   "outputs": [],
   "source": [
    "# Specify session to plot here\n",
    "animal = 'Finn'\n",
    "session = 'Recall1'\n",
    "\n",
    "# Get session directory \n",
    "sesh_dir = sd.get_session_dir(animal, session)\n",
    "\n",
    "# Load in ca imaging data from minian\n",
    "minian = MinianIO(basedir=sesh_dir)\n",
    "\n",
    "# Load in event data\n",
    "event_df = load_events_from_csv(sesh_dir / '1_tone_recall' / 'tone_recall01_21_2022-12_37_59.csv')\n",
    "event_starts = event_df[event_df['Event'].str.contains('CS') & event_df['Event'].str.contains('start')]['Timestamp']\n",
    "event_ends = event_df[event_df['Event'].str.contains('CS') & event_df['Event'].str.contains('end')]['Timestamp']"
   ]
  },
  {
   "cell_type": "markdown",
   "id": "4961a271",
   "metadata": {},
   "source": [
    "Now loop through and plot things"
   ]
  },
  {
   "cell_type": "code",
   "execution_count": null,
   "id": "718fa39e",
   "metadata": {
    "scrolled": true
   },
   "outputs": [],
   "source": [
    "for idc, (S, C) in enumerate(zip(minian.S, minian.C)):\n",
    "    \n",
    "    _, ax, _, _, _ = plot_pe_traces(minian.times['Timestamps'], S, event_starts, event_ends=event_ends, \n",
    "                                   raw_trace=C, end_buffer_sec=40)\n",
    "    ax[0].set_title(f'Cell #{idc}')"
   ]
  },
  {
   "cell_type": "markdown",
   "id": "e8bb72da",
   "metadata": {},
   "source": [
    "## NRK todo:  \n",
    "\n",
    "1) automate loading in events file - concatenate if there are multiple, should be easy to filter out and ignore post-hoc with pandas indexing  \n",
    "  \n",
    "2) Filter out bad neurons - use \"curated_neurons.pkl\" file to grab only good ones\n",
    "\n",
    "3) Debug RunTimeWarning above"
   ]
  },
  {
   "cell_type": "code",
   "execution_count": null,
   "id": "92fd000b",
   "metadata": {},
   "outputs": [],
   "source": []
  }
 ],
 "metadata": {
  "kernelspec": {
   "display_name": "Python 3 (ipykernel)",
   "language": "python",
   "name": "python3"
  },
  "language_info": {
   "codemirror_mode": {
    "name": "ipython",
    "version": 3
   },
   "file_extension": ".py",
   "mimetype": "text/x-python",
   "name": "python",
   "nbconvert_exporter": "python",
   "pygments_lexer": "ipython3",
   "version": "3.9.7"
  }
 },
 "nbformat": 4,
 "nbformat_minor": 5
}
