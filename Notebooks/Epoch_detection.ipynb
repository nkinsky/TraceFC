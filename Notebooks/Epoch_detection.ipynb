{
 "cells": [
  {
   "cell_type": "code",
   "execution_count": 1,
   "id": "1c62d5e2",
   "metadata": {},
   "outputs": [],
   "source": [
    "# Import all the functions you need\n",
    "%load_ext autoreload\n",
    "%autoreload 2\n",
    "\n",
    "import numpy as np\n",
    "import matplotlib.pyplot as plt\n",
    "import seaborn as sns\n",
    "import pandas as pd\n",
    "import sys\n",
    "import os\n",
    "from pathlib import Path\n",
    "\n",
    "# Comment here to add in for either mac or linux computer\n",
    "if os.environ['SHELL'] == '/bin/bash':   # for linux\n",
    "    sys.path.extend(['/data/GitHub/NeuroPy']) \n",
    "    sys.path.extend(['/data/GitHub/TraceFC/'])\n",
    "else:    # For mac laptop\n",
    "    sys.path.extend(['/Users/nkinsky/Documents/UM/GitHub/NeuroPy'])\n",
    "    sys.path.extend(['/Users/nkinsky/Documents/UM/GitHub/TraceFC'])\n",
    "\n",
    "from neuropy import core\n",
    "from neuropy.io import (optitrackio,\n",
    "                        dlcio,\n",
    "                        )\n",
    "from neuropy.io.neuroscopeio import NeuroscopeIO\n",
    "from neuropy.io.binarysignalio import BinarysignalIO \n",
    "from neuropy.io.miniscopeio import MiniscopeIO\n",
    "from neuropy.core import Epoch\n",
    "from neuropy.utils import plot_util\n",
    "from neuropy.plotting.spikes import plot_raster\n",
    "from neuropy.plotting.signals import plot_signal_w_epochs\n"
   ]
  },
  {
   "cell_type": "code",
   "execution_count": 2,
   "id": "d4a72eaf",
   "metadata": {},
   "outputs": [],
   "source": [
    "# Define a class for a typical recording or set of recordings\n",
    "class ProcessData:\n",
    "    def __init__(self, basepath):\n",
    "        basepath = Path(basepath)\n",
    "        self.basepath = basepath\n",
    "        xml_files = sorted(basepath.glob(\"*.xml\"))\n",
    "        assert len(xml_files) == 1, \"Found more than one .xml file\"\n",
    "        \n",
    "        fp = xml_files[0].with_suffix(\"\")\n",
    "        self.filePrefix = fp\n",
    "        \n",
    "        self.recinfo = NeuroscopeIO(xml_files[0])\n",
    "        eegfiles = sorted(basepath.glob('*.eeg'))\n",
    "        assert len(eegfiles) == 1, \"Fewer/more than one .eeg file detected\"\n",
    "        self.eegfile = BinarysignalIO(eegfiles[0], n_channels=self.recinfo.n_channels,\n",
    "                                     sampling_rate=self.recinfo.eeg_sampling_rate,\n",
    "                                     )\n",
    "        try:\n",
    "            self.datfile = BinarysignalIO(eegfiles[0].with_suffix('.dat'),\n",
    "                                         n_channels=self.recinfo.n_channels,\n",
    "                                         sampling_rate=self.recinfo.dat_sampling_rate,\n",
    "                                         )\n",
    "        except FileNotFoundError:\n",
    "            print('No dat file found, not loading')\n",
    "                \n",
    "        \n",
    "    def __repr__(self) -> str:\n",
    "        return f\"{self.__class__.__name__}({self.recinfo.source_file.name})\"\n",
    "    \n",
    "def sess_use(basepath=os.getcwd()):\n",
    "\n",
    "    return ProcessData(basepath)"
   ]
  },
  {
   "cell_type": "code",
   "execution_count": 3,
   "id": "258b9191",
   "metadata": {
    "scrolled": true
   },
   "outputs": [
    {
     "name": "stdout",
     "output_type": "stream",
     "text": [
      "filename: /data2/Trace_FC/Recording_Rats/Han/2022_08_03_training/Han_training.xml \n",
      "# channels: 35\n",
      "sampling rate: 30000\n",
      "lfp Srate (downsampled): 1250\n",
      "\n"
     ]
    }
   ],
   "source": [
    "sess = sess_use()\n",
    "print(sess.recinfo)"
   ]
  },
  {
   "cell_type": "code",
   "execution_count": 4,
   "id": "80fb1e0f",
   "metadata": {},
   "outputs": [
    {
     "name": "stdout",
     "output_type": "stream",
     "text": [
      "duration: 12444.12 seconds \n",
      "duration: 3.46 hours \n",
      "\n"
     ]
    }
   ],
   "source": [
    "print(sess.eegfile)"
   ]
  },
  {
   "cell_type": "markdown",
   "id": "738c2a76",
   "metadata": {},
   "source": [
    "# Preprocess Ephys data\n",
    "Identify artifacts:  \n",
    "- disconnects  \n",
    "- filtering  \n",
    "  \n",
    "Send to event files to check in Neuroscope  \n",
    "Write `dead_times.txt` file for spyking-circus and `artifacts.npy` file for my own analysis."
   ]
  },
  {
   "cell_type": "markdown",
   "id": "28508b7a",
   "metadata": {},
   "source": [
    "### Identify disconnect and motion artifacts"
   ]
  },
  {
   "cell_type": "code",
   "execution_count": 30,
   "id": "e339bfda",
   "metadata": {},
   "outputs": [
    {
     "name": "stdout",
     "output_type": "stream",
     "text": [
      "Existing artifact epochs file loaded\n"
     ]
    },
    {
     "data": {
      "text/plain": [
       "17 epochs\n",
       "Snippet: \n",
       "        start       stop label\n",
       "0   159.8936   169.9824      \n",
       "1   408.4080   417.0392      \n",
       "2   859.9032   861.1408      \n",
       "3  1131.7512  1133.0208      \n",
       "4  1388.4056  1389.6752      "
      ]
     },
     "execution_count": 30,
     "metadata": {},
     "output_type": "execute_result"
    }
   ],
   "source": [
    "from neuropy.analyses.artifact import detect_artifact_epochs\n",
    "signal = sess.eegfile.get_signal()\n",
    "buffer_add = 0.1  # seconds, None = don't add\n",
    "\n",
    "art_epochs_file = sess.filePrefix.with_suffix(\".art_epochs.npy\")\n",
    "if art_epochs_file.exists():\n",
    "    art_epochs = Epoch(epochs=None, file=art_epochs_file)\n",
    "    print('Existing artifact epochs file loaded')\n",
    "else:\n",
    "    art_epochs = detect_artifact_epochs(signal, thresh=6, \n",
    "                                    edge_cutoff=1, merge=6)\n",
    "\n",
    "    if buffer_add is not None:  # Add in buffer to prevent erroneous detection of start/stop of artifact as SWRs\n",
    "        art_epochs.add_epoch_buffer(buffer_add)\n",
    "    sess.recinfo.write_epochs(epochs=art_epochs, ext='art')\n",
    "art_epochs"
   ]
  },
  {
   "cell_type": "code",
   "execution_count": 32,
   "id": "7deec6a8-91d4-41ed-ac28-6a38b7acf8c8",
   "metadata": {},
   "outputs": [
    {
     "data": {
      "application/vnd.jupyter.widget-view+json": {
       "model_id": "cfcdcf2d5ca1499180724dd03976e826",
       "version_major": 2,
       "version_minor": 0
      },
      "image/png": "[encoded data removed]",
      "text/html": [
       "\n",
       "            <div style=\"display: inline-block;\">\n",
       "                <div class=\"jupyter-widgets widget-label\" style=\"text-align: center;\">\n",
       "                    Figure\n",
       "                </div>\n",
       "                <img src='data:image/png;base64,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' width=640.0/>\n",
       "            </div>\n",
       "        "
      ],
      "text/plain": [
       "Canvas(toolbar=Toolbar(toolitems=[('Home', 'Reset original view', 'home', 'home'), ('Back', 'Back to previous …"
      ]
     },
     "metadata": {},
     "output_type": "display_data"
    }
   ],
   "source": [
    "%matplotlib widget\n",
    "_, ax = plt.subplots()\n",
    "ax.plot(signal.time, signal.traces[10])\n",
    "\n",
    "for start, stop in zip(art_epochs.starts, art_epochs.stops):\n",
    "    ax.axvspan(start, stop, color=[0, 0.3, 0, 0.5])\n"
   ]
  },
  {
   "cell_type": "markdown",
   "id": "bed55993",
   "metadata": {},
   "source": [
    "##  Write artifacts to dead file for spyking circus"
   ]
  },
  {
   "cell_type": "code",
   "execution_count": null,
   "id": "7a628cbf",
   "metadata": {},
   "outputs": [],
   "source": [
    "from neuropy.io.spykingcircusio import SpykingCircusIO\n",
    "\n",
    "SpykingCircusIO.write_epochs(sess.basepath / 'dead_times.txt', \n",
    "                            art_epochs)"
   ]
  },
  {
   "cell_type": "code",
   "execution_count": null,
   "id": "d5d93f69",
   "metadata": {},
   "outputs": [],
   "source": [
    "# combined_epochs = epochs_test.save(sess.filePrefix.with_suffix('.art_epochs.npy'))"
   ]
  },
  {
   "cell_type": "markdown",
   "id": "38876982",
   "metadata": {},
   "source": [
    "## Define probe group"
   ]
  },
  {
   "cell_type": "code",
   "execution_count": 5,
   "id": "cb4159cb",
   "metadata": {},
   "outputs": [
    {
     "name": "stdout",
     "output_type": "stream",
     "text": [
      "/data2/Trace_FC/Recording_Rats/Han/2022_08_03_training/Han_training.probegroup.npy saved\n"
     ]
    },
    {
     "data": {
      "image/png": "[encoded data removed]",
      "text/plain": [
       "<Figure size 640x480 with 1 Axes>"
      ]
     },
     "metadata": {},
     "output_type": "display_data"
    }
   ],
   "source": [
    "from neuropy.core import Shank, Probe, ProbeGroup\n",
    "from neuropy.plotting import plot_probe\n",
    "shank = Shank()\n",
    "shank = shank.auto_generate(columns=1, contacts_per_column=32, xpitch=0,\n",
    "                   ypitch=50, channel_id=np.arange(32, 0, -1))\n",
    "shank.set_disconnected_channels([15])\n",
    "probe = Probe(shank)\n",
    "prbgrp = ProbeGroup()\n",
    "prbgrp.add_probe(probe)\n",
    "plot_probe(prbgrp)\n",
    "prbgrp.filename = sess.filePrefix.with_suffix(\".probegroup.npy\")\n",
    "prbgrp.save(prbgrp.filename)\n",
    "sess.prbgrp = prbgrp"
   ]
  },
  {
   "cell_type": "markdown",
   "id": "4fd8bad5",
   "metadata": {},
   "source": [
    "# Process spikes"
   ]
  },
  {
   "cell_type": "code",
   "execution_count": 6,
   "id": "636dada7",
   "metadata": {},
   "outputs": [
    {
     "name": "stdout",
     "output_type": "stream",
     "text": [
      "id column does not exist in cluster_info.tsv. Using cluster_id column instead.\n"
     ]
    }
   ],
   "source": [
    "from neuropy.io.phyio import PhyIO\n",
    "sess.phy = PhyIO(dirname=sorted(sess.basepath.glob(\"**/*.GUI\"))[0])"
   ]
  },
  {
   "cell_type": "code",
   "execution_count": 42,
   "id": "b7f948fa-8731-4a12-8f8c-78d7550b0364",
   "metadata": {},
   "outputs": [
    {
     "data": {
      "text/plain": [
       "0     6.0\n",
       "1     1.0\n",
       "2     1.0\n",
       "3     1.0\n",
       "4     1.0\n",
       "5     NaN\n",
       "6     1.0\n",
       "7     NaN\n",
       "8     6.0\n",
       "9     6.0\n",
       "10    6.0\n",
       "11    0.0\n",
       "12    1.0\n",
       "13    1.0\n",
       "14    1.0\n",
       "Name: q, dtype: float64"
      ]
     },
     "execution_count": 42,
     "metadata": {},
     "output_type": "execute_result"
    }
   ],
   "source": [
    "sess.neurons.neuron_type"
   ]
  },
  {
   "cell_type": "code",
   "execution_count": 8,
   "id": "e3d0a66b",
   "metadata": {},
   "outputs": [
    {
     "name": "stdout",
     "output_type": "stream",
     "text": [
      "last spike time = 12436.9841\n",
      "recording duration = 12444.116\n"
     ]
    }
   ],
   "source": [
    "print( f'last spike time = {np.max([a.max() for a in sess.phy.spiketrains])}')\n",
    "print(f'recording duration = {sess.eegfile.duration}')"
   ]
  },
  {
   "cell_type": "code",
   "execution_count": null,
   "id": "6b23199e",
   "metadata": {},
   "outputs": [],
   "source": [
    "# Sample code to select out CA1 pyramidal cells vs. overlying cortical cells.\n",
    "# pyr_bool = np.bitwise_and(sess.phy.cluster_info['depth'] >= 100, sess.phy.cluster_info['depth'] <= 450)\n",
    "# cort_bool = np.bitwise_not(pyr_bool)"
   ]
  },
  {
   "cell_type": "code",
   "execution_count": 7,
   "id": "a3f6b2c4",
   "metadata": {},
   "outputs": [],
   "source": [
    "from neuropy.core.neurons import Neurons\n",
    "sess.neurons = Neurons(sess.phy.spiketrains, t_stop=sess.eegfile.duration, sampling_rate=30000,\n",
    "                      neuron_type=sess.phy.cluster_info['q'])\n",
    "# npyr = pyr_bool.sum()\n",
    "# print('First ' + str(npyr) + ' neurons are pyramidal')\n",
    "# trains_all = np.concatenate((sess.phy.spiketrains[pyr_bool], sess.phy.spiketrains[cort_bool]))\n",
    "# sess.all_neurons = Neurons(trains_all, t_stop=sess.eegfile.duration, sampling_rate=1,\n",
    "#                       neuron_type=sess.phy.cluster_info['q'])"
   ]
  },
  {
   "cell_type": "code",
   "execution_count": 9,
   "id": "c9acd798",
   "metadata": {},
   "outputs": [
    {
     "data": {
      "text/plain": [
       "<Axes: xlabel='Time (s)', ylabel='Neurons'>"
      ]
     },
     "execution_count": 9,
     "metadata": {},
     "output_type": "execute_result"
    },
    {
     "data": {
      "image/png": "[encoded data removed]",
      "text/plain": [
       "<Figure size 640x480 with 1 Axes>"
      ]
     },
     "metadata": {},
     "output_type": "display_data"
    }
   ],
   "source": [
    "%matplotlib inline\n",
    "from neuropy.plotting.spikes import plot_raster\n",
    "plot_raster(sess.neurons)"
   ]
  },
  {
   "cell_type": "code",
   "execution_count": 10,
   "id": "7abb27aa",
   "metadata": {},
   "outputs": [
    {
     "data": {
      "text/plain": [
       "PosixPath('/data2/Trace_FC/Recording_Rats/Han/2022_08_03_training/Han_training.clu.1')"
      ]
     },
     "execution_count": 10,
     "metadata": {},
     "output_type": "execute_result"
    }
   ],
   "source": [
    "# Output to .clu and .res files for neuroscope\n",
    "sess.recinfo.write_neurons(sess.neurons)"
   ]
  },
  {
   "cell_type": "markdown",
   "id": "fcd37dd5-a653-4cfe-88ed-0aede4f4880d",
   "metadata": {},
   "source": [
    "# Detect SWRs"
   ]
  },
  {
   "cell_type": "code",
   "execution_count": 39,
   "id": "16942c24-1637-4093-94e9-b03390386655",
   "metadata": {},
   "outputs": [
    {
     "name": "stdout",
     "output_type": "stream",
     "text": [
      "Selected channels for ripples: [5]\n",
      "4167 epochs remaining with durations within (0.05,0.45)\n",
      "Selected channels for ripples: [5]\n",
      "43 epochs remaining with durations within (0.3,0.6)\n",
      "Selected channels for ripples: [5]\n",
      "4130 epochs remaining with durations within (0.05,0.3)\n"
     ]
    }
   ],
   "source": [
    "# NRK - this does not seem to be doing a good job - too few ripples!\n",
    "from neuropy.analyses.oscillations import detect_ripple_epochs\n",
    "ripple_channel = 5\n",
    "thresh = (3, None)  # conservative but good\n",
    "ripple_epochs = detect_ripple_epochs(signal, prbgrp, thresh=thresh, ripple_channel=ripple_channel, ignore_epochs=art_epochs)\n",
    "long_ripple_epochs = detect_ripple_epochs(signal, prbgrp, thresh=thresh, ripple_channel=ripple_channel, mindur=0.3, maxdur=0.6,\n",
    "                                          ignore_epochs=art_epochs)\n",
    "short_ripple_epochs = detect_ripple_epochs(signal, prbgrp, thresh=thresh, ripple_channel=ripple_channel, mindur=0.05, maxdur=0.3,\n",
    "                                           ignore_epochs=art_epochs)"
   ]
  },
  {
   "cell_type": "markdown",
   "id": "bd46786a-d8ce-4794-a0f4-835b3e83a042",
   "metadata": {},
   "source": [
    "### Write to files"
   ]
  },
  {
   "cell_type": "code",
   "execution_count": 40,
   "id": "e14b65cb-123d-4b3f-b38d-893198bb7f65",
   "metadata": {},
   "outputs": [
    {
     "name": "stdout",
     "output_type": "stream",
     "text": [
      "/data2/Trace_FC/Recording_Rats/Han/2022_08_03_training/Han_training.ripple.npy saved\n"
     ]
    }
   ],
   "source": [
    "ripple_epochs.source_file = sess.filePrefix.with_suffix(\".ripple.npy\")\n",
    "ripple_epochs.save(ripple_epochs.source_file)\n",
    "sess.recinfo.write_epochs(epochs=ripple_epochs, ext='swr')"
   ]
  },
  {
   "cell_type": "code",
   "execution_count": null,
   "id": "a86348d3-b12e-4404-8a8a-f4bb25f6be02",
   "metadata": {},
   "outputs": [],
   "source": [
    "# plot stuff!\n",
    "%matplotlib widget\n",
    "_, ax = plt.subplots()\n",
    "ax.plot(signal.time, signal.traces[5])\n",
    "\n",
    "for start, stop in zip(ripple_epochs.starts, ripple_epochs.stops):\n",
    "    ax.axvspan(start, stop, color=[0, 0.3, 0, 0.5])\n"
   ]
  },
  {
   "cell_type": "code",
   "execution_count": null,
   "id": "3bd8372d-1811-4467-a134-f88485fa1046",
   "metadata": {},
   "outputs": [],
   "source": [
    "type(ripple_epochs)"
   ]
  },
  {
   "cell_type": "code",
   "execution_count": null,
   "id": "29afb04e-0e5f-4d27-8a76-5a0efef0d51c",
   "metadata": {},
   "outputs": [],
   "source": [
    "# Output potential ripple epochs to neuroscope\n",
    "sess.recinfo.write_epochs(ripple_epochs, ext=\"swr\")"
   ]
  },
  {
   "cell_type": "markdown",
   "id": "c062c3f7-6171-4dd1-8aed-614080ade82a",
   "metadata": {},
   "source": [
    "# Detect Sharp Waves "
   ]
  },
  {
   "cell_type": "code",
   "execution_count": null,
   "id": "02e5902b-8869-4d6c-9071-e6402a9ab236",
   "metadata": {},
   "outputs": [],
   "source": [
    "# Similar flow to SWR detection but using a different function in neuropy.analyses.oscillation"
   ]
  },
  {
   "cell_type": "code",
   "execution_count": null,
   "id": "5f8f0c6e-2741-4e83-b2e3-05a940e3bb20",
   "metadata": {},
   "outputs": [],
   "source": [
    "from neuropy.analyses.oscillations import detect_sharpwave_epochs\n",
    "swave_channel=11\n",
    "sharpwave_epochs = detect_sharpwave_epochs(signal, prbgrp, sharpwave_channel=swave_channel, ignore_epochs=art_epochs)"
   ]
  },
  {
   "cell_type": "code",
   "execution_count": null,
   "id": "812ce805-5659-40ec-ad58-baaeec7ea521",
   "metadata": {},
   "outputs": [],
   "source": [
    "type(sharpwave_epochs)"
   ]
  },
  {
   "cell_type": "code",
   "execution_count": null,
   "id": "d889b2d0-d19e-45e5-8aab-5244e67226f5",
   "metadata": {},
   "outputs": [],
   "source": [
    "sess.recinfo.write_epochs(sharpwave_epochs, ext=\"sharpwave\")"
   ]
  },
  {
   "cell_type": "markdown",
   "id": "a5e11fab-f025-4643-b23d-f9c7e2862bdc",
   "metadata": {},
   "source": [
    "# Detect Theta epochs"
   ]
  },
  {
   "cell_type": "code",
   "execution_count": null,
   "id": "39eb85ac-511a-4908-8ab9-93850bbc1ff9",
   "metadata": {},
   "outputs": [],
   "source": [
    "signal = sess.eegfile.get_signal()"
   ]
  },
  {
   "cell_type": "code",
   "execution_count": null,
   "id": "95826e80-d0b0-46d1-ad9b-87a141eb65bb",
   "metadata": {},
   "outputs": [],
   "source": [
    "from neuropy.analyses.oscillations import detect_theta_epochs\n",
    "mindur=0.25\n",
    "maxdur=20\n",
    "thresh = (0.5, 3.5)\n",
    "sigma = 0.125\n",
    "edge_cutoff = 0.25\n",
    "theta_channel = 5\n",
    "\n",
    "# use this if you don't know theta channel\n",
    "if theta_channel is None:\n",
    "    theta_epochs, theta_power = detect_theta_epochs(signal, prbgrp, mindur=mindur, maxdur=maxdur, thresh=thresh, \n",
    "                                                    edge_cutoff=edge_cutoff, ignore_epochs=art_epochs, return_power=True)\n",
    "else:\n",
    "    signal_use = signal.time_slice(channel_id=theta_channel)\n",
    "    theta_epochs, theta_power = detect_theta_epochs(signal_use, probegroup=None, mindur=mindur, maxdur=maxdur, thresh=thresh, \n",
    "                                                    edge_cutoff=edge_cutoff, ignore_epochs=art_epochs, return_power=True)"
   ]
  },
  {
   "cell_type": "code",
   "execution_count": null,
   "id": "fa3c610b-befb-4f87-a46b-2588572e0688",
   "metadata": {},
   "outputs": [],
   "source": [
    "# # Parameter exploration\n",
    "# # These look good for Django Recall2 session.  Keep on refining.\n",
    "# from neuropy.analyses.oscillations import _detect_freq_band_epochs\n",
    "# channel_use = 55\n",
    "# ignore_epochs = art_epochs\n",
    "# mindur = 0.25\n",
    "# maxdur = 20\n",
    "# thresh = (0, 3.5)\n",
    "# freq_band = (5, 12)\n",
    "# sigma = 0.125\n",
    "# edge_cutoff = 0.25\n",
    "\n",
    "# traces = signal.time_slice(channel_id=channel_use).traces.reshape(1, -1)\n",
    "# if ignore_epochs is not None:\n",
    "#     ignore_times = ignore_epochs.as_array()\n",
    "# else:\n",
    "#     ignore_times = None\n",
    "\n",
    "# theta_epochs2, theta_power2 = _detect_freq_band_epochs(\n",
    "#     signals=traces,\n",
    "#     freq_band=freq_band,\n",
    "#     thresh=thresh,\n",
    "#     mindur=mindur,\n",
    "#     maxdur=maxdur,\n",
    "#     mergedist=0.5,\n",
    "#     fs=signal.sampling_rate,\n",
    "#     ignore_times=ignore_times,\n",
    "#     sigma=sigma,\n",
    "#     edge_cutoff=edge_cutoff,\n",
    "#     return_power=True,\n",
    "# )"
   ]
  },
  {
   "cell_type": "code",
   "execution_count": null,
   "id": "8ed7d1eb-8e9c-4f46-bba8-0c3ac4c32b4c",
   "metadata": {},
   "outputs": [],
   "source": [
    "# # Now try to get power in theta for whole session\n",
    "# import neuropy.utils.signal_process as signal_process\n",
    "# from scipy.ndimage import gaussian_filter1d\n",
    "# channel_use = 55\n",
    "# window = 10\n",
    "# overlap = 5\n",
    "# freq_band = (5, 12)\n",
    "# thresh = (0.5, 2)\n",
    "# sigma = 0.125\n",
    "\n",
    "# signal_use = signal.time_slice(channel_id=channel_use).traces\n",
    "# fs = signal.sampling_rate\n",
    "\n",
    "# lf, hf = freq_band\n",
    "# dt = 1 / fs\n",
    "# smooth = lambda x: gaussian_filter1d(x, sigma=sigma / dt, axis=-1)\n",
    "# lowthresh, highthresh = thresh\n",
    "\n",
    "# # Because here one shank is selected per shank, based on visualization:\n",
    "# # mean: very conservative in cases where some shanks may not have that strong ripple\n",
    "# # max: works well but may have ocassional false positives\n",
    "# power = np.zeros(signal_use.shape[1])\n",
    "# for sig in signal_use:\n",
    "#     yf = signal_process.filter_sig.bandpass(sig, lf=lf, hf=hf, fs=fs)\n",
    "#     # zsc_chan = smooth(stats.zscore(np.abs(signal_process.hilbertfast(yf))))\n",
    "#     # zscsignal[sig_i] = zsc_chan\n",
    "#     power += np.abs(signal_process.hilbertfast(yf))\n",
    "\n",
    "# # mean and smooth\n",
    "# power = smooth(power / signal_use.shape[0])"
   ]
  },
  {
   "cell_type": "code",
   "execution_count": null,
   "id": "f45a323a-5a84-4043-a11e-798276fcc366",
   "metadata": {},
   "outputs": [],
   "source": [
    "# Now plot these epochs for sanity checks\n",
    "%matplotlib widget\n",
    "_, ax = plt.subplots(2, 1, figsize=(12, 6), sharex=True)\n",
    "plot_signal_w_epochs(signal, theta_channel, theta_epochs, ax=ax[0])\n",
    "ax[0].set_title('Raw Signal with theta epochs')\n",
    "theta_power_sig = signal.time_slice(channel_id=theta_channel)\n",
    "theta_power_sig.traces = theta_power[None, :]\n",
    "# theta_power_sig.traces = stats.zscore(power)[None, :]\n",
    "plot_signal_w_epochs(theta_power_sig, 0, theta_epochs, ax=ax[1])\n",
    "ax[1].set_title('Theta power signal with theta epochs')\n",
    "ax[1].axhline(thresh[0], color='r', linestyle='--')\n",
    "ax[1].axhline(thresh[1], color='r', linestyle='--')"
   ]
  },
  {
   "cell_type": "code",
   "execution_count": null,
   "id": "4534dfdc-22a3-478f-92f1-fe12c8b3502e",
   "metadata": {},
   "outputs": [],
   "source": [
    "# Note that this is WAAAY faster than using a boolean to calculate times within the buffer.\n",
    "buffer = 1\n",
    "peri_start_power_beta = []\n",
    "peri_stop_power_beta = []\n",
    "sr = sess.eegfile.sampling_rate\n",
    "for start, stop in zip(theta_epochs.starts, theta_epochs.stops):\n",
    "    start_inds = (int(np.max(((start - buffer)*sr, 0))), int(np.min(((start + buffer)*sr, sess.eegfile.n_frames))))\n",
    "    stop_inds = (int(np.max(((stop - buffer)*sr, 0))), int(np.min(((stop + buffer)*sr, sess.eegfile.n_frames))))\n",
    "    peri_start_power_beta.append(theta_power[start_inds[0]:start_inds[1]])\n",
    "    peri_stop_power_beta.append(theta_power[stop_inds[0]:stop_inds[1]])"
   ]
  },
  {
   "cell_type": "code",
   "execution_count": null,
   "id": "86c9a107-1f33-4fd4-830f-26be797af771",
   "metadata": {},
   "outputs": [],
   "source": [
    "buffer = 1\n",
    "peri_start_power2 = [start_power if len(start_power) == int(buffer*2*1250) else np.nan*np.ones(int(buffer*2*1250)) for start_power in peri_start_power_beta]\n",
    "peri_start_power2 = np.array(peri_start_power2)\n",
    "peri_start_power2 = peri_start_power2[~np.isnan(peri_start_power2).all(axis=1)]\n",
    "peri_stop_power2 = [stop_power if len(stop_power) == int(buffer*2*1250) else np.nan*np.ones(int(buffer*2*1250)) for stop_power in peri_stop_power_beta]\n",
    "peri_stop_power2 = np.array(peri_stop_power2)\n",
    "peri_stop_power2 = peri_stop_power2[~np.isnan(peri_stop_power2).all(axis=1)]"
   ]
  },
  {
   "cell_type": "code",
   "execution_count": null,
   "id": "3635c714-19ed-4a4c-a231-47febbbf92ef",
   "metadata": {},
   "outputs": [],
   "source": [
    "# Sanity checks on theta power detection - looks great!\n",
    "_, ax = plt.subplots(1, 3, figsize=(8, 3), layout='tight')\n",
    "times = np.linspace(-buffer, buffer, int(signal.sampling_rate*2*buffer))\n",
    "\n",
    "# Starts\n",
    "sns.heatmap(peri_start_power2, ax=ax[0], cbar_kws={'label': 'Theta power (z)'}, yticklabels=(len(peri_start_power2)-1),\n",
    "            xticklabels=(int(len(times)/2))-1)\n",
    "ax[0].set_xlabel('Time from theta start (s)')\n",
    "ax[0].set_xticklabels([-buffer, 0, buffer])\n",
    "ax[0].set_ylabel('Theta epoch #')\n",
    "# ax[0].\n",
    "\n",
    "# Stops\n",
    "sns.heatmap(peri_stop_power2, ax=ax[1], cbar_kws={'label': 'Theta power (z)'}, yticklabels=(len(peri_stop_power2)-1),\n",
    "            xticklabels=(int(len(times)/2))-1)\n",
    "ax[1].set_xlabel('Time from theta stop (s)')\n",
    "ax[1].set_xticklabels([-buffer, 0, buffer])\n",
    "ax[1].set_ylabel('Theta epoch #')\n",
    "\n",
    "# Means\n",
    "hstart = ax[2].plot(times, peri_start_power2.mean(axis=0), 'k-')\n",
    "hstop = ax[2].plot(times, peri_stop_power2.mean(axis=0), 'g--')\n",
    "ax[2].legend((hstart, hstop), ('Start', 'Stop'))\n",
    "ax[2].set_title('Mean theta power')\n",
    "ax[2].set_xlabel('Time from epoch start/stop (s)')\n",
    "ax[2].set_ylabel('Theta power (z)')"
   ]
  },
  {
   "cell_type": "markdown",
   "id": "76f196cd-3206-4f30-945c-63428ee69f61",
   "metadata": {},
   "source": [
    "Ok, seems like things are working well - nice peak in theta after onset and before offset,"
   ]
  },
  {
   "cell_type": "code",
   "execution_count": null,
   "id": "d9a0553e-dae0-481c-b898-c1b8626379f5",
   "metadata": {},
   "outputs": [],
   "source": [
    "_, ax = plt.subplots()\n",
    "\n",
    "sns.histplot(theta_epochs.durations, bins=100, stat='probability', cumulative=False, ax=ax)\n",
    "ax.set_title('Theta epochs')\n",
    "ax.set_xlabel('Theta epoch length (s)')"
   ]
  },
  {
   "cell_type": "markdown",
   "id": "d1f08bfb-a4fc-45ca-85b9-e1e894f848c7",
   "metadata": {},
   "source": [
    "# Import CS timestamps"
   ]
  },
  {
   "cell_type": "code",
   "execution_count": null,
   "id": "162b6b3d-f200-4388-b17f-0ab764bee60f",
   "metadata": {},
   "outputs": [],
   "source": [
    "import neuropy.io.openephysio as oeio\n",
    "\n",
    "# Import TTLs for CS from OpenEphys\n",
    "ttl_df = oeio.load_all_ttl_events(sess.basepath, zero_timestamps=True)\n",
    "ttl_df[ttl_df['channel_states'] == 2].head(5)"
   ]
  },
  {
   "cell_type": "code",
   "execution_count": null,
   "id": "25cf5438-64b9-4986-9e3a-74c291c76a65",
   "metadata": {},
   "outputs": [],
   "source": [
    "# Sanity check - plot should be monotonically increasing if all timestamps were read in properly!\n",
    "im_ts = ttl_df[ttl_df['channel_states'].abs() == 1]\n",
    "ttt = (im_ts['datetimes'] - im_ts['datetimes'].iloc[0]).values\n",
    "_, ax = plt.subplots()\n",
    "ax.plot(ttt)"
   ]
  },
  {
   "cell_type": "code",
   "execution_count": null,
   "id": "40ed4639-7e95-420f-8f6d-1721c59dc8e9",
   "metadata": {},
   "outputs": [],
   "source": [
    "import tracefc.io.traceio as traceio\n",
    "cs_starts, cs_ends, cs_df = traceio.load_trace_events(sess.basepath, session_type=\"training\", event_type=\"CS+\",\n",
    "                                                      return_df=True)\n",
    "print(f'{cs_starts.shape[0]} CS events detected')\n",
    "cs_starts.head(6)"
   ]
  },
  {
   "cell_type": "code",
   "execution_count": null,
   "id": "21b81dfe-6486-49af-a162-7fc2d997fc0e",
   "metadata": {},
   "outputs": [],
   "source": [
    "ttl_df[ttl_df['channel_states'] == 2]['datetimes'].iloc[5:12]"
   ]
  },
  {
   "cell_type": "code",
   "execution_count": null,
   "id": "1240f191-21a5-4248-a2ae-7be0b87de164",
   "metadata": {},
   "outputs": [],
   "source": [
    "# Need to figure out a way to filter out/collect only the proper time stamps assuming things have a \n",
    "# +/- 1 second start difference in the CSV vs OpenEphys\n",
    "\n",
    "# Make below a function 'calc_cs_lag' in traceio module.\n",
    "start_diff = (ttl_df[ttl_df['channel_states'] == 2]['datetimes'].iloc[5:12] - cs_starts['Timestamp'].values)\n",
    "start_diff_mean = pd.Timedelta(np.abs(start_diff.dt.total_seconds().mean()), unit='seconds')\n",
    "start_diff_mean\n",
    "print(start_diff)"
   ]
  },
  {
   "cell_type": "code",
   "execution_count": null,
   "id": "daee18ec-1210-4296-9ad1-ef0460249b89",
   "metadata": {},
   "outputs": [],
   "source": [
    "ttl_lag_use = pd.Timedelta(0.8, unit='seconds')\n",
    "ttl_lag_use"
   ]
  },
  {
   "cell_type": "code",
   "execution_count": null,
   "id": "b937879b-1d20-47b3-ab0c-e074153f07eb",
   "metadata": {},
   "outputs": [],
   "source": [
    "def trace_ttl_to_openephys(trace_cs_df: pd.DataFrame, oe_ttls_df: pd.DataFrame, ttl_lag=pd.Timedelta(0.33, unit='seconds'), \n",
    "                           trace_ts_key='Timestamp', oe_ts_key='datetimes'):\n",
    "    \"\"\"Finds TTLs in OpenEphys that correspond to CS timestamps recorded from python in a CSV file, assuming a consistent\n",
    "    time lag from CS start to delivery in OpenEphys\n",
    "    ttl_lag: amount of time OE LAGS the csv in tracefc csv. Enter a negative number if lag is positive for some reason.\"\"\"\n",
    "\n",
    "    cs_bool = np.zeros(len(oe_ttls_df[oe_ts_key]), dtype=bool)\n",
    "    event_ind = []\n",
    "    for ide, event in enumerate(trace_cs_df[trace_ts_key]):\n",
    "        cs_bool = cs_bool | ((oe_ttls_df[oe_ts_key] > (event - ttl_lag)) & (oe_ttls_df[oe_ts_key] < (event + ttl_lag)))\n",
    "        if sum(((oe_ttls_df[oe_ts_key] > (event - ttl_lag)) & (oe_ttls_df[oe_ts_key] < (event + ttl_lag)))) == 1:\n",
    "            event_ind.append(ide)\n",
    "\n",
    "    trace_cs_sync_df = oe_ttls_df[cs_bool]\n",
    "    \n",
    "    # Calculate start time difference mean and std to make sure you are getting a consistent lag\n",
    "    # print(f'cs_bool sum = {cs_bool.sum()}, event_ind={event_ind}')  # For debugging\n",
    "    start_diff = (trace_cs_sync_df[oe_ts_key] - trace_cs_df[trace_ts_key].iloc[event_ind].values).dt.total_seconds()\n",
    "    \n",
    "    print(f'start time lag: mean = {start_diff.mean()}, std = {start_diff.std()}')\n",
    "    return trace_cs_sync_df \n",
    "    # Need to add a sanity check to make sure you aren't grabbing crazy different times! - maybe spit out average lag time between files?"
   ]
  },
  {
   "cell_type": "code",
   "execution_count": null,
   "id": "729dc39f-9131-4f78-aa2f-e6dac88fd831",
   "metadata": {},
   "outputs": [],
   "source": [
    "def recording_events_to_combined_time(event_df_use: pd.DataFrame, sync_df_use: pd.DataFrame, time_out='eeg_time',\n",
    "                                      sync_ts_key: str='Datetime', event_ts_key: str='datetimes'):\n",
    "\n",
    "    # Calc and check that each cs occurs in the same recording.\n",
    "    nrec_start = [sync_df['Recording'][np.max(np.nonzero(start > sync_df_use[sync_ts_key]))] for start in event_df_use[event_ts_key]]\n",
    "    nrec_stop = [sync_df['Recording'][np.min(np.nonzero(start < sync_df_use[sync_ts_key]))] for start in event_df_use[event_ts_key]]\n",
    "    \n",
    "    # Loop through each recording and calculate CS time in combined dat/eeg file\n",
    "    if nrec_start == nrec_stop:\n",
    "        event_time_comb = []\n",
    "        for nrec, event_time in zip(nrec_start, event_df_use[event_ts_key]):\n",
    "            # Get correct start time of recording in the desired output time (eeg/dat) and timestamp\n",
    "            rec_start_time = sync_df_use[(sync_df_use['Recording'] == nrec) & (sync_df_use['Condition'] == 'start')][time_out].values[0]\n",
    "            rec_start_timestamp = sync_df_use[(sync_df_use['Recording'] == nrec) & (sync_df_use['Condition'] == 'start')][sync_ts_key].iloc[0]\n",
    "            event_dt = (event_time - rec_start_timestamp).total_seconds()\n",
    "            event_time_comb.append(event_dt + rec_start_time)\n",
    "    \n",
    "        event_time_comb = np.array(event_time_comb)\n",
    "    \n",
    "    else:\n",
    "        print(f'Recording start and end numbers do not all match. starts = {nrec_start}, ends = {nrec_stop}.')\n",
    "        event_time_comb = np.nan\n",
    "\n",
    "    return event_time_comb\n",
    "        \n",
    "        "
   ]
  },
  {
   "cell_type": "code",
   "execution_count": null,
   "id": "5dbb0a13-b381-425f-9715-3349b071b638",
   "metadata": {},
   "outputs": [],
   "source": [
    "from neuropy.io.openephysio import create_sync_df\n",
    "sync_df = create_sync_df(sess.basepath)\n",
    "sync_df"
   ]
  },
  {
   "cell_type": "code",
   "execution_count": null,
   "id": "d435722d-ccaa-4746-b732-98cfc3ebc407",
   "metadata": {},
   "outputs": [],
   "source": [
    "# Grab CS times corresponding to OE timestamps\n",
    "cs_oe_start_df = trace_ttl_to_openephys(cs_starts, \n",
    "                                  ttl_df[ttl_df['channel_states'].abs() == 2], \n",
    "                                  ttl_lag=ttl_lag_use)\n",
    "cs_oe_start_df['datetimes'] = cs_oe_start_df['datetimes'].dt.tz_localize(\"America/Detroit\")\n",
    "\n",
    "cs_oe_end_df = trace_ttl_to_openephys(cs_ends, \n",
    "                                  ttl_df[ttl_df['channel_states'].abs() == 2], \n",
    "                                  ttl_lag=ttl_lag_use)\n",
    "cs_oe_end_df['datetimes'] = cs_oe_end_df['datetimes'].dt.tz_localize(\"America/Detroit\")"
   ]
  },
  {
   "cell_type": "code",
   "execution_count": null,
   "id": "feb2a624-5095-467d-b47f-6073403f74fd",
   "metadata": {},
   "outputs": [],
   "source": [
    "from itertools import compress\n",
    "\n",
    "# Next, step through each row and figure out if it matches a starts/end\n",
    "cs_oe_starts = cs_oe_start_df['timestamps']/sess.recinfo.dat_sampling_rate\n",
    "cs_oe_ends = cs_oe_end_df['timestamps']/sess.recinfo.dat_sampling_rate\n",
    "\n",
    "buffer = 5\n",
    "cs_start_power = []\n",
    "cs_stop_power = []\n",
    "for start, stop in zip(cs_oe_starts, cs_oe_ends):\n",
    "    start_bool = np.bitwise_and(signal.time > (start - buffer), signal.time < (start + buffer))\n",
    "    stop_bool = np.bitwise_and(signal.time > (stop - buffer), signal.time < (stop + buffer))\n",
    "    cs_start_power.append(theta_power[start_bool])\n",
    "    cs_stop_power.append(theta_power[stop_bool])\n",
    "\n",
    "cs_start_power = np.array(list(compress(cs_start_power, [len(start) == int(buffer*2*1250) for start in cs_start_power])))\n",
    "cs_stop_power = np.array(list(compress(cs_stop_power, [len(stop) == int(buffer*2*1250) for stop in cs_stop_power])))"
   ]
  },
  {
   "cell_type": "code",
   "execution_count": null,
   "id": "bf53eef0-d124-47d5-8213-42989d55ec6f",
   "metadata": {},
   "outputs": [],
   "source": [
    "# Now plot theta power\n",
    "_, ax = plt.subplots(1, 3, figsize=(8, 3), layout='tight')\n",
    "times = np.linspace(-buffer, buffer, int(sess.eegfile.sampling_rate*2*buffer))\n",
    "\n",
    "# Starts\n",
    "sns.heatmap(cs_start_power, ax=ax[0], cbar_kws={'label': 'Theta power (z)'}, yticklabels=(len(peri_start_power2)-1),\n",
    "            xticklabels=(int(len(times)/2))-1)\n",
    "ax[0].set_xlabel('Time from CS+ start (s)')\n",
    "ax[0].set_xticklabels([-buffer, 0, buffer])\n",
    "ax[0].set_ylabel('CS+ #')\n",
    "# ax[0].\n",
    "\n",
    "# Stops\n",
    "sns.heatmap(cs_stop_power, ax=ax[1], cbar_kws={'label': 'Theta power (z)'}, yticklabels=(len(peri_stop_power2)-1),\n",
    "            xticklabels=(int(len(times)/2))-1)\n",
    "ax[1].set_xlabel('Time from CS+ stop (s)')\n",
    "ax[1].set_xticklabels([-buffer, 0, buffer])\n",
    "ax[1].set_ylabel('CS+ #')\n",
    "\n",
    "# Means\n",
    "hstart = ax[2].plot(times, cs_start_power.mean(axis=0), 'k-')\n",
    "hstop = ax[2].plot(times, cs_stop_power.mean(axis=0), 'g--')\n",
    "ax[2].legend((hstart, hstop), ('Start', 'Stop'))\n",
    "ax[2].set_title('Mean theta power')\n",
    "ax[2].set_xlabel('Time from CS+ start/stop (s)')\n",
    "ax[2].set_ylabel('Theta power (z)')"
   ]
  },
  {
   "cell_type": "code",
   "execution_count": null,
   "id": "c05cc25e-8cd8-4993-b019-bc2fc8ea7824",
   "metadata": {},
   "outputs": [],
   "source": [
    "from itertools import compress\n",
    "# NRK replace below with direct indexing and remove boolean - this is better!\n",
    "\n",
    "# Next, step through each row and figure out if it matches a starts/end\n",
    "cs_oe_starts = recording_events_to_combined_time(cs_oe_start_df, sync_df, time_out='eeg_time')\n",
    "cs_oe_ends = recording_events_to_combined_time(cs_oe_end_df, sync_df, time_out='eeg_time')\n",
    "\n",
    "start_buffer = (5, 35)\n",
    "stop_buffer = (5, 25)\n",
    "cs_start_power = []\n",
    "cs_stop_power = []\n",
    "for start, stop in zip(cs_oe_starts, cs_oe_ends):\n",
    "    start_bool = np.bitwise_and(signal.time > (start - start_buffer[0]), signal.time < (start + start_buffer[1]))\n",
    "    stop_bool = np.bitwise_and(signal.time > (stop - stop_buffer[0]), signal.time < (stop + stop_buffer[1]))\n",
    "    cs_start_power.append(theta_power[start_bool])\n",
    "    cs_stop_power.append(theta_power[stop_bool])\n",
    "\n",
    "cs_start_power = np.array(list(compress(cs_start_power, [len(start) == int(np.sum(start_buffer)*sess.eegfile.sampling_rate) for start in cs_start_power])))\n",
    "cs_stop_power = np.array(list(compress(cs_stop_power, [len(stop) == int(np.sum(stop_buffer)*sess.eegfile.sampling_rate) for stop in cs_stop_power])))"
   ]
  },
  {
   "cell_type": "markdown",
   "id": "1536f8aa-a04b-475a-968c-23898ec7dd2d",
   "metadata": {},
   "source": [
    "# NRK start here - save theta power as a binned spike train and then run binned_pe\\_raster on it!\n",
    "### Then add in smoothing functions!"
   ]
  },
  {
   "cell_type": "code",
   "execution_count": null,
   "id": "b3d2a448-63f4-47cf-8c68-4b580ad2b729",
   "metadata": {},
   "outputs": [],
   "source": [
    "# Now plot theta power\n",
    "_, ax = plt.subplots(2, 2, figsize=(8, 6), layout='tight', height_ratios=[4, 1])\n",
    "start_times = np.linspace(-start_buffer[0], start_buffer[1], int(sess.eegfile.sampling_rate*np.sum(start_buffer)))\n",
    "stop_times = np.linspace(-stop_buffer[0], stop_buffer[1], int(sess.eegfile.sampling_rate*np.sum(stop_buffer)))\n",
    "ax = ax.reshape(-1)\n",
    "\n",
    "xtick_space = 5\n",
    "# Starts\n",
    "sns.heatmap(cs_start_power, ax=ax[0], cbar_kws={'label': 'Theta power (z)'}, yticklabels=(len(peri_start_power2)-1),\n",
    "            xticklabels=(int(xtick_space*sess.eegfile.sampling_rate -1)), cbar=False)\n",
    "ax[0].set_xlabel('Time from CS+ start (s)')\n",
    "ax[0].set_xticklabels(np.arange(-start_buffer[0], start_buffer[1] + 1, xtick_space))\n",
    "ax[0].set_ylabel('CS+ #')\n",
    "# ax[0].\n",
    "\n",
    "# Stops\n",
    "sns.heatmap(cs_stop_power, ax=ax[1], cbar_kws={'label': 'Theta power (z)'}, yticklabels=(len(peri_stop_power2)-1),\n",
    "            xticklabels=(int(len(times)/2))-1)\n",
    "ax[1].set_xlabel('Time from CS+ stop (s)')\n",
    "# ax[1].set_xticklabels([-buffer, 0, buffer])\n",
    "ax[1].set_ylabel('CS+ #')\n",
    "\n",
    "# Means\n",
    "hstart = ax[2].plot(start_times, cs_start_power.mean(axis=0), 'k-')\n",
    "ax[2].axvspan(0, 10, color=[1, 0, 0, 0.5])\n",
    "ax[2].axvline(30, color='r', linestyle='--')\n",
    "ax[2].set_xlim((-start_buffer[0], start_buffer[1]))\n",
    "ax[2].set_ylim((-0.75, 1))\n",
    "hstop = ax[3].plot(stop_times, cs_stop_power.mean(axis=0), 'g--')\n",
    "for a in ax[2:]:\n",
    "    a.set_title('Mean theta power')\n",
    "    a.set_xlabel('Time from CS+ start/stop (s)')\n",
    "    a.set_ylabel('Theta power (z)')\n",
    "    "
   ]
  },
  {
   "cell_type": "code",
   "execution_count": null,
   "id": "e08804a5-7d21-4f8d-bfda-f9d075dedc79",
   "metadata": {},
   "outputs": [],
   "source": [
    "# Same for CS-\n",
    "csn_starts, csn_ends, csn_df = traceio.load_trace_events(sess.basepath, session_type=\"tone_habituation\", event_type=\"CS-\",\n",
    "                                                      return_df=True)\n"
   ]
  },
  {
   "cell_type": "code",
   "execution_count": null,
   "id": "6cccfb09-e807-4967-b39e-3fc06502a545",
   "metadata": {
    "scrolled": true
   },
   "outputs": [],
   "source": [
    "### NRK need to fix bug in code - should automatically detect time lag!\n",
    "trace_cs_df = csn_starts\n",
    "oe_ttls_df = ttl_df[ttl_df['channel_states'].abs() == 2]\n",
    "ttl_lag = pd.Timedelta(2, unit='seconds')\n",
    "trace_ts_key='Timestamp'\n",
    "oe_ts_key='datetimes'\n",
    "cs_bool = np.zeros(len(oe_ttls_df[oe_ts_key]), dtype=bool)\n",
    "event_ind = []\n",
    "for ide, event in enumerate(trace_cs_df[trace_ts_key]):\n",
    "    cs_bool = cs_bool | ((oe_ttls_df[oe_ts_key] > (event - ttl_lag)) & (oe_ttls_df[oe_ts_key] < (event + ttl_lag)))\n",
    "    if sum(((oe_ttls_df[oe_ts_key] > (event - ttl_lag)) & (oe_ttls_df[oe_ts_key] < (event + ttl_lag)))) == 1:\n",
    "        event_ind.append(ide)\n",
    "\n",
    "trace_cs_sync_df = oe_ttls_df[cs_bool]\n",
    "# Calculate start time difference mean and std to make sure you are getting a consistent lag\n",
    "start_diff = (trace_cs_sync_df[oe_ts_key] - trace_cs_df[trace_ts_key].iloc[event_ind].values).dt.total_seconds()"
   ]
  },
  {
   "cell_type": "code",
   "execution_count": null,
   "id": "5584c705-d7c3-4570-ac33-1ea75e47a434",
   "metadata": {},
   "outputs": [],
   "source": [
    "start_diff"
   ]
  },
  {
   "cell_type": "code",
   "execution_count": null,
   "id": "6d68829b-f820-40d9-a28f-bb03ec2e650d",
   "metadata": {
    "scrolled": true
   },
   "outputs": [],
   "source": [
    "# Grab CS times corresponding to OE timestamps - this does not work unless I first match up each individual recording time\n",
    "# to the combined dat file time.\n",
    "csn_oe_start_df = trace_ttl_to_openephys(csn_starts, \n",
    "                                  ttl_df[ttl_df['channel_states'].abs() == 2], \n",
    "                                  ttl_lag=pd.Timedelta(1.6, unit='seconds'))\n",
    "csn_oe_start_df['datetimes'] = csn_oe_start_df['datetimes'].dt.tz_localize(\"America/Detroit\")\n",
    "\n",
    "csn_oe_end_df = trace_ttl_to_openephys(csn_ends, \n",
    "                                  ttl_df[ttl_df['channel_states'].abs() == 2], \n",
    "                                  ttl_lag=pd.Timedelta(1.6, unit='seconds'))\n",
    "csn_oe_end_df['datetimes'] = csn_oe_end_df['datetimes'].dt.tz_localize(\"America/Detroit\")"
   ]
  },
  {
   "cell_type": "code",
   "execution_count": null,
   "id": "16123a7d-452e-46bf-9d10-8fd52fb591a8",
   "metadata": {},
   "outputs": [],
   "source": [
    "from itertools import compress\n",
    "\n",
    "# Next, step through each row and figure out if it matches a starts/end\n",
    "csn_oe_starts = recording_events_to_combined_time(csn_oe_start_df, sync_df, time_out='eeg_time')\n",
    "csn_oe_ends = recording_events_to_combined_time(csn_oe_end_df, sync_df, time_out='eeg_time')\n",
    "\n",
    "csn_start_power = []\n",
    "csn_stop_power = []\n",
    "for start, stop in zip(csn_oe_starts, csn_oe_ends):\n",
    "    start_bool = np.bitwise_and(signal.time > (start - start_buffer[0]), signal.time < (start + start_buffer[1]))\n",
    "    stop_bool = np.bitwise_and(signal.time > (stop - buffer), signal.time < (stop + buffer))\n",
    "    csn_start_power.append(theta_power[start_bool])\n",
    "    csn_stop_power.append(theta_power[stop_bool])\n",
    "\n",
    "csn_start_power = np.array(list(compress(csn_start_power, [len(start) == int(np.sum(start_buffer)*1250) for start in csn_start_power])))\n",
    "csn_stop_power = np.array(list(compress(csn_stop_power, [len(stop) == int(buffer*2*1250) for stop in csn_stop_power])))"
   ]
  },
  {
   "cell_type": "code",
   "execution_count": null,
   "id": "8abf0618-4b6e-4482-9d50-2fd7f28a19df",
   "metadata": {},
   "outputs": [],
   "source": [
    "# Now plot theta power\n",
    "_, ax3 = plt.subplots(2, 2, figsize=(8, 6), layout='tight', height_ratios=[4, 1])\n",
    "times = np.linspace(-buffer, buffer, int(sess.eegfile.sampling_rate*2*buffer))\n",
    "\n",
    "xtick_space = 5\n",
    "lag_correct = 0\n",
    "\n",
    "ax = ax3.T[0]\n",
    "# Starts\n",
    "sns.heatmap(cs_start_power, ax=ax[0], cbar_kws={'label': 'Theta power (z)'}, yticklabels=(len(peri_start_power2)-1),\n",
    "            xticklabels=(int(xtick_space*sess.eegfile.sampling_rate -1)), cbar=False)\n",
    "ax[0].set_xlabel('Time from CS+ start (s)')\n",
    "ax[0].set_xticklabels(np.arange(-start_buffer[0], start_buffer[1] + 1, xtick_space))\n",
    "ax[0].set_ylabel('CS+ #')\n",
    "\n",
    "\n",
    "# Means\n",
    "hstart = ax[1].plot(start_times + lag_correct, cs_start_power.mean(axis=0), 'k-')\n",
    "ax[1].axvspan(0, 10, color=[1, 0, 0, 0.5])\n",
    "ax[1].axvline(30, color='r', linestyle='--')\n",
    "ax[1].set_xlim((-start_buffer[0], start_buffer[1]))\n",
    "ax[1].set_ylim((-0.75, 1))\n",
    "# hstop = ax[3].plot(stop_times, cs_stop_power.mean(axis=0), 'g--')\n",
    "# for a in ax[2:]:\n",
    "#     a.set_title('Mean theta power')\n",
    "#     a.set_xlabel('Time from CS+ start/stop (s)')\n",
    "#     a.set_ylabel('Theta power (z)')\n",
    "\n",
    "\n",
    "ax = ax3.T[1]\n",
    "# Starts\n",
    "sns.heatmap(csn_start_power, ax=ax[0], cbar_kws={'label': 'Theta power (z)'}, yticklabels=(len(csn_start_power)-1),\n",
    "            xticklabels=(int(xtick_space*sess.eegfile.sampling_rate -1)), cbar=False)\n",
    "ax[0].set_xlabel('Time from CS- start (s)')\n",
    "ax[0].set_xticklabels(np.arange(-start_buffer[0], start_buffer[1] + 1, xtick_space))\n",
    "ax[0].set_ylabel('CS- #')\n",
    "# ax[0].\n",
    "\n",
    "# # Stops\n",
    "# sns.heatmap(csn_stop_power, ax=ax[1], cbar_kws={'label': 'Theta power (z)'}, yticklabels=(len(csn_stop_power)-1),\n",
    "#             xticklabels=(int(len(times)/2))-1)\n",
    "# ax[1].set_xlabel('Time from CS- stop (s)')\n",
    "# ax[1].set_xticklabels([-buffer, 0, buffer])\n",
    "# ax[1].set_ylabel('CS- #')\n",
    "\n",
    "# Means\n",
    "hstart = ax[1].plot(start_times + lag_correct, csn_start_power.mean(axis=0), 'k-')\n",
    "# hstop = ax[2].plot(times, csn_stop_power.mean(axis=0), 'g--')\n",
    "# ax[2].legend((hstart, hstop), ('Start', 'Stop'))\n",
    "ax[1].axvspan(0, 10, color=[0, 1, 0, 0.5])\n",
    "# ax[1].axvline(30, color='r', linestyle='--')\n",
    "ax[1].set_xlim((-start_buffer[0], start_buffer[1]))\n",
    "ax[1].set_title('Mean theta power')\n",
    "ax[1].set_xlabel('Time from CS- start/stop (s)')\n",
    "ax[1].set_ylabel('Theta power (z)')\n",
    "# ax[1].set_ylim((-0.75, 1))\n",
    "\n",
    "plot_util.match_axis_lims(ax3[1], 'y')"
   ]
  },
  {
   "cell_type": "code",
   "execution_count": null,
   "id": "bd465a21-bd20-4620-8a88-9822e7fa482d",
   "metadata": {},
   "outputs": [],
   "source": [
    "# Save cs start power\n",
    "np.save(sess.basepath / \"cs_start_theta_power.npy\", cs_start_power)\n",
    "np.save(sess.basepath / \"csn_start_theta_power.npy\", csn_start_power)"
   ]
  },
  {
   "cell_type": "code",
   "execution_count": null,
   "id": "5de7cb12-f82a-44e1-b4f8-6bd97137f95e",
   "metadata": {},
   "outputs": [],
   "source": [
    "_, ax = plt.subplots(3, 2, figsize=(8, 6), sharex=True, sharey=True)\n",
    "\n",
    "for a, cs_st_pow in zip(ax.reshape(-1), cs_start_power):\n",
    "    a.plot(start_times + lag_correct, cs_st_pow)\n",
    "    a.set_ylim([-1, 2.23])"
   ]
  },
  {
   "cell_type": "code",
   "execution_count": null,
   "id": "3dddf897-f730-4212-88d3-e3faf3bc06bd",
   "metadata": {},
   "outputs": [],
   "source": [
    "_, axall = plt.subplots(1,1, figsize=(5, 2))\n",
    "axall.plot(start_times + lag_correct, cs_start_power.mean(axis=0), 'k-')\n",
    "axall.plot(start_times + lag_correct, cs_start_power.T, color=[0, 0, 0, 0.3])\n",
    "axall.set_ylim([-1, 2.23])"
   ]
  },
  {
   "cell_type": "markdown",
   "id": "49ea220d-1fa1-4737-9665-3e6f66782f15",
   "metadata": {},
   "source": [
    "# Detect Population Burst Events & Plot vs. CS+/-"
   ]
  },
  {
   "cell_type": "code",
   "execution_count": 43,
   "id": "36a93d48-bd29-4528-a7f0-2d4b33b7aeee",
   "metadata": {},
   "outputs": [],
   "source": [
    "# NRK note you need to separate out DG/CA3 vs CA1 cells for pbe detection!"
   ]
  },
  {
   "cell_type": "code",
   "execution_count": 12,
   "id": "18f15b4b-88bc-44ab-83a0-bbf784cad6e7",
   "metadata": {},
   "outputs": [
    {
     "name": "stdout",
     "output_type": "stream",
     "text": [
      "2002 epochs reamining with durations within (0.1,None)\n",
      "/data2/Trace_FC/Recording_Rats/Han/2022_08_03_training/Han_training.pbe_epochs.npy saved\n"
     ]
    }
   ],
   "source": [
    "thresh = (3, None)  # conservative but good\n",
    "# 1) Detect MUA.\n",
    "\n",
    "# 1a) Load in neuron spiketrains from phy if necessary - see above!\n",
    "# from neuropy.io.phyio import PhyIO \n",
    "# \n",
    "# phy = PhyIO(dirname)\n",
    "\n",
    "# 1b) Convert spiketrains to Neurons class\n",
    "# from neuropy.core.neurons import Neurons\n",
    "\n",
    "# neurons = Neurons(phy.spiketrains, sess.eegfile.duration)\n",
    "# 1c) Convert Neurons class data to MUA class\n",
    "mua = sess.neurons.get_mua(bin_size=0.05)\n",
    "\n",
    "# 2) Run PBE detection.\n",
    "from neuropy.analyses.spkepochs import detect_pbe_epochs\n",
    "pbe_epochs = detect_pbe_epochs(mua, thresh=thresh)\n",
    "\n",
    "# 3) Export to neuroscope\n",
    "type(pbe_epochs)\n",
    "sess.recinfo.write_epochs(pbe_epochs, ext = \"pbe\")\n",
    "\n",
    "# 4) Save epochs to npy file\n",
    "pbe_epochs.save(sess.filePrefix.with_suffix('.pbe_epochs.npy'))\n"
   ]
  },
  {
   "cell_type": "code",
   "execution_count": null,
   "id": "82d46435-3eaf-4a7b-93aa-63a8403d8d48",
   "metadata": {},
   "outputs": [],
   "source": [
    "pbe_epochs"
   ]
  },
  {
   "cell_type": "code",
   "execution_count": null,
   "id": "1a8aaf83-cfff-4cf3-86de-7240185d3f7c",
   "metadata": {},
   "outputs": [],
   "source": [
    "from neuropy.plotting.spikes import plot_binned_raster\n",
    "\n",
    "smooth_win = 0.1\n",
    "mua_use = mua.get_smoothed(smooth_win)\n",
    "\n",
    "_, axmua = plt.subplots(2, 2, height_ratios=[5, 1], figsize=(10, 6))\n",
    "\n",
    "_, fr_array, pe_times = plot_binned_raster(mua_use, cs_oe_starts, event_label='CS+ start', buffer_sec=(5, 35), ax=axmua[0][0], cbar=False)\n",
    "axmua[0][0].set_title('Peri-CS+ start MUA')\n",
    "\n",
    "axmua[1][0].plot(pe_times, np.mean(fr_array, axis=0))\n",
    "axmua[1][0].axvspan(0, 10, color=[1, 0, 0, 0.3])\n",
    "axmua[1][0].axvline(30, color='r', linestyle='--')\n",
    "axmua[1][0].set_xlim((-start_buffer[0], start_buffer[1]))\n",
    "\n",
    "_, fr_array, pe_times = plot_binned_raster(mua_use, csn_oe_starts, event_label='CS+ end', buffer_sec=(5, 35), ax=axmua[0][1], cbar=False)\n",
    "axmua[0][1].set_title('Peri-CS- start MUA')\n",
    "\n",
    "axmua[1][1].plot(pe_times, np.mean(fr_array, axis=0))\n",
    "axmua[1][1].axvspan(0, 10, color=[0, 1, 0, 0.3])\n",
    "# axmua[1][0].axvline(30, color='r', linestyle='--')\n",
    "axmua[1][1].set_xlim((-start_buffer[0], start_buffer[1]))\n",
    "\n",
    "plot_util.match_axis_lims(axmua[1], 'y')"
   ]
  },
  {
   "cell_type": "code",
   "execution_count": null,
   "id": "b77d84f1-541b-47aa-bd23-377c31f01cbd",
   "metadata": {},
   "outputs": [],
   "source": [
    "%matplotlib widget\n",
    "_, ax5 = plt.subplots(2, 1, sharex=True)\n",
    "\n",
    "ax5[0].plot(mua.firing_rate)\n",
    "ax5[1].plot(mua.get_smoothed(sigma=0.1).firing_rate)"
   ]
  },
  {
   "cell_type": "markdown",
   "id": "49410a7e-bfd8-468e-8b6f-a4ebe2b83b47",
   "metadata": {},
   "source": [
    "# Plot SWR occurences vs. CS+/-"
   ]
  },
  {
   "cell_type": "code",
   "execution_count": null,
   "id": "6d20e627-18c6-4670-bdb8-43529be6fff7",
   "metadata": {},
   "outputs": [],
   "source": [
    "# Detect ripples\n",
    "from neuropy.analyses.oscillations import detect_ripple_epochs\n",
    "from neuropy.core.neurons import Neurons\n",
    "\n",
    "ripple_epochs = detect_ripple_epochs(signal, prbgrp, thresh=(0.5, None), ripple_channel= 5)\n",
    "ripple_n = Neurons([ripple_epochs.to_dataframe()['peak_time'].values], sess.eegfile.duration)\n",
    "\n",
    "\n",
    "# Save to npy file\n",
    "ripple_epochs.save(sess.filePrefix.with_suffix('.ripple_epochs.npy'))\n",
    "\n",
    "# Export to Neuroscope\n",
    "sess.recinfo.write_epochs(epochs=ripple_epochs, ext='swr')"
   ]
  },
  {
   "cell_type": "code",
   "execution_count": null,
   "id": "7fa6f634-af93-45a0-aecc-2d01fd271e63",
   "metadata": {},
   "outputs": [],
   "source": [
    "ripple_n.spiketrains.shape"
   ]
  },
  {
   "cell_type": "code",
   "execution_count": null,
   "id": "0b7b6079-a4f1-4502-8967-f21033422838",
   "metadata": {},
   "outputs": [],
   "source": [
    "frippeak, axrip = plt.subplots(1, 2, figsize=(10, 6))\n",
    "ripple_rast_cs_start = core.neurons.pe_raster(ripple_n, 0, cs_oe_starts, buffer_sec=(5, 35))\n",
    "plot_raster(ripple_rast_cs_start, markersize=10, ax=axrip[0])\n",
    "axrip[0].set_xlabel('Time from CS+ start (s)')\n",
    "axrip[0].invert_yaxis()\n",
    "axrip[0].set_ylabel('CS+ #')\n",
    "\n",
    "ripple_rast_cs_end = core.neurons.pe_raster(ripple_n, 0, cs_oe_ends)\n",
    "plot_raster(ripple_rast_cs_end, markersize=10, ax=axrip[1])\n",
    "axrip[1].set_xlabel('Times from CS+ stop (s)')\n",
    "axrip[1].invert_yaxis()\n",
    "axrip[1].set_ylabel('CS+ #')\n",
    "\n",
    "frippeak.suptitle('SWR Peak Time Rasters')"
   ]
  },
  {
   "cell_type": "code",
   "execution_count": null,
   "id": "379f8acb-d83a-4bd1-9f4d-7d19a754c37c",
   "metadata": {},
   "outputs": [],
   "source": [
    "from neuropy.plotting.spikes import plot_binned_raster\n",
    "_, ax2 = plt.subplots(2, 2, height_ratios=(4, 1))\n",
    "\n",
    "bin_size = 0.25  # seconds\n",
    "swr_binned = ripple_n.get_binned_spiketrains(bin_size=bin_size)\n",
    "\n",
    "for ax, cs_times, cs_name, cs_color, savename in zip(ax2.T, (cs_oe_starts, csn_oe_starts), ('CS+ start', 'CS- start'), \n",
    "                                           ([1, 0, 0, 0.5], [0, 1, 0, 0.5]), ('cs_swr_raster', 'csn_swr_raster')):\n",
    "    _, fr_array, pe_times = plot_binned_raster(swr_binned, cs_times, neuron_id=0, buffer_sec=(5, 35), \n",
    "                                               event_label=cs_name, ax=ax[0], cbar=False)\n",
    "\n",
    "    np.save(sess.basepath / f'{savename}.npy', {'fr_array': fr_array, 'pe_times': pe_times})\n",
    "    \n",
    "    ax[0].set_title(f'{cs_name} start SWR')\n",
    "    \n",
    "    ax[1].plot(pe_times, np.mean(fr_array, axis=0))\n",
    "    ax[1].axvspan(0, 10, color=cs_color)\n",
    "\n",
    "ax2[1][0].axvline(30, color='r', linestyle='--')\n",
    "plot_util.match_axis_lims(ax2[1], 'y')"
   ]
  },
  {
   "cell_type": "code",
   "execution_count": null,
   "id": "fba1cbf1-721f-41df-81a5-681c6fd80154",
   "metadata": {},
   "outputs": [],
   "source": [
    "bin_size=1/sess.eegfile.sampling_rate\n",
    "times, swr_bool = ripple_epochs.to_point_process(t_start=0, t_stop=sess.eegfile.duration, bin_size=bin_size)\n",
    "swr_bool_binned = core.neurons.BinnedSpiketrain(swr_bool[None, :]*bin_size, bin_size=bin_size)"
   ]
  },
  {
   "cell_type": "code",
   "execution_count": null,
   "id": "22cc57bc-d5b4-4c48-8099-539e448a6f02",
   "metadata": {},
   "outputs": [],
   "source": [
    "_, ax = plt.subplots(2, 1, height_ratios=[4, 1], figsize=(3.5, 6))\n",
    "_, swr_array, times = plot_binned_raster(swr_bool_binned, cs_oe_starts, neuron_id=0, event_label='CS+', ax=ax[0], cbar=False)\n",
    "ax[0].set_title('Binarized SWR epochs')\n",
    "\n",
    "ax[1].plot(times, swr_array.sum(axis=0))"
   ]
  },
  {
   "cell_type": "markdown",
   "id": "2481786a-28b1-4dd6-8d80-5bcb8f977818",
   "metadata": {},
   "source": [
    "# Load in neurons to Neuroscope"
   ]
  },
  {
   "cell_type": "code",
   "execution_count": null,
   "id": "55b6f76b",
   "metadata": {},
   "outputs": [],
   "source": [
    "# Read in event timestamps\n",
    "session_type = 'tone_recall'\n",
    "\n",
    "from neuropy.io.openephysio import load_all_ttl_events, get_dat_timestamps\n",
    "events_df = load_all_ttl_events(sorted(sess.basepath.glob(f\"**/*{session_type}\"))[0])\n",
    "dat_timestamps = get_dat_timestamps(sess.basepath)"
   ]
  },
  {
   "cell_type": "code",
   "execution_count": null,
   "id": "c6e0fa62",
   "metadata": {},
   "outputs": [],
   "source": [
    "dat_times_zeroed = (dat_timestamps - dat_timestamps.iloc[0])[0].dt.total_seconds().to_numpy()"
   ]
  },
  {
   "cell_type": "code",
   "execution_count": null,
   "id": "f6a088f0",
   "metadata": {},
   "outputs": [],
   "source": [
    "CStimes_zeroed = [(CSon - dat_timestamps.iloc[0]).dt.total_seconds()[0] for CSon in CSon_times]"
   ]
  },
  {
   "cell_type": "code",
   "execution_count": null,
   "id": "4c5beeb7",
   "metadata": {},
   "outputs": [],
   "source": [
    "tbefore = 10\n",
    "tafter = 40\n",
    "CSon_tstamps = (events_df[events_df[\"channel_states\"] == 2]['datetimes'] - dat_timestamps.iloc[0])\n",
    "CSon_times = events_df[events_df[\"channel_states\"] == 2]['datetimes']\n",
    "CSon_times"
   ]
  },
  {
   "cell_type": "code",
   "execution_count": null,
   "id": "c88e8ebd",
   "metadata": {},
   "outputs": [],
   "source": [
    "def PSTH(neurons: Neurons, neuron_id, times_zeroed, tbefore=10, tafter=40, ax=None):\n",
    "    \"\"\"Plot peri-stimulus raster\"\"\"\n",
    "    \n",
    "    # Grab appropriate neuron's spike times and pre-allocate\n",
    "    spiketimes = neurons.spiketrains[neuron]\n",
    "    ps_spike_times = []\n",
    "    \n",
    "    # Build up peri-stimulus spike times\n",
    "    for stim_start in times_zeroed:\n",
    "        trial_bool = np.bitwise_and(spiketimes > (stim_start - tbefore), spiketimes < (stim_start + tafter))\n",
    "        ps_spike_times.append(spiketimes[trial_bool] - stim_start)\n",
    "    \n",
    "    # Send to Neurons class for easy manipulation and plotting\n",
    "    rast = Neurons(ps_spike_times, t_start=-tbefore, t_stop=tafter, sampling_rate=1)\n",
    "    \n",
    "    # Plot raster\n",
    "    ax = plot_raster(rast, ax=ax)\n",
    "    \n",
    "    return rast, ax"
   ]
  },
  {
   "cell_type": "code",
   "execution_count": null,
   "id": "6fb03132",
   "metadata": {},
   "outputs": [],
   "source": [
    "def CS_PSTH(neurons, neuron_id, times_zeroed, tbefore=10, tafter=40, CSdur=10, USlag=30, \n",
    "            CStype='CS+' in ['CS+', 'CS-'], training=False, ax=None):\n",
    "    \"\"\"Plots peri-stimulus time histogram for each CS with colors overlaid for CS duration\n",
    "    and US lag\"\"\"\n",
    "    \n",
    "    # Plot raster\n",
    "    rast, ax = PSTH(neurons, neuron_id, times_zeroed, tbefore=tbefore, tafter=tafter, ax=ax)\n",
    "    \n",
    "    # Add in colors for CS duration\n",
    "    assert CStype in ['CS+', 'CS-']\n",
    "    if CStype == 'CS+':\n",
    "        CScolor = [1, 0.647, 0, 0.3]\n",
    "    else:\n",
    "        CScolor = [0, 1, 0, 0.3]\n",
    "    ax.axvspan(0, CSdur, color=CScolor)\n",
    "    \n",
    "    # Add in US line\n",
    "    linetype = '-' if training else '--'\n",
    "    ax.axvline(USlag, linestyle=linetype, color='r')\n",
    "    \n",
    "    return rast, ax"
   ]
  },
  {
   "cell_type": "code",
   "execution_count": null,
   "id": "a73ff3ee",
   "metadata": {},
   "outputs": [],
   "source": [
    "for "
   ]
  },
  {
   "cell_type": "code",
   "execution_count": null,
   "id": "462cce03",
   "metadata": {},
   "outputs": [],
   "source": [
    "pyr_ind = np.where([ neuron in [1, 2, 3] for neuron in sess.pyr_neurons.neuron_type])[0]\n",
    "np.ceil(len(pyr_ind)/3).astype(int)"
   ]
  },
  {
   "cell_type": "code",
   "execution_count": null,
   "id": "d43e4782",
   "metadata": {},
   "outputs": [],
   "source": [
    "binned_sp = rast.get_binned_spiketrains(bin_size=0.5)"
   ]
  },
  {
   "cell_type": "code",
   "execution_count": null,
   "id": "bc0fd9e1",
   "metadata": {},
   "outputs": [],
   "source": [
    "binned_sp.spike_counts.mean(axis=0)"
   ]
  },
  {
   "cell_type": "code",
   "execution_count": null,
   "id": "fd75217c",
   "metadata": {},
   "outputs": [],
   "source": [
    "from neuropy.plotting.spikes import plot_firing_rate\n",
    "rast, ax = PSTH(sess.pyr_neurons, 0, CStimes_zeroed)\n",
    "plot_firing_rate(rast, bin_size=0.5, stacked=True)"
   ]
  },
  {
   "cell_type": "code",
   "execution_count": null,
   "id": "b848080d",
   "metadata": {},
   "outputs": [],
   "source": [
    "ncols = 3\n",
    "\n",
    "# Pyramidal neurons\n",
    "pyr_ind = np.where([ neuron in [1, 2, 3] for neuron in sess.pyr_neurons.neuron_type])[0]\n",
    "fig, ax = plt.subplots(np.ceil(len(pyr_ind)/ncols).astype(int), ncols)\n",
    "fig.set_size_inches(10, 3*np.ceil(len(pyr_ind)/ncols).astype(int))\n",
    "fig.suptitle('Pyr neurons')\n",
    "\n",
    "for a, neuron in zip(ax.reshape(-1), pyr_ind):\n",
    "    CS_PSTH(sess.pyr_neurons, neuron, CStimes_zeroed, CStype='CS+', ax=a)\n",
    "\n",
    "# MUA\n",
    "mua_ind = np.where(sess.pyr_neurons.neuron_type == 6)[0]\n",
    "fig, ax = plt.subplots(np.ceil(len(mua_ind)/ncols).astype(int), ncols)\n",
    "fig.set_size_inches(10, 3*np.ceil(len(mua_ind)/ncols).astype(int))\n",
    "fig.suptitle('MUA')\n",
    "\n",
    "for a, neuron in zip(ax.reshape(-1), mua_ind):\n",
    "    CS_PSTH(sess.pyr_neurons, neuron, CStimes_zeroed, CStype='CS+', ax=a)\n",
    "    \n",
    "# Interneurons\n",
    "int_ind = np.where(sess.pyr_neurons.neuron_type == 8)[0]\n",
    "fig, ax = plt.subplots(np.ceil(len(int_ind)/ncols).astype(int), ncols)\n",
    "fig.set_size_inches(10, 3*np.ceil(len(int_ind)/ncols).astype(int))\n",
    "fig.suptitle('Interneurons')\n",
    "\n",
    "for a, neuron in zip(ax.reshape(-1), int_ind):\n",
    "    CS_PSTH(sess.pyr_neurons, neuron, CStimes_zeroed, CStype='CS+', ax=a)"
   ]
  },
  {
   "cell_type": "code",
   "execution_count": null,
   "id": "0a8addba",
   "metadata": {},
   "outputs": [],
   "source": [
    "ax.figure.get_size_inches()"
   ]
  },
  {
   "cell_type": "code",
   "execution_count": null,
   "id": "e349b234",
   "metadata": {},
   "outputs": [],
   "source": [
    "sess.pyr_neurons.neuron_type"
   ]
  },
  {
   "cell_type": "code",
   "execution_count": null,
   "id": "6cf16e13",
   "metadata": {},
   "outputs": [],
   "source": [
    "# Super slow!!!\n",
    "neuron = 3\n",
    "spiketimes = sess.pyr_neurons.spiketrains[neuron]\n",
    "raster = []\n",
    "for CSon in CStimes_zeroed:\n",
    "    trial_bool = np.bitwise_and(spiketimes > (CSon - tbefore), spiketimes < (CSon + tafter))\n",
    "    raster.append(spiketimes[trial_bool] - CSon)"
   ]
  },
  {
   "cell_type": "code",
   "execution_count": null,
   "id": "b38dd159",
   "metadata": {},
   "outputs": [],
   "source": [
    "rast1 = Neurons(raster, t_start=-tbefore, t_stop=tafter, sampling_rate=1)"
   ]
  },
  {
   "cell_type": "code",
   "execution_count": null,
   "id": "6d4a67aa",
   "metadata": {},
   "outputs": [],
   "source": [
    "plot_raster(rast1)"
   ]
  },
  {
   "cell_type": "code",
   "execution_count": null,
   "id": "971d0874",
   "metadata": {},
   "outputs": [],
   "source": [
    "events_df[events_df[\"channel_states\"].abs() == 2]"
   ]
  },
  {
   "cell_type": "markdown",
   "id": "7c09f6e1",
   "metadata": {},
   "source": [
    "Calculate MUA"
   ]
  },
  {
   "cell_type": "code",
   "execution_count": null,
   "id": "04146358",
   "metadata": {},
   "outputs": [],
   "source": [
    "sess.mua = sess.pyr_neurons.get_mua(bin_size=0.05)"
   ]
  },
  {
   "cell_type": "markdown",
   "id": "d712b9e4",
   "metadata": {},
   "source": [
    "Import curated ripple data"
   ]
  },
  {
   "cell_type": "code",
   "execution_count": null,
   "id": "c4f72add",
   "metadata": {},
   "outputs": [],
   "source": [
    "from neuropy.core.epoch import Epoch\n",
    "sess.ripple = Epoch(epochs=None, file=sess.filePrefix.with_suffix('.ripple_curated.npy'))"
   ]
  },
  {
   "cell_type": "code",
   "execution_count": null,
   "id": "59c1fab1",
   "metadata": {},
   "outputs": [],
   "source": [
    "a = sess.ripple.to_dataframe()"
   ]
  },
  {
   "cell_type": "markdown",
   "id": "b842b7e5",
   "metadata": {},
   "source": [
    "# Detect ripples and theta"
   ]
  },
  {
   "cell_type": "markdown",
   "id": "23afaeec",
   "metadata": {},
   "source": [
    "NRK - try running this with a) more aggressive artifact filter and b) selecting a better ripple channel and c) adding in a sharpwave channel too  \n",
    "  \n",
    "Also, need to run spyking-circus with median filter AND on different session - maybe less noisy/better with different preamp?"
   ]
  },
  {
   "cell_type": "code",
   "execution_count": null,
   "id": "0f9de848",
   "metadata": {},
   "outputs": [],
   "source": [
    "from neuropy.core.epoch import Epoch\n",
    "art_epochs = Epoch(epochs=None, file=sess.filePrefix.with_suffix('.art_epochs.npy'))"
   ]
  },
  {
   "cell_type": "code",
   "execution_count": null,
   "id": "2002d8c5",
   "metadata": {},
   "outputs": [],
   "source": [
    "from neuropy.utils import signal_process\n",
    "pyr_ch = 57\n",
    "sw_ch = 84\n",
    "signal = sess.eegfile.get_signal()\n",
    "yripple = signal_process.filter_sig.bandpass(signal.traces[pyr_ch], 150, 250, 1250)\n",
    "ysw = signal_process.filter_sig.bandpass(signal.traces[sw_ch], 2, 50, 1250)"
   ]
  },
  {
   "cell_type": "code",
   "execution_count": null,
   "id": "a0c23aec",
   "metadata": {},
   "outputs": [],
   "source": [
    "import scipy.stats as stats\n",
    "zsc_ripple = stats.zscore(np.abs(signal_process.hilbertfast(yripple)))\n",
    "zsc_sw = stats.zscore(np.abs(signal_process.hilbertfast(ysw)))"
   ]
  },
  {
   "cell_type": "code",
   "execution_count": null,
   "id": "d1383027",
   "metadata": {
    "scrolled": true
   },
   "outputs": [],
   "source": [
    "from neuropy.analyses import oscillations\n",
    "signal = sess.eegfile.get_signal()\n",
    "# old method\n",
    "# ripple_epochs = oscillations.detect_ripple_epochs(signal, sess.prbgrp, thresh=(1, 3),\n",
    "#                                                   ignore_epochs=art_epochs, mindur=0.025)\n",
    "\n",
    "# new method\n",
    "ripple_epochs = oscillations.detect_ripple_epochs(signal, sess.prbgrp, thresh=(4, None), \n",
    "                                                  ripple_channel=pyr_ch,\n",
    "                                                  ignore_epochs=art_epochs, mindur=0.1)\n",
    "ripple_epochs.source_file = sess.filePrefix.with_suffix(\".ripple.npy\")\n",
    "sess.ripple_epochs = ripple_epochs\n",
    "sess.recinfo.write_epochs(sess.ripple_epochs, 'swr')\n",
    "sess.ripple_epochs.save(sess.filePrefix.with_suffix('.ripple.npy'))"
   ]
  },
  {
   "cell_type": "code",
   "execution_count": null,
   "id": "919282d5",
   "metadata": {},
   "outputs": [],
   "source": [
    "sw_epochs = oscillations.detect_sharpwave_epochs(signal, sess.prbgrp, thresh=(4, None),\n",
    "                                                 edge_cutoff=1.5, ignore_epochs=art_epochs,\n",
    "                                                 sharpwave_channel=12)"
   ]
  },
  {
   "cell_type": "code",
   "execution_count": null,
   "id": "e7e08d8f",
   "metadata": {},
   "outputs": [],
   "source": [
    "# sw_epochs.source_file = sess.filePrefix.with_suffix(\".sharpwave.npy\")\n",
    "sess.recinfo.write_epochs(sw_epochs, 'swv')\n",
    "sess.sw_epochs = sw_epochs\n",
    "sess.sw_epochs.save(sess.filePrefix.with_suffix('.ripple.npy'))"
   ]
  },
  {
   "cell_type": "code",
   "execution_count": null,
   "id": "98e8288b",
   "metadata": {},
   "outputs": [],
   "source": [
    "%matplotlib notebook\n",
    "plot_artifact = False\n",
    "plot_sw = True\n",
    "fig, ax = plt.subplots()\n",
    "# ax.plot(np.arange(len(yripple))/1250, yripple)\n",
    "ax.plot(np.arange(len(yripple))/1250, zsc_ripple)\n",
    "ax.set_xlabel('Time (sec)')\n",
    "# ax.plot(np.arange(len(ysw))/1250, zsc_sw, '--')\n",
    "h, legend_text = [], []\n",
    "if plot_artifact:\n",
    "    for ind, epoch in art_epochs._epochs.iterrows():\n",
    "        hart = ax.axvspan(epoch['start'], epoch['stop'], color=[0, 1, 0, 0.3])\n",
    "    h.append(hart)\n",
    "    legend_text.append('Artifact')\n",
    "    \n",
    "for ind, epoch in ripple_epochs._epochs.iterrows():\n",
    "    hswr = ax.axvspan(epoch['start'], epoch['stop'], color=[1, 0, 0, 0.3])\n",
    "h.append(hswr)\n",
    "legend_text.append('Ripple')\n",
    "    \n",
    "if plot_sw:\n",
    "    for ind, epoch in sw_epochs._epochs.iterrows():\n",
    "        hswv = ax.axvspan(epoch['start'], epoch['stop'], color=[0.5, 0.5, 0, 0.3])\n",
    "    h.append(hswv)\n",
    "    legend_text.append('Sharp Wave')\n",
    "\n",
    "plt.legend(h, legend_text)\n",
    "# ax.set_xlim([2922.8, 2924.2])"
   ]
  },
  {
   "cell_type": "markdown",
   "id": "c6af3751",
   "metadata": {},
   "source": [
    "### Combine epochs and get power in both bands across events and then plot and run k-means"
   ]
  },
  {
   "cell_type": "code",
   "execution_count": null,
   "id": "46b7ea7c",
   "metadata": {
    "scrolled": true
   },
   "outputs": [],
   "source": [
    "# Ok, combine epochs and then get power in both bands across al\n",
    "# candidate events\n",
    "comb_epochs = pd.concat((ripple_epochs.to_dataframe(), \n",
    "                         sw_epochs.to_dataframe()))\n",
    "candidate_bool = np.zeros(sess.eegfile.n_frames, dtype=bool)\n",
    "SR = sess.eegfile.sampling_rate\n",
    "\n",
    "for idr, epoch in comb_epochs.iterrows():\n",
    "    start_frame = int(epoch['start'] * SR)\n",
    "    end_frame = int(epoch['stop'] * SR)\n",
    "    candidate_bool[start_frame:end_frame] = True\n",
    "\n",
    "candidate_bool = np.concatenate(([0], candidate_bool))\n",
    "cand_diff = np.diff(candidate_bool)\n",
    "cand_start = np.where(cand_diff == 1)[0]\n",
    "cand_end = np.where(cand_diff == -1)[0]\n",
    "epochs_array = np.vstack((cand_start, cand_end)).T.astype(int)\n",
    "cand_epochs = pd.DataFrame(\n",
    "            {\"start\": epochs_array[:, 0], \"stop\": epochs_array[:, 1], \"label\": \"\"}\n",
    "        )"
   ]
  },
  {
   "cell_type": "code",
   "execution_count": null,
   "id": "a2cb4c98",
   "metadata": {
    "scrolled": true
   },
   "outputs": [],
   "source": [
    "from neuropy.utils import signal_process\n",
    "import scipy.stats as stats\n",
    "pyr_ch = 24\n",
    "sw_ch = 31\n",
    "signal = sess.eegfile.get_signal()\n",
    "yripple = signal_process.filter_sig.bandpass(signal.traces[pyr_ch], 150, 250, 1250)\n",
    "ysw = signal_process.filter_sig.bandpass(signal.traces[sw_ch], 2, 50, 1250)\n",
    "zsc_ripple = stats.zscore(np.abs(signal_process.hilbertfast(yripple)))\n",
    "zsc_sw = stats.zscore(np.abs(signal_process.hilbertfast(ysw)))"
   ]
  },
  {
   "cell_type": "code",
   "execution_count": null,
   "id": "107ab974",
   "metadata": {},
   "outputs": [],
   "source": [
    "sw_power, ripple_power = [], []\n",
    "for idr, row in cand_epochs.iterrows():\n",
    "    start = row['start']\n",
    "    end = row['stop']\n",
    "    ripple_z = zsc_ripple[start:end]\n",
    "    ripple_power.append([ripple_z.mean(), ripple_z.max()])\n",
    "    \n",
    "    sw_z = zsc_sw[start:end]\n",
    "    sw_power.append([sw_z.mean(), sw_z.max()])\n",
    "\n",
    "ripple_power = np.asarray(ripple_power)\n",
    "sw_power = np.asarray(sw_power)"
   ]
  },
  {
   "cell_type": "code",
   "execution_count": null,
   "id": "1c6302dd",
   "metadata": {},
   "outputs": [],
   "source": [
    "from sklearn.cluster import KMeans\n",
    "mean_features = np.vstack((sw_power[:,0], ripple_power[:, 0])).T\n",
    "max_features = np.vstack((sw_power[:,1], ripple_power[:, 1])).T\n",
    "kmeans = KMeans(n_clusters=3, random_state=0).fit(max_features)"
   ]
  },
  {
   "cell_type": "code",
   "execution_count": null,
   "id": "2264dc9a",
   "metadata": {
    "scrolled": true
   },
   "outputs": [],
   "source": [
    "fig, ax = plt.subplots(1, 2, figsize=(8,3))\n",
    "n_clusters = 3\n",
    "for ida, (a, title) in enumerate(zip(ax, ['Mean', 'Max'])):\n",
    "    features = np.vstack((sw_power[:,ida], ripple_power[:, ida])).T\n",
    "    kmeans = KMeans(n_clusters=n_clusters, random_state=0).fit(features)\n",
    "    for feat_id in np.unique(kmeans.labels_):\n",
    "        feat_bool = feat_id == kmeans.labels_\n",
    "        sns.scatterplot(x=features[feat_bool, 0], y=features[feat_bool, 1], \n",
    "                        ax=a, size=3, alpha=0.5)\n",
    "    a.set_title(title + ' Epoch Power')\n",
    "    a.set_xlabel('SW z-score')\n",
    "    a.set_ylabel('Ripple z-score')\n",
    "    a.legend([])\n",
    "                                 "
   ]
  },
  {
   "cell_type": "code",
   "execution_count": null,
   "id": "06dccb17",
   "metadata": {},
   "outputs": [],
   "source": [
    "ext='test'\n",
    "ripple_epochs.filename.with_suffix(f\".evt.{ext}\")"
   ]
  },
  {
   "cell_type": "code",
   "execution_count": null,
   "id": "75c329ea",
   "metadata": {},
   "outputs": [],
   "source": [
    "# NRK debug this!\n",
    "sess.ripple_epochs.epochs = sess.ripple_epochs.to_dataframe()\n",
    "NeuroscopeIO.write_epochs(sess.ripple_epochs, 'swr')"
   ]
  },
  {
   "cell_type": "code",
   "execution_count": null,
   "id": "e18882bc",
   "metadata": {},
   "outputs": [],
   "source": [
    "sw_epochs.to_dataframe()"
   ]
  },
  {
   "cell_type": "markdown",
   "id": "8a16ac39",
   "metadata": {},
   "source": [
    "# Ok, now write code to step through each ripple event and ok it by hand - should go super fast!!"
   ]
  },
  {
   "cell_type": "code",
   "execution_count": null,
   "id": "dbf79723-a8a2-490f-ac05-4cde392cd3a3",
   "metadata": {},
   "outputs": [],
   "source": []
  },
  {
   "cell_type": "code",
   "execution_count": null,
   "id": "58c48de0-8bda-4cad-96ec-26901596aff3",
   "metadata": {},
   "outputs": [],
   "source": []
  }
 ],
 "metadata": {
  "kernelspec": {
   "display_name": "Python 3 (ipykernel)",
   "language": "python",
   "name": "python3"
  },
  "language_info": {
   "codemirror_mode": {
    "name": "ipython",
    "version": 3
   },
   "file_extension": ".py",
   "mimetype": "text/x-python",
   "name": "python",
   "nbconvert_exporter": "python",
   "pygments_lexer": "ipython3",
   "version": "3.11.5"
  },
  "widgets": {
   "application/vnd.jupyter.widget-state+json": {
    "state": {
     "0a0db36a17264934837f35a90cbd773f": {
      "model_module": "@jupyter-widgets/base",
      "model_module_version": "2.0.0",
      "model_name": "LayoutModel",
      "state": {}
     },
     "0cd120715cea4319a465d97d4e14988c": {
      "model_module": "@jupyter-widgets/base",
      "model_module_version": "2.0.0",
      "model_name": "LayoutModel",
      "state": {}
     },
     "1baa0024fa2843dd876e82a59ac61a0c": {
      "model_module": "@jupyter-widgets/base",
      "model_module_version": "2.0.0",
      "model_name": "LayoutModel",
      "state": {}
     },
     "34450fdab98e4e56889696f042498a50": {
      "model_module": "jupyter-matplotlib",
      "model_module_version": "^0.11",
      "model_name": "MPLCanvasModel",
      "state": {
       "_cursor": "default",
       "_data_url": "data:image/png;base64,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",
       "_figure_label": "Figure 1",
       "_model_module_version": "^0.11",
       "_rubberband_x": -1,
       "_rubberband_y": 480,
       "_size": [
        640,
        480
       ],
       "_view_module_version": "^0.11",
       "layout": "IPY_MODEL_0cd120715cea4319a465d97d4e14988c",
       "toolbar": "IPY_MODEL_f1d7e240573b4dfbbc8db935cbaf71ae",
       "toolbar_position": "left"
      }
     },
     "cfcdcf2d5ca1499180724dd03976e826": {
      "model_module": "jupyter-matplotlib",
      "model_module_version": "^0.11",
      "model_name": "MPLCanvasModel",
      "state": {
       "_cursor": "default",
       "_data_url": "data:image/png;base64,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",
       "_figure_label": "Figure 2",
       "_model_module_version": "^0.11",
       "_rubberband_x": -1,
       "_rubberband_y": 480,
       "_size": [
        640,
        480
       ],
       "_view_module_version": "^0.11",
       "layout": "IPY_MODEL_1baa0024fa2843dd876e82a59ac61a0c",
       "toolbar": "IPY_MODEL_f20f85fed5ca499aafc40fbedd814d90",
       "toolbar_position": "left"
      }
     },
     "d11cac47c8ac4edeb88a7b0c1d7d6d01": {
      "model_module": "@jupyter-widgets/base",
      "model_module_version": "2.0.0",
      "model_name": "LayoutModel",
      "state": {}
     },
     "f1d7e240573b4dfbbc8db935cbaf71ae": {
      "model_module": "jupyter-matplotlib",
      "model_module_version": "^0.11",
      "model_name": "ToolbarModel",
      "state": {
       "_current_action": "zoom",
       "_model_module_version": "^0.11",
       "_view_module_version": "^0.11",
       "collapsed": true,
       "layout": "IPY_MODEL_d11cac47c8ac4edeb88a7b0c1d7d6d01",
       "orientation": "vertical",
       "toolitems": [
        [
         "Home",
         "Reset original view",
         "home",
         "home"
        ],
        [
         "Back",
         "Back to previous view",
         "arrow-left",
         "back"
        ],
        [
         "Forward",
         "Forward to next view",
         "arrow-right",
         "forward"
        ],
        [
         "Pan",
         "Left button pans, Right button zooms\nx/y fixes axis, CTRL fixes aspect",
         "arrows",
         "pan"
        ],
        [
         "Zoom",
         "Zoom to rectangle\nx/y fixes axis",
         "square-o",
         "zoom"
        ],
        [
         "Download",
         "Download plot",
         "floppy-o",
         "save_figure"
        ]
       ]
      }
     },
     "f20f85fed5ca499aafc40fbedd814d90": {
      "model_module": "jupyter-matplotlib",
      "model_module_version": "^0.11",
      "model_name": "ToolbarModel",
      "state": {
       "_current_action": "zoom",
       "_model_module_version": "^0.11",
       "_view_module_version": "^0.11",
       "collapsed": true,
       "layout": "IPY_MODEL_0a0db36a17264934837f35a90cbd773f",
       "orientation": "vertical",
       "toolitems": [
        [
         "Home",
         "Reset original view",
         "home",
         "home"
        ],
        [
         "Back",
         "Back to previous view",
         "arrow-left",
         "back"
        ],
        [
         "Forward",
         "Forward to next view",
         "arrow-right",
         "forward"
        ],
        [
         "Pan",
         "Left button pans, Right button zooms\nx/y fixes axis, CTRL fixes aspect",
         "arrows",
         "pan"
        ],
        [
         "Zoom",
         "Zoom to rectangle\nx/y fixes axis",
         "square-o",
         "zoom"
        ],
        [
         "Download",
         "Download plot",
         "floppy-o",
         "save_figure"
        ]
       ]
      }
     }
    },
    "version_major": 2,
    "version_minor": 0
   }
  }
 },
 "nbformat": 4,
 "nbformat_minor": 5
}
